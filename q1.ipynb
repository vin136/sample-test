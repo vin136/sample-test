{
 "cells": [
  {
   "cell_type": "markdown",
   "metadata": {
    "colab_type": "text",
    "id": "x_BkOtqBIKQz"
   },
   "source": [
    "# Data Science Challenge"
   ]
  },
  {
   "cell_type": "code",
   "execution_count": 1,
   "metadata": {
    "colab": {},
    "colab_type": "code",
    "id": "U_VthdACIKQ6"
   },
   "outputs": [
    {
     "name": "stdout",
     "output_type": "stream",
     "text": [
      "Requirement already satisfied: folium in /opt/conda/lib/python3.7/site-packages (0.12.1.post1)\n",
      "Requirement already satisfied: scikit-plot in /opt/conda/lib/python3.7/site-packages (0.3.7)\n",
      "Requirement already satisfied: plotly in /opt/conda/lib/python3.7/site-packages (5.6.0)\n",
      "Requirement already satisfied: xgboost in /opt/conda/lib/python3.7/site-packages (1.5.2)\n",
      "Requirement already satisfied: graphviz in /opt/conda/lib/python3.7/site-packages (0.19.1)\n",
      "Requirement already satisfied: jinja2>=2.9 in /opt/conda/lib/python3.7/site-packages (from folium) (2.11.2)\n",
      "Requirement already satisfied: numpy in /opt/conda/lib/python3.7/site-packages (from folium) (1.19.2)\n",
      "Requirement already satisfied: requests in /opt/conda/lib/python3.7/site-packages (from folium) (2.24.0)\n",
      "Requirement already satisfied: branca>=0.3.0 in /opt/conda/lib/python3.7/site-packages (from folium) (0.4.2)\n",
      "Requirement already satisfied: scipy>=0.9 in /opt/conda/lib/python3.7/site-packages (from scikit-plot) (1.3.3)\n",
      "Requirement already satisfied: joblib>=0.10 in /opt/conda/lib/python3.7/site-packages (from scikit-plot) (0.17.0)\n",
      "Requirement already satisfied: scikit-learn>=0.18 in /opt/conda/lib/python3.7/site-packages (from scikit-plot) (0.21.3)\n",
      "Requirement already satisfied: matplotlib>=1.4.0 in /opt/conda/lib/python3.7/site-packages (from scikit-plot) (3.1.3)\n",
      "Requirement already satisfied: six in /opt/conda/lib/python3.7/site-packages (from plotly) (1.15.0)\n",
      "Requirement already satisfied: tenacity>=6.2.0 in /opt/conda/lib/python3.7/site-packages (from plotly) (8.0.1)\n",
      "Requirement already satisfied: MarkupSafe>=0.23 in /opt/conda/lib/python3.7/site-packages (from jinja2>=2.9->folium) (1.1.1)\n",
      "Requirement already satisfied: urllib3!=1.25.0,!=1.25.1,<1.26,>=1.21.1 in /opt/conda/lib/python3.7/site-packages (from requests->folium) (1.25.11)\n",
      "Requirement already satisfied: chardet<4,>=3.0.2 in /opt/conda/lib/python3.7/site-packages (from requests->folium) (3.0.4)\n",
      "Requirement already satisfied: idna<3,>=2.5 in /opt/conda/lib/python3.7/site-packages (from requests->folium) (2.10)\n",
      "Requirement already satisfied: certifi>=2017.4.17 in /opt/conda/lib/python3.7/site-packages (from requests->folium) (2020.6.20)\n",
      "Requirement already satisfied: pyparsing!=2.0.4,!=2.1.2,!=2.1.6,>=2.0.1 in /opt/conda/lib/python3.7/site-packages (from matplotlib>=1.4.0->scikit-plot) (2.4.7)\n",
      "Requirement already satisfied: cycler>=0.10 in /opt/conda/lib/python3.7/site-packages (from matplotlib>=1.4.0->scikit-plot) (0.10.0)\n",
      "Requirement already satisfied: kiwisolver>=1.0.1 in /opt/conda/lib/python3.7/site-packages (from matplotlib>=1.4.0->scikit-plot) (1.3.0)\n",
      "Requirement already satisfied: python-dateutil>=2.1 in /opt/conda/lib/python3.7/site-packages (from matplotlib>=1.4.0->scikit-plot) (2.8.1)\n"
     ]
    }
   ],
   "source": [
    "# To install packages that are not installed by default, uncomment the last two lines \n",
    "# of this cell and replace <package list> with a list of necessary packages.\n",
    "# This will ensure the notebook has all the dependencies and works everywhere.\n",
    "\n",
    "import sys\n",
    "!{sys.executable} -m pip install folium scikit-plot plotly xgboost graphviz"
   ]
  },
  {
   "cell_type": "code",
   "execution_count": 2,
   "metadata": {},
   "outputs": [],
   "source": [
    "import warnings\n",
    "warnings.filterwarnings(\"ignore\", category=FutureWarning)"
   ]
  },
  {
   "cell_type": "markdown",
   "metadata": {},
   "source": [
    "## Import Packages"
   ]
  },
  {
   "cell_type": "code",
   "execution_count": 3,
   "metadata": {
    "colab": {},
    "colab_type": "code",
    "id": "VzGFUCCVIKRL"
   },
   "outputs": [],
   "source": [
    "#Libraries\n",
    "import pandas as pd\n",
    "pd.set_option(\"display.max_columns\", 101)\n",
    "import numpy as np\n",
    "import matplotlib.pyplot as plt\n",
    "import matplotlib.ticker as mtick\n",
    "import matplotlib.gridspec as grid_spec\n",
    "import seaborn as sns\n",
    "from sklearn import preprocessing\n",
    "from sklearn.preprocessing import StandardScaler\n",
    "from sklearn.model_selection import train_test_split\n",
    "import scikitplot as skplt\n",
    "from sklearn import tree\n",
    "from sklearn.pipeline import Pipeline\n",
    "from sklearn.preprocessing import StandardScaler,LabelEncoder\n",
    "from sklearn.model_selection import train_test_split,cross_val_score\n",
    "from sklearn.ensemble import RandomForestClassifier\n",
    "from sklearn.svm import SVC\n",
    "from sklearn.metrics import classification_report, confusion_matrix\n",
    "from sklearn.metrics import accuracy_score, recall_score, roc_auc_score, precision_score, f1_score"
   ]
  },
  {
   "cell_type": "markdown",
   "metadata": {
    "colab_type": "text",
    "id": "TZ23KNY8IKRT"
   },
   "source": [
    "## Data Description"
   ]
  },
  {
   "cell_type": "markdown",
   "metadata": {
    "colab_type": "text",
    "id": "jWSkqquEIKRW"
   },
   "source": [
    "Column | Description\n",
    ":---|:---\n",
    "`id` | The unique ID assigned to every hotel.\n",
    "`region` | The region in which the hotel is located..\n",
    "`latitude` | The latitude of the hotel.\n",
    "`longitude` | The longitude of the hotel.\n",
    "`accommodation_type` | The type of accommodation offered by the hotel. For example: Private room, Entire house/apt, etc.\n",
    "`cost` | The cost of booking the hotel for one night. (in \\$\\$)\n",
    "`minimum_nights` | The minimum number of nights stay required.\n",
    "`number_of_reviews` | The number of reviews accumulated by the hotel.\n",
    "`reviews_per_month` | The average number of reviews received by the hotel per month.\n",
    "`owner_id` | The unique ID assigned to every owner. An owner can own multiple hotels.\n",
    "`owned_hotels` | The number of hotels owned by the owner.\n",
    "`yearly_availability` | It indicates if the hotel accepts bookings around the year. Values are 0 (not available for 365 days in a year) and 1 (available for 365 days in a year)."
   ]
  },
  {
   "cell_type": "markdown",
   "metadata": {
    "colab_type": "text",
    "id": "BWQqx7cSIKRX"
   },
   "source": [
    "## Data Wrangling & Visualization"
   ]
  },
  {
   "cell_type": "code",
   "execution_count": 4,
   "metadata": {
    "colab": {},
    "colab_type": "code",
    "id": "SsjL7tf7IKRc"
   },
   "outputs": [],
   "source": [
    "# Dataset is already loaded below\n",
    "data = pd.read_csv(\"train.csv\")"
   ]
  },
  {
   "cell_type": "code",
   "execution_count": 5,
   "metadata": {
    "colab": {},
    "colab_type": "code",
    "id": "kzuHtZEkIKRh",
    "outputId": "9d14832c-2eda-48eb-df41-548113a94a73"
   },
   "outputs": [
    {
     "data": {
      "text/html": [
       "<div>\n",
       "<style scoped>\n",
       "    .dataframe tbody tr th:only-of-type {\n",
       "        vertical-align: middle;\n",
       "    }\n",
       "\n",
       "    .dataframe tbody tr th {\n",
       "        vertical-align: top;\n",
       "    }\n",
       "\n",
       "    .dataframe thead th {\n",
       "        text-align: right;\n",
       "    }\n",
       "</style>\n",
       "<table border=\"1\" class=\"dataframe\">\n",
       "  <thead>\n",
       "    <tr style=\"text-align: right;\">\n",
       "      <th></th>\n",
       "      <th>id</th>\n",
       "      <th>region</th>\n",
       "      <th>latitude</th>\n",
       "      <th>longitude</th>\n",
       "      <th>accommodation_type</th>\n",
       "      <th>cost</th>\n",
       "      <th>minimum_nights</th>\n",
       "      <th>number_of_reviews</th>\n",
       "      <th>reviews_per_month</th>\n",
       "      <th>owner_id</th>\n",
       "      <th>owned_hotels</th>\n",
       "      <th>yearly_availability</th>\n",
       "    </tr>\n",
       "  </thead>\n",
       "  <tbody>\n",
       "    <tr>\n",
       "      <th>0</th>\n",
       "      <td>13232</td>\n",
       "      <td>Manhattan</td>\n",
       "      <td>40.71854</td>\n",
       "      <td>-74.00439</td>\n",
       "      <td>Entire home/apt</td>\n",
       "      <td>170</td>\n",
       "      <td>5</td>\n",
       "      <td>7</td>\n",
       "      <td>0.56</td>\n",
       "      <td>929983</td>\n",
       "      <td>1</td>\n",
       "      <td>0</td>\n",
       "    </tr>\n",
       "    <tr>\n",
       "      <th>1</th>\n",
       "      <td>246</td>\n",
       "      <td>Brooklyn</td>\n",
       "      <td>40.64446</td>\n",
       "      <td>-73.95030</td>\n",
       "      <td>Entire home/apt</td>\n",
       "      <td>65</td>\n",
       "      <td>3</td>\n",
       "      <td>238</td>\n",
       "      <td>2.30</td>\n",
       "      <td>281764</td>\n",
       "      <td>1</td>\n",
       "      <td>0</td>\n",
       "    </tr>\n",
       "    <tr>\n",
       "      <th>2</th>\n",
       "      <td>19091</td>\n",
       "      <td>Queens</td>\n",
       "      <td>40.78573</td>\n",
       "      <td>-73.81062</td>\n",
       "      <td>Private room</td>\n",
       "      <td>85</td>\n",
       "      <td>1</td>\n",
       "      <td>0</td>\n",
       "      <td>NaN</td>\n",
       "      <td>19923341</td>\n",
       "      <td>1</td>\n",
       "      <td>1</td>\n",
       "    </tr>\n",
       "    <tr>\n",
       "      <th>3</th>\n",
       "      <td>34305</td>\n",
       "      <td>Manhattan</td>\n",
       "      <td>40.73863</td>\n",
       "      <td>-73.98002</td>\n",
       "      <td>Private room</td>\n",
       "      <td>210</td>\n",
       "      <td>30</td>\n",
       "      <td>0</td>\n",
       "      <td>NaN</td>\n",
       "      <td>200380610</td>\n",
       "      <td>65</td>\n",
       "      <td>1</td>\n",
       "    </tr>\n",
       "    <tr>\n",
       "      <th>4</th>\n",
       "      <td>444</td>\n",
       "      <td>Manhattan</td>\n",
       "      <td>40.82426</td>\n",
       "      <td>-73.94630</td>\n",
       "      <td>Shared room</td>\n",
       "      <td>75</td>\n",
       "      <td>3</td>\n",
       "      <td>38</td>\n",
       "      <td>0.42</td>\n",
       "      <td>745069</td>\n",
       "      <td>3</td>\n",
       "      <td>1</td>\n",
       "    </tr>\n",
       "  </tbody>\n",
       "</table>\n",
       "</div>"
      ],
      "text/plain": [
       "      id     region  latitude  longitude accommodation_type  cost  \\\n",
       "0  13232  Manhattan  40.71854  -74.00439    Entire home/apt   170   \n",
       "1    246   Brooklyn  40.64446  -73.95030    Entire home/apt    65   \n",
       "2  19091     Queens  40.78573  -73.81062       Private room    85   \n",
       "3  34305  Manhattan  40.73863  -73.98002       Private room   210   \n",
       "4    444  Manhattan  40.82426  -73.94630        Shared room    75   \n",
       "\n",
       "   minimum_nights  number_of_reviews  reviews_per_month   owner_id  \\\n",
       "0               5                  7               0.56     929983   \n",
       "1               3                238               2.30     281764   \n",
       "2               1                  0                NaN   19923341   \n",
       "3              30                  0                NaN  200380610   \n",
       "4               3                 38               0.42     745069   \n",
       "\n",
       "   owned_hotels  yearly_availability  \n",
       "0             1                    0  \n",
       "1             1                    0  \n",
       "2             1                    1  \n",
       "3            65                    1  \n",
       "4             3                    1  "
      ]
     },
     "execution_count": 5,
     "metadata": {},
     "output_type": "execute_result"
    }
   ],
   "source": [
    "#Let's take a peek at the data\n",
    "data.head()"
   ]
  },
  {
   "cell_type": "code",
   "execution_count": 6,
   "metadata": {
    "colab": {},
    "colab_type": "code",
    "id": "0mhMZRlBIKRu",
    "outputId": "0a669059-5528-4ec0-d64b-8231f6aadf45"
   },
   "outputs": [
    {
     "name": "stdout",
     "output_type": "stream",
     "text": [
      "There are 2870 rows and 12 columns in the given dataset\n"
     ]
    }
   ],
   "source": [
    "#Let's look at the shape of the data\n",
    "rows,columns = data.shape\n",
    "print('There are {} rows and {} columns in the given dataset'.format(rows,columns))"
   ]
  },
  {
   "cell_type": "code",
   "execution_count": 7,
   "metadata": {
    "colab": {},
    "colab_type": "code",
    "id": "-SrTmyfJIKR1",
    "outputId": "12b270ca-8c3f-402b-d6c1-286c17e63fdd"
   },
   "outputs": [
    {
     "name": "stdout",
     "output_type": "stream",
     "text": [
      "<class 'pandas.core.frame.DataFrame'>\n",
      "RangeIndex: 2870 entries, 0 to 2869\n",
      "Data columns (total 12 columns):\n",
      "id                     2870 non-null int64\n",
      "region                 2870 non-null object\n",
      "latitude               2870 non-null float64\n",
      "longitude              2870 non-null float64\n",
      "accommodation_type     2870 non-null object\n",
      "cost                   2870 non-null int64\n",
      "minimum_nights         2870 non-null int64\n",
      "number_of_reviews      2870 non-null int64\n",
      "reviews_per_month      2194 non-null float64\n",
      "owner_id               2870 non-null int64\n",
      "owned_hotels           2870 non-null int64\n",
      "yearly_availability    2870 non-null int64\n",
      "dtypes: float64(3), int64(7), object(2)\n",
      "memory usage: 269.2+ KB\n"
     ]
    }
   ],
   "source": [
    "#Description\n",
    "data.info()"
   ]
  },
  {
   "cell_type": "markdown",
   "metadata": {},
   "source": [
    "Findings\n",
    "We can see that the dataset contains 2 character variables and 11 numerical variables.\n",
    "\n",
    "yearly_availability is the target variable."
   ]
  },
  {
   "cell_type": "code",
   "execution_count": 8,
   "metadata": {
    "colab": {},
    "colab_type": "code",
    "id": "Vel-7S7gIKR9"
   },
   "outputs": [
    {
     "data": {
      "text/html": [
       "<div>\n",
       "<style scoped>\n",
       "    .dataframe tbody tr th:only-of-type {\n",
       "        vertical-align: middle;\n",
       "    }\n",
       "\n",
       "    .dataframe tbody tr th {\n",
       "        vertical-align: top;\n",
       "    }\n",
       "\n",
       "    .dataframe thead th {\n",
       "        text-align: right;\n",
       "    }\n",
       "</style>\n",
       "<table border=\"1\" class=\"dataframe\">\n",
       "  <thead>\n",
       "    <tr style=\"text-align: right;\">\n",
       "      <th></th>\n",
       "      <th>count</th>\n",
       "      <th>mean</th>\n",
       "      <th>std</th>\n",
       "      <th>min</th>\n",
       "      <th>25%</th>\n",
       "      <th>50%</th>\n",
       "      <th>75%</th>\n",
       "      <th>max</th>\n",
       "    </tr>\n",
       "  </thead>\n",
       "  <tbody>\n",
       "    <tr>\n",
       "      <th>id</th>\n",
       "      <td>2870.0</td>\n",
       "      <td>2.676066e+04</td>\n",
       "      <td>1.414093e+04</td>\n",
       "      <td>0.00000</td>\n",
       "      <td>1.593175e+04</td>\n",
       "      <td>2.894650e+04</td>\n",
       "      <td>3.847850e+04</td>\n",
       "      <td>4.889300e+04</td>\n",
       "    </tr>\n",
       "    <tr>\n",
       "      <th>latitude</th>\n",
       "      <td>2870.0</td>\n",
       "      <td>4.073122e+01</td>\n",
       "      <td>5.494182e-02</td>\n",
       "      <td>40.50708</td>\n",
       "      <td>4.069246e+01</td>\n",
       "      <td>4.072825e+01</td>\n",
       "      <td>4.076266e+01</td>\n",
       "      <td>4.089873e+01</td>\n",
       "    </tr>\n",
       "    <tr>\n",
       "      <th>longitude</th>\n",
       "      <td>2870.0</td>\n",
       "      <td>-7.395016e+01</td>\n",
       "      <td>4.974454e-02</td>\n",
       "      <td>-74.24285</td>\n",
       "      <td>-7.398400e+01</td>\n",
       "      <td>-7.395672e+01</td>\n",
       "      <td>-7.393420e+01</td>\n",
       "      <td>-7.372173e+01</td>\n",
       "    </tr>\n",
       "    <tr>\n",
       "      <th>cost</th>\n",
       "      <td>2870.0</td>\n",
       "      <td>1.959432e+02</td>\n",
       "      <td>4.061847e+02</td>\n",
       "      <td>10.00000</td>\n",
       "      <td>7.500000e+01</td>\n",
       "      <td>1.200000e+02</td>\n",
       "      <td>2.000000e+02</td>\n",
       "      <td>9.999000e+03</td>\n",
       "    </tr>\n",
       "    <tr>\n",
       "      <th>minimum_nights</th>\n",
       "      <td>2870.0</td>\n",
       "      <td>1.153031e+01</td>\n",
       "      <td>3.797234e+01</td>\n",
       "      <td>1.00000</td>\n",
       "      <td>1.000000e+00</td>\n",
       "      <td>3.000000e+00</td>\n",
       "      <td>6.000000e+00</td>\n",
       "      <td>9.990000e+02</td>\n",
       "    </tr>\n",
       "    <tr>\n",
       "      <th>number_of_reviews</th>\n",
       "      <td>2870.0</td>\n",
       "      <td>1.631533e+01</td>\n",
       "      <td>3.248172e+01</td>\n",
       "      <td>0.00000</td>\n",
       "      <td>1.000000e+00</td>\n",
       "      <td>4.000000e+00</td>\n",
       "      <td>1.600000e+01</td>\n",
       "      <td>3.950000e+02</td>\n",
       "    </tr>\n",
       "    <tr>\n",
       "      <th>reviews_per_month</th>\n",
       "      <td>2194.0</td>\n",
       "      <td>1.157502e+00</td>\n",
       "      <td>1.355028e+00</td>\n",
       "      <td>0.01000</td>\n",
       "      <td>2.400000e-01</td>\n",
       "      <td>6.500000e-01</td>\n",
       "      <td>1.530000e+00</td>\n",
       "      <td>1.037000e+01</td>\n",
       "    </tr>\n",
       "    <tr>\n",
       "      <th>owner_id</th>\n",
       "      <td>2870.0</td>\n",
       "      <td>7.202195e+07</td>\n",
       "      <td>8.076516e+07</td>\n",
       "      <td>2787.00000</td>\n",
       "      <td>7.388002e+06</td>\n",
       "      <td>3.352708e+07</td>\n",
       "      <td>1.207625e+08</td>\n",
       "      <td>2.738123e+08</td>\n",
       "    </tr>\n",
       "    <tr>\n",
       "      <th>owned_hotels</th>\n",
       "      <td>2870.0</td>\n",
       "      <td>8.411498e+00</td>\n",
       "      <td>2.710552e+01</td>\n",
       "      <td>1.00000</td>\n",
       "      <td>1.000000e+00</td>\n",
       "      <td>1.000000e+00</td>\n",
       "      <td>3.000000e+00</td>\n",
       "      <td>3.270000e+02</td>\n",
       "    </tr>\n",
       "    <tr>\n",
       "      <th>yearly_availability</th>\n",
       "      <td>2870.0</td>\n",
       "      <td>4.986063e-01</td>\n",
       "      <td>5.000852e-01</td>\n",
       "      <td>0.00000</td>\n",
       "      <td>0.000000e+00</td>\n",
       "      <td>0.000000e+00</td>\n",
       "      <td>1.000000e+00</td>\n",
       "      <td>1.000000e+00</td>\n",
       "    </tr>\n",
       "  </tbody>\n",
       "</table>\n",
       "</div>"
      ],
      "text/plain": [
       "                      count          mean           std         min  \\\n",
       "id                   2870.0  2.676066e+04  1.414093e+04     0.00000   \n",
       "latitude             2870.0  4.073122e+01  5.494182e-02    40.50708   \n",
       "longitude            2870.0 -7.395016e+01  4.974454e-02   -74.24285   \n",
       "cost                 2870.0  1.959432e+02  4.061847e+02    10.00000   \n",
       "minimum_nights       2870.0  1.153031e+01  3.797234e+01     1.00000   \n",
       "number_of_reviews    2870.0  1.631533e+01  3.248172e+01     0.00000   \n",
       "reviews_per_month    2194.0  1.157502e+00  1.355028e+00     0.01000   \n",
       "owner_id             2870.0  7.202195e+07  8.076516e+07  2787.00000   \n",
       "owned_hotels         2870.0  8.411498e+00  2.710552e+01     1.00000   \n",
       "yearly_availability  2870.0  4.986063e-01  5.000852e-01     0.00000   \n",
       "\n",
       "                              25%           50%           75%           max  \n",
       "id                   1.593175e+04  2.894650e+04  3.847850e+04  4.889300e+04  \n",
       "latitude             4.069246e+01  4.072825e+01  4.076266e+01  4.089873e+01  \n",
       "longitude           -7.398400e+01 -7.395672e+01 -7.393420e+01 -7.372173e+01  \n",
       "cost                 7.500000e+01  1.200000e+02  2.000000e+02  9.999000e+03  \n",
       "minimum_nights       1.000000e+00  3.000000e+00  6.000000e+00  9.990000e+02  \n",
       "number_of_reviews    1.000000e+00  4.000000e+00  1.600000e+01  3.950000e+02  \n",
       "reviews_per_month    2.400000e-01  6.500000e-01  1.530000e+00  1.037000e+01  \n",
       "owner_id             7.388002e+06  3.352708e+07  1.207625e+08  2.738123e+08  \n",
       "owned_hotels         1.000000e+00  1.000000e+00  3.000000e+00  3.270000e+02  \n",
       "yearly_availability  0.000000e+00  0.000000e+00  1.000000e+00  1.000000e+00  "
      ]
     },
     "execution_count": 8,
     "metadata": {},
     "output_type": "execute_result"
    }
   ],
   "source": [
    "#Look at the statistical properties of the numerical features of the dataset\n",
    "data.describe().T"
   ]
  },
  {
   "cell_type": "code",
   "execution_count": 9,
   "metadata": {
    "colab": {},
    "colab_type": "code",
    "id": "W9B6xKGpIKSQ"
   },
   "outputs": [],
   "source": [
    "#Simple function to perform quick exploratory data analysis\n",
    "def initial_eda(df):\n",
    "    total_na = df.isna().sum().sum()\n",
    "    print(\"Dimensions : %d rows, %d columns\" % (df.shape[0], df.shape[1]))\n",
    "    print(\"Total NA Values : %d \" % (total_na))\n",
    "    print(\"%38s %10s     %10s %10s\" % (\"Column Name\", \"Data Type\", \"#Distinct\", \"NA Values\"))\n",
    "    col_name = df.columns\n",
    "    dtyp = df.dtypes\n",
    "    uniq = df.nunique()\n",
    "    na_val = df.isna().sum()\n",
    "    for i in range(len(df.columns)):\n",
    "        print(\"%38s %10s   %10s %10s\" % (col_name[i], dtyp[i], uniq[i], na_val[i]))"
   ]
  },
  {
   "cell_type": "code",
   "execution_count": 10,
   "metadata": {},
   "outputs": [
    {
     "name": "stdout",
     "output_type": "stream",
     "text": [
      "Dimensions : 2870 rows, 12 columns\n",
      "Total NA Values : 676 \n",
      "                           Column Name  Data Type      #Distinct  NA Values\n",
      "                                    id      int64         2870          0\n",
      "                                region     object            5          0\n",
      "                              latitude    float64         2647          0\n",
      "                             longitude    float64         2550          0\n",
      "                    accommodation_type     object            3          0\n",
      "                                  cost      int64          330          0\n",
      "                        minimum_nights      int64           53          0\n",
      "                     number_of_reviews      int64          160          0\n",
      "                     reviews_per_month    float64          419        676\n",
      "                              owner_id      int64         2371          0\n",
      "                          owned_hotels      int64           40          0\n",
      "                   yearly_availability      int64            2          0\n"
     ]
    }
   ],
   "source": [
    "initial_eda(data)"
   ]
  },
  {
   "cell_type": "code",
   "execution_count": 11,
   "metadata": {},
   "outputs": [
    {
     "data": {
      "text/plain": [
       "reviews_per_month    23.554007\n",
       "dtype: float64"
      ]
     },
     "execution_count": 11,
     "metadata": {},
     "output_type": "execute_result"
    }
   ],
   "source": [
    "#Let's look at percentages of missing value for all the attributes if any\n",
    "data[data.columns[data.isnull().any()]].isnull().sum() * 100 /data.shape[0]"
   ]
  },
  {
   "cell_type": "markdown",
   "metadata": {},
   "source": [
    "Finidings:\n",
    "Above table shows that, there are 676 missing values for some reviews_per_months."
   ]
  },
  {
   "cell_type": "code",
   "execution_count": 12,
   "metadata": {},
   "outputs": [],
   "source": [
    "#dealing with missing values\n",
    "# replace na values in review per month variable with `0`\n",
    "data=data.fillna(0)"
   ]
  },
  {
   "cell_type": "code",
   "execution_count": 13,
   "metadata": {},
   "outputs": [
    {
     "data": {
      "text/plain": [
       "Series([], dtype: float64)"
      ]
     },
     "execution_count": 13,
     "metadata": {},
     "output_type": "execute_result"
    }
   ],
   "source": [
    "#Let's look at percentages of missing value for all the attributes if any\n",
    "data[data.columns[data.isnull().any()]].isnull().sum() * 100 /data.shape[0]"
   ]
  },
  {
   "cell_type": "markdown",
   "metadata": {
    "colab_type": "text",
    "id": "ymsdDaIPIKSX"
   },
   "source": [
    "## Exploring Categorical Variables"
   ]
  },
  {
   "cell_type": "code",
   "execution_count": 14,
   "metadata": {},
   "outputs": [
    {
     "name": "stdout",
     "output_type": "stream",
     "text": [
      "There are 2 categorical variables\n",
      "\n",
      "The categorical variables are :\n",
      "\n",
      " ['region', 'accommodation_type']\n"
     ]
    }
   ],
   "source": [
    "#Let's find the categorical variables\n",
    "categorical = [var for var in data.columns if data[var].dtype=='O']\n",
    "\n",
    "print('There are {} categorical variables\\n'.format(len(categorical)))\n",
    "\n",
    "print('The categorical variables are :\\n\\n', categorical)"
   ]
  },
  {
   "cell_type": "code",
   "execution_count": 15,
   "metadata": {},
   "outputs": [
    {
     "name": "stdout",
     "output_type": "stream",
     "text": [
      "Manhattan        1333\n",
      "Brooklyn         1075\n",
      "Queens            370\n",
      "Bronx              78\n",
      "Staten Island      14\n",
      "Name: region, dtype: int64\n",
      "Private room       1225\n",
      "Entire home/apt    1002\n",
      "Shared room         643\n",
      "Name: accommodation_type, dtype: int64\n"
     ]
    }
   ],
   "source": [
    "for var in categorical: \n",
    "    \n",
    "    print(data[var].value_counts())"
   ]
  },
  {
   "cell_type": "markdown",
   "metadata": {},
   "source": [
    "### Exploring Region alongwith Latitude and Longitude"
   ]
  },
  {
   "cell_type": "code",
   "execution_count": 16,
   "metadata": {
    "colab": {},
    "colab_type": "code",
    "id": "73vBzp7lIKSf"
   },
   "outputs": [
    {
     "data": {
      "image/png": "[encoded data removed]",
      "text/plain": [
       "<Figure size 864x432 with 1 Axes>"
      ]
     },
     "metadata": {
      "needs_background": "light"
     },
     "output_type": "display_data"
    }
   ],
   "source": [
    "plt.figure(figsize=(12,6))\n",
    "sns.scatterplot(x = data.longitude,y = data.latitude,hue=data.region)\n",
    "plt.show()"
   ]
  },
  {
   "cell_type": "markdown",
   "metadata": {},
   "source": [
    "We can observe the geographic distribution of the hotel rooms"
   ]
  },
  {
   "cell_type": "code",
   "execution_count": 17,
   "metadata": {
    "colab": {},
    "colab_type": "code",
    "id": "1XiIoLYLIKSj"
   },
   "outputs": [
    {
     "data": {
      "text/html": [
       "<div style=\"width:100%;\"><div style=\"position:relative;width:100%;height:0;padding-bottom:60%;\"><span style=\"color:#565656\">Make this Notebook Trusted to load map: File -> Trust Notebook</span><iframe src=\"about:blank\" style=\"position:absolute;width:100%;height:100%;left:0;top:0;border:none !important;\" data-html=%3C%21DOCTYPE%20html%3E%0A%3Chead%3E%20%20%20%20%0A%20%20%20%20%3Cmeta%20http-equiv%3D%22content-type%22%20content%3D%22text/html%3B%20charset%3DUTF-8%22%20/%3E%0A%20%20%20%20%0A%20%20%20%20%20%20%20%20%3Cscript%3E%0A%20%20%20%20%20%20%20%20%20%20%20%20L_NO_TOUCH%20%3D%20false%3B%0A%20%20%20%20%20%20%20%20%20%20%20%20L_DISABLE_3D%20%3D%20false%3B%0A%20%20%20%20%20%20%20%20%3C/script%3E%0A%20%20%20%20%0A%20%20%20%20%3Cstyle%3Ehtml%2C%20body%20%7Bwidth%3A%20100%25%3Bheight%3A%20100%25%3Bmargin%3A%200%3Bpadding%3A%200%3B%7D%3C/style%3E%0A%20%20%20%20%3Cstyle%3E%23map%20%7Bposition%3Aabsolute%3Btop%3A0%3Bbottom%3A0%3Bright%3A0%3Bleft%3A0%3B%7D%3C/style%3E%0A%20%20%20%20%3Cscript%20src%3D%22https%3A//cdn.jsdelivr.net/npm/leaflet%401.6.0/dist/leaflet.js%22%3E%3C/script%3E%0A%20%20%20%20%3Cscript%20src%3D%22https%3A//code.jquery.com/jquery-1.12.4.min.js%22%3E%3C/script%3E%0A%20%20%20%20%3Cscript%20src%3D%22https%3A//maxcdn.bootstrapcdn.com/bootstrap/3.2.0/js/bootstrap.min.js%22%3E%3C/script%3E%0A%20%20%20%20%3Cscript%20src%3D%22https%3A//cdnjs.cloudflare.com/ajax/libs/Leaflet.awesome-markers/2.0.2/leaflet.awesome-markers.js%22%3E%3C/script%3E%0A%20%20%20%20%3Clink%20rel%3D%22stylesheet%22%20href%3D%22https%3A//cdn.jsdelivr.net/npm/leaflet%401.6.0/dist/leaflet.css%22/%3E%0A%20%20%20%20%3Clink%20rel%3D%22stylesheet%22%20href%3D%22https%3A//maxcdn.bootstrapcdn.com/bootstrap/3.2.0/css/bootstrap.min.css%22/%3E%0A%20%20%20%20%3Clink%20rel%3D%22stylesheet%22%20href%3D%22https%3A//maxcdn.bootstrapcdn.com/bootstrap/3.2.0/css/bootstrap-theme.min.css%22/%3E%0A%20%20%20%20%3Clink%20rel%3D%22stylesheet%22%20href%3D%22https%3A//maxcdn.bootstrapcdn.com/font-awesome/4.6.3/css/font-awesome.min.css%22/%3E%0A%20%20%20%20%3Clink%20rel%3D%22stylesheet%22%20href%3D%22https%3A//cdnjs.cloudflare.com/ajax/libs/Leaflet.awesome-markers/2.0.2/leaflet.awesome-markers.css%22/%3E%0A%20%20%20%20%3Clink%20rel%3D%22stylesheet%22%20href%3D%22https%3A//cdn.jsdelivr.net/gh/python-visualization/folium/folium/templates/leaflet.awesome.rotate.min.css%22/%3E%0A%20%20%20%20%0A%20%20%20%20%20%20%20%20%20%20%20%20%3Cmeta%20name%3D%22viewport%22%20content%3D%22width%3Ddevice-width%2C%0A%20%20%20%20%20%20%20%20%20%20%20%20%20%20%20%20initial-scale%3D1.0%2C%20maximum-scale%3D1.0%2C%20user-scalable%3Dno%22%20/%3E%0A%20%20%20%20%20%20%20%20%20%20%20%20%3Cstyle%3E%0A%20%20%20%20%20%20%20%20%20%20%20%20%20%20%20%20%23map_8ff2e115bbab4d17aa859c2c9bfe501c%20%7B%0A%20%20%20%20%20%20%20%20%20%20%20%20%20%20%20%20%20%20%20%20position%3A%20relative%3B%0A%20%20%20%20%20%20%20%20%20%20%20%20%20%20%20%20%20%20%20%20width%3A%20100.0%25%3B%0A%20%20%20%20%20%20%20%20%20%20%20%20%20%20%20%20%20%20%20%20height%3A%20100.0%25%3B%0A%20%20%20%20%20%20%20%20%20%20%20%20%20%20%20%20%20%20%20%20left%3A%200.0%25%3B%0A%20%20%20%20%20%20%20%20%20%20%20%20%20%20%20%20%20%20%20%20top%3A%200.0%25%3B%0A%20%20%20%20%20%20%20%20%20%20%20%20%20%20%20%20%7D%0A%20%20%20%20%20%20%20%20%20%20%20%20%3C/style%3E%0A%20%20%20%20%20%20%20%20%0A%20%20%20%20%3Cscript%20src%3D%22https%3A//cdn.jsdelivr.net/gh/python-visualization/folium%40master/folium/templates/leaflet_heat.min.js%22%3E%3C/script%3E%0A%3C/head%3E%0A%3Cbody%3E%20%20%20%20%0A%20%20%20%20%0A%20%20%20%20%20%20%20%20%20%20%20%20%3Cdiv%20class%3D%22folium-map%22%20id%3D%22map_8ff2e115bbab4d17aa859c2c9bfe501c%22%20%3E%3C/div%3E%0A%20%20%20%20%20%20%20%20%0A%3C/body%3E%0A%3Cscript%3E%20%20%20%20%0A%20%20%20%20%0A%20%20%20%20%20%20%20%20%20%20%20%20var%20map_8ff2e115bbab4d17aa859c2c9bfe501c%20%3D%20L.map%28%0A%20%20%20%20%20%20%20%20%20%20%20%20%20%20%20%20%22map_8ff2e115bbab4d17aa859c2c9bfe501c%22%2C%0A%20%20%20%20%20%20%20%20%20%20%20%20%20%20%20%20%7B%0A%20%20%20%20%20%20%20%20%20%20%20%20%20%20%20%20%20%20%20%20center%3A%20%5B40.7%2C%20-74.0%5D%2C%0A%20%20%20%20%20%20%20%20%20%20%20%20%20%20%20%20%20%20%20%20crs%3A%20L.CRS.EPSG3857%2C%0A%20%20%20%20%20%20%20%20%20%20%20%20%20%20%20%20%20%20%20%20zoom%3A%2010%2C%0A%20%20%20%20%20%20%20%20%20%20%20%20%20%20%20%20%20%20%20%20zoomControl%3A%20true%2C%0A%20%20%20%20%20%20%20%20%20%20%20%20%20%20%20%20%20%20%20%20preferCanvas%3A%20false%2C%0A%20%20%20%20%20%20%20%20%20%20%20%20%20%20%20%20%7D%0A%20%20%20%20%20%20%20%20%20%20%20%20%29%3B%0A%0A%20%20%20%20%20%20%20%20%20%20%20%20%0A%0A%20%20%20%20%20%20%20%20%0A%20%20%20%20%0A%20%20%20%20%20%20%20%20%20%20%20%20var%20tile_layer_8f94932c67b541d4b61c5c8b27430396%20%3D%20L.tileLayer%28%0A%20%20%20%20%20%20%20%20%20%20%20%20%20%20%20%20%22https%3A//%7Bs%7D.tile.openstreetmap.org/%7Bz%7D/%7Bx%7D/%7By%7D.png%22%2C%0A%20%20%20%20%20%20%20%20%20%20%20%20%20%20%20%20%7B%22attribution%22%3A%20%22Data%20by%20%5Cu0026copy%3B%20%5Cu003ca%20href%3D%5C%22http%3A//openstreetmap.org%5C%22%5Cu003eOpenStreetMap%5Cu003c/a%5Cu003e%2C%20under%20%5Cu003ca%20href%3D%5C%22http%3A//www.openstreetmap.org/copyright%5C%22%5Cu003eODbL%5Cu003c/a%5Cu003e.%22%2C%20%22detectRetina%22%3A%20false%2C%20%22maxNativeZoom%22%3A%2018%2C%20%22maxZoom%22%3A%2018%2C%20%22minZoom%22%3A%200%2C%20%22noWrap%22%3A%20false%2C%20%22opacity%22%3A%201%2C%20%22subdomains%22%3A%20%22abc%22%2C%20%22tms%22%3A%20false%7D%0A%20%20%20%20%20%20%20%20%20%20%20%20%29.addTo%28map_8ff2e115bbab4d17aa859c2c9bfe501c%29%3B%0A%20%20%20%20%20%20%20%20%0A%20%20%20%20%0A%20%20%20%20%20%20%20%20%20%20%20%20var%20heat_map_29b31dc8a42d4cd29c42907604f34f0a%20%3D%20L.heatLayer%28%0A%20%20%20%20%20%20%20%20%20%20%20%20%20%20%20%20%5B%5B40.71854%2C%20-74.00439%5D%2C%20%5B40.64446%2C%20-73.9503%5D%2C%20%5B40.78573%2C%20-73.81062%5D%2C%20%5B40.73863%2C%20-73.98002%5D%2C%20%5B40.82426%2C%20-73.9463%5D%2C%20%5B40.73976%2C%20-74.00953%5D%2C%20%5B40.67913%2C%20-73.98015%5D%2C%20%5B40.75288%2C%20-73.97269%5D%2C%20%5B40.71735%2C%20-73.99095%5D%2C%20%5B40.76781%2C%20-73.92684%5D%2C%20%5B40.63293%2C%20-73.97117%5D%2C%20%5B40.68873%2C%20-73.96133%5D%2C%20%5B40.72948%2C%20-74.00961%5D%2C%20%5B40.72886%2C%20-73.99139%5D%2C%20%5B40.87072%2C%20-73.89974000000002%5D%2C%20%5B40.72757%2C%20-73.98336%5D%2C%20%5B40.7662%2C%20-73.94676%5D%2C%20%5B40.75985%2C%20-73.99799%5D%2C%20%5B40.73613%2C%20-74.00711%5D%2C%20%5B40.7237%2C%20-73.99454%5D%2C%20%5B40.70091%2C%20-73.92215%5D%2C%20%5B40.78588%2C%20-73.97117%5D%2C%20%5B40.66732%2C%20-73.77813%5D%2C%20%5B40.73057%2C%20-74.00458%5D%2C%20%5B40.80083%2C%20-73.95584000000002%5D%2C%20%5B40.82754%2C%20-73.82124%5D%2C%20%5B40.69979%2C%20-73.93158000000003%5D%2C%20%5B40.80815%2C%20-73.96779000000002%5D%2C%20%5B40.62023%2C%20-73.99103000000002%5D%2C%20%5B40.6949%2C%20-73.9116%5D%2C%20%5B40.74361%2C%20-73.91662%5D%2C%20%5B40.64688%2C%20-74.00209%5D%2C%20%5B40.7066%2C%20-73.94625%5D%2C%20%5B40.71827%2C%20-73.96259%5D%2C%20%5B40.8709%2C%20-73.89945999999998%5D%2C%20%5B40.74563%2C%20-73.98342%5D%2C%20%5B40.66719000000001%2C%20-73.93913%5D%2C%20%5B40.63702%2C%20-73.96327%5D%2C%20%5B40.72145%2C%20-74.00231%5D%2C%20%5B40.73953%2C%20-74.00841%5D%2C%20%5B40.71073%2C%20-73.96207%5D%2C%20%5B40.73085%2C%20-74.00079000000002%5D%2C%20%5B40.71801%2C%20-73.9526%5D%2C%20%5B40.72812%2C%20-73.95619%5D%2C%20%5B40.70162%2C%20-73.99465%5D%2C%20%5B40.73288%2C%20-73.98250999999998%5D%2C%20%5B40.70782%2C%20-74.01525%5D%2C%20%5B40.68174000000001%2C%20-74.00483%5D%2C%20%5B40.71051%2C%20-73.96564000000002%5D%2C%20%5B40.66266%2C%20-73.98908%5D%2C%20%5B40.70685%2C%20-73.92149%5D%2C%20%5B40.79861%2C%20-73.94116%5D%2C%20%5B40.71924%2C%20-73.98507%5D%2C%20%5B40.73345%2C%20-74.00301999999998%5D%2C%20%5B40.65246%2C%20-73.96046%5D%2C%20%5B40.75369%2C%20-73.96679%5D%2C%20%5B40.82179%2C%20-73.95283%5D%2C%20%5B40.66506%2C%20-73.95177%5D%2C%20%5B40.86689000000001%2C%20-73.92224%5D%2C%20%5B40.6845%2C%20-73.93968000000002%5D%2C%20%5B40.89873%2C%20-73.86449%5D%2C%20%5B40.78618%2C%20-73.97339000000002%5D%2C%20%5B40.83067%2C%20-73.88024%5D%2C%20%5B40.69381%2C%20-73.94998000000002%5D%2C%20%5B40.86707%2C%20-73.90711999999998%5D%2C%20%5B40.62804000000001%2C%20-74.02603%5D%2C%20%5B40.68757%2C%20-73.90737%5D%2C%20%5B40.78754%2C%20-73.96989%5D%2C%20%5B40.7747%2C%20-73.98708%5D%2C%20%5B40.66201%2C%20-73.95414%5D%2C%20%5B40.67863%2C%20-73.82648%5D%2C%20%5B40.75569%2C%20-73.92175%5D%2C%20%5B40.75855%2C%20-73.82208%5D%2C%20%5B40.82921%2C%20-73.93802%5D%2C%20%5B40.85098%2C%20-73.93664%5D%2C%20%5B40.75327%2C%20-73.97175%5D%2C%20%5B40.77204%2C%20-73.9223%5D%2C%20%5B40.6786%2C%20-73.96694000000002%5D%2C%20%5B40.76039%2C%20-73.9736%5D%2C%20%5B40.70476%2C%20-73.92942%5D%2C%20%5B40.61421%2C%20-73.95347%5D%2C%20%5B40.68495%2C%20-73.97438000000002%5D%2C%20%5B40.6386%2C%20-73.93654000000002%5D%2C%20%5B40.7734%2C%20-73.98684%5D%2C%20%5B40.76008%2C%20-73.98721%5D%2C%20%5B40.81244%2C%20-73.95260999999998%5D%2C%20%5B40.84918%2C%20-73.93775%5D%2C%20%5B40.71096%2C%20-73.95170999999998%5D%2C%20%5B40.69995%2C%20-73.92936999999998%5D%2C%20%5B40.69091%2C%20-73.97202%5D%2C%20%5B40.58938%2C%20-73.79446999999998%5D%2C%20%5B40.69305%2C%20-73.90398%5D%2C%20%5B40.76282%2C%20-73.99184%5D%2C%20%5B40.80466%2C%20-73.95581999999997%5D%2C%20%5B40.80008%2C%20-73.95926%5D%2C%20%5B40.69069%2C%20-73.92651%5D%2C%20%5B40.69127%2C%20-73.93983%5D%2C%20%5B40.75081%2C%20-74.00395999999998%5D%2C%20%5B40.69097%2C%20-73.94721%5D%2C%20%5B40.73261%2C%20-74.00713%5D%2C%20%5B40.74905%2C%20-73.86499%5D%2C%20%5B40.79907%2C%20-73.96098%5D%2C%20%5B40.77513%2C%20-73.94977%5D%2C%20%5B40.72388%2C%20-73.9404%5D%2C%20%5B40.80623%2C%20-73.94046999999998%5D%2C%20%5B40.83299%2C%20-73.94527%5D%2C%20%5B40.75388%2C%20-73.97308000000002%5D%2C%20%5B40.71172%2C%20-73.9417%5D%2C%20%5B40.71133%2C%20-74.00676%5D%2C%20%5B40.86454000000001%2C%20-73.9246%5D%2C%20%5B40.78007%2C%20-73.94803%5D%2C%20%5B40.75916%2C%20-73.91427%5D%2C%20%5B40.76992%2C%20-73.89719000000002%5D%2C%20%5B40.67753%2C%20-73.9841%5D%2C%20%5B40.74843%2C%20-73.97715%5D%2C%20%5B40.67562%2C%20-73.95319%5D%2C%20%5B40.66061%2C%20-73.94712%5D%2C%20%5B40.81332%2C%20-73.94869%5D%2C%20%5B40.7683%2C%20-73.95919%5D%2C%20%5B40.69042%2C%20-73.96046%5D%2C%20%5B40.7119%2C%20-73.94431%5D%2C%20%5B40.75418%2C%20-73.88586%5D%2C%20%5B40.58426%2C%20-73.95949%5D%2C%20%5B40.7608%2C%20-73.96136%5D%2C%20%5B40.70228%2C%20-73.90097%5D%2C%20%5B40.8683%2C%20-73.92161%5D%2C%20%5B40.69088%2C%20-73.91556%5D%2C%20%5B40.79952%2C%20-73.94592%5D%2C%20%5B40.73051%2C%20-73.99518%5D%2C%20%5B40.67%2C%20-73.95091%5D%2C%20%5B40.73534%2C%20-73.87767%5D%2C%20%5B40.75811%2C%20-73.90954%5D%2C%20%5B40.77697%2C%20-73.9082%5D%2C%20%5B40.70796%2C%20-74.00288%5D%2C%20%5B40.85751%2C%20-73.90805%5D%2C%20%5B40.70353%2C%20-73.93482%5D%2C%20%5B40.7458%2C%20-73.9957%5D%2C%20%5B40.64233%2C%20-73.94773%5D%2C%20%5B40.72471%2C%20-73.98673000000002%5D%2C%20%5B40.73213%2C%20-73.85717%5D%2C%20%5B40.61354%2C%20-73.96316%5D%2C%20%5B40.70569%2C%20-74.00403%5D%2C%20%5B40.71987%2C%20-73.98640999999998%5D%2C%20%5B40.75742%2C%20-73.9447%5D%2C%20%5B40.7199%2C%20-73.99225%5D%2C%20%5B40.7394%2C%20-73.99838000000003%5D%2C%20%5B40.76996%2C%20-73.9576%5D%2C%20%5B40.69399%2C%20-73.92609%5D%2C%20%5B40.83251%2C%20-73.91216999999997%5D%2C%20%5B40.67098%2C%20-73.79656999999997%5D%2C%20%5B40.73655%2C%20-74.00225999999998%5D%2C%20%5B40.76752000000001%2C%20-73.9273%5D%2C%20%5B40.75383%2C%20-73.96777%5D%2C%20%5B40.67753%2C%20-73.99084%5D%2C%20%5B40.62462%2C%20-73.95508000000002%5D%2C%20%5B40.69722%2C%20-73.97204%5D%2C%20%5B40.68932%2C%20-73.99082%5D%2C%20%5B40.73824000000001%2C%20-73.9537%5D%2C%20%5B40.68612%2C%20-73.98988%5D%2C%20%5B40.80188%2C%20-73.95695%5D%2C%20%5B40.76121%2C%20-73.98813%5D%2C%20%5B40.70298%2C%20-73.93834%5D%2C%20%5B40.78922%2C%20-73.97398000000003%5D%2C%20%5B40.6363%2C%20-74.15911%5D%2C%20%5B40.80619%2C%20-73.94174%5D%2C%20%5B40.749%2C%20-74.00244%5D%2C%20%5B40.79873%2C%20-73.94051999999998%5D%2C%20%5B40.7619%2C%20-73.99819000000002%5D%2C%20%5B40.71801%2C%20-73.95573%5D%2C%20%5B40.68416%2C%20-73.97912%5D%2C%20%5B40.74584%2C%20-73.99103000000002%5D%2C%20%5B40.69493%2C%20-73.94483000000002%5D%2C%20%5B40.71862%2C%20-73.99154%5D%2C%20%5B40.71179%2C%20-73.99848%5D%2C%20%5B40.75831%2C%20-73.9263%5D%2C%20%5B40.67911%2C%20-73.9725%5D%2C%20%5B40.72104%2C%20-73.94805%5D%2C%20%5B40.7659%2C%20-73.96611%5D%2C%20%5B40.88058%2C%20-73.91812%5D%2C%20%5B40.78014%2C%20-73.97974%5D%2C%20%5B40.70296%2C%20-73.90602%5D%2C%20%5B40.78306%2C%20-73.94524%5D%2C%20%5B40.75239000000001%2C%20-73.9707%5D%2C%20%5B40.83898%2C%20-73.86492%5D%2C%20%5B40.6914%2C%20-73.90675%5D%2C%20%5B40.70998%2C%20-73.94694%5D%2C%20%5B40.79965%2C%20-73.95076%5D%2C%20%5B40.6898%2C%20-73.96011999999997%5D%2C%20%5B40.71417%2C%20-73.95867%5D%2C%20%5B40.65087%2C%20-73.95566%5D%2C%20%5B40.86757%2C%20-73.92699%5D%2C%20%5B40.63396%2C%20-74.00729%5D%2C%20%5B40.81671%2C%20-73.94013000000002%5D%2C%20%5B40.77569%2C%20-73.95721%5D%2C%20%5B40.70678%2C%20-73.80613000000002%5D%2C%20%5B40.75712%2C%20-73.8122%5D%2C%20%5B40.75331%2C%20-73.9733%5D%2C%20%5B40.70518%2C%20-73.93794%5D%2C%20%5B40.74824%2C%20-73.89961%5D%2C%20%5B40.80146%2C%20-73.91673%5D%2C%20%5B40.72678%2C%20-73.95087%5D%2C%20%5B40.82755%2C%20-73.93786999999998%5D%2C%20%5B40.71463%2C%20-73.96474%5D%2C%20%5B40.80567%2C%20-73.95676999999998%5D%2C%20%5B40.68773%2C%20-73.98778%5D%2C%20%5B40.73055%2C%20-73.98875%5D%2C%20%5B40.8562%2C%20-73.90899%5D%2C%20%5B40.74747%2C%20-73.98061%5D%2C%20%5B40.78695%2C%20-73.94218000000002%5D%2C%20%5B40.75403%2C%20-73.96343%5D%2C%20%5B40.7466%2C%20-73.99219000000002%5D%2C%20%5B40.66399000000001%2C%20-73.98301%5D%2C%20%5B40.70057%2C%20-73.92385%5D%2C%20%5B40.67463%2C%20-73.91811%5D%2C%20%5B40.76324%2C%20-73.96382%5D%2C%20%5B40.67945%2C%20-73.90841999999998%5D%2C%20%5B40.72909%2C%20-73.98986%5D%2C%20%5B40.7608%2C%20-73.97391%5D%2C%20%5B40.6878%2C%20-73.95493%5D%2C%20%5B40.68307%2C%20-73.99226%5D%2C%20%5B40.76646%2C%20-73.98649%5D%2C%20%5B40.65994%2C%20-73.95891999999998%5D%2C%20%5B40.80521%2C%20-73.95591999999998%5D%2C%20%5B40.8242%2C%20-73.95106%5D%2C%20%5B40.6899%2C%20-73.93559%5D%2C%20%5B40.68799%2C%20-73.97314%5D%2C%20%5B40.73962%2C%20-73.98491999999997%5D%2C%20%5B40.84657%2C%20-73.9357%5D%2C%20%5B40.65406%2C%20-73.94011%5D%2C%20%5B40.79222%2C%20-73.96445%5D%2C%20%5B40.66336%2C%20-73.92656%5D%2C%20%5B40.68752%2C%20-73.96688%5D%2C%20%5B40.64376%2C%20-73.90833%5D%2C%20%5B40.79917%2C%20-73.93715999999998%5D%2C%20%5B40.74389%2C%20-73.97149%5D%2C%20%5B40.81694%2C%20-73.93909000000002%5D%2C%20%5B40.68208%2C%20-73.9104%5D%2C%20%5B40.6853%2C%20-73.96385%5D%2C%20%5B40.68941%2C%20-73.75116%5D%2C%20%5B40.69293%2C%20-73.98495%5D%2C%20%5B40.7083%2C%20-73.94846%5D%2C%20%5B40.69106%2C%20-73.96529%5D%2C%20%5B40.80143%2C%20-73.91353000000002%5D%2C%20%5B40.82501%2C%20-73.95373000000002%5D%2C%20%5B40.72742%2C%20-73.95066%5D%2C%20%5B40.67009%2C%20-73.9329%5D%2C%20%5B40.71686%2C%20-74.00484%5D%2C%20%5B40.71797%2C%20-73.95441%5D%2C%20%5B40.76668%2C%20-73.99656%5D%2C%20%5B40.75304000000001%2C%20-73.87661%5D%2C%20%5B40.58296%2C%20-73.95879000000002%5D%2C%20%5B40.65686%2C%20-73.95758000000002%5D%2C%20%5B40.77123%2C%20-73.9549%5D%2C%20%5B40.68556%2C%20-73.96238000000002%5D%2C%20%5B40.7454%2C%20-74.00426999999998%5D%2C%20%5B40.72256%2C%20-73.9848%5D%2C%20%5B40.77685%2C%20-73.9537%5D%2C%20%5B40.71512%2C%20-73.94978%5D%2C%20%5B40.71154%2C%20-73.96424%5D%2C%20%5B40.69951%2C%20-73.91641%5D%2C%20%5B40.73021%2C%20-74.00379000000002%5D%2C%20%5B40.68462%2C%20-73.96908%5D%2C%20%5B40.7471%2C%20-73.97263000000002%5D%2C%20%5B40.76293%2C%20-73.98980999999998%5D%2C%20%5B40.68056%2C%20-73.95371999999998%5D%2C%20%5B40.74017%2C%20-73.99485%5D%2C%20%5B40.70142%2C%20-73.90515%5D%2C%20%5B40.66156%2C%20-73.99318000000002%5D%2C%20%5B40.74746%2C%20-73.97883%5D%2C%20%5B40.79737%2C%20-73.93499%5D%2C%20%5B40.74564%2C%20-74.0006%5D%2C%20%5B40.69029000000001%2C%20-73.95443%5D%2C%20%5B40.84502%2C%20-73.94078%5D%2C%20%5B40.69861%2C%20-73.90728%5D%2C%20%5B40.84008%2C%20-73.93684%5D%2C%20%5B40.77998%2C%20-73.98461999999998%5D%2C%20%5B40.76877%2C%20-73.95479%5D%2C%20%5B40.64815%2C%20-73.96486%5D%2C%20%5B40.67579%2C%20-73.9679%5D%2C%20%5B40.69891%2C%20-73.98473%5D%2C%20%5B40.72232%2C%20-73.98686%5D%2C%20%5B40.7291%2C%20-73.99246%5D%2C%20%5B40.66959%2C%20-73.91204%5D%2C%20%5B40.72964%2C%20-74.0031%5D%2C%20%5B40.68422%2C%20-73.95666%5D%2C%20%5B40.71971%2C%20-73.98494000000002%5D%2C%20%5B40.67697%2C%20-74.00993000000003%5D%2C%20%5B40.75368%2C%20-73.97358%5D%2C%20%5B40.68177%2C%20-73.88277%5D%2C%20%5B40.84321%2C%20-73.83129%5D%2C%20%5B40.73859%2C%20-73.98218%5D%2C%20%5B40.63931%2C%20-73.94451%5D%2C%20%5B40.70761%2C%20-73.9424%5D%2C%20%5B40.71085%2C%20-74.0158%5D%2C%20%5B40.76276%2C%20-73.92508000000002%5D%2C%20%5B40.76396%2C%20-73.96365%5D%2C%20%5B40.6726%2C%20-73.79566%5D%2C%20%5B40.63485%2C%20-73.92055%5D%2C%20%5B40.74909%2C%20-73.89538%5D%2C%20%5B40.6944%2C%20-73.95674%5D%2C%20%5B40.76629000000001%2C%20-73.986%5D%2C%20%5B40.72358%2C%20-74.00397%5D%2C%20%5B40.69172%2C%20-73.9113%5D%2C%20%5B40.76331%2C%20-73.99128%5D%2C%20%5B40.84034000000001%2C%20-73.83006999999998%5D%2C%20%5B40.71303%2C%20-73.96574%5D%2C%20%5B40.80511%2C%20-73.95824%5D%2C%20%5B40.72034%2C%20-73.96030999999998%5D%2C%20%5B40.72515%2C%20-73.95153%5D%2C%20%5B40.72167%2C%20-73.98066%5D%2C%20%5B40.70078%2C%20-73.9075%5D%2C%20%5B40.67808%2C%20-73.98074%5D%2C%20%5B40.76558%2C%20-73.98855%5D%2C%20%5B40.75869%2C%20-73.96725%5D%2C%20%5B40.76628%2C%20-73.95795%5D%2C%20%5B40.79582%2C%20-73.9479%5D%2C%20%5B40.75538%2C%20-74.00441%5D%2C%20%5B40.82351%2C%20-73.94046999999998%5D%2C%20%5B40.72849%2C%20-73.98576%5D%2C%20%5B40.66162%2C%20-73.85598%5D%2C%20%5B40.71127%2C%20-73.84278%5D%2C%20%5B40.74557%2C%20-74.00825%5D%2C%20%5B40.74023%2C%20-73.99994000000002%5D%2C%20%5B40.7065%2C%20-74.00503%5D%2C%20%5B40.76375%2C%20-73.98387%5D%2C%20%5B40.73333%2C%20-73.79514%5D%2C%20%5B40.69229%2C%20-73.94116%5D%2C%20%5B40.74436%2C%20-73.91141%5D%2C%20%5B40.72257000000001%2C%20-73.98465%5D%2C%20%5B40.71387%2C%20-73.99414%5D%2C%20%5B40.7506%2C%20-73.97104%5D%2C%20%5B40.75037%2C%20-73.91265%5D%2C%20%5B40.74405%2C%20-73.97349%5D%2C%20%5B40.67986%2C%20-73.94259%5D%2C%20%5B40.64564%2C%20-74.01867%5D%2C%20%5B40.76645%2C%20-73.98539%5D%2C%20%5B40.72651%2C%20-74.00014%5D%2C%20%5B40.71267%2C%20-73.95366999999997%5D%2C%20%5B40.76592%2C%20-73.98095%5D%2C%20%5B40.67548%2C%20-73.96802%5D%2C%20%5B40.69854%2C%20-73.92373%5D%2C%20%5B40.81057%2C%20-73.94565%5D%2C%20%5B40.71918%2C%20-73.99535999999998%5D%2C%20%5B40.70922%2C%20-74.00571%5D%2C%20%5B40.79892%2C%20-73.95139%5D%2C%20%5B40.72852%2C%20-73.99009000000002%5D%2C%20%5B40.61994%2C%20-73.93966999999998%5D%2C%20%5B40.5967%2C%20-73.96041%5D%2C%20%5B40.80352%2C%20-73.95127%5D%2C%20%5B40.7112%2C%20-74.0094%5D%2C%20%5B40.76043%2C%20-73.91465%5D%2C%20%5B40.6855%2C%20-73.96112%5D%2C%20%5B40.71549%2C%20-73.95579000000002%5D%2C%20%5B40.76355%2C%20-73.79460999999998%5D%2C%20%5B40.71745%2C%20-73.99409%5D%2C%20%5B40.70599%2C%20-74.00515%5D%2C%20%5B40.75505%2C%20-73.96484%5D%2C%20%5B40.68741%2C%20-73.9066%5D%2C%20%5B40.76447%2C%20-73.99103000000002%5D%2C%20%5B40.76207%2C%20-73.98945%5D%2C%20%5B40.81185%2C%20-73.93902%5D%2C%20%5B40.82734%2C%20-73.94718%5D%2C%20%5B40.70831%2C%20-73.92095%5D%2C%20%5B40.80419000000001%2C%20-73.96603%5D%2C%20%5B40.68003%2C%20-73.91181%5D%2C%20%5B40.7117%2C%20-73.96321%5D%2C%20%5B40.64162%2C%20-73.90890999999998%5D%2C%20%5B40.72214%2C%20-73.93725%5D%2C%20%5B40.69164%2C%20-73.91513%5D%2C%20%5B40.75196%2C%20-73.97269%5D%2C%20%5B40.67268%2C%20-73.96108000000002%5D%2C%20%5B40.80543%2C%20-73.95739%5D%2C%20%5B40.68258%2C%20-73.87731%5D%2C%20%5B40.69304%2C%20-73.94349%5D%2C%20%5B40.75758%2C%20-73.9206%5D%2C%20%5B40.67347%2C%20-73.96544%5D%2C%20%5B40.73421%2C%20-74.00321%5D%2C%20%5B40.72527%2C%20-73.98338000000003%5D%2C%20%5B40.69523%2C%20-73.90871%5D%2C%20%5B40.72471%2C%20-73.939%5D%2C%20%5B40.81161%2C%20-73.94306%5D%2C%20%5B40.72733%2C%20-73.86046999999998%5D%2C%20%5B40.63936%2C%20-74.03164%5D%2C%20%5B40.74281%2C%20-73.97981%5D%2C%20%5B40.69874%2C%20-73.92969000000002%5D%2C%20%5B40.62468%2C%20-73.94532%5D%2C%20%5B40.74316%2C%20-73.87285%5D%2C%20%5B40.74774%2C%20-73.88653000000002%5D%2C%20%5B40.63601%2C%20-73.91503%5D%2C%20%5B40.82483%2C%20-73.95394%5D%2C%20%5B40.65073%2C%20-73.92738%5D%2C%20%5B40.80754%2C%20-73.95151%5D%2C%20%5B40.76909000000001%2C%20-73.95479%5D%2C%20%5B40.76592%2C%20-73.98769%5D%2C%20%5B40.74948%2C%20-73.97685%5D%2C%20%5B40.70081%2C%20-73.99503%5D%2C%20%5B40.76111%2C%20-73.99818%5D%2C%20%5B40.81196%2C%20-73.95221%5D%2C%20%5B40.72174%2C%20-73.95806999999998%5D%2C%20%5B40.68596%2C%20-73.95837%5D%2C%20%5B40.64695%2C%20-73.93121%5D%2C%20%5B40.76747%2C%20-73.98613%5D%2C%20%5B40.84405%2C%20-73.93714%5D%2C%20%5B40.69128%2C%20-73.92078000000002%5D%2C%20%5B40.71468%2C%20-73.93774%5D%2C%20%5B40.73521%2C%20-73.99944%5D%2C%20%5B40.64293%2C%20-74.01786%5D%2C%20%5B40.74378%2C%20-73.97355999999998%5D%2C%20%5B40.65855%2C%20-73.93794%5D%2C%20%5B40.69234%2C%20-73.97219%5D%2C%20%5B40.64061%2C%20-73.99216%5D%2C%20%5B40.75033%2C%20-73.97546%5D%2C%20%5B40.7213%2C%20-73.95676999999998%5D%2C%20%5B40.76187%2C%20-73.82169%5D%2C%20%5B40.82521%2C%20-73.93811%5D%2C%20%5B40.73928%2C%20-73.98638000000003%5D%2C%20%5B40.7155%2C%20-73.96188000000002%5D%2C%20%5B40.71446%2C%20-73.99112%5D%2C%20%5B40.69305%2C%20-73.90825%5D%2C%20%5B40.76211%2C%20-73.92894%5D%2C%20%5B40.68165%2C%20-73.96006%5D%2C%20%5B40.71758%2C%20-73.99201%5D%2C%20%5B40.80234%2C%20-73.95603%5D%2C%20%5B40.75049%2C%20-73.99809%5D%2C%20%5B40.85677%2C%20-73.92985999999998%5D%2C%20%5B40.69582%2C%20-73.9095%5D%2C%20%5B40.71714%2C%20-73.95447%5D%2C%20%5B40.70647%2C%20-73.79794%5D%2C%20%5B40.70487%2C%20-73.90354%5D%2C%20%5B40.7318%2C%20-73.95307%5D%2C%20%5B40.66947%2C%20-73.95593000000002%5D%2C%20%5B40.71977%2C%20-73.98423000000003%5D%2C%20%5B40.73304%2C%20-73.97421%5D%2C%20%5B40.68016%2C%20-73.94878%5D%2C%20%5B40.64017%2C%20-73.9105%5D%2C%20%5B40.6591%2C%20-73.96115999999998%5D%2C%20%5B40.75628%2C%20-73.99643%5D%2C%20%5B40.68963%2C%20-73.99259%5D%2C%20%5B40.64699%2C%20-74.08151%5D%2C%20%5B40.79877000000001%2C%20-73.96259%5D%2C%20%5B40.7524%2C%20-73.97153%5D%2C%20%5B40.80942%2C%20-73.93701%5D%2C%20%5B40.70887000000001%2C%20-74.01446%5D%2C%20%5B40.73992%2C%20-73.98272%5D%2C%20%5B40.67715%2C%20-73.94543%5D%2C%20%5B40.76207%2C%20-73.9858%5D%2C%20%5B40.6985%2C%20-73.93384%5D%2C%20%5B40.68613%2C%20-73.96536%5D%2C%20%5B40.77715%2C%20-73.94802%5D%2C%20%5B40.76316%2C%20-73.82337%5D%2C%20%5B40.71849%2C%20-73.94165%5D%2C%20%5B40.75236%2C%20-73.9793%5D%2C%20%5B40.80228%2C%20-73.96334%5D%2C%20%5B40.65151%2C%20-73.94957%5D%2C%20%5B40.70195%2C%20-73.98309%5D%2C%20%5B40.78047%2C%20-73.95152%5D%2C%20%5B40.8556%2C%20-73.93245%5D%2C%20%5B40.83406%2C%20-73.94731%5D%2C%20%5B40.76243%2C%20-73.99078%5D%2C%20%5B40.73489%2C%20-74.00182%5D%2C%20%5B40.7319%2C%20-74.00489%5D%2C%20%5B40.74244%2C%20-73.98316%5D%2C%20%5B40.81339000000001%2C%20-73.95176%5D%2C%20%5B40.78179%2C%20-73.95209%5D%2C%20%5B40.76512%2C%20-73.98674%5D%2C%20%5B40.81022%2C%20-73.94266%5D%2C%20%5B40.71365%2C%20-73.93838000000002%5D%2C%20%5B40.76582%2C%20-73.99468%5D%2C%20%5B40.7205%2C%20-73.94717%5D%2C%20%5B40.74446%2C%20-73.90465999999998%5D%2C%20%5B40.7394%2C%20-73.97995999999998%5D%2C%20%5B40.71568%2C%20-73.94415%5D%2C%20%5B40.82211%2C%20-73.93887%5D%2C%20%5B40.74888%2C%20-74.00480999999998%5D%2C%20%5B40.76189%2C%20-73.99955%5D%2C%20%5B40.68978%2C%20-73.95130999999998%5D%2C%20%5B40.69848%2C%20-73.89569%5D%2C%20%5B40.72401%2C%20-73.72901%5D%2C%20%5B40.75636%2C%20-73.92699999999998%5D%2C%20%5B40.68722%2C%20-73.96289%5D%2C%20%5B40.75766%2C%20-73.99089000000002%5D%2C%20%5B40.80343%2C%20-73.93514%5D%2C%20%5B40.6863%2C%20-73.96765%5D%2C%20%5B40.74285%2C%20-73.99595%5D%2C%20%5B40.73079%2C%20-74.00268%5D%2C%20%5B40.76589%2C%20-73.98434%5D%2C%20%5B40.81208%2C%20-73.94243%5D%2C%20%5B40.73286%2C%20-74.00463%5D%2C%20%5B40.72213%2C%20-73.99479000000002%5D%2C%20%5B40.74218%2C%20-73.99813%5D%2C%20%5B40.68515%2C%20-73.93255%5D%2C%20%5B40.76558%2C%20-73.98785%5D%2C%20%5B40.79%2C%20-73.96851%5D%2C%20%5B40.70483%2C%20-73.92565%5D%2C%20%5B40.76752000000001%2C%20-73.9314%5D%2C%20%5B40.59421%2C%20-73.80043%5D%2C%20%5B40.70382%2C%20-73.89797%5D%2C%20%5B40.73432%2C%20-74.00305999999998%5D%2C%20%5B40.79967%2C%20-73.96109%5D%2C%20%5B40.76437%2C%20-73.91937%5D%2C%20%5B40.72803%2C%20-73.98111999999998%5D%2C%20%5B40.75998%2C%20-73.926%5D%2C%20%5B40.75919%2C%20-73.91835999999998%5D%2C%20%5B40.73591%2C%20-74.0101%5D%2C%20%5B40.71659%2C%20-74.00653%5D%2C%20%5B40.79568%2C%20-73.93368000000002%5D%2C%20%5B40.65473%2C%20-73.91846%5D%2C%20%5B40.76642%2C%20-73.98326%5D%2C%20%5B40.87077%2C%20-73.8817%5D%2C%20%5B40.76221%2C%20-73.99795%5D%2C%20%5B40.75576%2C%20-73.93070999999998%5D%2C%20%5B40.74474%2C%20-73.90314000000002%5D%2C%20%5B40.76103%2C%20-73.99745%5D%2C%20%5B40.76052%2C%20-73.99115%5D%2C%20%5B40.75302%2C%20-73.97221%5D%2C%20%5B40.67793%2C%20-73.99531%5D%2C%20%5B40.682%2C%20-73.95681%5D%2C%20%5B40.70971%2C%20-73.89741%5D%2C%20%5B40.69002%2C%20-73.93733%5D%2C%20%5B40.76802%2C%20-73.99298%5D%2C%20%5B40.86918%2C%20-73.8905%5D%2C%20%5B40.76747%2C%20-73.9862%5D%2C%20%5B40.84864%2C%20-73.94046%5D%2C%20%5B40.68843%2C%20-73.92536%5D%2C%20%5B40.82794000000001%2C%20-73.90411999999998%5D%2C%20%5B40.77114%2C%20-73.95913%5D%2C%20%5B40.7158%2C%20-73.95586999999998%5D%2C%20%5B40.66171%2C%20-73.9826%5D%2C%20%5B40.77203%2C%20-73.95344%5D%2C%20%5B40.74968%2C%20-73.97665%5D%2C%20%5B40.62327%2C%20-74.03543%5D%2C%20%5B40.72421%2C%20-73.97963%5D%2C%20%5B40.76173%2C%20-73.99937%5D%2C%20%5B40.72792000000001%2C%20-73.99877%5D%2C%20%5B40.75506%2C%20-73.99715%5D%2C%20%5B40.71232%2C%20-73.9422%5D%2C%20%5B40.75558%2C%20-73.89316%5D%2C%20%5B40.70896%2C%20-73.94754%5D%2C%20%5B40.68607%2C%20-73.91761%5D%2C%20%5B40.7362%2C%20-74.00827%5D%2C%20%5B40.71603%2C%20-73.96426%5D%2C%20%5B40.71788%2C%20-73.96398%5D%2C%20%5B40.74221%2C%20-73.9974%5D%2C%20%5B40.76557%2C%20-73.99174000000002%5D%2C%20%5B40.83099%2C%20-73.86950999999998%5D%2C%20%5B40.71447%2C%20-73.85181%5D%2C%20%5B40.71911%2C%20-73.95045%5D%2C%20%5B40.70412%2C%20-73.99194%5D%2C%20%5B40.78899000000001%2C%20-73.94726999999997%5D%2C%20%5B40.76209%2C%20-73.99875%5D%2C%20%5B40.76249%2C%20-73.96428%5D%2C%20%5B40.71492%2C%20-73.94332%5D%2C%20%5B40.75287%2C%20-73.98631%5D%2C%20%5B40.70771%2C%20-73.94627%5D%2C%20%5B40.88364%2C%20-73.83561%5D%2C%20%5B40.73026%2C%20-74.00392%5D%2C%20%5B40.81728%2C%20-73.86343000000002%5D%2C%20%5B40.71904%2C%20-73.99391999999997%5D%2C%20%5B40.64455%2C%20-73.98298%5D%2C%20%5B40.68584%2C%20-73.9263%5D%2C%20%5B40.71827%2C%20-73.98836%5D%2C%20%5B40.66222%2C%20-73.76324%5D%2C%20%5B40.75194000000001%2C%20-73.97068%5D%2C%20%5B40.69308%2C%20-73.96649000000002%5D%2C%20%5B40.77562%2C%20-73.98756%5D%2C%20%5B40.72233%2C%20-73.99334%5D%2C%20%5B40.76321%2C%20-73.98356%5D%2C%20%5B40.71742%2C%20-73.95777%5D%2C%20%5B40.71762%2C%20-73.98334%5D%2C%20%5B40.69805%2C%20-73.92801%5D%2C%20%5B40.82291%2C%20-73.95612%5D%2C%20%5B40.76617%2C%20-73.98445%5D%2C%20%5B40.74674%2C%20-73.91881%5D%2C%20%5B40.73164000000001%2C%20-73.95323%5D%2C%20%5B40.73309%2C%20-74.00482%5D%2C%20%5B40.80781%2C%20-73.95134%5D%2C%20%5B40.68304000000001%2C%20-73.96348%5D%2C%20%5B40.61391%2C%20-73.99128%5D%2C%20%5B40.72195%2C%20-73.86112%5D%2C%20%5B40.74882%2C%20-73.97788%5D%2C%20%5B40.73297%2C%20-73.95385%5D%2C%20%5B40.67757%2C%20-73.98195%5D%2C%20%5B40.77604%2C%20-73.95100000000002%5D%2C%20%5B40.66537%2C%20-73.98559%5D%2C%20%5B40.80576%2C%20-73.95832%5D%2C%20%5B40.72654%2C%20-74.00201%5D%2C%20%5B40.6844%2C%20-73.9489%5D%2C%20%5B40.77595%2C%20-73.95573%5D%2C%20%5B40.67955%2C%20-73.98435%5D%2C%20%5B40.67166%2C%20-73.76566%5D%2C%20%5B40.68587%2C%20-73.91435%5D%2C%20%5B40.7041%2C%20-73.93415%5D%2C%20%5B40.68687%2C%20-73.76809%5D%2C%20%5B40.83481%2C%20-73.94317%5D%2C%20%5B40.75645%2C%20-73.97828%5D%2C%20%5B40.73649%2C%20-73.99927%5D%2C%20%5B40.67825%2C%20-73.92335%5D%2C%20%5B40.81734%2C%20-73.95428000000003%5D%2C%20%5B40.78051%2C%20-73.94809000000002%5D%2C%20%5B40.72157%2C%20-73.99432%5D%2C%20%5B40.69221%2C%20-73.95866%5D%2C%20%5B40.81906%2C%20-73.95654%5D%2C%20%5B40.75718%2C%20-73.99245%5D%2C%20%5B40.72337%2C%20-73.99574%5D%2C%20%5B40.70263%2C%20-73.93488%5D%2C%20%5B40.68482%2C%20-73.76929%5D%2C%20%5B40.75375%2C%20-73.97295%5D%2C%20%5B40.69323%2C%20-73.94993000000002%5D%2C%20%5B40.78136%2C%20-73.98225%5D%2C%20%5B40.69105%2C%20-73.95881999999997%5D%2C%20%5B40.71936%2C%20-73.96181%5D%2C%20%5B40.69071%2C%20-73.97057%5D%2C%20%5B40.67436%2C%20-73.9551%5D%2C%20%5B40.64324000000001%2C%20-73.96332%5D%2C%20%5B40.68333%2C%20-73.99369%5D%2C%20%5B40.8063%2C%20-73.9558%5D%2C%20%5B40.77694%2C%20-73.94994%5D%2C%20%5B40.74547000000001%2C%20-73.87746%5D%2C%20%5B40.75451%2C%20-73.96348%5D%2C%20%5B40.74513%2C%20-73.98475%5D%2C%20%5B40.70057%2C%20-73.91414%5D%2C%20%5B40.67726%2C%20-73.94179%5D%2C%20%5B40.72068%2C%20-73.99291%5D%2C%20%5B40.7443%2C%20-73.99056%5D%2C%20%5B40.76413%2C%20-73.99301%5D%2C%20%5B40.68743%2C%20-73.94451%5D%2C%20%5B40.71776%2C%20-73.94538%5D%2C%20%5B40.75751%2C%20-73.96464%5D%2C%20%5B40.71863%2C%20-73.94575%5D%2C%20%5B40.73261%2C%20-73.98398%5D%2C%20%5B40.74337%2C%20-73.99423%5D%2C%20%5B40.77602%2C%20-73.95062%5D%2C%20%5B40.6877%2C%20-73.9159%5D%2C%20%5B40.63285%2C%20-73.97483000000003%5D%2C%20%5B40.72848%2C%20-74.0012%5D%2C%20%5B40.75249%2C%20-73.9689%5D%2C%20%5B40.75001%2C%20-73.97573%5D%2C%20%5B40.69405%2C%20-73.86693000000002%5D%2C%20%5B40.75725%2C%20-73.9959%5D%2C%20%5B40.73847%2C%20-74.0062%5D%2C%20%5B40.71574%2C%20-73.99107%5D%2C%20%5B40.77594000000001%2C%20-73.91786%5D%2C%20%5B40.75926%2C%20-73.99304000000002%5D%2C%20%5B40.77362%2C%20-73.99133%5D%2C%20%5B40.74169000000001%2C%20-73.99723%5D%2C%20%5B40.76463%2C%20-73.98111999999998%5D%2C%20%5B40.73193%2C%20-73.74481%5D%2C%20%5B40.74226%2C%20-74.00601999999998%5D%2C%20%5B40.70234%2C%20-73.89816%5D%2C%20%5B40.73666%2C%20-73.9796%5D%2C%20%5B40.64283%2C%20-73.99416%5D%2C%20%5B40.75283%2C%20-73.82561%5D%2C%20%5B40.80121%2C%20-73.96276999999998%5D%2C%20%5B40.76889%2C%20-73.9548%5D%2C%20%5B40.6967%2C%20-73.97622%5D%2C%20%5B40.80545%2C%20-73.93838000000002%5D%2C%20%5B40.71007%2C%20-73.81483%5D%2C%20%5B40.66165%2C%20-73.92536%5D%2C%20%5B40.74722%2C%20-73.9186%5D%2C%20%5B40.71764%2C%20-73.76402%5D%2C%20%5B40.67613%2C%20-73.97095%5D%2C%20%5B40.72541%2C%20-73.98398%5D%2C%20%5B40.80245%2C%20-73.94426%5D%2C%20%5B40.72276%2C%20-73.98741%5D%2C%20%5B40.80461%2C%20-73.92276%5D%2C%20%5B40.74865%2C%20-73.9753%5D%2C%20%5B40.82803%2C%20-73.94731%5D%2C%20%5B40.75414%2C%20-73.81536%5D%2C%20%5B40.73945%2C%20-73.98543000000002%5D%2C%20%5B40.68497%2C%20-73.98899999999998%5D%2C%20%5B40.57891%2C%20-73.95388%5D%2C%20%5B40.75974%2C%20-73.98623%5D%2C%20%5B40.74632%2C%20-73.94799%5D%2C%20%5B40.84626%2C%20-73.90473%5D%2C%20%5B40.76642%2C%20-73.98621%5D%2C%20%5B40.75991%2C%20-73.96105%5D%2C%20%5B40.68884%2C%20-73.9733%5D%2C%20%5B40.74433%2C%20-73.97868000000003%5D%2C%20%5B40.6916%2C%20-73.94538%5D%2C%20%5B40.71627%2C%20-73.93956999999997%5D%2C%20%5B40.65436%2C%20-73.96179000000002%5D%2C%20%5B40.70052%2C%20-73.75184%5D%2C%20%5B40.81253%2C%20-73.93952%5D%2C%20%5B40.67564%2C%20-73.95496999999997%5D%2C%20%5B40.73636%2C%20-73.95538%5D%2C%20%5B40.69126%2C%20-73.95285%5D%2C%20%5B40.73975%2C%20-73.98510999999998%5D%2C%20%5B40.7394%2C%20-73.99964%5D%2C%20%5B40.77298%2C%20-73.92461%5D%2C%20%5B40.81399%2C%20-73.95229%5D%2C%20%5B40.69411%2C%20-73.86877%5D%2C%20%5B40.69303%2C%20-73.95636%5D%2C%20%5B40.72116%2C%20-73.99124%5D%2C%20%5B40.74134%2C%20-73.98101%5D%2C%20%5B40.75686%2C%20-73.81326999999997%5D%2C%20%5B40.67662%2C%20-73.98642%5D%2C%20%5B40.74829%2C%20-73.98040999999998%5D%2C%20%5B40.75014%2C%20-73.97001%5D%2C%20%5B40.69096%2C%20-73.90528%5D%2C%20%5B40.72697%2C%20-73.98509%5D%2C%20%5B40.68616%2C%20-73.94295%5D%2C%20%5B40.67041%2C%20-73.9463%5D%2C%20%5B40.71016%2C%20-73.96076%5D%2C%20%5B40.6552%2C%20-73.96063000000002%5D%2C%20%5B40.76356%2C%20-73.96082%5D%2C%20%5B40.7099%2C%20-73.9649%5D%2C%20%5B40.7106%2C%20-73.96531999999998%5D%2C%20%5B40.82546%2C%20-73.95291999999998%5D%2C%20%5B40.70296%2C%20-73.94086%5D%2C%20%5B40.74811%2C%20-73.97868000000003%5D%2C%20%5B40.72657%2C%20-73.98135%5D%2C%20%5B40.62903%2C%20-73.89761999999997%5D%2C%20%5B40.75544%2C%20-73.99721%5D%2C%20%5B40.72577%2C%20-73.98745%5D%2C%20%5B40.76354%2C%20-73.91789%5D%2C%20%5B40.72143%2C%20-73.8932%5D%2C%20%5B40.69542%2C%20-73.93258%5D%2C%20%5B40.69371%2C%20-73.94449%5D%2C%20%5B40.64749000000001%2C%20-73.97237%5D%2C%20%5B40.65877%2C%20-73.89631%5D%2C%20%5B40.76938%2C%20-73.98689%5D%2C%20%5B40.76687%2C%20-73.98644%5D%2C%20%5B40.75579000000001%2C%20-73.9652%5D%2C%20%5B40.70002%2C%20-73.89364%5D%2C%20%5B40.73491%2C%20-73.99231%5D%2C%20%5B40.74867%2C%20-73.96734000000002%5D%2C%20%5B40.62724%2C%20-73.93043%5D%2C%20%5B40.70992%2C%20-73.94698000000002%5D%2C%20%5B40.76029000000001%2C%20-73.99811%5D%2C%20%5B40.64844%2C%20-73.96726%5D%2C%20%5B40.73996%2C%20-73.98971999999998%5D%2C%20%5B40.73247%2C%20-73.98297%5D%2C%20%5B40.75705%2C%20-73.90697%5D%2C%20%5B40.79494%2C%20-73.96545%5D%2C%20%5B40.68398%2C%20-73.94179%5D%2C%20%5B40.71573%2C%20-73.93887%5D%2C%20%5B40.79943%2C%20-73.94386%5D%2C%20%5B40.72244%2C%20-73.98194000000002%5D%2C%20%5B40.62735%2C%20-73.95704%5D%2C%20%5B40.76769%2C%20-73.99405%5D%2C%20%5B40.67431%2C%20-73.94065%5D%2C%20%5B40.76591%2C%20-73.99493000000002%5D%2C%20%5B40.73971%2C%20-73.99611%5D%2C%20%5B40.8166%2C%20-73.9407%5D%2C%20%5B40.71947%2C%20-73.98638000000003%5D%2C%20%5B40.71281%2C%20-73.94246%5D%2C%20%5B40.74965%2C%20-73.89344%5D%2C%20%5B40.8229%2C%20-73.94287%5D%2C%20%5B40.65554%2C%20-73.9184%5D%2C%20%5B40.58056%2C%20-73.96313%5D%2C%20%5B40.81316%2C%20-73.95176%5D%2C%20%5B40.64569%2C%20-74.00784%5D%2C%20%5B40.66692000000001%2C%20-73.95205%5D%2C%20%5B40.73384%2C%20-73.99616%5D%2C%20%5B40.69012%2C%20-73.99221%5D%2C%20%5B40.83739%2C%20-73.91118%5D%2C%20%5B40.68396%2C%20-73.92872%5D%2C%20%5B40.72654%2C%20-73.86077%5D%2C%20%5B40.86975%2C%20-73.84669%5D%2C%20%5B40.70698%2C%20-73.91599000000002%5D%2C%20%5B40.65377%2C%20-73.95926999999998%5D%2C%20%5B40.60412%2C%20-73.75163%5D%2C%20%5B40.75362%2C%20-73.97332%5D%2C%20%5B40.66203%2C%20-73.7698%5D%2C%20%5B40.73061%2C%20-73.98335%5D%2C%20%5B40.74385%2C%20-73.97669%5D%2C%20%5B40.74481%2C%20-73.91671%5D%2C%20%5B40.80298%2C%20-73.95375%5D%2C%20%5B40.7904%2C%20-73.94785%5D%2C%20%5B40.70887000000001%2C%20-73.92154000000002%5D%2C%20%5B40.75909%2C%20-73.96398%5D%2C%20%5B40.71475%2C%20-73.99257%5D%2C%20%5B40.73218%2C%20-73.98815%5D%2C%20%5B40.73286%2C%20-73.95085999999998%5D%2C%20%5B40.79949000000001%2C%20-73.93531%5D%2C%20%5B40.68254%2C%20-73.99207%5D%2C%20%5B40.7617%2C%20-73.99762%5D%2C%20%5B40.75511%2C%20-73.99531999999998%5D%2C%20%5B40.75982%2C%20-73.98662%5D%2C%20%5B40.78065%2C%20-73.98253000000003%5D%2C%20%5B40.73328%2C%20-73.99431%5D%2C%20%5B40.69137%2C%20-73.96723%5D%2C%20%5B40.81393%2C%20-73.93632%5D%2C%20%5B40.62978%2C%20-73.96207%5D%2C%20%5B40.72105%2C%20-73.9814%5D%2C%20%5B40.76928%2C%20-73.94855%5D%2C%20%5B40.71976%2C%20-73.94234%5D%2C%20%5B40.74125%2C%20-73.99876%5D%2C%20%5B40.70966%2C%20-74.01644%5D%2C%20%5B40.70899%2C%20-73.82814%5D%2C%20%5B40.73708%2C%20-73.98826%5D%2C%20%5B40.76927%2C%20-73.98477%5D%2C%20%5B40.71872000000001%2C%20-73.96042%5D%2C%20%5B40.69622%2C%20-73.84634%5D%2C%20%5B40.6844%2C%20-73.74601%5D%2C%20%5B40.81698%2C%20-73.95259%5D%2C%20%5B40.65101%2C%20-73.95517%5D%2C%20%5B40.68508%2C%20-73.97393000000002%5D%2C%20%5B40.69379%2C%20-73.94384000000002%5D%2C%20%5B40.75631%2C%20-73.90199%5D%2C%20%5B40.70126%2C%20-73.92076999999998%5D%2C%20%5B40.71089%2C%20-73.99671%5D%2C%20%5B40.59546%2C%20-74.06092%5D%2C%20%5B40.72632%2C%20-74.00749%5D%2C%20%5B40.67089%2C%20-73.93323000000002%5D%2C%20%5B40.76144%2C%20-73.98849%5D%2C%20%5B40.74863%2C%20-73.9767%5D%2C%20%5B40.74758%2C%20-73.97329%5D%2C%20%5B40.70839%2C%20-73.9547%5D%2C%20%5B40.70375%2C%20-73.90342%5D%2C%20%5B40.74028%2C%20-73.83168%5D%2C%20%5B40.69107%2C%20-73.90604%5D%2C%20%5B40.72129%2C%20-74.0019%5D%2C%20%5B40.59384%2C%20-73.79392%5D%2C%20%5B40.63416%2C%20-74.00721999999998%5D%2C%20%5B40.77133%2C%20-73.92119%5D%2C%20%5B40.77183%2C%20-73.90973000000002%5D%2C%20%5B40.68647%2C%20-73.97531%5D%2C%20%5B40.6924%2C%20-73.91448000000003%5D%2C%20%5B40.72608%2C%20-73.82038%5D%2C%20%5B40.75359%2C%20-73.97305%5D%2C%20%5B40.75655%2C%20-73.9969%5D%2C%20%5B40.76212%2C%20-73.9981%5D%2C%20%5B40.80778%2C%20-73.94762%5D%2C%20%5B40.80487%2C%20-73.95752%5D%2C%20%5B40.75584%2C%20-73.99559%5D%2C%20%5B40.67071%2C%20-73.95381%5D%2C%20%5B40.66199%2C%20-73.76345%5D%2C%20%5B40.67378%2C%20-73.98299%5D%2C%20%5B40.69854%2C%20-73.94554000000002%5D%2C%20%5B40.64588%2C%20-73.94960999999998%5D%2C%20%5B40.6726%2C%20-73.98195%5D%2C%20%5B40.76447%2C%20-73.9816%5D%2C%20%5B40.70114%2C%20-73.91879%5D%2C%20%5B40.7008%2C%20-73.9394%5D%2C%20%5B40.75539000000001%2C%20-73.83203%5D%2C%20%5B40.82802%2C%20-73.94481999999998%5D%2C%20%5B40.72076%2C%20-73.9885%5D%2C%20%5B40.71082%2C%20-74.0176%5D%2C%20%5B40.82391%2C%20-73.93881%5D%2C%20%5B40.72052%2C%20-74.00365%5D%2C%20%5B40.69471%2C%20-73.90687%5D%2C%20%5B40.69148%2C%20-73.94994%5D%2C%20%5B40.68633%2C%20-73.97164000000002%5D%2C%20%5B40.70751%2C%20-73.9467%5D%2C%20%5B40.80483%2C%20-73.95553000000002%5D%2C%20%5B40.68695%2C%20-73.95427%5D%2C%20%5B40.74438%2C%20-74.00178000000002%5D%2C%20%5B40.70508%2C%20-73.90217%5D%2C%20%5B40.84258%2C%20-73.93789%5D%2C%20%5B40.80249%2C%20-73.96729%5D%2C%20%5B40.71434%2C%20-73.9398%5D%2C%20%5B40.74872%2C%20-73.97700999999998%5D%2C%20%5B40.81308%2C%20-73.95993%5D%2C%20%5B40.71577%2C%20-73.9553%5D%2C%20%5B40.70668%2C%20-74.00913%5D%2C%20%5B40.72628%2C%20-73.97952%5D%2C%20%5B40.80464%2C%20-73.92575%5D%2C%20%5B40.70937%2C%20-74.00531%5D%2C%20%5B40.78193%2C%20-73.94884%5D%2C%20%5B40.71294%2C%20-73.96224000000002%5D%2C%20%5B40.67843%2C%20-73.98393%5D%2C%20%5B40.6626%2C%20-73.76349%5D%2C%20%5B40.86531%2C%20-73.92725%5D%2C%20%5B40.70218%2C%20-73.91005%5D%2C%20%5B40.70051%2C%20-73.92204%5D%2C%20%5B40.71467%2C%20-73.98985%5D%2C%20%5B40.6627%2C%20-73.95875%5D%2C%20%5B40.6746%2C%20-73.94651999999998%5D%2C%20%5B40.72842%2C%20-73.9421%5D%2C%20%5B40.6958%2C%20-73.91362%5D%2C%20%5B40.76085%2C%20-73.99221999999997%5D%2C%20%5B40.63975%2C%20-74.07774%5D%2C%20%5B40.68952%2C%20-73.90919%5D%2C%20%5B40.58721%2C%20-73.96018000000002%5D%2C%20%5B40.69088%2C%20-73.95018%5D%2C%20%5B40.74855%2C%20-73.98019000000002%5D%2C%20%5B40.75129%2C%20-73.9698%5D%2C%20%5B40.82952%2C%20-73.82818%5D%2C%20%5B40.69268%2C%20-73.95575%5D%2C%20%5B40.72994%2C%20-73.86986999999998%5D%2C%20%5B40.72435%2C%20-73.95154000000002%5D%2C%20%5B40.66872%2C%20-73.79417%5D%2C%20%5B40.72064%2C%20-73.83746%5D%2C%20%5B40.66592%2C%20-73.99434000000002%5D%2C%20%5B40.69464%2C%20-73.95259%5D%2C%20%5B40.69324%2C%20-73.93217%5D%2C%20%5B40.74786%2C%20-73.93889%5D%2C%20%5B40.70481%2C%20-74.00805%5D%2C%20%5B40.77067%2C%20-73.78278%5D%2C%20%5B40.79507%2C%20-73.97568000000003%5D%2C%20%5B40.65045%2C%20-73.74596%5D%2C%20%5B40.68538%2C%20-73.94637%5D%2C%20%5B40.72546%2C%20-74.00036%5D%2C%20%5B40.75024000000001%2C%20-73.99686%5D%2C%20%5B40.67852%2C%20-73.97308000000002%5D%2C%20%5B40.64214000000001%2C%20-73.99237%5D%2C%20%5B40.71634%2C%20-74.00505%5D%2C%20%5B40.69313%2C%20-73.95533%5D%2C%20%5B40.75637%2C%20-73.96338%5D%2C%20%5B40.69684%2C%20-73.92241%5D%2C%20%5B40.74952%2C%20-73.99671%5D%2C%20%5B40.71286%2C%20-73.95648%5D%2C%20%5B40.69437%2C%20-73.94519%5D%2C%20%5B40.72804%2C%20-73.98867%5D%2C%20%5B40.74729%2C%20-74.00244%5D%2C%20%5B40.67978%2C%20-73.96231%5D%2C%20%5B40.80517%2C%20-73.95404%5D%2C%20%5B40.70789%2C%20-73.83333%5D%2C%20%5B40.64431%2C%20-74.00016%5D%2C%20%5B40.70969%2C%20-74.00575%5D%2C%20%5B40.86816%2C%20-73.93131%5D%2C%20%5B40.77441%2C%20-73.93641%5D%2C%20%5B40.67981%2C%20-73.97967%5D%2C%20%5B40.66714%2C%20-73.77664%5D%2C%20%5B40.72713%2C%20-73.95509%5D%2C%20%5B40.71886%2C%20-73.98496999999998%5D%2C%20%5B40.80439000000001%2C%20-73.96755%5D%2C%20%5B40.71212%2C%20-73.95888000000002%5D%2C%20%5B40.63655%2C%20-73.91065%5D%2C%20%5B40.7739%2C%20-73.94782%5D%2C%20%5B40.74538%2C%20-73.98313%5D%2C%20%5B40.82622%2C%20-73.93489%5D%2C%20%5B40.76501%2C%20-73.98076%5D%2C%20%5B40.75549%2C%20-73.97149%5D%2C%20%5B40.80625%2C%20-73.94694%5D%2C%20%5B40.6885%2C%20-73.99526%5D%2C%20%5B40.79733%2C%20-73.9363%5D%2C%20%5B40.80815%2C%20-73.94325%5D%2C%20%5B40.64189%2C%20-73.99356999999998%5D%2C%20%5B40.70247%2C%20-73.92061%5D%2C%20%5B40.8349%2C%20-73.94829%5D%2C%20%5B40.71947%2C%20-73.98581%5D%2C%20%5B40.6339%2C%20-74.03049%5D%2C%20%5B40.801%2C%20-73.94009%5D%2C%20%5B40.72152%2C%20-73.97999%5D%2C%20%5B40.65719%2C%20-73.95421%5D%2C%20%5B40.67639000000001%2C%20-73.94714%5D%2C%20%5B40.72846%2C%20-73.95033000000002%5D%2C%20%5B40.77068%2C%20-73.98674%5D%2C%20%5B40.71028%2C%20-73.96128%5D%2C%20%5B40.7151%2C%20-73.98661%5D%2C%20%5B40.73249000000001%2C%20-73.9887%5D%2C%20%5B40.76142%2C%20-73.96493000000002%5D%2C%20%5B40.72047%2C%20-74.00049%5D%2C%20%5B40.69347%2C%20-73.90703%5D%2C%20%5B40.78866%2C%20-73.94941%5D%2C%20%5B40.68402%2C%20-73.94164%5D%2C%20%5B40.80761%2C%20-73.94305%5D%2C%20%5B40.75546%2C%20-73.99582%5D%2C%20%5B40.75335%2C%20-73.99525%5D%2C%20%5B40.70567%2C%20-73.92359%5D%2C%20%5B40.67546%2C%20-73.97528%5D%2C%20%5B40.6717%2C%20-73.93593%5D%2C%20%5B40.76145%2C%20-73.98555999999998%5D%2C%20%5B40.58092%2C%20-73.96139000000002%5D%2C%20%5B40.68548%2C%20-73.93145%5D%2C%20%5B40.7708%2C%20-73.90035999999998%5D%2C%20%5B40.75736%2C%20-73.92161999999998%5D%2C%20%5B40.69313%2C%20-73.93543000000003%5D%2C%20%5B40.76908%2C%20-73.98483%5D%2C%20%5B40.74271%2C%20-73.92493%5D%2C%20%5B40.75435%2C%20-73.99744%5D%2C%20%5B40.71263%2C%20-73.9581%5D%2C%20%5B40.73859%2C%20-73.78891%5D%2C%20%5B40.74743%2C%20-73.99136%5D%2C%20%5B40.75943%2C%20-74.00018%5D%2C%20%5B40.71577%2C%20-73.94604%5D%2C%20%5B40.75914%2C%20-73.83352%5D%2C%20%5B40.69468%2C%20-73.99327%5D%2C%20%5B40.64162%2C%20-73.90915%5D%2C%20%5B40.67201%2C%20-73.9593%5D%2C%20%5B40.76129%2C%20-73.9943%5D%2C%20%5B40.71257%2C%20-73.94946%5D%2C%20%5B40.67639000000001%2C%20-73.94785%5D%2C%20%5B40.7708%2C%20-73.93084%5D%2C%20%5B40.65931%2C%20-73.95371%5D%2C%20%5B40.69467%2C%20-73.93333%5D%2C%20%5B40.70855%2C%20-73.94991999999998%5D%2C%20%5B40.65926%2C%20-73.96252%5D%2C%20%5B40.69554%2C%20-73.92511%5D%2C%20%5B40.8667%2C%20-73.89115%5D%2C%20%5B40.76168%2C%20-73.9996%5D%2C%20%5B40.80485%2C%20-73.9581%5D%2C%20%5B40.80899%2C%20-73.94225%5D%2C%20%5B40.69097%2C%20-73.93611999999997%5D%2C%20%5B40.74562%2C%20-73.98538%5D%2C%20%5B40.68036%2C%20-73.99247%5D%2C%20%5B40.85264%2C%20-73.92976%5D%2C%20%5B40.69227%2C%20-73.92520999999998%5D%2C%20%5B40.71156%2C%20-73.95826%5D%2C%20%5B40.74942%2C%20-73.91490999999998%5D%2C%20%5B40.68206%2C%20-73.95441%5D%2C%20%5B40.76683%2C%20-73.96866999999997%5D%2C%20%5B40.75697%2C%20-73.96311999999998%5D%2C%20%5B40.76024%2C%20-73.97483000000003%5D%2C%20%5B40.66414%2C%20-73.98507%5D%2C%20%5B40.68908%2C%20-73.92893000000002%5D%2C%20%5B40.63275%2C%20-74.02946%5D%2C%20%5B40.74542%2C%20-73.98205%5D%2C%20%5B40.68172%2C%20-73.93236%5D%2C%20%5B40.86209%2C%20-73.84666999999997%5D%2C%20%5B40.74481%2C%20-74.00148%5D%2C%20%5B40.72547%2C%20-73.94595%5D%2C%20%5B40.67249%2C%20-73.8782%5D%2C%20%5B40.75918%2C%20-73.93299%5D%2C%20%5B40.64745%2C%20-73.96207%5D%2C%20%5B40.70774%2C%20-73.9445%5D%2C%20%5B40.68652%2C%20-73.91365%5D%2C%20%5B40.82655%2C%20-73.93943%5D%2C%20%5B40.74839%2C%20-73.97683%5D%2C%20%5B40.70259%2C%20-73.81415%5D%2C%20%5B40.69832%2C%20-73.92622%5D%2C%20%5B40.78099%2C%20-73.97416%5D%2C%20%5B40.71953%2C%20-74.00401%5D%2C%20%5B40.76297%2C%20-73.96252%5D%2C%20%5B40.75028%2C%20-73.97702%5D%2C%20%5B40.75358%2C%20-73.9919%5D%2C%20%5B40.6959%2C%20-73.84868%5D%2C%20%5B40.81384%2C%20-73.95315%5D%2C%20%5B40.76132%2C%20-73.99298%5D%2C%20%5B40.75873%2C%20-73.99041%5D%2C%20%5B40.69161%2C%20-73.76326%5D%2C%20%5B40.58017%2C%20-73.9616%5D%2C%20%5B40.74849%2C%20-73.97708%5D%2C%20%5B40.68831%2C%20-73.99159%5D%2C%20%5B40.73268%2C%20-74.00314%5D%2C%20%5B40.76549%2C%20-73.92934%5D%2C%20%5B40.73015%2C%20-73.98447%5D%2C%20%5B40.68766%2C%20-73.99125%5D%2C%20%5B40.87821%2C%20-73.86354%5D%2C%20%5B40.73661%2C%20-73.98706%5D%2C%20%5B40.80009%2C%20-73.96218%5D%2C%20%5B40.69128%2C%20-73.93653%5D%2C%20%5B40.72247%2C%20-73.98838%5D%2C%20%5B40.74825%2C%20-73.86395999999998%5D%2C%20%5B40.80731%2C%20-73.95155%5D%2C%20%5B40.76178%2C%20-73.96713000000003%5D%2C%20%5B40.72121%2C%20-73.9909%5D%2C%20%5B40.72207%2C%20-73.99750999999998%5D%2C%20%5B40.61193%2C%20-73.96259%5D%2C%20%5B40.72399%2C%20-73.87088%5D%2C%20%5B40.68674%2C%20-73.93375%5D%2C%20%5B40.76855%2C%20-73.92583%5D%2C%20%5B40.73763%2C%20-73.97368%5D%2C%20%5B40.75017%2C%20-73.97241%5D%2C%20%5B40.64992%2C%20-74.01169%5D%2C%20%5B40.71978%2C%20-74.00968%5D%2C%20%5B40.73879%2C%20-73.97994%5D%2C%20%5B40.69522%2C%20-73.94226%5D%2C%20%5B40.73741%2C%20-73.98096%5D%2C%20%5B40.73218%2C%20-73.88461%5D%2C%20%5B40.81916%2C%20-73.94561999999998%5D%2C%20%5B40.75376%2C%20-73.97131999999998%5D%2C%20%5B40.83148%2C%20-73.82930999999998%5D%2C%20%5B40.69325%2C%20-73.96732%5D%2C%20%5B40.742%2C%20-73.89505%5D%2C%20%5B40.74423%2C%20-73.97614%5D%2C%20%5B40.68545%2C%20-73.97572%5D%2C%20%5B40.87045%2C%20-73.9183%5D%2C%20%5B40.71423%2C%20-73.99441999999998%5D%2C%20%5B40.6582%2C%20-73.95275%5D%2C%20%5B40.76756%2C%20-73.96856%5D%2C%20%5B40.65986%2C%20-73.99684%5D%2C%20%5B40.60057000000001%2C%20-73.95154000000002%5D%2C%20%5B40.75008%2C%20-73.97655%5D%2C%20%5B40.63436%2C%20-73.96126%5D%2C%20%5B40.71662%2C%20-74.00352%5D%2C%20%5B40.67271%2C%20-73.89071%5D%2C%20%5B40.74144%2C%20-73.99984%5D%2C%20%5B40.74567%2C%20-73.91881%5D%2C%20%5B40.72193%2C%20-73.99379%5D%2C%20%5B40.72636%2C%20-73.98454%5D%2C%20%5B40.78833%2C%20-73.94888%5D%2C%20%5B40.80218%2C%20-73.95904%5D%2C%20%5B40.77079000000001%2C%20-73.95922%5D%2C%20%5B40.68338%2C%20-73.95289%5D%2C%20%5B40.74236%2C%20-74.00656%5D%2C%20%5B40.6824%2C%20-73.94245%5D%2C%20%5B40.69239%2C%20-73.91416%5D%2C%20%5B40.7109%2C%20-73.96478%5D%2C%20%5B40.8659%2C%20-73.92869%5D%2C%20%5B40.7647%2C%20-73.97452%5D%2C%20%5B40.72147%2C%20-73.98806%5D%2C%20%5B40.71603%2C%20-73.95432%5D%2C%20%5B40.72208%2C%20-73.98472%5D%2C%20%5B40.72789%2C%20-74.00275%5D%2C%20%5B40.75175%2C%20-73.97218000000002%5D%2C%20%5B40.74156%2C%20-73.97968%5D%2C%20%5B40.74259%2C%20-74.00128000000002%5D%2C%20%5B40.75418%2C%20-73.9664%5D%2C%20%5B40.67157%2C%20-73.9852%5D%2C%20%5B40.63794%2C%20-73.8988%5D%2C%20%5B40.74593%2C%20-73.98687%5D%2C%20%5B40.82151%2C%20-73.94516%5D%2C%20%5B40.66756%2C%20-73.95812%5D%2C%20%5B40.77902%2C%20-73.90768%5D%2C%20%5B40.74077%2C%20-73.98718000000002%5D%2C%20%5B40.68141%2C%20-73.95841%5D%2C%20%5B40.67435%2C%20-73.9891%5D%2C%20%5B40.68379%2C%20-73.9405%5D%2C%20%5B40.58387000000001%2C%20-73.93956999999997%5D%2C%20%5B40.81436%2C%20-73.95399%5D%2C%20%5B40.8347%2C%20-73.94856999999998%5D%2C%20%5B40.68988%2C%20-73.76308%5D%2C%20%5B40.74172%2C%20-73.99937%5D%2C%20%5B40.80255%2C%20-73.95347%5D%2C%20%5B40.76536%2C%20-73.98864%5D%2C%20%5B40.85099%2C%20-73.92822%5D%2C%20%5B40.73103%2C%20-73.98233%5D%2C%20%5B40.74633%2C%20-73.99201%5D%2C%20%5B40.77719%2C%20-73.9529%5D%2C%20%5B40.76367%2C%20-73.98345%5D%2C%20%5B40.80082%2C%20-73.9652%5D%2C%20%5B40.71812%2C%20-73.96404%5D%2C%20%5B40.6624%2C%20-73.9329%5D%2C%20%5B40.7351%2C%20-73.92526%5D%2C%20%5B40.79973%2C%20-73.95541%5D%2C%20%5B40.69945%2C%20-73.92148%5D%2C%20%5B40.76142%2C%20-73.99248%5D%2C%20%5B40.68882%2C%20-73.95194000000002%5D%2C%20%5B40.77598%2C%20-73.92251999999998%5D%2C%20%5B40.67907%2C%20-73.9498%5D%2C%20%5B40.80996%2C%20-73.94191%5D%2C%20%5B40.70037%2C%20-73.92820999999998%5D%2C%20%5B40.80273%2C%20-73.96386%5D%2C%20%5B40.83604%2C%20-73.93099000000002%5D%2C%20%5B40.70988%2C%20-73.80691%5D%2C%20%5B40.64517%2C%20-73.94843%5D%2C%20%5B40.76973%2C%20-73.9848%5D%2C%20%5B40.70305%2C%20-73.82687%5D%2C%20%5B40.82153%2C%20-73.94612%5D%2C%20%5B40.74362%2C%20-73.89158%5D%2C%20%5B40.74175%2C%20-73.97740999999998%5D%2C%20%5B40.67476%2C%20-73.94209000000002%5D%2C%20%5B40.74873%2C%20-73.97664%5D%2C%20%5B40.75073%2C%20-73.82052%5D%2C%20%5B40.77724%2C%20-73.97699%5D%2C%20%5B40.70504%2C%20-73.91868000000002%5D%2C%20%5B40.73609%2C%20-73.98595%5D%2C%20%5B40.69384%2C%20-73.99261%5D%2C%20%5B40.70204%2C%20-73.93027%5D%2C%20%5B40.80372%2C%20-73.95266%5D%2C%20%5B40.70316%2C%20-73.94914%5D%2C%20%5B40.74277%2C%20-74.00204000000002%5D%2C%20%5B40.6937%2C%20-73.94501%5D%2C%20%5B40.7249%2C%20-73.98852%5D%2C%20%5B40.8042%2C%20-73.95669000000002%5D%2C%20%5B40.70522%2C%20-73.75063%5D%2C%20%5B40.70267%2C%20-73.92751%5D%2C%20%5B40.73944%2C%20-73.92687%5D%2C%20%5B40.74033%2C%20-74.00872%5D%2C%20%5B40.75425%2C%20-73.98312%5D%2C%20%5B40.69331%2C%20-73.94918%5D%2C%20%5B40.75194000000001%2C%20-73.99501%5D%2C%20%5B40.76754%2C%20-73.96166%5D%2C%20%5B40.86203%2C%20-73.93037%5D%2C%20%5B40.70729%2C%20-73.93129%5D%2C%20%5B40.7593%2C%20-73.99229%5D%2C%20%5B40.76487%2C%20-73.98238%5D%2C%20%5B40.75066%2C%20-73.97036999999997%5D%2C%20%5B40.75344000000001%2C%20-73.97207%5D%2C%20%5B40.77958%2C%20-73.95025%5D%2C%20%5B40.81633%2C%20-73.96069%5D%2C%20%5B40.69566%2C%20-73.91611%5D%2C%20%5B40.70507%2C%20-73.80424000000002%5D%2C%20%5B40.76175%2C%20-73.95012%5D%2C%20%5B40.74771%2C%20-73.93684%5D%2C%20%5B40.69628%2C%20-73.92627%5D%2C%20%5B40.7665%2C%20-73.98943%5D%2C%20%5B40.69097%2C%20-73.92166%5D%2C%20%5B40.7771%2C%20-73.9495%5D%2C%20%5B40.68617%2C%20-73.95926999999998%5D%2C%20%5B40.69305%2C%20-73.93748000000002%5D%2C%20%5B40.67723%2C%20-73.95133%5D%2C%20%5B40.6821%2C%20-73.91632%5D%2C%20%5B40.66148%2C%20-73.93408000000002%5D%2C%20%5B40.69363%2C%20-73.94805%5D%2C%20%5B40.72997%2C%20-73.87183%5D%2C%20%5B40.7012%2C%20-73.90008%5D%2C%20%5B40.6931%2C%20-73.94043%5D%2C%20%5B40.69262%2C%20-73.95014%5D%2C%20%5B40.67001%2C%20-73.96197%5D%2C%20%5B40.68737%2C%20-73.95798%5D%2C%20%5B40.68919%2C%20-73.9335%5D%2C%20%5B40.74764%2C%20-73.81795%5D%2C%20%5B40.76041%2C%20-73.99495999999998%5D%2C%20%5B40.70416%2C%20-73.98999%5D%2C%20%5B40.88009%2C%20-73.83456%5D%2C%20%5B40.79595%2C%20-73.97251%5D%2C%20%5B40.74119%2C%20-73.99168%5D%2C%20%5B40.79933%2C%20-73.96794%5D%2C%20%5B40.68956%2C%20-73.93853%5D%2C%20%5B40.75972%2C%20-73.96021%5D%2C%20%5B40.73065%2C%20-73.98523%5D%2C%20%5B40.80497%2C%20-73.94152%5D%2C%20%5B40.76541%2C%20-73.98179%5D%2C%20%5B40.75654%2C%20-73.98891%5D%2C%20%5B40.66941%2C%20-73.93849%5D%2C%20%5B40.67856%2C%20-73.94483000000002%5D%2C%20%5B40.68398%2C%20-73.94515%5D%2C%20%5B40.6746%2C%20-73.9474%5D%2C%20%5B40.71858%2C%20-73.98968%5D%2C%20%5B40.70855%2C%20-73.95071999999998%5D%2C%20%5B40.85504%2C%20-73.93648%5D%2C%20%5B40.82575%2C%20-73.90993%5D%2C%20%5B40.68809%2C%20-73.87004%5D%2C%20%5B40.70379000000001%2C%20-74.00946%5D%2C%20%5B40.71588%2C%20-73.99099%5D%2C%20%5B40.81486%2C%20-73.95795%5D%2C%20%5B40.76341%2C%20-73.99306%5D%2C%20%5B40.7349%2C%20-74.0005%5D%2C%20%5B40.67564%2C%20-73.94798%5D%2C%20%5B40.85018%2C%20-73.9167%5D%2C%20%5B40.75328%2C%20-73.97211999999998%5D%2C%20%5B40.7235%2C%20-73.99096%5D%2C%20%5B40.70555%2C%20-73.82138%5D%2C%20%5B40.75132%2C%20-73.96925999999998%5D%2C%20%5B40.70754%2C%20-73.94151%5D%2C%20%5B40.69383%2C%20-73.94326%5D%2C%20%5B40.70375%2C%20-73.8304%5D%2C%20%5B40.67855%2C%20-73.8896%5D%2C%20%5B40.61363%2C%20-74.12151999999998%5D%2C%20%5B40.67855%2C%20-73.86961%5D%2C%20%5B40.68881%2C%20-73.92017%5D%2C%20%5B40.72706%2C%20-74.00476%5D%2C%20%5B40.71624%2C%20-73.99995%5D%2C%20%5B40.80274%2C%20-73.96459%5D%2C%20%5B40.65024%2C%20-73.95051%5D%2C%20%5B40.71627%2C%20-73.9587%5D%2C%20%5B40.70466%2C%20-73.92553000000002%5D%2C%20%5B40.71848%2C%20-73.94393000000002%5D%2C%20%5B40.76014%2C%20-73.82263%5D%2C%20%5B40.76045%2C%20-73.9981%5D%2C%20%5B40.74318%2C%20-73.97193%5D%2C%20%5B40.68323%2C%20-73.98643%5D%2C%20%5B40.76505%2C%20-73.90918%5D%2C%20%5B40.82748%2C%20-73.95083000000002%5D%2C%20%5B40.76042%2C%20-73.97504%5D%2C%20%5B40.81068%2C%20-73.94288%5D%2C%20%5B40.76943%2C%20-73.95608%5D%2C%20%5B40.67433%2C%20-73.94243%5D%2C%20%5B40.67944%2C%20-73.91635%5D%2C%20%5B40.68968%2C%20-73.95213000000003%5D%2C%20%5B40.64574%2C%20-73.90781%5D%2C%20%5B40.7559%2C%20-73.99469%5D%2C%20%5B40.81192%2C%20-73.90949%5D%2C%20%5B40.67568%2C%20-73.91809%5D%2C%20%5B40.7718%2C%20-73.99421%5D%2C%20%5B40.68694%2C%20-73.97435%5D%2C%20%5B40.71744%2C%20-73.99718%5D%2C%20%5B40.76287%2C%20-73.98073000000002%5D%2C%20%5B40.70953%2C%20-73.96445%5D%2C%20%5B40.84764000000001%2C%20-73.93875%5D%2C%20%5B40.68116%2C%20-73.94738000000002%5D%2C%20%5B40.73508%2C%20-74.00004%5D%2C%20%5B40.88688%2C%20-73.84789%5D%2C%20%5B40.71871%2C%20-73.96455999999998%5D%2C%20%5B40.72844%2C%20-73.98295999999998%5D%2C%20%5B40.83117%2C%20-73.94281%5D%2C%20%5B40.82437%2C%20-73.95177%5D%2C%20%5B40.80419000000001%2C%20-73.94792%5D%2C%20%5B40.75083%2C%20-73.97270999999998%5D%2C%20%5B40.61765%2C%20-74.03406%5D%2C%20%5B40.72232%2C%20-73.9434%5D%2C%20%5B40.76321%2C%20-73.98775%5D%2C%20%5B40.70343%2C%20-73.94894000000002%5D%2C%20%5B40.85719%2C%20-73.93573%5D%2C%20%5B40.72454000000001%2C%20-73.97836%5D%2C%20%5B40.71422000000001%2C%20-73.9484%5D%2C%20%5B40.72148%2C%20-73.98235%5D%2C%20%5B40.67324%2C%20-73.7957%5D%2C%20%5B40.67989%2C%20-73.97798%5D%2C%20%5B40.70757%2C%20-73.94466%5D%2C%20%5B40.86184%2C%20-73.92756999999997%5D%2C%20%5B40.69786%2C%20-73.91362%5D%2C%20%5B40.69501%2C%20-73.93363000000002%5D%2C%20%5B40.80686%2C%20-73.93822%5D%2C%20%5B40.68313%2C%20-73.96165%5D%2C%20%5B40.64538%2C%20-73.94863000000002%5D%2C%20%5B40.70591%2C%20-73.92916%5D%2C%20%5B40.56033%2C%20-74.18259%5D%2C%20%5B40.71953%2C%20-73.96401%5D%2C%20%5B40.74244%2C%20-73.99781%5D%2C%20%5B40.75954%2C%20-73.96099%5D%2C%20%5B40.74403%2C%20-73.92147%5D%2C%20%5B40.71494000000001%2C%20-73.94651999999998%5D%2C%20%5B40.7261%2C%20-73.72173000000002%5D%2C%20%5B40.82071%2C%20-73.95359%5D%2C%20%5B40.66999000000001%2C%20-73.94735%5D%2C%20%5B40.74029%2C%20-73.95926999999998%5D%2C%20%5B40.62398%2C%20-74.10801%5D%2C%20%5B40.72671%2C%20-73.97986%5D%2C%20%5B40.68494000000001%2C%20-73.9885%5D%2C%20%5B40.73599%2C%20-73.95604%5D%2C%20%5B40.6916%2C%20-73.73323%5D%2C%20%5B40.74103%2C%20-73.97451%5D%2C%20%5B40.68786%2C%20-73.95019%5D%2C%20%5B40.73223%2C%20-74.00489%5D%2C%20%5B40.82302%2C%20-73.94476999999998%5D%2C%20%5B40.78343%2C%20-73.9823%5D%2C%20%5B40.76515%2C%20-73.9847%5D%2C%20%5B40.77883%2C%20-73.95528%5D%2C%20%5B40.65743%2C%20-73.96155%5D%2C%20%5B40.68861%2C%20-73.95214%5D%2C%20%5B40.68183%2C%20-73.95045999999998%5D%2C%20%5B40.75023%2C%20-73.97664%5D%2C%20%5B40.73386%2C%20-74.00038%5D%2C%20%5B40.8395%2C%20-73.9447%5D%2C%20%5B40.84288%2C%20-73.94201%5D%2C%20%5B40.68736%2C%20-73.9564%5D%2C%20%5B40.70036%2C%20-73.90238000000002%5D%2C%20%5B40.69328%2C%20-73.92085%5D%2C%20%5B40.62345%2C%20-73.93001%5D%2C%20%5B40.80383%2C%20-73.96724%5D%2C%20%5B40.66745%2C%20-73.78156%5D%2C%20%5B40.65882%2C%20-73.92947%5D%2C%20%5B40.72146%2C%20-73.98279000000002%5D%2C%20%5B40.85116%2C%20-73.93457%5D%2C%20%5B40.73067%2C%20-73.955%5D%2C%20%5B40.74389%2C%20-73.99159%5D%2C%20%5B40.77179%2C%20-73.95585%5D%2C%20%5B40.69078%2C%20-73.90504%5D%2C%20%5B40.76394000000001%2C%20-73.97825%5D%2C%20%5B40.7668%2C%20-73.91917%5D%2C%20%5B40.71396%2C%20-73.99771%5D%2C%20%5B40.76236%2C%20-73.96642%5D%2C%20%5B40.76446%2C%20-73.98123000000002%5D%2C%20%5B40.68158%2C%20-73.7755%5D%2C%20%5B40.68975%2C%20-73.96724%5D%2C%20%5B40.86958%2C%20-73.9172%5D%2C%20%5B40.71185%2C%20-73.96292%5D%2C%20%5B40.73635%2C%20-73.95705%5D%2C%20%5B40.69001%2C%20-73.95136%5D%2C%20%5B40.79481%2C%20-73.96437%5D%2C%20%5B40.72269%2C%20-73.99101999999998%5D%2C%20%5B40.68771%2C%20-73.96186%5D%2C%20%5B40.76381%2C%20-73.93477%5D%2C%20%5B40.69255%2C%20-73.93915%5D%2C%20%5B40.683%2C%20-73.92345999999998%5D%2C%20%5B40.7061%2C%20-73.9115%5D%2C%20%5B40.82393%2C%20-73.95308%5D%2C%20%5B40.67152%2C%20-73.98991%5D%2C%20%5B40.7055%2C%20-74.00811999999998%5D%2C%20%5B40.76117%2C%20-73.93127%5D%2C%20%5B40.63979000000001%2C%20-73.90378%5D%2C%20%5B40.78623%2C%20-73.98146%5D%2C%20%5B40.86286%2C%20-73.9024%5D%2C%20%5B40.69902%2C%20-73.93101999999998%5D%2C%20%5B40.76433%2C%20-73.92192%5D%2C%20%5B40.68583%2C%20-73.90985%5D%2C%20%5B40.65943%2C%20-73.91939%5D%2C%20%5B40.65902%2C%20-73.73783%5D%2C%20%5B40.76045%2C%20-73.99929%5D%2C%20%5B40.8238%2C%20-73.94794%5D%2C%20%5B40.75382000000001%2C%20-73.87508000000003%5D%2C%20%5B40.67856%2C%20-74.01584%5D%2C%20%5B40.68347%2C%20-73.97971%5D%2C%20%5B40.68155%2C%20-73.98947%5D%2C%20%5B40.85548%2C%20-73.93741%5D%2C%20%5B40.70009%2C%20-73.90505%5D%2C%20%5B40.7309%2C%20-73.98671%5D%2C%20%5B40.88542%2C%20-73.86169%5D%2C%20%5B40.75882%2C%20-73.99168%5D%2C%20%5B40.70406%2C%20-73.95763000000002%5D%2C%20%5B40.68994%2C%20-73.95783%5D%2C%20%5B40.76982%2C%20-73.90254%5D%2C%20%5B40.72672%2C%20-73.97965%5D%2C%20%5B40.86705%2C%20-73.88545%5D%2C%20%5B40.82888%2C%20-73.94306999999998%5D%2C%20%5B40.76077%2C%20-74.0002%5D%2C%20%5B40.73246%2C%20-74.00215%5D%2C%20%5B40.7557%2C%20-73.99337%5D%2C%20%5B40.80519%2C%20-73.94974%5D%2C%20%5B40.6403%2C%20-73.94959%5D%2C%20%5B40.69272%2C%20-73.92067%5D%2C%20%5B40.69712%2C%20-73.98401%5D%2C%20%5B40.75491%2C%20-73.88313000000002%5D%2C%20%5B40.76393%2C%20-73.80895%5D%2C%20%5B40.68971%2C%20-73.96695%5D%2C%20%5B40.79118%2C%20-73.97091%5D%2C%20%5B40.71668%2C%20-73.94083%5D%2C%20%5B40.68355%2C%20-73.95702%5D%2C%20%5B40.6448%2C%20-73.99524%5D%2C%20%5B40.81486%2C%20-73.93941%5D%2C%20%5B40.76156%2C%20-73.98749000000002%5D%2C%20%5B40.71082%2C%20-73.95729%5D%2C%20%5B40.75008%2C%20-73.97752%5D%2C%20%5B40.67255%2C%20-73.94914%5D%2C%20%5B40.6809%2C%20-73.78196%5D%2C%20%5B40.68019%2C%20-73.98408%5D%2C%20%5B40.71691%2C%20-73.96302%5D%2C%20%5B40.7487%2C%20-73.97479%5D%2C%20%5B40.65454%2C%20-73.91885%5D%2C%20%5B40.72566%2C%20-74.00075%5D%2C%20%5B40.70659000000001%2C%20-74.00426%5D%2C%20%5B40.73334000000001%2C%20-73.85433%5D%2C%20%5B40.75432%2C%20-73.93521%5D%2C%20%5B40.8127%2C%20-73.96163%5D%2C%20%5B40.68963%2C%20-73.96713000000003%5D%2C%20%5B40.60985%2C%20-73.95926999999998%5D%2C%20%5B40.86737%2C%20-73.91877%5D%2C%20%5B40.7593%2C%20-73.95966999999997%5D%2C%20%5B40.80237%2C%20-73.9437%5D%2C%20%5B40.70862%2C%20-74.01408%5D%2C%20%5B40.69407%2C%20-73.94275%5D%2C%20%5B40.7016%2C%20-73.92103%5D%2C%20%5B40.7613%2C%20-73.92864%5D%2C%20%5B40.70103%2C%20-73.90613%5D%2C%20%5B40.78687%2C%20-73.97428000000002%5D%2C%20%5B40.70811%2C%20-73.74103000000002%5D%2C%20%5B40.81422%2C%20-73.95199000000002%5D%2C%20%5B40.78709%2C%20-73.97755%5D%2C%20%5B40.82415%2C%20-73.94113%5D%2C%20%5B40.71255%2C%20-73.93921999999998%5D%2C%20%5B40.76072%2C%20-73.98993%5D%2C%20%5B40.7172%2C%20-73.9889%5D%2C%20%5B40.66935%2C%20-73.9485%5D%2C%20%5B40.79099%2C%20-73.945%5D%2C%20%5B40.77111%2C%20-73.99128%5D%2C%20%5B40.74838%2C%20-73.98108%5D%2C%20%5B40.76124%2C%20-73.99611%5D%2C%20%5B40.7889%2C%20-73.94925%5D%2C%20%5B40.64571%2C%20-74.07835%5D%2C%20%5B40.71536%2C%20-73.96056999999998%5D%2C%20%5B40.74035%2C%20-73.87617%5D%2C%20%5B40.74525%2C%20-73.87626999999998%5D%2C%20%5B40.63743%2C%20-73.97229%5D%2C%20%5B40.77708%2C%20-73.98791%5D%2C%20%5B40.8546%2C%20-73.83026%5D%2C%20%5B40.74694%2C%20-74.0013%5D%2C%20%5B40.6944%2C%20-73.83192%5D%2C%20%5B40.69343%2C%20-73.99611%5D%2C%20%5B40.72069000000001%2C%20-73.95829%5D%2C%20%5B40.65681%2C%20-73.95931%5D%2C%20%5B40.75747%2C%20-73.80868000000002%5D%2C%20%5B40.82003%2C%20-73.95745%5D%2C%20%5B40.69075%2C%20-73.9677%5D%2C%20%5B40.74472%2C%20-73.99266%5D%2C%20%5B40.65514%2C%20-73.95956%5D%2C%20%5B40.71784%2C%20-73.95611%5D%2C%20%5B40.76527%2C%20-73.98139%5D%2C%20%5B40.74479%2C%20-73.91193%5D%2C%20%5B40.85488%2C%20-73.93194%5D%2C%20%5B40.78498%2C%20-73.97284%5D%2C%20%5B40.79971%2C%20-73.96075%5D%2C%20%5B40.69601%2C%20-73.97114%5D%2C%20%5B40.67627%2C%20-73.94775%5D%2C%20%5B40.68897%2C%20-73.98765%5D%2C%20%5B40.64225%2C%20-73.96425%5D%2C%20%5B40.79519000000001%2C%20-73.94543%5D%2C%20%5B40.73105%2C%20-74.00464000000002%5D%2C%20%5B40.72792000000001%2C%20-73.98507%5D%2C%20%5B40.79044%2C%20-73.97513000000002%5D%2C%20%5B40.70202000000001%2C%20-73.92402%5D%2C%20%5B40.73897%2C%20-73.99637%5D%2C%20%5B40.74457%2C%20-73.92307%5D%2C%20%5B40.74833%2C%20-73.90827%5D%2C%20%5B40.69127%2C%20-73.96563%5D%2C%20%5B40.73457%2C%20-73.87210999999998%5D%2C%20%5B40.75161%2C%20-73.97017%5D%2C%20%5B40.7548%2C%20-73.9965%5D%2C%20%5B40.8647%2C%20-73.92353%5D%2C%20%5B40.75372%2C%20-73.99332%5D%2C%20%5B40.69482%2C%20-73.91096%5D%2C%20%5B40.66112%2C%20-73.9539%5D%2C%20%5B40.75365%2C%20-73.97151%5D%2C%20%5B40.7751%2C%20-73.98148%5D%2C%20%5B40.77853%2C%20-73.90934%5D%2C%20%5B40.72712%2C%20-73.98233%5D%2C%20%5B40.70319%2C%20-73.8141%5D%2C%20%5B40.7094%2C%20-74.00278%5D%2C%20%5B40.68175%2C%20-73.93966%5D%2C%20%5B40.70757%2C%20-73.94247%5D%2C%20%5B40.77481%2C%20-73.95640999999998%5D%2C%20%5B40.73081%2C%20-73.95184%5D%2C%20%5B40.74814%2C%20-73.97554000000002%5D%2C%20%5B40.75686%2C%20-73.96723%5D%2C%20%5B40.69349%2C%20-73.91173%5D%2C%20%5B40.70807%2C%20-73.95681%5D%2C%20%5B40.67778%2C%20-73.9952%5D%2C%20%5B40.73652%2C%20-73.98618%5D%2C%20%5B40.7134%2C%20-73.96306%5D%2C%20%5B40.80761%2C%20-73.95841%5D%2C%20%5B40.66701%2C%20-73.93861%5D%2C%20%5B40.7311%2C%20-74.00014%5D%2C%20%5B40.67475%2C%20-73.99707%5D%2C%20%5B40.72705%2C%20-73.94033%5D%2C%20%5B40.79163%2C%20-73.94573000000003%5D%2C%20%5B40.73267%2C%20-74.00379000000002%5D%2C%20%5B40.76911%2C%20-73.95738%5D%2C%20%5B40.82006%2C%20-73.90332%5D%2C%20%5B40.70473%2C%20-74.01581999999998%5D%2C%20%5B40.76494%2C%20-73.95808000000002%5D%2C%20%5B40.73455%2C%20-73.99171%5D%2C%20%5B40.673%2C%20-73.98076%5D%2C%20%5B40.76465%2C%20-73.99499%5D%2C%20%5B40.67617%2C%20-73.96636%5D%2C%20%5B40.70599%2C%20-74.00503%5D%2C%20%5B40.86176%2C%20-73.93082%5D%2C%20%5B40.76031%2C%20-73.9739%5D%2C%20%5B40.68183%2C%20-73.96464%5D%2C%20%5B40.80192%2C%20-73.95827%5D%2C%20%5B40.6951%2C%20-73.91157%5D%2C%20%5B40.68732%2C%20-73.99245%5D%2C%20%5B40.72202%2C%20-73.98921999999997%5D%2C%20%5B40.64603%2C%20-73.94869%5D%2C%20%5B40.72329000000001%2C%20-73.93758000000003%5D%2C%20%5B40.67426%2C%20-73.87969%5D%2C%20%5B40.74461%2C%20-73.91514000000002%5D%2C%20%5B40.58599%2C%20-73.92761999999998%5D%2C%20%5B40.59475%2C%20-74.1637%5D%2C%20%5B40.63448%2C%20-74.00563000000002%5D%2C%20%5B40.74037%2C%20-74.00015%5D%2C%20%5B40.68217%2C%20-73.8723%5D%2C%20%5B40.69462%2C%20-73.96996%5D%2C%20%5B40.81666%2C%20-73.96074%5D%2C%20%5B40.65551%2C%20-73.93942%5D%2C%20%5B40.68497%2C%20-73.97986%5D%2C%20%5B40.75421%2C%20-73.96834%5D%2C%20%5B40.68622%2C%20-73.91026%5D%2C%20%5B40.72657%2C%20-73.98796%5D%2C%20%5B40.71339%2C%20-73.99115%5D%2C%20%5B40.72719%2C%20-73.86166%5D%2C%20%5B40.74306%2C%20-73.97843%5D%2C%20%5B40.71228%2C%20-73.9599%5D%2C%20%5B40.74724000000001%2C%20-74.00355%5D%2C%20%5B40.74832%2C%20-73.98125999999998%5D%2C%20%5B40.7087%2C%20-73.95940999999998%5D%2C%20%5B40.68989000000001%2C%20-73.95878%5D%2C%20%5B40.73032%2C%20-73.98469%5D%2C%20%5B40.68701%2C%20-73.91436999999998%5D%2C%20%5B40.75294%2C%20-73.9719%5D%2C%20%5B40.82148%2C%20-73.89121999999998%5D%2C%20%5B40.71203%2C%20-73.95241%5D%2C%20%5B40.7072%2C%20-73.92245%5D%2C%20%5B40.75862%2C%20-73.96840999999998%5D%2C%20%5B40.82958%2C%20-73.94184%5D%2C%20%5B40.74635%2C%20-73.94035%5D%2C%20%5B40.76703%2C%20-73.95553000000002%5D%2C%20%5B40.6541%2C%20-73.93834%5D%2C%20%5B40.74631%2C%20-73.99121%5D%2C%20%5B40.69223%2C%20-73.95141%5D%2C%20%5B40.73742%2C%20-73.87026999999998%5D%2C%20%5B40.73726%2C%20-73.89792%5D%2C%20%5B40.76917%2C%20-73.9516%5D%2C%20%5B40.68583%2C%20-73.98267%5D%2C%20%5B40.74415%2C%20-73.86545%5D%2C%20%5B40.81326%2C%20-73.96181%5D%2C%20%5B40.7282%2C%20-73.98066999999998%5D%2C%20%5B40.82774000000001%2C%20-73.95181%5D%2C%20%5B40.64426%2C%20-73.99385%5D%2C%20%5B40.67625%2C%20-73.97038%5D%2C%20%5B40.79473%2C%20-73.96744%5D%2C%20%5B40.69817000000001%2C%20-73.93776%5D%2C%20%5B40.74942%2C%20-73.93658%5D%2C%20%5B40.7645%2C%20-73.98862%5D%2C%20%5B40.6642%2C%20-73.99371%5D%2C%20%5B40.69078%2C%20-73.92166999999998%5D%2C%20%5B40.70824%2C%20-73.94423%5D%2C%20%5B40.74892%2C%20-73.88883%5D%2C%20%5B40.74409%2C%20-73.89864%5D%2C%20%5B40.64861%2C%20-73.94983%5D%2C%20%5B40.67293%2C%20-73.79554%5D%2C%20%5B40.70161%2C%20-73.92919%5D%2C%20%5B40.71406%2C%20-73.94965%5D%2C%20%5B40.67023%2C%20-73.9567%5D%2C%20%5B40.76407%2C%20-73.98868%5D%2C%20%5B40.70596%2C%20-73.93847%5D%2C%20%5B40.73341%2C%20-74.00444%5D%2C%20%5B40.73885%2C%20-73.87553%5D%2C%20%5B40.70436%2C%20-73.94123%5D%2C%20%5B40.71285%2C%20-73.87626999999998%5D%2C%20%5B40.6953%2C%20-73.95832%5D%2C%20%5B40.68581%2C%20-73.84642%5D%2C%20%5B40.80902%2C%20-73.9419%5D%2C%20%5B40.71363%2C%20-73.93615%5D%2C%20%5B40.72058%2C%20-73.98674%5D%2C%20%5B40.73769%2C%20-73.99025999999998%5D%2C%20%5B40.70565%2C%20-73.93518%5D%2C%20%5B40.68181%2C%20-74.00461999999997%5D%2C%20%5B40.61637%2C%20-73.92206%5D%2C%20%5B40.6716%2C%20-73.95846999999998%5D%2C%20%5B40.76142%2C%20-73.99431%5D%2C%20%5B40.83885%2C%20-73.94161%5D%2C%20%5B40.66459%2C%20-73.98553000000003%5D%2C%20%5B40.70728%2C%20-73.94413%5D%2C%20%5B40.72859%2C%20-73.97915%5D%2C%20%5B40.76371%2C%20-73.91784%5D%2C%20%5B40.76075%2C%20-73.99893%5D%2C%20%5B40.72478%2C%20-73.97771%5D%2C%20%5B40.74682%2C%20-73.97983%5D%2C%20%5B40.80069%2C%20-73.95340999999998%5D%2C%20%5B40.80724%2C%20-73.96677%5D%2C%20%5B40.71212%2C%20-73.94965%5D%2C%20%5B40.74344%2C%20-73.82642%5D%2C%20%5B40.66192%2C%20-73.96228%5D%2C%20%5B40.77029%2C%20-73.95812%5D%2C%20%5B40.8149%2C%20-73.81545%5D%2C%20%5B40.71775%2C%20-74.00607%5D%2C%20%5B40.69395%2C%20-73.95934%5D%2C%20%5B40.69309000000001%2C%20-73.93051%5D%2C%20%5B40.73099000000001%2C%20-73.956%5D%2C%20%5B40.81232%2C%20-73.90299%5D%2C%20%5B40.85213%2C%20-73.9336%5D%2C%20%5B40.76455%2C%20-73.99297%5D%2C%20%5B40.7755%2C%20-73.9475%5D%2C%20%5B40.78399%2C%20-73.9733%5D%2C%20%5B40.85333%2C%20-73.9305%5D%2C%20%5B40.76917%2C%20-73.98488%5D%2C%20%5B40.77671%2C%20-73.90543000000002%5D%2C%20%5B40.74883%2C%20-73.9752%5D%2C%20%5B40.72997%2C%20-73.86523000000003%5D%2C%20%5B40.67473%2C%20-73.94494%5D%2C%20%5B40.62992%2C%20-74.01753000000002%5D%2C%20%5B40.75524%2C%20-73.96382%5D%2C%20%5B40.79755%2C%20-73.93614000000002%5D%2C%20%5B40.76053%2C%20-73.99809%5D%2C%20%5B40.72485%2C%20-73.98422%5D%2C%20%5B40.7832%2C%20-73.98189%5D%2C%20%5B40.85359%2C%20-73.92981999999998%5D%2C%20%5B40.71369%2C%20-73.96625999999998%5D%2C%20%5B40.70258%2C%20-73.8151%5D%2C%20%5B40.72157%2C%20-73.94001999999998%5D%2C%20%5B40.73291%2C%20-73.95281999999997%5D%2C%20%5B40.66155%2C%20-73.73064000000002%5D%2C%20%5B40.64476%2C%20-73.96473%5D%2C%20%5B40.74057%2C%20-74.00263000000002%5D%2C%20%5B40.68849%2C%20-73.9956%5D%2C%20%5B40.71883%2C%20-73.98957%5D%2C%20%5B40.65401%2C%20-73.92013%5D%2C%20%5B40.71483%2C%20-73.99287%5D%2C%20%5B40.70571%2C%20-74.01031%5D%2C%20%5B40.68305%2C%20-73.97503%5D%2C%20%5B40.67681%2C%20-73.97535%5D%2C%20%5B40.74408%2C%20-73.97803%5D%2C%20%5B40.76384%2C%20-73.92023%5D%2C%20%5B40.71813%2C%20-73.99063000000002%5D%2C%20%5B40.75518%2C%20-73.96306%5D%2C%20%5B40.68237%2C%20-73.9415%5D%2C%20%5B40.82315%2C%20-73.94094%5D%2C%20%5B40.8258%2C%20-73.94405%5D%2C%20%5B40.72591%2C%20-74.00395999999998%5D%2C%20%5B40.72664%2C%20-73.85884%5D%2C%20%5B40.70154%2C%20-73.90751999999998%5D%2C%20%5B40.76082%2C%20-73.99937%5D%2C%20%5B40.76509%2C%20-73.99508%5D%2C%20%5B40.70853%2C%20-74.01436%5D%2C%20%5B40.71222%2C%20-73.93983%5D%2C%20%5B40.70428%2C%20-73.81353%5D%2C%20%5B40.80221%2C%20-73.96677%5D%2C%20%5B40.71832%2C%20-73.95566%5D%2C%20%5B40.77192%2C%20-73.95369000000002%5D%2C%20%5B40.72859%2C%20-73.98008%5D%2C%20%5B40.69498%2C%20-73.90698%5D%2C%20%5B40.76536%2C%20-73.98469%5D%2C%20%5B40.76549%2C%20-73.98581999999998%5D%2C%20%5B40.76578%2C%20-73.86424%5D%2C%20%5B40.79487%2C%20-73.96304%5D%2C%20%5B40.80108%2C%20-73.94601999999998%5D%2C%20%5B40.81503%2C%20-73.94341%5D%2C%20%5B40.76216%2C%20-73.94109%5D%2C%20%5B40.67388%2C%20-73.96709%5D%2C%20%5B40.76417%2C%20-73.92815999999998%5D%2C%20%5B40.76085%2C%20-73.96627%5D%2C%20%5B40.76717%2C%20-73.90994%5D%2C%20%5B40.6923%2C%20-73.9328%5D%2C%20%5B40.68666%2C%20-73.94739%5D%2C%20%5B40.8014%2C%20-73.9578%5D%2C%20%5B40.73451%2C%20-74.00746%5D%2C%20%5B40.69566%2C%20-73.90687%5D%2C%20%5B40.80885%2C%20-73.95022%5D%2C%20%5B40.82434%2C%20-73.93956999999997%5D%2C%20%5B40.74526%2C%20-73.97679000000002%5D%2C%20%5B40.76227%2C%20-73.99807%5D%2C%20%5B40.72478%2C%20-73.98297%5D%2C%20%5B40.71546%2C%20-73.87854%5D%2C%20%5B40.67063%2C%20-73.9337%5D%2C%20%5B40.73711%2C%20-73.98985%5D%2C%20%5B40.75611%2C%20-73.99387%5D%2C%20%5B40.58186%2C%20-73.9602%5D%2C%20%5B40.79428%2C%20-73.94433000000002%5D%2C%20%5B40.65678%2C%20-73.95154000000002%5D%2C%20%5B40.76283%2C%20-73.99331%5D%2C%20%5B40.69839%2C%20-73.98758000000002%5D%2C%20%5B40.73995%2C%20-73.98401%5D%2C%20%5B40.60733%2C%20-73.95322%5D%2C%20%5B40.79446%2C%20-73.96655%5D%2C%20%5B40.7149%2C%20-73.93983%5D%2C%20%5B40.70788%2C%20-73.93889%5D%2C%20%5B40.74258%2C%20-73.9031%5D%2C%20%5B40.73448%2C%20-73.95716%5D%2C%20%5B40.66568%2C%20-73.94176%5D%2C%20%5B40.86794%2C%20-73.91629%5D%2C%20%5B40.73866%2C%20-73.98321999999997%5D%2C%20%5B40.7464%2C%20-73.97986999999998%5D%2C%20%5B40.6953%2C%20-73.94391999999998%5D%2C%20%5B40.65846%2C%20-73.95057%5D%2C%20%5B40.72124%2C%20-73.95846999999998%5D%2C%20%5B40.66455%2C%20-73.99205%5D%2C%20%5B40.70853%2C%20-73.95249%5D%2C%20%5B40.69062%2C%20-73.92265%5D%2C%20%5B40.74748%2C%20-73.8647%5D%2C%20%5B40.6478%2C%20-73.96091%5D%2C%20%5B40.80702%2C%20-73.95334%5D%2C%20%5B40.66557%2C%20-73.98044%5D%2C%20%5B40.78327%2C%20-73.97343000000002%5D%2C%20%5B40.63314%2C%20-74.006%5D%2C%20%5B40.68862%2C%20-73.95572%5D%2C%20%5B40.8532%2C%20-73.93225%5D%2C%20%5B40.70358%2C%20-73.98316%5D%2C%20%5B40.80491%2C%20-73.96339%5D%2C%20%5B40.69615%2C%20-73.93302%5D%2C%20%5B40.71497%2C%20-73.96433%5D%2C%20%5B40.76106%2C%20-73.98574%5D%2C%20%5B40.69232%2C%20-73.94966%5D%2C%20%5B40.6462%2C%20-73.96114%5D%2C%20%5B40.74864%2C%20-73.971%5D%2C%20%5B40.74209000000001%2C%20-73.92591999999998%5D%2C%20%5B40.71695%2C%20-73.93847%5D%2C%20%5B40.69142%2C%20-73.92472%5D%2C%20%5B40.82867%2C%20-73.94561%5D%2C%20%5B40.77548%2C%20-73.95183%5D%2C%20%5B40.77162%2C%20-73.92626%5D%2C%20%5B40.71883%2C%20-74.00357%5D%2C%20%5B40.64513%2C%20-73.94944%5D%2C%20%5B40.72727%2C%20-73.93986%5D%2C%20%5B40.76955%2C%20-73.95988%5D%2C%20%5B40.78019000000001%2C%20-73.95857%5D%2C%20%5B40.66555%2C%20-73.95496999999997%5D%2C%20%5B40.67172%2C%20-73.79669%5D%2C%20%5B40.71269%2C%20-73.98713000000002%5D%2C%20%5B40.62862%2C%20-73.92629000000002%5D%2C%20%5B40.64116%2C%20-73.95991%5D%2C%20%5B40.82899000000001%2C%20-73.95024000000002%5D%2C%20%5B40.67061%2C%20-73.9904%5D%2C%20%5B40.7256%2C%20-73.98478%5D%2C%20%5B40.74715%2C%20-73.91104%5D%2C%20%5B40.68969%2C%20-73.96682%5D%2C%20%5B40.64434%2C%20-73.9504%5D%2C%20%5B40.65345%2C%20-73.95476%5D%2C%20%5B40.66051%2C%20-73.92964%5D%2C%20%5B40.7557%2C%20-73.81237%5D%2C%20%5B40.85261%2C%20-73.94203%5D%2C%20%5B40.64932%2C%20-73.98018%5D%2C%20%5B40.8072%2C%20-73.94383%5D%2C%20%5B40.75162%2C%20-73.9732%5D%2C%20%5B40.75453%2C%20-73.96473%5D%2C%20%5B40.7534%2C%20-73.97283%5D%2C%20%5B40.66442%2C%20-73.99047%5D%2C%20%5B40.73612%2C%20-74.00591%5D%2C%20%5B40.72044%2C%20-73.9998%5D%2C%20%5B40.84365%2C%20-73.93982%5D%2C%20%5B40.72772%2C%20-73.98046%5D%2C%20%5B40.68082%2C%20-73.92161999999998%5D%2C%20%5B40.7619%2C%20-73.99896%5D%2C%20%5B40.76795%2C%20-73.98432%5D%2C%20%5B40.6797%2C%20-73.94360999999998%5D%2C%20%5B40.69608%2C%20-73.9121%5D%2C%20%5B40.66151%2C%20-73.9455%5D%2C%20%5B40.70022%2C%20-73.91441%5D%2C%20%5B40.67181%2C%20-73.79621999999998%5D%2C%20%5B40.72373%2C%20-73.94088%5D%2C%20%5B40.72088%2C%20-73.98149000000002%5D%2C%20%5B40.67743%2C%20-73.95523%5D%2C%20%5B40.71383%2C%20-73.96289%5D%2C%20%5B40.6989%2C%20-73.92904%5D%2C%20%5B40.69299%2C%20-73.95675%5D%2C%20%5B40.72131%2C%20-73.99816%5D%2C%20%5B40.7506%2C%20-74.00388000000002%5D%2C%20%5B40.73872%2C%20-73.92678000000002%5D%2C%20%5B40.62896%2C%20-73.97494%5D%2C%20%5B40.75164%2C%20-73.99425%5D%2C%20%5B40.69393%2C%20-73.957%5D%2C%20%5B40.85719%2C%20-73.93048%5D%2C%20%5B40.79037%2C%20-73.9458%5D%2C%20%5B40.6774%2C%20-73.95133%5D%2C%20%5B40.71111%2C%20-73.96299%5D%2C%20%5B40.77707%2C%20-73.91887%5D%2C%20%5B40.72668%2C%20-74.00251999999998%5D%2C%20%5B40.79936%2C%20-73.96243%5D%2C%20%5B40.75058%2C%20-73.97746%5D%2C%20%5B40.68059%2C%20-73.95848000000002%5D%2C%20%5B40.71948%2C%20-74.00516999999998%5D%2C%20%5B40.80555%2C%20-73.95706%5D%2C%20%5B40.66514%2C%20-73.99016999999998%5D%2C%20%5B40.68776%2C%20-73.95379%5D%2C%20%5B40.78348%2C%20-73.98383000000003%5D%2C%20%5B40.74877%2C%20-73.977%5D%2C%20%5B40.66316%2C%20-73.74804%5D%2C%20%5B40.72625%2C%20-74.00199%5D%2C%20%5B40.79073%2C%20-73.94669%5D%2C%20%5B40.73269000000001%2C%20-73.8584%5D%2C%20%5B40.74454%2C%20-73.94015999999998%5D%2C%20%5B40.71078%2C%20-73.96905%5D%2C%20%5B40.76213%2C%20-73.99972%5D%2C%20%5B40.72408%2C%20-73.93952%5D%2C%20%5B40.69068%2C%20-73.91418%5D%2C%20%5B40.79833%2C%20-73.93781%5D%2C%20%5B40.7723%2C%20-73.98222%5D%2C%20%5B40.63052%2C%20-73.97161%5D%2C%20%5B40.71373%2C%20-73.94958000000003%5D%2C%20%5B40.70445%2C%20-73.94491%5D%2C%20%5B40.70915%2C%20-73.96479000000002%5D%2C%20%5B40.81691%2C%20-73.94251%5D%2C%20%5B40.69155%2C%20-73.90595%5D%2C%20%5B40.7337%2C%20-73.88363000000003%5D%2C%20%5B40.70653%2C%20-73.80561%5D%2C%20%5B40.76777%2C%20-73.98931999999998%5D%2C%20%5B40.76443%2C%20-73.97588%5D%2C%20%5B40.67749%2C%20-73.94386%5D%2C%20%5B40.57941%2C%20-73.84844%5D%2C%20%5B40.7304%2C%20-74.00887%5D%2C%20%5B40.68717%2C%20-73.91708%5D%2C%20%5B40.6728%2C%20-73.79495%5D%2C%20%5B40.7611%2C%20-73.97412%5D%2C%20%5B40.77093%2C%20-73.95873%5D%2C%20%5B40.6737%2C%20-73.99891%5D%2C%20%5B40.67283%2C%20-73.87785%5D%2C%20%5B40.74877%2C%20-73.97565%5D%2C%20%5B40.70434%2C%20-73.91935%5D%2C%20%5B40.66027%2C%20-73.95376%5D%2C%20%5B40.75468%2C%20-73.96563%5D%2C%20%5B40.72552%2C%20-73.94195%5D%2C%20%5B40.791%2C%20-73.97545%5D%2C%20%5B40.74923%2C%20-73.99376%5D%2C%20%5B40.74881%2C%20-73.98059%5D%2C%20%5B40.71438%2C%20-73.95955%5D%2C%20%5B40.74311%2C%20-74.00718%5D%2C%20%5B40.67519%2C%20-73.87371999999998%5D%2C%20%5B40.72716%2C%20-73.94971%5D%2C%20%5B40.73624%2C%20-73.97966%5D%2C%20%5B40.76139000000001%2C%20-73.9625%5D%2C%20%5B40.76425%2C%20-73.96811%5D%2C%20%5B40.65945%2C%20-73.99383%5D%2C%20%5B40.71782%2C%20-73.95013%5D%2C%20%5B40.68674%2C%20-73.95392%5D%2C%20%5B40.7989%2C%20-73.96042%5D%2C%20%5B40.69385%2C%20-73.95696%5D%2C%20%5B40.71179%2C%20-73.9387%5D%2C%20%5B40.80889000000001%2C%20-73.92028%5D%2C%20%5B40.70653%2C%20-73.94421%5D%2C%20%5B40.66489%2C%20-73.99128%5D%2C%20%5B40.76294%2C%20-73.91545%5D%2C%20%5B40.69642%2C%20-73.9243%5D%2C%20%5B40.72837%2C%20-73.99951999999998%5D%2C%20%5B40.72727%2C%20-73.98801%5D%2C%20%5B40.66084%2C%20-73.99328%5D%2C%20%5B40.72367%2C%20-74.00229%5D%2C%20%5B40.7541%2C%20-73.97055999999998%5D%2C%20%5B40.70845%2C%20-73.94266%5D%2C%20%5B40.72208%2C%20-74.00216999999998%5D%2C%20%5B40.80269000000001%2C%20-73.94637%5D%2C%20%5B40.77903%2C%20-73.95071%5D%2C%20%5B40.69121%2C%20-73.95121%5D%2C%20%5B40.68054%2C%20-73.91775%5D%2C%20%5B40.72697%2C%20-73.9805%5D%2C%20%5B40.73765%2C%20-74.00157%5D%2C%20%5B40.80844%2C%20-73.92889%5D%2C%20%5B40.81406%2C%20-73.88996999999998%5D%2C%20%5B40.69455%2C%20-73.93445%5D%2C%20%5B40.71916%2C%20-73.95696%5D%2C%20%5B40.75615%2C%20-73.94121%5D%2C%20%5B40.73513%2C%20-74.0063%5D%2C%20%5B40.67247%2C%20-73.93616%5D%2C%20%5B40.75503%2C%20-73.89607%5D%2C%20%5B40.75636%2C%20-73.9939%5D%2C%20%5B40.73247%2C%20-73.8768%5D%2C%20%5B40.67332%2C%20-73.79682%5D%2C%20%5B40.74454%2C%20-73.97339000000002%5D%2C%20%5B40.73666%2C%20-73.99851%5D%2C%20%5B40.73684%2C%20-74.00844000000002%5D%2C%20%5B40.67542%2C%20-73.9495%5D%2C%20%5B40.68936%2C%20-73.83357%5D%2C%20%5B40.74098%2C%20-73.98331%5D%2C%20%5B40.8014%2C%20-73.94360999999998%5D%2C%20%5B40.63445%2C%20-74.00524%5D%2C%20%5B40.71409%2C%20-73.9918%5D%2C%20%5B40.76248%2C%20-73.86986%5D%2C%20%5B40.75424%2C%20-73.96311999999998%5D%2C%20%5B40.73226%2C%20-74.00644%5D%2C%20%5B40.74059000000001%2C%20-73.86865999999998%5D%2C%20%5B40.78998%2C%20-73.946%5D%2C%20%5B40.75006%2C%20-73.97694%5D%2C%20%5B40.74439%2C%20-73.98329%5D%2C%20%5B40.70653%2C%20-73.91598%5D%2C%20%5B40.67262%2C%20-73.97372%5D%2C%20%5B40.72911%2C%20-74.00001%5D%2C%20%5B40.6749%2C%20-73.95233%5D%2C%20%5B40.68469%2C%20-73.98603%5D%2C%20%5B40.65612%2C%20-73.91788000000003%5D%2C%20%5B40.76676%2C%20-73.99146%5D%2C%20%5B40.88057%2C%20-73.83572%5D%2C%20%5B40.68285%2C%20-73.93862%5D%2C%20%5B40.69973%2C%20-73.90835%5D%2C%20%5B40.69698%2C%20-73.90774%5D%2C%20%5B40.72208%2C%20-73.94275%5D%2C%20%5B40.68307%2C%20-73.92894%5D%2C%20%5B40.68455%2C%20-74.00188%5D%2C%20%5B40.77516%2C%20-73.98573%5D%2C%20%5B40.71384000000001%2C%20-73.94228000000003%5D%2C%20%5B40.80158%2C%20-73.96181999999997%5D%2C%20%5B40.7836%2C%20-73.95093%5D%2C%20%5B40.73306%2C%20-73.95353%5D%2C%20%5B40.75003%2C%20-73.99647%5D%2C%20%5B40.61813%2C%20-73.94253%5D%2C%20%5B40.74487%2C%20-73.97608000000002%5D%2C%20%5B40.70839%2C%20-73.80623%5D%2C%20%5B40.70012%2C%20-73.95082%5D%2C%20%5B40.82412%2C%20-73.93871999999998%5D%2C%20%5B40.64513%2C%20-73.9488%5D%2C%20%5B40.86697%2C%20-73.92534%5D%2C%20%5B40.65257%2C%20-73.96259%5D%2C%20%5B40.72372%2C%20-73.99318000000002%5D%2C%20%5B40.75607%2C%20-73.80964%5D%2C%20%5B40.61731%2C%20-74.0344%5D%2C%20%5B40.7817%2C%20-73.982%5D%2C%20%5B40.82284%2C%20-73.95546%5D%2C%20%5B40.74824%2C%20-73.91360999999998%5D%2C%20%5B40.68366%2C%20-73.9247%5D%2C%20%5B40.63129%2C%20-73.92748%5D%2C%20%5B40.75173%2C%20-73.9727%5D%2C%20%5B40.7255%2C%20-73.94428%5D%2C%20%5B40.79525%2C%20-73.94912%5D%2C%20%5B40.70982%2C%20-73.95831%5D%2C%20%5B40.76369%2C%20-73.96122%5D%2C%20%5B40.75775%2C%20-73.96132%5D%2C%20%5B40.74468%2C%20-74.00157%5D%2C%20%5B40.73379%2C%20-73.97754%5D%2C%20%5B40.75462%2C%20-73.9864%5D%2C%20%5B40.74417%2C%20-73.94823000000002%5D%2C%20%5B40.63899%2C%20-73.94886%5D%2C%20%5B40.62301%2C%20-73.96253%5D%2C%20%5B40.73095%2C%20-73.85706%5D%2C%20%5B40.76395%2C%20-73.97622%5D%2C%20%5B40.80934%2C%20-73.95071999999998%5D%2C%20%5B40.65531%2C%20-73.7274%5D%2C%20%5B40.74319000000001%2C%20-73.98074%5D%2C%20%5B40.72034%2C%20-73.95626%5D%2C%20%5B40.74583%2C%20-73.95363%5D%2C%20%5B40.74096%2C%20-73.98055%5D%2C%20%5B40.71705%2C%20-73.9647%5D%2C%20%5B40.74605%2C%20-73.9773%5D%2C%20%5B40.71107%2C%20-73.99509%5D%2C%20%5B40.81225%2C%20-73.95196999999997%5D%2C%20%5B40.80622%2C%20-73.93875%5D%2C%20%5B40.68611%2C%20-73.92428000000002%5D%2C%20%5B40.75957%2C%20-73.99535%5D%2C%20%5B40.68818%2C%20-73.91519%5D%2C%20%5B40.80272%2C%20-73.96629%5D%2C%20%5B40.72584000000001%2C%20-73.99306%5D%2C%20%5B40.8018%2C%20-73.9413%5D%2C%20%5B40.68741%2C%20-73.95581999999997%5D%2C%20%5B40.76448%2C%20-73.98895%5D%2C%20%5B40.73865%2C%20-73.9781%5D%2C%20%5B40.78023%2C%20-73.95069000000002%5D%2C%20%5B40.68487%2C%20-73.87254%5D%2C%20%5B40.76501%2C%20-73.98892%5D%2C%20%5B40.76174%2C%20-73.96366%5D%2C%20%5B40.66986%2C%20-73.98668%5D%2C%20%5B40.69416%2C%20-73.94528000000003%5D%2C%20%5B40.76042%2C%20-73.97345%5D%2C%20%5B40.5721%2C%20-73.99712%5D%2C%20%5B40.76629000000001%2C%20-73.98816%5D%2C%20%5B40.71536%2C%20-73.98951%5D%2C%20%5B40.61952%2C%20-73.96928%5D%2C%20%5B40.68683%2C%20-73.96981%5D%2C%20%5B40.72578%2C%20-73.99998000000002%5D%2C%20%5B40.76502%2C%20-73.98839%5D%2C%20%5B40.76066%2C%20-73.99922%5D%2C%20%5B40.68269%2C%20-73.89223%5D%2C%20%5B40.75295%2C%20-73.98889%5D%2C%20%5B40.84345%2C%20-73.94079%5D%2C%20%5B40.73363%2C%20-73.95333000000002%5D%2C%20%5B40.74781%2C%20-74.00084%5D%2C%20%5B40.70428%2C%20-73.92439%5D%2C%20%5B40.68937%2C%20-73.94291%5D%2C%20%5B40.63525%2C%20-74.00724%5D%2C%20%5B40.70154%2C%20-73.94759%5D%2C%20%5B40.74919000000001%2C%20-73.97244%5D%2C%20%5B40.73858%2C%20-73.80809%5D%2C%20%5B40.70669%2C%20-73.94334%5D%2C%20%5B40.67634%2C%20-73.94133000000002%5D%2C%20%5B40.76719%2C%20-73.98533%5D%2C%20%5B40.76063%2C%20-73.99863%5D%2C%20%5B40.75982%2C%20-73.99065999999998%5D%2C%20%5B40.69866%2C%20-73.76759%5D%2C%20%5B40.74152%2C%20-73.90314000000002%5D%2C%20%5B40.68926%2C%20-73.91595%5D%2C%20%5B40.70145%2C%20-73.92%5D%2C%20%5B40.75146%2C%20-73.99%5D%2C%20%5B40.71399%2C%20-73.99707%5D%2C%20%5B40.7597%2C%20-73.99726%5D%2C%20%5B40.73357%2C%20-73.95908%5D%2C%20%5B40.71198%2C%20-73.96036%5D%2C%20%5B40.76795%2C%20-73.98380999999998%5D%2C%20%5B40.70819%2C%20-74.00662%5D%2C%20%5B40.70512%2C%20-73.9348%5D%2C%20%5B40.73175%2C%20-74.00419000000002%5D%2C%20%5B40.63982%2C%20-73.96634%5D%2C%20%5B40.7637%2C%20-73.99184%5D%2C%20%5B40.66234%2C%20-73.94660999999998%5D%2C%20%5B40.63025%2C%20-73.96555%5D%2C%20%5B40.72863%2C%20-74.00125%5D%2C%20%5B40.69209%2C%20-73.95868%5D%2C%20%5B40.70932%2C%20-74.00536%5D%2C%20%5B40.75376%2C%20-73.94100999999998%5D%2C%20%5B40.68463%2C%20-73.92617%5D%2C%20%5B40.70226%2C%20-73.92797%5D%2C%20%5B40.65218%2C%20-73.96551%5D%2C%20%5B40.70338%2C%20-73.91006%5D%2C%20%5B40.714%2C%20-73.77787%5D%2C%20%5B40.69532%2C%20-73.93995%5D%2C%20%5B40.77138%2C%20-73.94809000000002%5D%2C%20%5B40.79977%2C%20-73.96198000000003%5D%2C%20%5B40.80504000000001%2C%20-73.85327%5D%2C%20%5B40.72219000000001%2C%20-74.0014%5D%2C%20%5B40.84103%2C%20-73.92701%5D%2C%20%5B40.74945%2C%20-73.89299%5D%2C%20%5B40.68055%2C%20-73.96425%5D%2C%20%5B40.72614%2C%20-74.00076%5D%2C%20%5B40.83711%2C%20-73.94438000000002%5D%2C%20%5B40.70865%2C%20-73.94507%5D%2C%20%5B40.76384%2C%20-73.96355%5D%2C%20%5B40.75373%2C%20-73.97272%5D%2C%20%5B40.8739%2C%20-73.90364%5D%2C%20%5B40.69726%2C%20-73.91587%5D%2C%20%5B40.84497%2C%20-73.93934%5D%2C%20%5B40.80132%2C%20-73.9547%5D%2C%20%5B40.74671%2C%20-73.91636%5D%2C%20%5B40.70434%2C%20-73.9177%5D%2C%20%5B40.75059%2C%20-73.97122%5D%2C%20%5B40.75073%2C%20-73.99549%5D%2C%20%5B40.64469%2C%20-74.01035%5D%2C%20%5B40.69398%2C%20-73.90719%5D%2C%20%5B40.77878%2C%20-73.95056%5D%2C%20%5B40.80486%2C%20-73.94889%5D%2C%20%5B40.71528%2C%20-73.94331%5D%2C%20%5B40.79092%2C%20-73.97426%5D%2C%20%5B40.72529%2C%20-73.98655%5D%2C%20%5B40.7631%2C%20-73.96281%5D%2C%20%5B40.70551%2C%20-74.00839%5D%2C%20%5B40.75274%2C%20-73.97026%5D%2C%20%5B40.71967%2C%20-73.96001%5D%2C%20%5B40.72789%2C%20-73.98557%5D%2C%20%5B40.77292%2C%20-73.90101%5D%2C%20%5B40.76398%2C%20-73.96581%5D%2C%20%5B40.71492%2C%20-74.01154%5D%2C%20%5B40.79309%2C%20-73.94346999999998%5D%2C%20%5B40.7608%2C%20-73.96032%5D%2C%20%5B40.68761%2C%20-73.96096%5D%2C%20%5B40.70369%2C%20-73.98306%5D%2C%20%5B40.80718%2C%20-73.94906999999998%5D%2C%20%5B40.66209%2C%20-73.92913%5D%2C%20%5B40.68447000000001%2C%20-73.9543%5D%2C%20%5B40.79254%2C%20-73.97531%5D%2C%20%5B40.62841%2C%20-73.92591%5D%2C%20%5B40.76562%2C%20-73.98233%5D%2C%20%5B40.72607%2C%20-73.95103%5D%2C%20%5B40.72499000000001%2C%20-73.98127%5D%2C%20%5B40.83414000000001%2C%20-73.94565%5D%2C%20%5B40.74229%2C%20-73.9959%5D%2C%20%5B40.81141%2C%20-73.94051%5D%2C%20%5B40.71747%2C%20-73.95459%5D%2C%20%5B40.76424%2C%20-73.98143%5D%2C%20%5B40.70587%2C%20-74.01773%5D%2C%20%5B40.65228%2C%20-73.96428%5D%2C%20%5B40.77288%2C%20-73.94745%5D%2C%20%5B40.74875%2C%20-73.99696999999998%5D%2C%20%5B40.86438%2C%20-73.92787%5D%2C%20%5B40.74864%2C%20-73.85436%5D%2C%20%5B40.76453%2C%20-73.97769%5D%2C%20%5B40.78429000000001%2C%20-73.97815%5D%2C%20%5B40.67612%2C%20-73.95855999999998%5D%2C%20%5B40.68856%2C%20-73.91903%5D%2C%20%5B40.7339%2C%20-73.98548000000002%5D%2C%20%5B40.69423%2C%20-73.99728%5D%2C%20%5B40.68057%2C%20-73.94508%5D%2C%20%5B40.75215%2C%20-73.97269%5D%2C%20%5B40.72153%2C%20-73.98765%5D%2C%20%5B40.73029%2C%20-73.98836%5D%2C%20%5B40.81721%2C%20-73.94593%5D%2C%20%5B40.83571%2C%20-73.94179%5D%2C%20%5B40.7936%2C%20-73.96642%5D%2C%20%5B40.72038%2C%20-73.86310999999998%5D%2C%20%5B40.73235%2C%20-73.98823%5D%2C%20%5B40.65548%2C%20-73.95707%5D%2C%20%5B40.69471%2C%20-73.94406%5D%2C%20%5B40.73241%2C%20-73.98783%5D%2C%20%5B40.70838%2C%20-73.95366%5D%2C%20%5B40.66282%2C%20-73.95902%5D%2C%20%5B40.69484%2C%20-73.94615999999998%5D%2C%20%5B40.66364%2C%20-73.94978%5D%2C%20%5B40.82928%2C%20-73.94054%5D%2C%20%5B40.68084%2C%20-73.98964000000002%5D%2C%20%5B40.7071%2C%20-74.01556%5D%2C%20%5B40.76639%2C%20-73.98727%5D%2C%20%5B40.74107%2C%20-73.988%5D%2C%20%5B40.7667%2C%20-73.98829%5D%2C%20%5B40.67002%2C%20-73.92054%5D%2C%20%5B40.7137%2C%20-73.96674%5D%2C%20%5B40.72176%2C%20-73.95616%5D%2C%20%5B40.68352%2C%20-73.96771%5D%2C%20%5B40.77883%2C%20-73.95498%5D%2C%20%5B40.71527%2C%20-73.89829%5D%2C%20%5B40.66586%2C%20-73.97948000000002%5D%2C%20%5B40.7623%2C%20-73.91645%5D%2C%20%5B40.69198%2C%20-73.96008%5D%2C%20%5B40.72149%2C%20-73.98273%5D%2C%20%5B40.70367%2C%20-73.91063%5D%2C%20%5B40.7423%2C%20-73.89426%5D%2C%20%5B40.71325%2C%20-73.85415%5D%2C%20%5B40.73594%2C%20-73.97946999999998%5D%2C%20%5B40.77608%2C%20-73.97614%5D%2C%20%5B40.7593%2C%20-73.99143000000002%5D%2C%20%5B40.70673%2C%20-73.92695%5D%2C%20%5B40.80315%2C%20-73.95616%5D%2C%20%5B40.66878%2C%20-73.93888000000003%5D%2C%20%5B40.68983%2C%20-73.86905%5D%2C%20%5B40.85292000000001%2C%20-73.91683%5D%2C%20%5B40.69028%2C%20-73.94163%5D%2C%20%5B40.63894000000001%2C%20-74.08069%5D%2C%20%5B40.7478%2C%20-73.94113%5D%2C%20%5B40.7537%2C%20-73.93186%5D%2C%20%5B40.80346%2C%20-73.94583%5D%2C%20%5B40.76196%2C%20-73.99803%5D%2C%20%5B40.63043%2C%20-73.89553000000002%5D%2C%20%5B40.71319%2C%20-73.90315%5D%2C%20%5B40.63549%2C%20-74.00699%5D%2C%20%5B40.74141%2C%20-73.97868000000003%5D%2C%20%5B40.74805%2C%20-73.97855%5D%2C%20%5B40.76313%2C%20-73.8234%5D%2C%20%5B40.68818%2C%20-73.93826%5D%2C%20%5B40.77065%2C%20-73.95702%5D%2C%20%5B40.6832%2C%20-73.9891%5D%2C%20%5B40.68571%2C%20-73.95792%5D%2C%20%5B40.75205%2C%20-73.97076%5D%2C%20%5B40.63149%2C%20-73.90796999999998%5D%2C%20%5B40.80618%2C%20-73.94587%5D%2C%20%5B40.73318%2C%20-73.79321999999998%5D%2C%20%5B40.73887%2C%20-73.86561999999998%5D%2C%20%5B40.64254%2C%20-73.99759%5D%2C%20%5B40.70161%2C%20-73.93131%5D%2C%20%5B40.66726%2C%20-73.78666%5D%2C%20%5B40.80743%2C%20-73.94256%5D%2C%20%5B40.6944%2C%20-73.9242%5D%2C%20%5B40.75659%2C%20-73.99866999999998%5D%2C%20%5B40.76711%2C%20-73.89367%5D%2C%20%5B40.70413%2C%20-74.0134%5D%2C%20%5B40.71225%2C%20-73.94413%5D%2C%20%5B40.70424000000001%2C%20-74.00789%5D%2C%20%5B40.82776%2C%20-73.87643%5D%2C%20%5B40.74272%2C%20-74.00309%5D%2C%20%5B40.73927%2C%20-73.98774%5D%2C%20%5B40.75751%2C%20-73.99112%5D%2C%20%5B40.75359%2C%20-73.97295%5D%2C%20%5B40.833%2C%20-73.93806%5D%2C%20%5B40.85081%2C%20-73.93118%5D%2C%20%5B40.71488%2C%20-74.00686999999998%5D%2C%20%5B40.8179%2C%20-73.91456%5D%2C%20%5B40.70262%2C%20-73.81526%5D%2C%20%5B40.75074%2C%20-73.89339%5D%2C%20%5B40.66073%2C%20-73.98983%5D%2C%20%5B40.7633%2C%20-73.9878%5D%2C%20%5B40.78986%2C%20-73.96688%5D%2C%20%5B40.7143%2C%20-73.81834%5D%2C%20%5B40.88179%2C%20-73.83455%5D%2C%20%5B40.80173%2C%20-73.94035%5D%2C%20%5B40.70748%2C%20-74.01476%5D%2C%20%5B40.74305%2C%20-73.99415%5D%2C%20%5B40.79976%2C%20-73.95119%5D%2C%20%5B40.67635%2C%20-73.89124%5D%2C%20%5B40.7603%2C%20-73.96225%5D%2C%20%5B40.69708%2C%20-73.91237%5D%2C%20%5B40.70173%2C%20-73.9073%5D%2C%20%5B40.76235%2C%20-73.9626%5D%2C%20%5B40.7091%2C%20-73.94279%5D%2C%20%5B40.67834000000001%2C%20-73.96598%5D%2C%20%5B40.81696%2C%20-73.94164%5D%2C%20%5B40.76501%2C%20-73.92501999999998%5D%2C%20%5B40.74672%2C%20-74.00187%5D%2C%20%5B40.75061%2C%20-73.89364%5D%2C%20%5B40.73275%2C%20-73.79366%5D%2C%20%5B40.63106%2C%20-73.89759000000002%5D%2C%20%5B40.7198%2C%20-73.98566%5D%2C%20%5B40.87579%2C%20-73.86532%5D%2C%20%5B40.80859%2C%20-73.95132%5D%2C%20%5B40.6853%2C%20-73.9722%5D%2C%20%5B40.71206%2C%20-74.00999%5D%2C%20%5B40.70997%2C%20-73.9624%5D%2C%20%5B40.74008%2C%20-74.00271%5D%2C%20%5B40.81102%2C%20-73.94712%5D%2C%20%5B40.68448%2C%20-73.95854%5D%2C%20%5B40.65838%2C%20-73.96048%5D%2C%20%5B40.7481%2C%20-73.97417%5D%2C%20%5B40.67767%2C%20-73.91784%5D%2C%20%5B40.75475%2C%20-73.97243%5D%2C%20%5B40.73334000000001%2C%20-73.95478%5D%2C%20%5B40.73925%2C%20-73.87745%5D%2C%20%5B40.7523%2C%20-73.87204%5D%2C%20%5B40.7591%2C%20-73.96334%5D%2C%20%5B40.71373%2C%20-73.98465%5D%2C%20%5B40.82252%2C%20-73.94596999999997%5D%2C%20%5B40.73631%2C%20-73.97511999999998%5D%2C%20%5B40.74913%2C%20-74.00373%5D%2C%20%5B40.69219%2C%20-73.95851%5D%2C%20%5B40.70709%2C%20-73.9426%5D%2C%20%5B40.69587%2C%20-73.94037%5D%2C%20%5B40.85362%2C%20-73.82949%5D%2C%20%5B40.73903%2C%20-73.97975%5D%2C%20%5B40.83177%2C%20-73.95%5D%2C%20%5B40.76597%2C%20-73.98177%5D%2C%20%5B40.76554%2C%20-73.98245%5D%2C%20%5B40.78628%2C%20-73.97264%5D%2C%20%5B40.80232%2C%20-73.96977%5D%2C%20%5B40.7126%2C%20-73.99376%5D%2C%20%5B40.74896%2C%20-73.9762%5D%2C%20%5B40.71024%2C%20-73.95834%5D%2C%20%5B40.67721%2C%20-73.98444%5D%2C%20%5B40.75022%2C%20-73.99632%5D%2C%20%5B40.70484%2C%20-73.91942%5D%2C%20%5B40.64258%2C%20-73.95952%5D%2C%20%5B40.71595%2C%20-73.96001%5D%2C%20%5B40.7309%2C%20-73.95969000000002%5D%2C%20%5B40.66177%2C%20-73.98198000000002%5D%2C%20%5B40.81231%2C%20-73.85535%5D%2C%20%5B40.66993%2C%20-73.98137%5D%2C%20%5B40.86626%2C%20-73.92543%5D%2C%20%5B40.70127%2C%20-73.91764%5D%2C%20%5B40.75024000000001%2C%20-73.87849%5D%2C%20%5B40.75802%2C%20-73.96125%5D%2C%20%5B40.7866%2C%20-73.82207%5D%2C%20%5B40.76602000000001%2C%20-73.98765999999998%5D%2C%20%5B40.6589%2C%20-74.00018%5D%2C%20%5B40.83039%2C%20-73.94532%5D%2C%20%5B40.64519%2C%20-73.89054%5D%2C%20%5B40.67927%2C%20-73.9113%5D%2C%20%5B40.74634%2C%20-73.9179%5D%2C%20%5B40.72434000000001%2C%20-73.97715%5D%2C%20%5B40.7839%2C%20-73.94823000000002%5D%2C%20%5B40.68084%2C%20-73.93075%5D%2C%20%5B40.76112%2C%20-73.99893%5D%2C%20%5B40.71434%2C%20-73.96085%5D%2C%20%5B40.66277%2C%20-73.76335999999998%5D%2C%20%5B40.74295%2C%20-73.97391999999998%5D%2C%20%5B40.77757%2C%20-73.97932%5D%2C%20%5B40.74109%2C%20-73.91577%5D%2C%20%5B40.76476%2C%20-73.98871%5D%2C%20%5B40.672%2C%20-73.94247%5D%2C%20%5B40.71255%2C%20-73.9405%5D%2C%20%5B40.67047%2C%20-73.95371999999998%5D%2C%20%5B40.68777%2C%20-73.94793%5D%2C%20%5B40.66568%2C%20-73.95385999999998%5D%2C%20%5B40.88009%2C%20-73.83442%5D%2C%20%5B40.71826%2C%20-73.99671%5D%2C%20%5B40.76605%2C%20-73.92922%5D%2C%20%5B40.68466%2C%20-73.98871%5D%2C%20%5B40.66996%2C%20-73.92264%5D%2C%20%5B40.68369000000001%2C%20-73.92336%5D%2C%20%5B40.82857%2C%20-73.95161%5D%2C%20%5B40.71144%2C%20-73.96488000000002%5D%2C%20%5B40.74628%2C%20-73.9196%5D%2C%20%5B40.72391%2C%20-73.9975%5D%2C%20%5B40.68533%2C%20-73.96808%5D%2C%20%5B40.7077%2C%20-73.94029%5D%2C%20%5B40.74551%2C%20-73.98744%5D%2C%20%5B40.64105%2C%20-73.9595%5D%2C%20%5B40.7033%2C%20-73.90812%5D%2C%20%5B40.72488%2C%20-73.94932%5D%2C%20%5B40.75798%2C%20-73.99155999999998%5D%2C%20%5B40.824%2C%20-73.95229%5D%2C%20%5B40.75855%2C%20-73.98931%5D%2C%20%5B40.76461%2C%20-73.98745%5D%2C%20%5B40.68698%2C%20-73.91861%5D%2C%20%5B40.70701%2C%20-73.94445999999998%5D%2C%20%5B40.74543%2C%20-73.94595%5D%2C%20%5B40.7239%2C%20-73.99678%5D%2C%20%5B40.68477%2C%20-73.908%5D%2C%20%5B40.73316%2C%20-74.00476%5D%2C%20%5B40.70943%2C%20-73.95064%5D%2C%20%5B40.57811%2C%20-73.96004%5D%2C%20%5B40.82977%2C%20-73.94071%5D%2C%20%5B40.68981%2C%20-73.97768%5D%2C%20%5B40.80742%2C%20-73.95205%5D%2C%20%5B40.80313%2C%20-73.96745%5D%2C%20%5B40.72712%2C%20-73.98402%5D%2C%20%5B40.74904%2C%20-73.90188%5D%2C%20%5B40.76481%2C%20-73.96001%5D%2C%20%5B40.76215%2C%20-73.99589%5D%2C%20%5B40.75984%2C%20-73.99214%5D%2C%20%5B40.68112%2C%20-73.96491999999998%5D%2C%20%5B40.7398%2C%20-73.98163000000002%5D%2C%20%5B40.68588%2C%20-73.77823000000002%5D%2C%20%5B40.71592%2C%20-73.99332%5D%2C%20%5B40.76325%2C%20-73.95893000000002%5D%2C%20%5B40.75295%2C%20-73.9955%5D%2C%20%5B40.7956%2C%20-73.96701999999998%5D%2C%20%5B40.7617%2C%20-73.99815%5D%2C%20%5B40.69356%2C%20-73.94537%5D%2C%20%5B40.59636%2C%20-73.7413%5D%2C%20%5B40.71889%2C%20-73.99686%5D%2C%20%5B40.77411%2C%20-73.92730999999998%5D%2C%20%5B40.74829%2C%20-73.97554000000002%5D%2C%20%5B40.68357%2C%20-73.93753000000002%5D%2C%20%5B40.68409000000001%2C%20-73.93826999999997%5D%2C%20%5B40.74543%2C%20-73.92399%5D%2C%20%5B40.66749%2C%20-73.95555999999998%5D%2C%20%5B40.71081%2C%20-74.00846%5D%2C%20%5B40.6987%2C%20-73.99275%5D%2C%20%5B40.74654%2C%20-73.95778%5D%2C%20%5B40.75311%2C%20-73.97306%5D%2C%20%5B40.77127%2C%20-73.98841999999998%5D%2C%20%5B40.8336%2C%20-73.94088%5D%2C%20%5B40.67023%2C%20-73.98311%5D%2C%20%5B40.69705%2C%20-73.92585%5D%2C%20%5B40.67939000000001%2C%20-73.94939000000002%5D%2C%20%5B40.72068%2C%20-73.99576%5D%2C%20%5B40.72712%2C%20-73.8308%5D%2C%20%5B40.75749%2C%20-73.81983000000002%5D%2C%20%5B40.80616%2C%20-73.95007%5D%2C%20%5B40.67851%2C%20-73.98439%5D%2C%20%5B40.89121%2C%20-73.85131%5D%2C%20%5B40.79512%2C%20-73.97091999999998%5D%2C%20%5B40.68279%2C%20-73.92135%5D%2C%20%5B40.71085%2C%20-73.96136%5D%2C%20%5B40.761%2C%20-73.98522%5D%2C%20%5B40.66209%2C%20-73.93947%5D%2C%20%5B40.72182%2C%20-74.00033%5D%2C%20%5B40.70618%2C%20-73.91689000000002%5D%2C%20%5B40.6514%2C%20-73.9616%5D%2C%20%5B40.68098%2C%20-73.91608000000002%5D%2C%20%5B40.76485%2C%20-73.98436%5D%2C%20%5B40.78223%2C%20-73.80724000000002%5D%2C%20%5B40.72176%2C%20-74.00448%5D%2C%20%5B40.70488%2C%20-73.92520999999998%5D%2C%20%5B40.73674000000001%2C%20-73.98308%5D%2C%20%5B40.68231%2C%20-73.91252%5D%2C%20%5B40.68932%2C%20-73.94946999999998%5D%2C%20%5B40.75452%2C%20-73.91458%5D%2C%20%5B40.82761%2C%20-73.9375%5D%2C%20%5B40.65435%2C%20-73.93785%5D%2C%20%5B40.69464%2C%20-73.75184%5D%2C%20%5B40.7624%2C%20-73.99915%5D%2C%20%5B40.7383%2C%20-73.80866999999998%5D%2C%20%5B40.73888%2C%20-73.99897%5D%2C%20%5B40.69158%2C%20-73.93823%5D%2C%20%5B40.69134%2C%20-73.94468%5D%2C%20%5B40.72204%2C%20-73.98151%5D%2C%20%5B40.74815%2C%20-73.98374%5D%2C%20%5B40.80527%2C%20-73.94579%5D%2C%20%5B40.68306%2C%20-73.94659%5D%2C%20%5B40.87279%2C%20-73.91991%5D%2C%20%5B40.8114%2C%20-73.9431%5D%2C%20%5B40.73393%2C%20-74.00551999999998%5D%2C%20%5B40.75794000000001%2C%20-73.96143000000002%5D%2C%20%5B40.80447%2C%20-73.95589%5D%2C%20%5B40.7867%2C%20-73.96951%5D%2C%20%5B40.64136%2C%20-73.94705%5D%2C%20%5B40.66439%2C%20-73.98904%5D%2C%20%5B40.76484%2C%20-73.81569%5D%2C%20%5B40.80996%2C%20-73.93172%5D%2C%20%5B40.59671%2C%20-73.98741%5D%2C%20%5B40.76226%2C%20-73.82459%5D%2C%20%5B40.5776%2C%20-73.96231%5D%2C%20%5B40.7791%2C%20-73.98182%5D%2C%20%5B40.83625%2C%20-73.93753000000002%5D%2C%20%5B40.70208%2C%20-73.91125%5D%2C%20%5B40.71581%2C%20-73.95543%5D%2C%20%5B40.72154000000001%2C%20-73.99577%5D%2C%20%5B40.67481%2C%20-73.97258000000002%5D%2C%20%5B40.76663%2C%20-73.96171%5D%2C%20%5B40.61703%2C%20-73.97055%5D%2C%20%5B40.76789%2C%20-73.93512%5D%2C%20%5B40.72828%2C%20-73.98823%5D%2C%20%5B40.84467%2C%20-73.93374%5D%2C%20%5B40.71756%2C%20-73.94839%5D%2C%20%5B40.6997%2C%20-73.91305%5D%2C%20%5B40.86467%2C%20-73.90125%5D%2C%20%5B40.711%2C%20-73.96218%5D%2C%20%5B40.70302%2C%20-73.9063%5D%2C%20%5B40.69425%2C%20-73.95668%5D%2C%20%5B40.68385%2C%20-73.90653%5D%2C%20%5B40.70422%2C%20-73.92756999999997%5D%2C%20%5B40.58825%2C%20-73.81208000000002%5D%2C%20%5B40.75166%2C%20-73.90108000000002%5D%2C%20%5B40.57577%2C%20-73.98553000000003%5D%2C%20%5B40.77374%2C%20-73.95684%5D%2C%20%5B40.76422%2C%20-73.93169%5D%2C%20%5B40.72704%2C%20-73.98916%5D%2C%20%5B40.82195%2C%20-73.95572%5D%2C%20%5B40.73143%2C%20-73.97549000000002%5D%2C%20%5B40.70545%2C%20-74.0084%5D%2C%20%5B40.69407%2C%20-73.94551%5D%2C%20%5B40.72104%2C%20-73.93985%5D%2C%20%5B40.67181%2C%20-73.925%5D%2C%20%5B40.73161%2C%20-73.98438%5D%2C%20%5B40.69245%2C%20-73.95541999999998%5D%2C%20%5B40.69017%2C%20-73.94825%5D%2C%20%5B40.82036%2C%20-73.94219%5D%2C%20%5B40.71775%2C%20-73.98612%5D%2C%20%5B40.6784%2C%20-73.8924%5D%2C%20%5B40.68338%2C%20-73.98926999999998%5D%2C%20%5B40.73094%2C%20-73.999%5D%2C%20%5B40.823%2C%20-73.90859%5D%2C%20%5B40.70189%2C%20-73.91984000000002%5D%2C%20%5B40.75974%2C%20-73.98924%5D%2C%20%5B40.63574000000001%2C%20-73.95129%5D%2C%20%5B40.76112%2C%20-73.99887%5D%2C%20%5B40.7483%2C%20-74.00031%5D%2C%20%5B40.71164%2C%20-73.95173%5D%2C%20%5B40.82554%2C%20-73.9535%5D%2C%20%5B40.70533%2C%20-73.7485%5D%2C%20%5B40.6925%2C%20-73.95551%5D%2C%20%5B40.73575%2C%20-73.98%5D%2C%20%5B40.68633%2C%20-73.93805%5D%2C%20%5B40.76572%2C%20-73.79629%5D%2C%20%5B40.71456%2C%20-73.98716999999998%5D%2C%20%5B40.71934%2C%20-73.96136%5D%2C%20%5B40.69132000000001%2C%20-73.94205%5D%2C%20%5B40.77278%2C%20-73.98068%5D%2C%20%5B40.76391%2C%20-73.98892%5D%2C%20%5B40.69476%2C%20-73.90545%5D%2C%20%5B40.68581%2C%20-73.95189%5D%2C%20%5B40.75618%2C%20-73.96600000000002%5D%2C%20%5B40.74381%2C%20-73.98491999999997%5D%2C%20%5B40.74848%2C%20-73.97609%5D%2C%20%5B40.74482%2C%20-73.99916999999998%5D%2C%20%5B40.77511%2C%20-73.99005%5D%2C%20%5B40.75827%2C%20-73.98825%5D%2C%20%5B40.68659%2C%20-73.97556999999998%5D%2C%20%5B40.75059%2C%20-73.9967%5D%2C%20%5B40.68793%2C%20-73.95246%5D%2C%20%5B40.71751%2C%20-73.95839000000002%5D%2C%20%5B40.77422%2C%20-73.97778000000002%5D%2C%20%5B40.74786%2C%20-73.97277%5D%2C%20%5B40.7518%2C%20-73.97074%5D%2C%20%5B40.74891%2C%20-73.97589%5D%2C%20%5B40.68727%2C%20-73.94736%5D%2C%20%5B40.67474%2C%20-73.87187%5D%2C%20%5B40.73359%2C%20-74.00524%5D%2C%20%5B40.74322%2C%20-73.98005%5D%2C%20%5B40.64308%2C%20-73.96508%5D%2C%20%5B40.69113%2C%20-73.91501%5D%2C%20%5B40.80373%2C%20-73.95805%5D%2C%20%5B40.7551%2C%20-73.96507%5D%2C%20%5B40.72407000000001%2C%20-73.86585%5D%2C%20%5B40.69028%2C%20-73.90563%5D%2C%20%5B40.68715%2C%20-73.94232%5D%2C%20%5B40.801%2C%20-73.9613%5D%2C%20%5B40.70758%2C%20-74.00799%5D%2C%20%5B40.77804%2C%20-73.98409000000002%5D%2C%20%5B40.68824%2C%20-73.91628%5D%2C%20%5B40.74889%2C%20-73.86489%5D%2C%20%5B40.75652%2C%20-73.96859%5D%2C%20%5B40.76212%2C%20-73.96358000000002%5D%2C%20%5B40.74693%2C%20-73.91896%5D%2C%20%5B40.65758%2C%20-73.97801%5D%2C%20%5B40.7629%2C%20-73.96157%5D%2C%20%5B40.75258%2C%20-73.97111%5D%2C%20%5B40.6948%2C%20-73.92253000000002%5D%2C%20%5B40.85432%2C%20-73.93198000000002%5D%2C%20%5B40.81295%2C%20-73.95304%5D%2C%20%5B40.63992%2C%20-74.0076%5D%2C%20%5B40.76057%2C%20-73.98583%5D%2C%20%5B40.7672%2C%20-73.98508000000002%5D%2C%20%5B40.78881%2C%20-73.98116%5D%2C%20%5B40.69418%2C%20-73.94447%5D%2C%20%5B40.66959%2C%20-73.75246%5D%2C%20%5B40.71015%2C%20-73.94672%5D%2C%20%5B40.64737%2C%20-74.01357%5D%2C%20%5B40.75457%2C%20-73.96248%5D%2C%20%5B40.68129%2C%20-73.94251%5D%2C%20%5B40.75977%2C%20-73.98245%5D%2C%20%5B40.83378%2C%20-73.94966%5D%2C%20%5B40.69792%2C%20-73.91886%5D%2C%20%5B40.7163%2C%20-73.94394%5D%2C%20%5B40.82931%2C%20-73.94183000000002%5D%2C%20%5B40.63581%2C%20-73.96977%5D%2C%20%5B40.68137%2C%20-73.9565%5D%2C%20%5B40.73289000000001%2C%20-73.95203000000002%5D%2C%20%5B40.67521%2C%20-73.93996%5D%2C%20%5B40.76038%2C%20-73.99951%5D%2C%20%5B40.73824000000001%2C%20-73.97874%5D%2C%20%5B40.80131%2C%20-73.96596%5D%2C%20%5B40.77409%2C%20-73.9519%5D%2C%20%5B40.70962%2C%20-73.80615999999998%5D%2C%20%5B40.75987%2C%20-73.99008%5D%2C%20%5B40.67313%2C%20-73.9448%5D%2C%20%5B40.83988%2C%20-73.86978%5D%2C%20%5B40.81583%2C%20-73.94707%5D%2C%20%5B40.6283%2C%20-73.92619%5D%2C%20%5B40.70785%2C%20-73.94898%5D%2C%20%5B40.69476%2C%20-73.92943000000002%5D%2C%20%5B40.76586%2C%20-73.98721%5D%2C%20%5B40.61634%2C%20-74.03378000000002%5D%2C%20%5B40.66676%2C%20-73.92957%5D%2C%20%5B40.65992%2C%20-73.99042%5D%2C%20%5B40.69802%2C%20-73.97614%5D%2C%20%5B40.69355%2C%20-73.91829%5D%2C%20%5B40.74075%2C%20-73.92619%5D%2C%20%5B40.76356%2C%20-73.92102%5D%2C%20%5B40.7086%2C%20-74.01266%5D%2C%20%5B40.76021%2C%20-73.99969%5D%2C%20%5B40.68628%2C%20-73.99681%5D%2C%20%5B40.77669%2C%20-73.95283%5D%2C%20%5B40.76579%2C%20-73.98049%5D%2C%20%5B40.71217%2C%20-73.99483000000002%5D%2C%20%5B40.79757%2C%20-73.96065%5D%2C%20%5B40.80777%2C%20-73.96703000000002%5D%2C%20%5B40.64106%2C%20-73.97426%5D%2C%20%5B40.7142%2C%20-73.99119%5D%2C%20%5B40.75237%2C%20-73.9704%5D%2C%20%5B40.80206%2C%20-73.95949%5D%2C%20%5B40.76192%2C%20-73.98817%5D%2C%20%5B40.72266%2C%20-73.98337%5D%2C%20%5B40.66897%2C%20-73.92848000000002%5D%2C%20%5B40.69558%2C%20-73.94697%5D%2C%20%5B40.79026%2C%20-73.97304%5D%2C%20%5B40.72938%2C%20-73.95675%5D%2C%20%5B40.72198%2C%20-73.97678%5D%2C%20%5B40.73888%2C%20-73.92827%5D%2C%20%5B40.50708%2C%20-74.24285%5D%2C%20%5B40.75183%2C%20-73.97336999999997%5D%2C%20%5B40.59063%2C%20-73.94588%5D%2C%20%5B40.73394%2C%20-73.95154000000002%5D%2C%20%5B40.67585%2C%20-73.87307%5D%2C%20%5B40.70274000000001%2C%20-73.9263%5D%2C%20%5B40.72218%2C%20-73.99539%5D%2C%20%5B40.68814%2C%20-73.97452%5D%2C%20%5B40.77415%2C%20-73.93125%5D%2C%20%5B40.71863%2C%20-73.94528000000003%5D%2C%20%5B40.67814%2C%20-73.98264%5D%2C%20%5B40.75017%2C%20-73.97684%5D%2C%20%5B40.75198%2C%20-73.97266%5D%2C%20%5B40.71403%2C%20-73.99076%5D%2C%20%5B40.66189%2C%20-73.93309%5D%2C%20%5B40.66116%2C%20-73.96166%5D%2C%20%5B40.75313%2C%20-74.00235%5D%2C%20%5B40.74717%2C%20-73.94254000000002%5D%2C%20%5B40.76462%2C%20-73.98734%5D%2C%20%5B40.72353%2C%20-73.97646%5D%2C%20%5B40.67259%2C%20-73.9525%5D%2C%20%5B40.69823%2C%20-73.97357%5D%2C%20%5B40.77021%2C%20-73.98721%5D%2C%20%5B40.73389%2C%20-73.99083%5D%2C%20%5B40.70247%2C%20-73.90474%5D%2C%20%5B40.77444000000001%2C%20-73.73373000000002%5D%2C%20%5B40.63284%2C%20-73.91149%5D%2C%20%5B40.70476%2C%20-73.92309%5D%2C%20%5B40.74597%2C%20-73.91434%5D%2C%20%5B40.71908%2C%20-73.98379%5D%2C%20%5B40.66313%2C%20-73.94028%5D%2C%20%5B40.66646%2C%20-73.8734%5D%2C%20%5B40.72348%2C%20-73.99095%5D%2C%20%5B40.72466%2C%20-73.99632%5D%2C%20%5B40.83454%2C%20-73.94224%5D%2C%20%5B40.71989%2C%20-73.98459%5D%2C%20%5B40.87372%2C%20-73.88625%5D%2C%20%5B40.70031%2C%20-73.92848000000002%5D%2C%20%5B40.86139%2C%20-73.92744%5D%2C%20%5B40.71954%2C%20-73.94329%5D%2C%20%5B40.71686%2C%20-73.95638000000002%5D%2C%20%5B40.85277%2C%20-73.92916%5D%2C%20%5B40.65629000000001%2C%20-73.95177%5D%2C%20%5B40.74967%2C%20-73.86310999999998%5D%2C%20%5B40.61472%2C%20-73.99143000000002%5D%2C%20%5B40.70267%2C%20-73.88663000000003%5D%2C%20%5B40.80009%2C%20-73.97009%5D%2C%20%5B40.75932%2C%20-73.79859%5D%2C%20%5B40.8266%2C%20-73.94443000000003%5D%2C%20%5B40.73389%2C%20-73.98724%5D%2C%20%5B40.70294000000001%2C%20-73.94152%5D%2C%20%5B40.78726%2C%20-73.96866999999997%5D%2C%20%5B40.77479%2C%20-73.93545999999998%5D%2C%20%5B40.69049%2C%20-73.96842%5D%2C%20%5B40.66364%2C%20-73.95725%5D%2C%20%5B40.73478%2C%20-74.00015%5D%2C%20%5B40.74881%2C%20-73.97234%5D%2C%20%5B40.68991%2C%20-73.91349%5D%2C%20%5B40.73532%2C%20-73.99874%5D%2C%20%5B40.71959%2C%20-73.95153%5D%2C%20%5B40.72766%2C%20-73.97715%5D%2C%20%5B40.72792000000001%2C%20-73.98718000000002%5D%2C%20%5B40.69687%2C%20-73.94111%5D%2C%20%5B40.73716%2C%20-73.98835%5D%2C%20%5B40.65783%2C%20-73.98236%5D%2C%20%5B40.76078%2C%20-73.99864000000002%5D%2C%20%5B40.72683%2C%20-73.95905%5D%2C%20%5B40.80144%2C%20-73.95193%5D%2C%20%5B40.77961%2C%20-73.98441%5D%2C%20%5B40.69379%2C%20-73.93645%5D%2C%20%5B40.65014%2C%20-73.94451%5D%2C%20%5B40.79185%2C%20-73.94139%5D%2C%20%5B40.73009%2C%20-73.9827%5D%2C%20%5B40.73199%2C%20-73.98857%5D%2C%20%5B40.75094%2C%20-73.98100000000002%5D%2C%20%5B40.66916%2C%20-73.95288000000002%5D%2C%20%5B40.75969%2C%20-73.96644%5D%2C%20%5B40.73726%2C%20-73.9928%5D%2C%20%5B40.8204%2C%20-73.94651999999998%5D%2C%20%5B40.7594%2C%20-73.99748000000002%5D%2C%20%5B40.72592%2C%20-73.99933%5D%2C%20%5B40.74503%2C%20-73.87099%5D%2C%20%5B40.77116%2C%20-73.95776%5D%2C%20%5B40.75829%2C%20-73.97259%5D%2C%20%5B40.80316%2C%20-73.96545%5D%2C%20%5B40.69351%2C%20-73.95161%5D%2C%20%5B40.85753%2C%20-73.86605%5D%2C%20%5B40.69767%2C%20-73.93096%5D%2C%20%5B40.82996%2C%20-73.94714%5D%2C%20%5B40.74845%2C%20-73.89665%5D%2C%20%5B40.68447000000001%2C%20-73.96714%5D%2C%20%5B40.78955%2C%20-73.83921%5D%2C%20%5B40.76118%2C%20-73.98635%5D%2C%20%5B40.89374%2C%20-73.85579%5D%2C%20%5B40.77076%2C%20-73.94757%5D%2C%20%5B40.70288%2C%20-73.81531%5D%2C%20%5B40.70794%2C%20-73.92168000000002%5D%2C%20%5B40.75228%2C%20-73.97185%5D%2C%20%5B40.71141%2C%20-73.95155%5D%2C%20%5B40.6844%2C%20-73.8472%5D%2C%20%5B40.72428%2C%20-73.94686%5D%2C%20%5B40.70774%2C%20-73.90929%5D%2C%20%5B40.7082%2C%20-73.94476%5D%2C%20%5B40.69496%2C%20-73.9243%5D%2C%20%5B40.7874%2C%20-73.97051%5D%2C%20%5B40.80735%2C%20-73.94064%5D%2C%20%5B40.66017%2C%20-73.9475%5D%2C%20%5B40.76072%2C%20-73.99818%5D%2C%20%5B40.73031%2C%20-73.95742%5D%2C%20%5B40.71845%2C%20-74.00932%5D%2C%20%5B40.66192%2C%20-73.94668%5D%2C%20%5B40.65146%2C%20-73.96634%5D%2C%20%5B40.76832%2C%20-73.9346%5D%2C%20%5B40.75184%2C%20-73.97199%5D%2C%20%5B40.76143%2C%20-73.99223%5D%2C%20%5B40.75973%2C%20-73.98815%5D%2C%20%5B40.67847%2C%20-73.96661999999998%5D%2C%20%5B40.64749000000001%2C%20-73.99646%5D%2C%20%5B40.67205%2C%20-73.75343000000002%5D%2C%20%5B40.75872%2C%20-73.82174%5D%2C%20%5B40.68757%2C%20-73.94428%5D%2C%20%5B40.81401%2C%20-73.95393%5D%2C%20%5B40.81604%2C%20-73.94017%5D%2C%20%5B40.68297000000001%2C%20-73.95251%5D%2C%20%5B40.77705%2C%20-73.98118000000002%5D%2C%20%5B40.74578%2C%20-73.89328%5D%2C%20%5B40.71269%2C%20-73.94979000000002%5D%2C%20%5B40.70111%2C%20-73.92201999999997%5D%2C%20%5B40.64126%2C%20-73.90953%5D%2C%20%5B40.86646%2C%20-73.82154%5D%2C%20%5B40.70109%2C%20-73.93952%5D%2C%20%5B40.71914%2C%20-73.96236999999998%5D%2C%20%5B40.70376%2C%20-73.93519%5D%2C%20%5B40.58647%2C%20-74.15954%5D%2C%20%5B40.70631%2C%20-73.91922%5D%2C%20%5B40.73214%2C%20-73.95510999999998%5D%2C%20%5B40.75282%2C%20-73.97315%5D%2C%20%5B40.72362%2C%20-74.0053%5D%2C%20%5B40.69796%2C%20-73.93563%5D%2C%20%5B40.77439%2C%20-73.77723%5D%2C%20%5B40.84114%2C%20-73.93639%5D%2C%20%5B40.74825%2C%20-73.97673%5D%2C%20%5B40.67817%2C%20-74.00990999999998%5D%2C%20%5B40.75483%2C%20-73.99468%5D%2C%20%5B40.72223%2C%20-73.99189%5D%2C%20%5B40.79757%2C%20-73.94006%5D%2C%20%5B40.69719%2C%20-73.99229%5D%2C%20%5B40.80749%2C%20-73.93803%5D%2C%20%5B40.67682%2C%20-73.91597%5D%2C%20%5B40.75961%2C%20-73.91117%5D%2C%20%5B40.77212%2C%20-73.98640999999998%5D%2C%20%5B40.64929%2C%20-73.92685%5D%2C%20%5B40.60544%2C%20-74.00137%5D%2C%20%5B40.83423%2C%20-73.94723%5D%2C%20%5B40.84862%2C%20-73.92412%5D%2C%20%5B40.70723%2C%20-73.95515%5D%2C%20%5B40.74495%2C%20-73.9557%5D%2C%20%5B40.67252%2C%20-73.76597%5D%2C%20%5B40.85362%2C%20-73.85011%5D%2C%20%5B40.66106%2C%20-73.98316%5D%2C%20%5B40.67441%2C%20-73.95235%5D%2C%20%5B40.69061%2C%20-73.91348%5D%2C%20%5B40.71925%2C%20-73.98955%5D%2C%20%5B40.57115%2C%20-73.99408000000003%5D%2C%20%5B40.77181%2C%20-73.953%5D%2C%20%5B40.74869%2C%20-73.94294000000002%5D%2C%20%5B40.81236%2C%20-73.95204%5D%2C%20%5B40.77063%2C%20-73.95819%5D%2C%20%5B40.72179000000001%2C%20-73.9447%5D%2C%20%5B40.76084%2C%20-73.99899%5D%2C%20%5B40.76565%2C%20-73.99391999999997%5D%2C%20%5B40.84578%2C%20-73.93902%5D%2C%20%5B40.72722%2C%20-73.99914%5D%2C%20%5B40.66036%2C%20-73.98494000000002%5D%2C%20%5B40.86032%2C%20-73.88493000000003%5D%2C%20%5B40.74619000000001%2C%20-74.00559%5D%2C%20%5B40.76561%2C%20-73.79576%5D%2C%20%5B40.74676%2C%20-73.99562%5D%2C%20%5B40.83266%2C%20-73.9414%5D%2C%20%5B40.70492%2C%20-73.93341%5D%2C%20%5B40.68713%2C%20-73.98592%5D%2C%20%5B40.64487%2C%20-73.90080999999998%5D%2C%20%5B40.70706%2C%20-73.95071%5D%2C%20%5B40.78835%2C%20-73.9681%5D%2C%20%5B40.73495%2C%20-74.00033%5D%2C%20%5B40.75031%2C%20-73.99336%5D%2C%20%5B40.75494000000001%2C%20-73.96437%5D%2C%20%5B40.68198%2C%20-73.98962%5D%2C%20%5B40.7671%2C%20-73.98744%5D%2C%20%5B40.70147%2C%20-73.92005%5D%2C%20%5B40.80146%2C%20-73.96076%5D%2C%20%5B40.77225%2C%20-73.95326%5D%2C%20%5B40.73757%2C%20-73.95509%5D%2C%20%5B40.71706%2C%20-73.94091%5D%2C%20%5B40.68615%2C%20-73.93095%5D%2C%20%5B40.71099%2C%20-73.99441999999998%5D%2C%20%5B40.5903%2C%20-73.8143%5D%2C%20%5B40.62052%2C%20-73.91145%5D%2C%20%5B40.73458%2C%20-74.00492%5D%2C%20%5B40.74385%2C%20-73.97789%5D%2C%20%5B40.73126%2C%20-74.00502%5D%2C%20%5B40.67114%2C%20-73.94921%5D%2C%20%5B40.72613%2C%20-74.00825999999998%5D%2C%20%5B40.68465%2C%20-73.93847%5D%2C%20%5B40.76836%2C%20-73.91445%5D%2C%20%5B40.66391%2C%20-73.95618%5D%2C%20%5B40.62536%2C%20-73.929%5D%2C%20%5B40.81286%2C%20-73.93618000000002%5D%2C%20%5B40.67943%2C%20-73.98387%5D%2C%20%5B40.76259%2C%20-73.98666999999998%5D%2C%20%5B40.63428%2C%20-74.13339%5D%2C%20%5B40.7157%2C%20-73.99183000000002%5D%2C%20%5B40.7411%2C%20-73.99669%5D%2C%20%5B40.71256%2C%20-73.95121%5D%2C%20%5B40.80384%2C%20-73.95754000000002%5D%2C%20%5B40.83788%2C%20-73.9402%5D%2C%20%5B40.80142%2C%20-73.96931%5D%2C%20%5B40.72822%2C%20-73.99239%5D%2C%20%5B40.76648%2C%20-73.94098000000002%5D%2C%20%5B40.70713%2C%20-73.92918%5D%2C%20%5B40.64499%2C%20-74.02436999999998%5D%2C%20%5B40.64471%2C%20-73.9495%5D%2C%20%5B40.72507%2C%20-73.9827%5D%2C%20%5B40.74632%2C%20-73.97306999999998%5D%2C%20%5B40.74267%2C%20-73.90354%5D%2C%20%5B40.66698%2C%20-73.98161999999998%5D%2C%20%5B40.74026%2C%20-73.99746%5D%2C%20%5B40.76812%2C%20-73.95093%5D%2C%20%5B40.70776%2C%20-74.01514%5D%2C%20%5B40.75683%2C%20-73.93184000000002%5D%2C%20%5B40.756%2C%20-73.9205%5D%2C%20%5B40.74784%2C%20-73.9862%5D%2C%20%5B40.74278%2C%20-73.88069%5D%2C%20%5B40.68784%2C%20-73.95145%5D%2C%20%5B40.72574%2C%20-73.98272%5D%2C%20%5B40.69018%2C%20-73.92166%5D%2C%20%5B40.76139000000001%2C%20-73.96208%5D%2C%20%5B40.65925%2C%20-73.94861999999998%5D%2C%20%5B40.76109%2C%20-73.99305%5D%2C%20%5B40.7229%2C%20-73.98698%5D%2C%20%5B40.75375%2C%20-73.96361999999998%5D%2C%20%5B40.72133%2C%20-73.94903000000002%5D%2C%20%5B40.75565%2C%20-73.83361%5D%2C%20%5B40.85031%2C%20-73.90101999999997%5D%2C%20%5B40.68828%2C%20-73.95201%5D%2C%20%5B40.77158%2C%20-73.98976%5D%2C%20%5B40.6918%2C%20-73.94308000000002%5D%2C%20%5B40.66184000000001%2C%20-73.93436%5D%2C%20%5B40.75381%2C%20-73.97125%5D%2C%20%5B40.68126%2C%20-73.89457%5D%2C%20%5B40.8278%2C%20-73.94891%5D%2C%20%5B40.73049%2C%20-73.96115%5D%2C%20%5B40.6682%2C%20-73.88541%5D%2C%20%5B40.69905%2C%20-73.91874%5D%2C%20%5B40.71848%2C%20-73.85025%5D%2C%20%5B40.76222%2C%20-73.99889%5D%2C%20%5B40.76257%2C%20-73.92634%5D%2C%20%5B40.80414%2C%20-73.96498000000003%5D%2C%20%5B40.5781%2C%20-73.95455%5D%2C%20%5B40.76934%2C%20-73.98464%5D%2C%20%5B40.75251%2C%20-73.97261999999998%5D%2C%20%5B40.70664%2C%20-73.83395%5D%2C%20%5B40.68288%2C%20-73.96024%5D%2C%20%5B40.85423%2C%20-73.93215%5D%2C%20%5B40.72488%2C%20-73.98317%5D%2C%20%5B40.77428%2C%20-73.98594%5D%2C%20%5B40.58906%2C%20-73.79503000000003%5D%2C%20%5B40.69202%2C%20-73.95456%5D%2C%20%5B40.78528%2C%20-73.97623%5D%2C%20%5B40.66709%2C%20-73.96095%5D%2C%20%5B40.83043%2C%20-73.94672%5D%2C%20%5B40.74565%2C%20-73.99183000000002%5D%2C%20%5B40.72338%2C%20-73.98346%5D%2C%20%5B40.64928%2C%20-73.97538%5D%2C%20%5B40.6625%2C%20-73.88081%5D%2C%20%5B40.72899%2C%20-73.98334%5D%2C%20%5B40.82039%2C%20-73.94147%5D%2C%20%5B40.71952%2C%20-73.85523%5D%2C%20%5B40.68188%2C%20-73.99438%5D%2C%20%5B40.72759%2C%20-73.98619000000002%5D%2C%20%5B40.81205%2C%20-73.95322%5D%2C%20%5B40.72163%2C%20-73.98715%5D%2C%20%5B40.70713%2C%20-73.94537%5D%2C%20%5B40.81225%2C%20-73.85502%5D%2C%20%5B40.7732%2C%20-73.95029%5D%2C%20%5B40.84613%2C%20-73.91668%5D%2C%20%5B40.7248%2C%20-73.98774%5D%2C%20%5B40.8379%2C%20-73.94095%5D%2C%20%5B40.71703%2C%20-73.99338%5D%2C%20%5B40.74667%2C%20-73.98513%5D%2C%20%5B40.74607%2C%20-73.91415%5D%2C%20%5B40.67112%2C%20-73.73529%5D%2C%20%5B40.86352%2C%20-73.90503000000002%5D%2C%20%5B40.70677%2C%20-73.94196%5D%2C%20%5B40.65379%2C%20-74.00272%5D%2C%20%5B40.79829%2C%20-73.97266%5D%2C%20%5B40.71353%2C%20-73.95260999999998%5D%2C%20%5B40.71722000000001%2C%20-74.00293%5D%2C%20%5B40.76268%2C%20-73.82252%5D%2C%20%5B40.68396%2C%20-73.98914%5D%2C%20%5B40.83942%2C%20-73.93855%5D%2C%20%5B40.76643%2C%20-73.96181%5D%2C%20%5B40.72482%2C%20-73.98097%5D%2C%20%5B40.76216%2C%20-73.99775%5D%2C%20%5B40.82004000000001%2C%20-73.94622%5D%2C%20%5B40.65348%2C%20-74.00255%5D%2C%20%5B40.66736%2C%20-73.83457%5D%2C%20%5B40.82527%2C%20-73.95359%5D%2C%20%5B40.76172%2C%20-73.92098%5D%2C%20%5B40.7283%2C%20-73.98589%5D%2C%20%5B40.70732%2C%20-73.94385%5D%2C%20%5B40.55908%2C%20-74.11992%5D%2C%20%5B40.63543%2C%20-74.00701%5D%2C%20%5B40.74494%2C%20-73.9998%5D%2C%20%5B40.721%2C%20-73.94143000000003%5D%2C%20%5B40.68064%2C%20-73.94856%5D%2C%20%5B40.76161%2C%20-73.96191999999998%5D%2C%20%5B40.73399000000001%2C%20-74.00357%5D%2C%20%5B40.80209%2C%20-73.96741999999998%5D%2C%20%5B40.7137%2C%20-73.94331%5D%2C%20%5B40.63953%2C%20-73.96308%5D%2C%20%5B40.69707%2C%20-73.99632%5D%2C%20%5B40.65477%2C%20-73.92206999999998%5D%2C%20%5B40.73727%2C%20-74.00213000000002%5D%2C%20%5B40.75512%2C%20-73.99436999999998%5D%2C%20%5B40.66154%2C%20-73.91386999999997%5D%2C%20%5B40.70507%2C%20-73.90195%5D%2C%20%5B40.78285%2C%20-73.97487%5D%2C%20%5B40.68669000000001%2C%20-73.91897%5D%2C%20%5B40.75994%2C%20-73.99073%5D%2C%20%5B40.76207%2C%20-73.99937%5D%2C%20%5B40.70866%2C%20-73.94122%5D%2C%20%5B40.68865%2C%20-73.93684%5D%2C%20%5B40.68087%2C%20-73.97870999999998%5D%2C%20%5B40.70039000000001%2C%20-73.92352%5D%2C%20%5B40.72626%2C%20-73.98824%5D%2C%20%5B40.80745%2C%20-73.93955%5D%2C%20%5B40.83466%2C%20-73.90278%5D%2C%20%5B40.86686%2C%20-73.84206999999998%5D%2C%20%5B40.7425%2C%20-73.99443000000002%5D%2C%20%5B40.80793%2C%20-73.95127%5D%2C%20%5B40.81245%2C%20-73.95813000000003%5D%2C%20%5B40.78162%2C%20-73.9475%5D%2C%20%5B40.74817%2C%20-73.97665%5D%2C%20%5B40.74316%2C%20-73.98038000000003%5D%2C%20%5B40.73523%2C%20-73.99465%5D%2C%20%5B40.76619%2C%20-73.98987%5D%2C%20%5B40.74637%2C%20-73.97207%5D%2C%20%5B40.79208%2C%20-73.96481999999997%5D%5D%2C%0A%20%20%20%20%20%20%20%20%20%20%20%20%20%20%20%20%7B%22blur%22%3A%2015%2C%20%22maxZoom%22%3A%2018%2C%20%22minOpacity%22%3A%200.5%2C%20%22radius%22%3A%2025%7D%0A%20%20%20%20%20%20%20%20%20%20%20%20%29.addTo%28map_8ff2e115bbab4d17aa859c2c9bfe501c%29%3B%0A%20%20%20%20%20%20%20%20%0A%3C/script%3E onload=\"this.contentDocument.open();this.contentDocument.write(    decodeURIComponent(this.getAttribute('data-html')));this.contentDocument.close();\" allowfullscreen webkitallowfullscreen mozallowfullscreen></iframe></div></div>"
      ],
      "text/plain": [
       "<folium.folium.Map at 0x7f49d469c4d0>"
      ]
     },
     "execution_count": 17,
     "metadata": {},
     "output_type": "execute_result"
    }
   ],
   "source": [
    "#better interactive visualization of the density of rooms\n",
    "import folium \n",
    "from folium import plugins\n",
    "from folium.plugins import HeatMap\n",
    "ny_map = folium.Map(location=[40.7, -74],zoom_start =10)\n",
    "data_loc= data[['latitude','longitude']].values\n",
    "data_loc =data_loc.tolist()\n",
    "hm = plugins.HeatMap(data_loc)\n",
    "hm.add_to(ny_map)\n",
    "ny_map"
   ]
  },
  {
   "cell_type": "code",
   "execution_count": 18,
   "metadata": {
    "colab": {},
    "colab_type": "code",
    "id": "7tBCHjd3IKSp"
   },
   "outputs": [
    {
     "data": {
      "text/html": [
       "<div>\n",
       "<style scoped>\n",
       "    .dataframe tbody tr th:only-of-type {\n",
       "        vertical-align: middle;\n",
       "    }\n",
       "\n",
       "    .dataframe tbody tr th {\n",
       "        vertical-align: top;\n",
       "    }\n",
       "\n",
       "    .dataframe thead th {\n",
       "        text-align: right;\n",
       "    }\n",
       "</style>\n",
       "<table border=\"1\" class=\"dataframe\">\n",
       "  <thead>\n",
       "    <tr style=\"text-align: right;\">\n",
       "      <th></th>\n",
       "      <th>count</th>\n",
       "      <th>mean</th>\n",
       "      <th>std</th>\n",
       "      <th>min</th>\n",
       "      <th>25%</th>\n",
       "      <th>50%</th>\n",
       "      <th>75%</th>\n",
       "      <th>max</th>\n",
       "    </tr>\n",
       "    <tr>\n",
       "      <th>region</th>\n",
       "      <th></th>\n",
       "      <th></th>\n",
       "      <th></th>\n",
       "      <th></th>\n",
       "      <th></th>\n",
       "      <th></th>\n",
       "      <th></th>\n",
       "      <th></th>\n",
       "    </tr>\n",
       "  </thead>\n",
       "  <tbody>\n",
       "    <tr>\n",
       "      <th>Bronx</th>\n",
       "      <td>78.0</td>\n",
       "      <td>0.730769</td>\n",
       "      <td>0.446431</td>\n",
       "      <td>0.0</td>\n",
       "      <td>0.0</td>\n",
       "      <td>1.0</td>\n",
       "      <td>1.0</td>\n",
       "      <td>1.0</td>\n",
       "    </tr>\n",
       "    <tr>\n",
       "      <th>Brooklyn</th>\n",
       "      <td>1075.0</td>\n",
       "      <td>0.447442</td>\n",
       "      <td>0.497461</td>\n",
       "      <td>0.0</td>\n",
       "      <td>0.0</td>\n",
       "      <td>0.0</td>\n",
       "      <td>1.0</td>\n",
       "      <td>1.0</td>\n",
       "    </tr>\n",
       "    <tr>\n",
       "      <th>Manhattan</th>\n",
       "      <td>1333.0</td>\n",
       "      <td>0.488372</td>\n",
       "      <td>0.500052</td>\n",
       "      <td>0.0</td>\n",
       "      <td>0.0</td>\n",
       "      <td>0.0</td>\n",
       "      <td>1.0</td>\n",
       "      <td>1.0</td>\n",
       "    </tr>\n",
       "    <tr>\n",
       "      <th>Queens</th>\n",
       "      <td>370.0</td>\n",
       "      <td>0.621622</td>\n",
       "      <td>0.485639</td>\n",
       "      <td>0.0</td>\n",
       "      <td>0.0</td>\n",
       "      <td>1.0</td>\n",
       "      <td>1.0</td>\n",
       "      <td>1.0</td>\n",
       "    </tr>\n",
       "    <tr>\n",
       "      <th>Staten Island</th>\n",
       "      <td>14.0</td>\n",
       "      <td>0.857143</td>\n",
       "      <td>0.363137</td>\n",
       "      <td>0.0</td>\n",
       "      <td>1.0</td>\n",
       "      <td>1.0</td>\n",
       "      <td>1.0</td>\n",
       "      <td>1.0</td>\n",
       "    </tr>\n",
       "  </tbody>\n",
       "</table>\n",
       "</div>"
      ],
      "text/plain": [
       "                count      mean       std  min  25%  50%  75%  max\n",
       "region                                                            \n",
       "Bronx            78.0  0.730769  0.446431  0.0  0.0  1.0  1.0  1.0\n",
       "Brooklyn       1075.0  0.447442  0.497461  0.0  0.0  0.0  1.0  1.0\n",
       "Manhattan      1333.0  0.488372  0.500052  0.0  0.0  0.0  1.0  1.0\n",
       "Queens          370.0  0.621622  0.485639  0.0  0.0  1.0  1.0  1.0\n",
       "Staten Island    14.0  0.857143  0.363137  0.0  1.0  1.0  1.0  1.0"
      ]
     },
     "execution_count": 18,
     "metadata": {},
     "output_type": "execute_result"
    }
   ],
   "source": [
    "set(data['region'])\n",
    "{'Bronx', 'Brooklyn', 'Manhattan', 'Queens', 'Staten Island'}\n",
    "data.groupby('region')['yearly_availability'].describe()"
   ]
  },
  {
   "cell_type": "markdown",
   "metadata": {},
   "source": [
    "Findings:\n",
    "    From the above table we can observe how the yearly availability changes based on the region\n",
    "    Staten Island has very few listings but 85.7% of it's listings are yealry_available\n",
    "    Only 44% of the listings in Brooklyn are yearly_available\n",
    "    Looking at this we can say that region will be an important feature to predict the target variable, 'yearly_availability'"
   ]
  },
  {
   "cell_type": "code",
   "execution_count": 19,
   "metadata": {
    "colab": {},
    "colab_type": "code",
    "id": "1Vk1EEy9IKSv"
   },
   "outputs": [
    {
     "data": {
      "image/png": "[encoded data removed]",
      "text/plain": [
       "<Figure size 1152x576 with 2 Axes>"
      ]
     },
     "metadata": {
      "needs_background": "light"
     },
     "output_type": "display_data"
    }
   ],
   "source": [
    "#Let us look at how the data is distributed across different regions\n",
    "f,ax=plt.subplots(1,2,figsize=(16,8))\n",
    "data['region'].value_counts().plot.pie(explode=[0,0.05,0,0,0],autopct='%1.1f%%',ax=ax[0],shadow=True)\n",
    "ax[0].set_title('Share of Region')\n",
    "ax[0].set_ylabel('Region Share')\n",
    "sns.countplot('region',data=data,ax=ax[1],order=data['region'].value_counts().index)\n",
    "ax[1].set_title('Share of Region')\n",
    "plt.show()"
   ]
  },
  {
   "cell_type": "markdown",
   "metadata": {
    "colab": {},
    "colab_type": "code",
    "id": "nkQU41WSIKSz"
   },
   "source": [
    "### Exploring Accomodation Type"
   ]
  },
  {
   "cell_type": "code",
   "execution_count": 20,
   "metadata": {},
   "outputs": [
    {
     "data": {
      "text/html": [
       "<div>\n",
       "<style scoped>\n",
       "    .dataframe tbody tr th:only-of-type {\n",
       "        vertical-align: middle;\n",
       "    }\n",
       "\n",
       "    .dataframe tbody tr th {\n",
       "        vertical-align: top;\n",
       "    }\n",
       "\n",
       "    .dataframe thead th {\n",
       "        text-align: right;\n",
       "    }\n",
       "</style>\n",
       "<table border=\"1\" class=\"dataframe\">\n",
       "  <thead>\n",
       "    <tr style=\"text-align: right;\">\n",
       "      <th></th>\n",
       "      <th>count</th>\n",
       "      <th>mean</th>\n",
       "      <th>std</th>\n",
       "      <th>min</th>\n",
       "      <th>25%</th>\n",
       "      <th>50%</th>\n",
       "      <th>75%</th>\n",
       "      <th>max</th>\n",
       "    </tr>\n",
       "    <tr>\n",
       "      <th>accommodation_type</th>\n",
       "      <th></th>\n",
       "      <th></th>\n",
       "      <th></th>\n",
       "      <th></th>\n",
       "      <th></th>\n",
       "      <th></th>\n",
       "      <th></th>\n",
       "      <th></th>\n",
       "    </tr>\n",
       "  </thead>\n",
       "  <tbody>\n",
       "    <tr>\n",
       "      <th>Entire home/apt</th>\n",
       "      <td>1002.0</td>\n",
       "      <td>0.057884</td>\n",
       "      <td>0.233641</td>\n",
       "      <td>0.0</td>\n",
       "      <td>0.0</td>\n",
       "      <td>0.0</td>\n",
       "      <td>0.0</td>\n",
       "      <td>1.0</td>\n",
       "    </tr>\n",
       "    <tr>\n",
       "      <th>Private room</th>\n",
       "      <td>1225.0</td>\n",
       "      <td>0.898776</td>\n",
       "      <td>0.301749</td>\n",
       "      <td>0.0</td>\n",
       "      <td>1.0</td>\n",
       "      <td>1.0</td>\n",
       "      <td>1.0</td>\n",
       "      <td>1.0</td>\n",
       "    </tr>\n",
       "    <tr>\n",
       "      <th>Shared room</th>\n",
       "      <td>643.0</td>\n",
       "      <td>0.423017</td>\n",
       "      <td>0.494423</td>\n",
       "      <td>0.0</td>\n",
       "      <td>0.0</td>\n",
       "      <td>0.0</td>\n",
       "      <td>1.0</td>\n",
       "      <td>1.0</td>\n",
       "    </tr>\n",
       "  </tbody>\n",
       "</table>\n",
       "</div>"
      ],
      "text/plain": [
       "                     count      mean       std  min  25%  50%  75%  max\n",
       "accommodation_type                                                     \n",
       "Entire home/apt     1002.0  0.057884  0.233641  0.0  0.0  0.0  0.0  1.0\n",
       "Private room        1225.0  0.898776  0.301749  0.0  1.0  1.0  1.0  1.0\n",
       "Shared room          643.0  0.423017  0.494423  0.0  0.0  0.0  1.0  1.0"
      ]
     },
     "execution_count": 20,
     "metadata": {},
     "output_type": "execute_result"
    }
   ],
   "source": [
    "#Let's look at how accomodation type is realted to target variable\n",
    "set(data['accommodation_type'])\n",
    "{'Private room','Entire home/apt','Shared room',}\n",
    "data.groupby('accommodation_type')['yearly_availability'].describe()"
   ]
  },
  {
   "cell_type": "markdown",
   "metadata": {},
   "source": [
    "Findings:\n",
    "    From the above table we can observe how the yearly availability changes based on the accomodation_type\n",
    "    Almost 90% of Private Rooms listings are yealry_available\n",
    "    Only 0.05% of the Entire Hhomlistings in Brooklyn are yearly_available\n",
    "    Looking at this we can say that region will be an important feature to predict the target variable, 'yearly_availability'"
   ]
  },
  {
   "cell_type": "markdown",
   "metadata": {},
   "source": [
    "## Exploring Numerical Varibables"
   ]
  },
  {
   "cell_type": "code",
   "execution_count": 21,
   "metadata": {},
   "outputs": [
    {
     "name": "stdout",
     "output_type": "stream",
     "text": [
      "There are 10 numerical variables\n",
      "\n",
      "The numerical variables are :\n",
      "\n",
      " ['id', 'latitude', 'longitude', 'cost', 'minimum_nights', 'number_of_reviews', 'reviews_per_month', 'owner_id', 'owned_hotels', 'yearly_availability']\n"
     ]
    }
   ],
   "source": [
    "numerical = [var for var in data.columns if data[var].dtype!='O']\n",
    "\n",
    "print('There are {} numerical variables\\n'.format(len(numerical)))\n",
    "\n",
    "print('The numerical variables are :\\n\\n', numerical)"
   ]
  },
  {
   "cell_type": "code",
   "execution_count": 22,
   "metadata": {},
   "outputs": [
    {
     "data": {
      "text/html": [
       "<div>\n",
       "<style scoped>\n",
       "    .dataframe tbody tr th:only-of-type {\n",
       "        vertical-align: middle;\n",
       "    }\n",
       "\n",
       "    .dataframe tbody tr th {\n",
       "        vertical-align: top;\n",
       "    }\n",
       "\n",
       "    .dataframe thead th {\n",
       "        text-align: right;\n",
       "    }\n",
       "</style>\n",
       "<table border=\"1\" class=\"dataframe\">\n",
       "  <thead>\n",
       "    <tr style=\"text-align: right;\">\n",
       "      <th></th>\n",
       "      <th>id</th>\n",
       "      <th>latitude</th>\n",
       "      <th>longitude</th>\n",
       "      <th>cost</th>\n",
       "      <th>minimum_nights</th>\n",
       "      <th>number_of_reviews</th>\n",
       "      <th>reviews_per_month</th>\n",
       "      <th>owner_id</th>\n",
       "      <th>owned_hotels</th>\n",
       "      <th>yearly_availability</th>\n",
       "    </tr>\n",
       "  </thead>\n",
       "  <tbody>\n",
       "    <tr>\n",
       "      <th>0</th>\n",
       "      <td>13232</td>\n",
       "      <td>40.71854</td>\n",
       "      <td>-74.00439</td>\n",
       "      <td>170</td>\n",
       "      <td>5</td>\n",
       "      <td>7</td>\n",
       "      <td>0.56</td>\n",
       "      <td>929983</td>\n",
       "      <td>1</td>\n",
       "      <td>0</td>\n",
       "    </tr>\n",
       "    <tr>\n",
       "      <th>1</th>\n",
       "      <td>246</td>\n",
       "      <td>40.64446</td>\n",
       "      <td>-73.95030</td>\n",
       "      <td>65</td>\n",
       "      <td>3</td>\n",
       "      <td>238</td>\n",
       "      <td>2.30</td>\n",
       "      <td>281764</td>\n",
       "      <td>1</td>\n",
       "      <td>0</td>\n",
       "    </tr>\n",
       "    <tr>\n",
       "      <th>2</th>\n",
       "      <td>19091</td>\n",
       "      <td>40.78573</td>\n",
       "      <td>-73.81062</td>\n",
       "      <td>85</td>\n",
       "      <td>1</td>\n",
       "      <td>0</td>\n",
       "      <td>0.00</td>\n",
       "      <td>19923341</td>\n",
       "      <td>1</td>\n",
       "      <td>1</td>\n",
       "    </tr>\n",
       "    <tr>\n",
       "      <th>3</th>\n",
       "      <td>34305</td>\n",
       "      <td>40.73863</td>\n",
       "      <td>-73.98002</td>\n",
       "      <td>210</td>\n",
       "      <td>30</td>\n",
       "      <td>0</td>\n",
       "      <td>0.00</td>\n",
       "      <td>200380610</td>\n",
       "      <td>65</td>\n",
       "      <td>1</td>\n",
       "    </tr>\n",
       "    <tr>\n",
       "      <th>4</th>\n",
       "      <td>444</td>\n",
       "      <td>40.82426</td>\n",
       "      <td>-73.94630</td>\n",
       "      <td>75</td>\n",
       "      <td>3</td>\n",
       "      <td>38</td>\n",
       "      <td>0.42</td>\n",
       "      <td>745069</td>\n",
       "      <td>3</td>\n",
       "      <td>1</td>\n",
       "    </tr>\n",
       "  </tbody>\n",
       "</table>\n",
       "</div>"
      ],
      "text/plain": [
       "      id  latitude  longitude  cost  minimum_nights  number_of_reviews  \\\n",
       "0  13232  40.71854  -74.00439   170               5                  7   \n",
       "1    246  40.64446  -73.95030    65               3                238   \n",
       "2  19091  40.78573  -73.81062    85               1                  0   \n",
       "3  34305  40.73863  -73.98002   210              30                  0   \n",
       "4    444  40.82426  -73.94630    75               3                 38   \n",
       "\n",
       "   reviews_per_month   owner_id  owned_hotels  yearly_availability  \n",
       "0               0.56     929983             1                    0  \n",
       "1               2.30     281764             1                    0  \n",
       "2               0.00   19923341             1                    1  \n",
       "3               0.00  200380610            65                    1  \n",
       "4               0.42     745069             3                    1  "
      ]
     },
     "execution_count": 22,
     "metadata": {},
     "output_type": "execute_result"
    }
   ],
   "source": [
    "data[numerical].head()"
   ]
  },
  {
   "cell_type": "markdown",
   "metadata": {},
   "source": [
    "### Let's explore the target vaiable yearly availability "
   ]
  },
  {
   "cell_type": "code",
   "execution_count": 23,
   "metadata": {},
   "outputs": [
    {
     "data": {
      "text/plain": [
       "0    1439\n",
       "1    1431\n",
       "Name: yearly_availability, dtype: int64"
      ]
     },
     "execution_count": 23,
     "metadata": {},
     "output_type": "execute_result"
    }
   ],
   "source": [
    "# view the frequency distribution of values\n",
    "data['yearly_availability'].value_counts()"
   ]
  },
  {
   "cell_type": "code",
   "execution_count": 24,
   "metadata": {},
   "outputs": [
    {
     "data": {
      "text/plain": [
       "0    0.501394\n",
       "1    0.498606\n",
       "Name: yearly_availability, dtype: float64"
      ]
     },
     "execution_count": 24,
     "metadata": {},
     "output_type": "execute_result"
    }
   ],
   "source": [
    "# view percentage of frequency distribution of values\n",
    "data['yearly_availability'].value_counts()/len(data)"
   ]
  },
  {
   "cell_type": "code",
   "execution_count": 25,
   "metadata": {},
   "outputs": [
    {
     "data": {
      "image/png": "[encoded data removed]",
      "text/plain": [
       "<Figure size 1296x576 with 2 Axes>"
      ]
     },
     "metadata": {
      "needs_background": "light"
     },
     "output_type": "display_data"
    }
   ],
   "source": [
    "# visualize frequency distribution of yearly availability variable\n",
    "\n",
    "f,ax=plt.subplots(1,2,figsize=(18,8))\n",
    "ax[0] = data['yearly_availability'].value_counts().plot.pie(explode=[0,0],autopct='%1.1f%%',ax=ax[0],shadow=True)\n",
    "ax[0].set_title('yearly availability Share')\n",
    "#f, ax = plt.subplots(figsize=(6, 8))\n",
    "ax[1] = sns.countplot(x=\"yearly_availability\", data=data, palette=\"Set1\")\n",
    "ax[1].set_title(\"Frequency distribution of yearly_availability variable\")\n",
    "plt.show()"
   ]
  },
  {
   "cell_type": "markdown",
   "metadata": {},
   "source": [
    "Findings:\n",
    "    The target variable is more or less equally distributed"
   ]
  },
  {
   "cell_type": "code",
   "execution_count": 26,
   "metadata": {},
   "outputs": [
    {
     "data": {
      "image/png": "[encoded data removed]",
      "text/plain": [
       "<Figure size 720x576 with 1 Axes>"
      ]
     },
     "metadata": {
      "needs_background": "light"
     },
     "output_type": "display_data"
    }
   ],
   "source": [
    "#Visualize target variable as per region\n",
    "f, ax = plt.subplots(figsize=(10, 8))\n",
    "ax = sns.countplot(x=\"yearly_availability\", hue=\"region\", data=data, palette=\"Set1\")\n",
    "ax.set_title(\"Frequency distribution of yearly_availability variable as per region\")\n",
    "plt.show()"
   ]
  },
  {
   "cell_type": "code",
   "execution_count": 27,
   "metadata": {},
   "outputs": [
    {
     "data": {
      "image/png": "[encoded data removed]",
      "text/plain": [
       "<Figure size 720x576 with 1 Axes>"
      ]
     },
     "metadata": {
      "needs_background": "light"
     },
     "output_type": "display_data"
    }
   ],
   "source": [
    "#Visualize target variable as per accomodation type\n",
    "f, ax = plt.subplots(figsize=(10, 8))\n",
    "ax = sns.countplot(x=\"yearly_availability\", hue=\"accommodation_type\", data=data, palette=\"Set1\")\n",
    "ax.set_title(\"Frequency distribution of yearly_availability variable as per accomodation type\")\n",
    "plt.show()"
   ]
  },
  {
   "cell_type": "code",
   "execution_count": 28,
   "metadata": {},
   "outputs": [],
   "source": [
    "#Not able to save file if using plotly plots\n",
    "import plotly.express as px\n",
    "fig = px.imshow(data.corr())"
   ]
  },
  {
   "cell_type": "code",
   "execution_count": 29,
   "metadata": {},
   "outputs": [
    {
     "data": {
      "text/html": [
       "<style  type=\"text/css\" >\n",
       "    #T_d0eb8470_8a94_11ec_aa71_068a23cdc7e2row0_col0 {\n",
       "            background-color:  #f7fbff;\n",
       "            color:  #000000;\n",
       "        }    #T_d0eb8470_8a94_11ec_aa71_068a23cdc7e2row0_col1 {\n",
       "            background-color:  #1e6db2;\n",
       "            color:  #f1f1f1;\n",
       "        }    #T_d0eb8470_8a94_11ec_aa71_068a23cdc7e2row0_col2 {\n",
       "            background-color:  #2d7dbb;\n",
       "            color:  #000000;\n",
       "        }    #T_d0eb8470_8a94_11ec_aa71_068a23cdc7e2row0_col3 {\n",
       "            background-color:  #1b69af;\n",
       "            color:  #f1f1f1;\n",
       "        }    #T_d0eb8470_8a94_11ec_aa71_068a23cdc7e2row0_col4 {\n",
       "            background-color:  #1561a9;\n",
       "            color:  #f1f1f1;\n",
       "        }    #T_d0eb8470_8a94_11ec_aa71_068a23cdc7e2row0_col5 {\n",
       "            background-color:  #08306b;\n",
       "            color:  #f1f1f1;\n",
       "        }    #T_d0eb8470_8a94_11ec_aa71_068a23cdc7e2row0_col6 {\n",
       "            background-color:  #3d8dc4;\n",
       "            color:  #000000;\n",
       "        }    #T_d0eb8470_8a94_11ec_aa71_068a23cdc7e2row0_col7 {\n",
       "            background-color:  #a4cce3;\n",
       "            color:  #000000;\n",
       "        }    #T_d0eb8470_8a94_11ec_aa71_068a23cdc7e2row0_col8 {\n",
       "            background-color:  #2575b7;\n",
       "            color:  #000000;\n",
       "        }    #T_d0eb8470_8a94_11ec_aa71_068a23cdc7e2row0_col9 {\n",
       "            background-color:  #08519c;\n",
       "            color:  #f1f1f1;\n",
       "        }    #T_d0eb8470_8a94_11ec_aa71_068a23cdc7e2row1_col0 {\n",
       "            background-color:  #08326e;\n",
       "            color:  #f1f1f1;\n",
       "        }    #T_d0eb8470_8a94_11ec_aa71_068a23cdc7e2row1_col1 {\n",
       "            background-color:  #f7fbff;\n",
       "            color:  #000000;\n",
       "        }    #T_d0eb8470_8a94_11ec_aa71_068a23cdc7e2row1_col2 {\n",
       "            background-color:  #084387;\n",
       "            color:  #f1f1f1;\n",
       "        }    #T_d0eb8470_8a94_11ec_aa71_068a23cdc7e2row1_col3 {\n",
       "            background-color:  #083877;\n",
       "            color:  #f1f1f1;\n",
       "        }    #T_d0eb8470_8a94_11ec_aa71_068a23cdc7e2row1_col4 {\n",
       "            background-color:  #083877;\n",
       "            color:  #f1f1f1;\n",
       "        }    #T_d0eb8470_8a94_11ec_aa71_068a23cdc7e2row1_col5 {\n",
       "            background-color:  #083776;\n",
       "            color:  #f1f1f1;\n",
       "        }    #T_d0eb8470_8a94_11ec_aa71_068a23cdc7e2row1_col6 {\n",
       "            background-color:  #083a7a;\n",
       "            color:  #f1f1f1;\n",
       "        }    #T_d0eb8470_8a94_11ec_aa71_068a23cdc7e2row1_col7 {\n",
       "            background-color:  #083370;\n",
       "            color:  #f1f1f1;\n",
       "        }    #T_d0eb8470_8a94_11ec_aa71_068a23cdc7e2row1_col8 {\n",
       "            background-color:  #08478d;\n",
       "            color:  #f1f1f1;\n",
       "        }    #T_d0eb8470_8a94_11ec_aa71_068a23cdc7e2row1_col9 {\n",
       "            background-color:  #08306b;\n",
       "            color:  #f1f1f1;\n",
       "        }    #T_d0eb8470_8a94_11ec_aa71_068a23cdc7e2row2_col0 {\n",
       "            background-color:  #125ea6;\n",
       "            color:  #f1f1f1;\n",
       "        }    #T_d0eb8470_8a94_11ec_aa71_068a23cdc7e2row2_col1 {\n",
       "            background-color:  #105ba4;\n",
       "            color:  #f1f1f1;\n",
       "        }    #T_d0eb8470_8a94_11ec_aa71_068a23cdc7e2row2_col2 {\n",
       "            background-color:  #f7fbff;\n",
       "            color:  #000000;\n",
       "        }    #T_d0eb8470_8a94_11ec_aa71_068a23cdc7e2row2_col3 {\n",
       "            background-color:  #08316d;\n",
       "            color:  #f1f1f1;\n",
       "        }    #T_d0eb8470_8a94_11ec_aa71_068a23cdc7e2row2_col4 {\n",
       "            background-color:  #084082;\n",
       "            color:  #f1f1f1;\n",
       "        }    #T_d0eb8470_8a94_11ec_aa71_068a23cdc7e2row2_col5 {\n",
       "            background-color:  #09529d;\n",
       "            color:  #f1f1f1;\n",
       "        }    #T_d0eb8470_8a94_11ec_aa71_068a23cdc7e2row2_col6 {\n",
       "            background-color:  #115ca5;\n",
       "            color:  #f1f1f1;\n",
       "        }    #T_d0eb8470_8a94_11ec_aa71_068a23cdc7e2row2_col7 {\n",
       "            background-color:  #2070b4;\n",
       "            color:  #f1f1f1;\n",
       "        }    #T_d0eb8470_8a94_11ec_aa71_068a23cdc7e2row2_col8 {\n",
       "            background-color:  #08306b;\n",
       "            color:  #f1f1f1;\n",
       "        }    #T_d0eb8470_8a94_11ec_aa71_068a23cdc7e2row2_col9 {\n",
       "            background-color:  #1c6bb0;\n",
       "            color:  #f1f1f1;\n",
       "        }    #T_d0eb8470_8a94_11ec_aa71_068a23cdc7e2row3_col0 {\n",
       "            background-color:  #08478d;\n",
       "            color:  #f1f1f1;\n",
       "        }    #T_d0eb8470_8a94_11ec_aa71_068a23cdc7e2row3_col1 {\n",
       "            background-color:  #08519c;\n",
       "            color:  #f1f1f1;\n",
       "        }    #T_d0eb8470_8a94_11ec_aa71_068a23cdc7e2row3_col2 {\n",
       "            background-color:  #08306b;\n",
       "            color:  #f1f1f1;\n",
       "        }    #T_d0eb8470_8a94_11ec_aa71_068a23cdc7e2row3_col3 {\n",
       "            background-color:  #f7fbff;\n",
       "            color:  #000000;\n",
       "        }    #T_d0eb8470_8a94_11ec_aa71_068a23cdc7e2row3_col4 {\n",
       "            background-color:  #105ba4;\n",
       "            color:  #f1f1f1;\n",
       "        }    #T_d0eb8470_8a94_11ec_aa71_068a23cdc7e2row3_col5 {\n",
       "            background-color:  #083d7f;\n",
       "            color:  #f1f1f1;\n",
       "        }    #T_d0eb8470_8a94_11ec_aa71_068a23cdc7e2row3_col6 {\n",
       "            background-color:  #08326e;\n",
       "            color:  #f1f1f1;\n",
       "        }    #T_d0eb8470_8a94_11ec_aa71_068a23cdc7e2row3_col7 {\n",
       "            background-color:  #084488;\n",
       "            color:  #f1f1f1;\n",
       "        }    #T_d0eb8470_8a94_11ec_aa71_068a23cdc7e2row3_col8 {\n",
       "            background-color:  #0c56a0;\n",
       "            color:  #f1f1f1;\n",
       "        }    #T_d0eb8470_8a94_11ec_aa71_068a23cdc7e2row3_col9 {\n",
       "            background-color:  #2070b4;\n",
       "            color:  #f1f1f1;\n",
       "        }    #T_d0eb8470_8a94_11ec_aa71_068a23cdc7e2row4_col0 {\n",
       "            background-color:  #083d7f;\n",
       "            color:  #f1f1f1;\n",
       "        }    #T_d0eb8470_8a94_11ec_aa71_068a23cdc7e2row4_col1 {\n",
       "            background-color:  #09529d;\n",
       "            color:  #f1f1f1;\n",
       "        }    #T_d0eb8470_8a94_11ec_aa71_068a23cdc7e2row4_col2 {\n",
       "            background-color:  #083e81;\n",
       "            color:  #f1f1f1;\n",
       "        }    #T_d0eb8470_8a94_11ec_aa71_068a23cdc7e2row4_col3 {\n",
       "            background-color:  #115ca5;\n",
       "            color:  #f1f1f1;\n",
       "        }    #T_d0eb8470_8a94_11ec_aa71_068a23cdc7e2row4_col4 {\n",
       "            background-color:  #f7fbff;\n",
       "            color:  #000000;\n",
       "        }    #T_d0eb8470_8a94_11ec_aa71_068a23cdc7e2row4_col5 {\n",
       "            background-color:  #083b7c;\n",
       "            color:  #f1f1f1;\n",
       "        }    #T_d0eb8470_8a94_11ec_aa71_068a23cdc7e2row4_col6 {\n",
       "            background-color:  #08306b;\n",
       "            color:  #f1f1f1;\n",
       "        }    #T_d0eb8470_8a94_11ec_aa71_068a23cdc7e2row4_col7 {\n",
       "            background-color:  #084c95;\n",
       "            color:  #f1f1f1;\n",
       "        }    #T_d0eb8470_8a94_11ec_aa71_068a23cdc7e2row4_col8 {\n",
       "            background-color:  #1a68ae;\n",
       "            color:  #f1f1f1;\n",
       "        }    #T_d0eb8470_8a94_11ec_aa71_068a23cdc7e2row4_col9 {\n",
       "            background-color:  #2777b8;\n",
       "            color:  #000000;\n",
       "        }    #T_d0eb8470_8a94_11ec_aa71_068a23cdc7e2row5_col0 {\n",
       "            background-color:  #08306b;\n",
       "            color:  #f1f1f1;\n",
       "        }    #T_d0eb8470_8a94_11ec_aa71_068a23cdc7e2row5_col1 {\n",
       "            background-color:  #2171b5;\n",
       "            color:  #f1f1f1;\n",
       "        }    #T_d0eb8470_8a94_11ec_aa71_068a23cdc7e2row5_col2 {\n",
       "            background-color:  #2171b5;\n",
       "            color:  #f1f1f1;\n",
       "        }    #T_d0eb8470_8a94_11ec_aa71_068a23cdc7e2row5_col3 {\n",
       "            background-color:  #1562a9;\n",
       "            color:  #f1f1f1;\n",
       "        }    #T_d0eb8470_8a94_11ec_aa71_068a23cdc7e2row5_col4 {\n",
       "            background-color:  #135fa7;\n",
       "            color:  #f1f1f1;\n",
       "        }    #T_d0eb8470_8a94_11ec_aa71_068a23cdc7e2row5_col5 {\n",
       "            background-color:  #f7fbff;\n",
       "            color:  #000000;\n",
       "        }    #T_d0eb8470_8a94_11ec_aa71_068a23cdc7e2row5_col6 {\n",
       "            background-color:  #b0d2e7;\n",
       "            color:  #000000;\n",
       "        }    #T_d0eb8470_8a94_11ec_aa71_068a23cdc7e2row5_col7 {\n",
       "            background-color:  #08519c;\n",
       "            color:  #f1f1f1;\n",
       "        }    #T_d0eb8470_8a94_11ec_aa71_068a23cdc7e2row5_col8 {\n",
       "            background-color:  #0f5aa3;\n",
       "            color:  #f1f1f1;\n",
       "        }    #T_d0eb8470_8a94_11ec_aa71_068a23cdc7e2row5_col9 {\n",
       "            background-color:  #084b93;\n",
       "            color:  #f1f1f1;\n",
       "        }    #T_d0eb8470_8a94_11ec_aa71_068a23cdc7e2row6_col0 {\n",
       "            background-color:  #3b8bc2;\n",
       "            color:  #000000;\n",
       "        }    #T_d0eb8470_8a94_11ec_aa71_068a23cdc7e2row6_col1 {\n",
       "            background-color:  #2070b4;\n",
       "            color:  #f1f1f1;\n",
       "        }    #T_d0eb8470_8a94_11ec_aa71_068a23cdc7e2row6_col2 {\n",
       "            background-color:  #2979b9;\n",
       "            color:  #000000;\n",
       "        }    #T_d0eb8470_8a94_11ec_aa71_068a23cdc7e2row6_col3 {\n",
       "            background-color:  #0b559f;\n",
       "            color:  #f1f1f1;\n",
       "        }    #T_d0eb8470_8a94_11ec_aa71_068a23cdc7e2row6_col4 {\n",
       "            background-color:  #09529d;\n",
       "            color:  #f1f1f1;\n",
       "        }    #T_d0eb8470_8a94_11ec_aa71_068a23cdc7e2row6_col5 {\n",
       "            background-color:  #afd1e7;\n",
       "            color:  #000000;\n",
       "        }    #T_d0eb8470_8a94_11ec_aa71_068a23cdc7e2row6_col6 {\n",
       "            background-color:  #f7fbff;\n",
       "            color:  #000000;\n",
       "        }    #T_d0eb8470_8a94_11ec_aa71_068a23cdc7e2row6_col7 {\n",
       "            background-color:  #2e7ebc;\n",
       "            color:  #000000;\n",
       "        }    #T_d0eb8470_8a94_11ec_aa71_068a23cdc7e2row6_col8 {\n",
       "            background-color:  #08519c;\n",
       "            color:  #f1f1f1;\n",
       "        }    #T_d0eb8470_8a94_11ec_aa71_068a23cdc7e2row6_col9 {\n",
       "            background-color:  #08306b;\n",
       "            color:  #f1f1f1;\n",
       "        }    #T_d0eb8470_8a94_11ec_aa71_068a23cdc7e2row7_col0 {\n",
       "            background-color:  #91c3de;\n",
       "            color:  #000000;\n",
       "        }    #T_d0eb8470_8a94_11ec_aa71_068a23cdc7e2row7_col1 {\n",
       "            background-color:  #09529d;\n",
       "            color:  #f1f1f1;\n",
       "        }    #T_d0eb8470_8a94_11ec_aa71_068a23cdc7e2row7_col2 {\n",
       "            background-color:  #2474b7;\n",
       "            color:  #f1f1f1;\n",
       "        }    #T_d0eb8470_8a94_11ec_aa71_068a23cdc7e2row7_col3 {\n",
       "            background-color:  #084990;\n",
       "            color:  #f1f1f1;\n",
       "        }    #T_d0eb8470_8a94_11ec_aa71_068a23cdc7e2row7_col4 {\n",
       "            background-color:  #08509b;\n",
       "            color:  #f1f1f1;\n",
       "        }    #T_d0eb8470_8a94_11ec_aa71_068a23cdc7e2row7_col5 {\n",
       "            background-color:  #08306b;\n",
       "            color:  #f1f1f1;\n",
       "        }    #T_d0eb8470_8a94_11ec_aa71_068a23cdc7e2row7_col6 {\n",
       "            background-color:  #1865ac;\n",
       "            color:  #f1f1f1;\n",
       "        }    #T_d0eb8470_8a94_11ec_aa71_068a23cdc7e2row7_col7 {\n",
       "            background-color:  #f7fbff;\n",
       "            color:  #000000;\n",
       "        }    #T_d0eb8470_8a94_11ec_aa71_068a23cdc7e2row7_col8 {\n",
       "            background-color:  #1865ac;\n",
       "            color:  #f1f1f1;\n",
       "        }    #T_d0eb8470_8a94_11ec_aa71_068a23cdc7e2row7_col9 {\n",
       "            background-color:  #206fb4;\n",
       "            color:  #f1f1f1;\n",
       "        }    #T_d0eb8470_8a94_11ec_aa71_068a23cdc7e2row8_col0 {\n",
       "            background-color:  #0d57a1;\n",
       "            color:  #f1f1f1;\n",
       "        }    #T_d0eb8470_8a94_11ec_aa71_068a23cdc7e2row8_col1 {\n",
       "            background-color:  #1460a8;\n",
       "            color:  #f1f1f1;\n",
       "        }    #T_d0eb8470_8a94_11ec_aa71_068a23cdc7e2row8_col2 {\n",
       "            background-color:  #08316d;\n",
       "            color:  #f1f1f1;\n",
       "        }    #T_d0eb8470_8a94_11ec_aa71_068a23cdc7e2row8_col3 {\n",
       "            background-color:  #0e58a2;\n",
       "            color:  #f1f1f1;\n",
       "        }    #T_d0eb8470_8a94_11ec_aa71_068a23cdc7e2row8_col4 {\n",
       "            background-color:  #1b69af;\n",
       "            color:  #f1f1f1;\n",
       "        }    #T_d0eb8470_8a94_11ec_aa71_068a23cdc7e2row8_col5 {\n",
       "            background-color:  #083776;\n",
       "            color:  #f1f1f1;\n",
       "        }    #T_d0eb8470_8a94_11ec_aa71_068a23cdc7e2row8_col6 {\n",
       "            background-color:  #08306b;\n",
       "            color:  #f1f1f1;\n",
       "        }    #T_d0eb8470_8a94_11ec_aa71_068a23cdc7e2row8_col7 {\n",
       "            background-color:  #1562a9;\n",
       "            color:  #f1f1f1;\n",
       "        }    #T_d0eb8470_8a94_11ec_aa71_068a23cdc7e2row8_col8 {\n",
       "            background-color:  #f7fbff;\n",
       "            color:  #000000;\n",
       "        }    #T_d0eb8470_8a94_11ec_aa71_068a23cdc7e2row8_col9 {\n",
       "            background-color:  #2d7dbb;\n",
       "            color:  #000000;\n",
       "        }    #T_d0eb8470_8a94_11ec_aa71_068a23cdc7e2row9_col0 {\n",
       "            background-color:  #084e98;\n",
       "            color:  #f1f1f1;\n",
       "        }    #T_d0eb8470_8a94_11ec_aa71_068a23cdc7e2row9_col1 {\n",
       "            background-color:  #1b69af;\n",
       "            color:  #f1f1f1;\n",
       "        }    #T_d0eb8470_8a94_11ec_aa71_068a23cdc7e2row9_col2 {\n",
       "            background-color:  #3686c0;\n",
       "            color:  #000000;\n",
       "        }    #T_d0eb8470_8a94_11ec_aa71_068a23cdc7e2row9_col3 {\n",
       "            background-color:  #3b8bc2;\n",
       "            color:  #000000;\n",
       "        }    #T_d0eb8470_8a94_11ec_aa71_068a23cdc7e2row9_col4 {\n",
       "            background-color:  #4090c5;\n",
       "            color:  #000000;\n",
       "        }    #T_d0eb8470_8a94_11ec_aa71_068a23cdc7e2row9_col5 {\n",
       "            background-color:  #08488e;\n",
       "            color:  #f1f1f1;\n",
       "        }    #T_d0eb8470_8a94_11ec_aa71_068a23cdc7e2row9_col6 {\n",
       "            background-color:  #08306b;\n",
       "            color:  #f1f1f1;\n",
       "        }    #T_d0eb8470_8a94_11ec_aa71_068a23cdc7e2row9_col7 {\n",
       "            background-color:  #3686c0;\n",
       "            color:  #000000;\n",
       "        }    #T_d0eb8470_8a94_11ec_aa71_068a23cdc7e2row9_col8 {\n",
       "            background-color:  #4594c7;\n",
       "            color:  #000000;\n",
       "        }    #T_d0eb8470_8a94_11ec_aa71_068a23cdc7e2row9_col9 {\n",
       "            background-color:  #f7fbff;\n",
       "            color:  #000000;\n",
       "        }</style><table id=\"T_d0eb8470_8a94_11ec_aa71_068a23cdc7e2\" ><thead>    <tr>        <th class=\"blank level0\" ></th>        <th class=\"col_heading level0 col0\" >id</th>        <th class=\"col_heading level0 col1\" >latitude</th>        <th class=\"col_heading level0 col2\" >longitude</th>        <th class=\"col_heading level0 col3\" >cost</th>        <th class=\"col_heading level0 col4\" >minimum_nights</th>        <th class=\"col_heading level0 col5\" >number_of_reviews</th>        <th class=\"col_heading level0 col6\" >reviews_per_month</th>        <th class=\"col_heading level0 col7\" >owner_id</th>        <th class=\"col_heading level0 col8\" >owned_hotels</th>        <th class=\"col_heading level0 col9\" >yearly_availability</th>    </tr></thead><tbody>\n",
       "                <tr>\n",
       "                        <th id=\"T_d0eb8470_8a94_11ec_aa71_068a23cdc7e2level0_row0\" class=\"row_heading level0 row0\" >id</th>\n",
       "                        <td id=\"T_d0eb8470_8a94_11ec_aa71_068a23cdc7e2row0_col0\" class=\"data row0 col0\" >1.0</td>\n",
       "                        <td id=\"T_d0eb8470_8a94_11ec_aa71_068a23cdc7e2row0_col1\" class=\"data row0 col1\" >-0.01603</td>\n",
       "                        <td id=\"T_d0eb8470_8a94_11ec_aa71_068a23cdc7e2row0_col2\" class=\"data row0 col2\" >0.05968</td>\n",
       "                        <td id=\"T_d0eb8470_8a94_11ec_aa71_068a23cdc7e2row0_col3\" class=\"data row0 col3\" >-0.03681</td>\n",
       "                        <td id=\"T_d0eb8470_8a94_11ec_aa71_068a23cdc7e2row0_col4\" class=\"data row0 col4\" >-0.07841</td>\n",
       "                        <td id=\"T_d0eb8470_8a94_11ec_aa71_068a23cdc7e2row0_col5\" class=\"data row0 col5\" >-0.3302</td>\n",
       "                        <td id=\"T_d0eb8470_8a94_11ec_aa71_068a23cdc7e2row0_col6\" class=\"data row0 col6\" >0.146</td>\n",
       "                        <td id=\"T_d0eb8470_8a94_11ec_aa71_068a23cdc7e2row0_col7\" class=\"data row0 col7\" >0.5236</td>\n",
       "                        <td id=\"T_d0eb8470_8a94_11ec_aa71_068a23cdc7e2row0_col8\" class=\"data row0 col8\" >0.02591</td>\n",
       "                        <td id=\"T_d0eb8470_8a94_11ec_aa71_068a23cdc7e2row0_col9\" class=\"data row0 col9\" >-0.1616</td>\n",
       "            </tr>\n",
       "            <tr>\n",
       "                        <th id=\"T_d0eb8470_8a94_11ec_aa71_068a23cdc7e2level0_row1\" class=\"row_heading level0 row1\" >latitude</th>\n",
       "                        <td id=\"T_d0eb8470_8a94_11ec_aa71_068a23cdc7e2row1_col0\" class=\"data row1 col0\" >-0.01603</td>\n",
       "                        <td id=\"T_d0eb8470_8a94_11ec_aa71_068a23cdc7e2row1_col1\" class=\"data row1 col1\" >1.0</td>\n",
       "                        <td id=\"T_d0eb8470_8a94_11ec_aa71_068a23cdc7e2row1_col2\" class=\"data row1 col2\" >0.04934</td>\n",
       "                        <td id=\"T_d0eb8470_8a94_11ec_aa71_068a23cdc7e2row1_col3\" class=\"data row1 col3\" >0.009657</td>\n",
       "                        <td id=\"T_d0eb8470_8a94_11ec_aa71_068a23cdc7e2row1_col4\" class=\"data row1 col4\" >0.01061</td>\n",
       "                        <td id=\"T_d0eb8470_8a94_11ec_aa71_068a23cdc7e2row1_col5\" class=\"data row1 col5\" >0.006295</td>\n",
       "                        <td id=\"T_d0eb8470_8a94_11ec_aa71_068a23cdc7e2row1_col6\" class=\"data row1 col6\" >0.01536</td>\n",
       "                        <td id=\"T_d0eb8470_8a94_11ec_aa71_068a23cdc7e2row1_col7\" class=\"data row1 col7\" >-0.009361</td>\n",
       "                        <td id=\"T_d0eb8470_8a94_11ec_aa71_068a23cdc7e2row1_col8\" class=\"data row1 col8\" >0.0641</td>\n",
       "                        <td id=\"T_d0eb8470_8a94_11ec_aa71_068a23cdc7e2row1_col9\" class=\"data row1 col9\" >-0.02512</td>\n",
       "            </tr>\n",
       "            <tr>\n",
       "                        <th id=\"T_d0eb8470_8a94_11ec_aa71_068a23cdc7e2level0_row2\" class=\"row_heading level0 row2\" >longitude</th>\n",
       "                        <td id=\"T_d0eb8470_8a94_11ec_aa71_068a23cdc7e2row2_col0\" class=\"data row2 col0\" >0.05968</td>\n",
       "                        <td id=\"T_d0eb8470_8a94_11ec_aa71_068a23cdc7e2row2_col1\" class=\"data row2 col1\" >0.04934</td>\n",
       "                        <td id=\"T_d0eb8470_8a94_11ec_aa71_068a23cdc7e2row2_col2\" class=\"data row2 col2\" >1.0</td>\n",
       "                        <td id=\"T_d0eb8470_8a94_11ec_aa71_068a23cdc7e2row2_col3\" class=\"data row2 col3\" >-0.1361</td>\n",
       "                        <td id=\"T_d0eb8470_8a94_11ec_aa71_068a23cdc7e2row2_col4\" class=\"data row2 col4\" >-0.07486</td>\n",
       "                        <td id=\"T_d0eb8470_8a94_11ec_aa71_068a23cdc7e2row2_col5\" class=\"data row2 col5\" >0.006381</td>\n",
       "                        <td id=\"T_d0eb8470_8a94_11ec_aa71_068a23cdc7e2row2_col6\" class=\"data row2 col6\" >0.05265</td>\n",
       "                        <td id=\"T_d0eb8470_8a94_11ec_aa71_068a23cdc7e2row2_col7\" class=\"data row2 col7\" >0.1429</td>\n",
       "                        <td id=\"T_d0eb8470_8a94_11ec_aa71_068a23cdc7e2row2_col8\" class=\"data row2 col8\" >-0.1425</td>\n",
       "                        <td id=\"T_d0eb8470_8a94_11ec_aa71_068a23cdc7e2row2_col9\" class=\"data row2 col9\" >0.1199</td>\n",
       "            </tr>\n",
       "            <tr>\n",
       "                        <th id=\"T_d0eb8470_8a94_11ec_aa71_068a23cdc7e2level0_row3\" class=\"row_heading level0 row3\" >cost</th>\n",
       "                        <td id=\"T_d0eb8470_8a94_11ec_aa71_068a23cdc7e2row3_col0\" class=\"data row3 col0\" >-0.03681</td>\n",
       "                        <td id=\"T_d0eb8470_8a94_11ec_aa71_068a23cdc7e2row3_col1\" class=\"data row3 col1\" >0.009657</td>\n",
       "                        <td id=\"T_d0eb8470_8a94_11ec_aa71_068a23cdc7e2row3_col2\" class=\"data row3 col2\" >-0.1361</td>\n",
       "                        <td id=\"T_d0eb8470_8a94_11ec_aa71_068a23cdc7e2row3_col3\" class=\"data row3 col3\" >1.0</td>\n",
       "                        <td id=\"T_d0eb8470_8a94_11ec_aa71_068a23cdc7e2row3_col4\" class=\"data row3 col4\" >0.05292</td>\n",
       "                        <td id=\"T_d0eb8470_8a94_11ec_aa71_068a23cdc7e2row3_col5\" class=\"data row3 col5\" >-0.07443</td>\n",
       "                        <td id=\"T_d0eb8470_8a94_11ec_aa71_068a23cdc7e2row3_col6\" class=\"data row3 col6\" >-0.1231</td>\n",
       "                        <td id=\"T_d0eb8470_8a94_11ec_aa71_068a23cdc7e2row3_col7\" class=\"data row3 col7\" >-0.04959</td>\n",
       "                        <td id=\"T_d0eb8470_8a94_11ec_aa71_068a23cdc7e2row3_col8\" class=\"data row3 col8\" >0.03219</td>\n",
       "                        <td id=\"T_d0eb8470_8a94_11ec_aa71_068a23cdc7e2row3_col9\" class=\"data row3 col9\" >0.1476</td>\n",
       "            </tr>\n",
       "            <tr>\n",
       "                        <th id=\"T_d0eb8470_8a94_11ec_aa71_068a23cdc7e2level0_row4\" class=\"row_heading level0 row4\" >minimum_nights</th>\n",
       "                        <td id=\"T_d0eb8470_8a94_11ec_aa71_068a23cdc7e2row4_col0\" class=\"data row4 col0\" >-0.07841</td>\n",
       "                        <td id=\"T_d0eb8470_8a94_11ec_aa71_068a23cdc7e2row4_col1\" class=\"data row4 col1\" >0.01061</td>\n",
       "                        <td id=\"T_d0eb8470_8a94_11ec_aa71_068a23cdc7e2row4_col2\" class=\"data row4 col2\" >-0.07486</td>\n",
       "                        <td id=\"T_d0eb8470_8a94_11ec_aa71_068a23cdc7e2row4_col3\" class=\"data row4 col3\" >0.05292</td>\n",
       "                        <td id=\"T_d0eb8470_8a94_11ec_aa71_068a23cdc7e2row4_col4\" class=\"data row4 col4\" >1.0</td>\n",
       "                        <td id=\"T_d0eb8470_8a94_11ec_aa71_068a23cdc7e2row4_col5\" class=\"data row4 col5\" >-0.08877</td>\n",
       "                        <td id=\"T_d0eb8470_8a94_11ec_aa71_068a23cdc7e2row4_col6\" class=\"data row4 col6\" >-0.1398</td>\n",
       "                        <td id=\"T_d0eb8470_8a94_11ec_aa71_068a23cdc7e2row4_col7\" class=\"data row4 col7\" >-0.01801</td>\n",
       "                        <td id=\"T_d0eb8470_8a94_11ec_aa71_068a23cdc7e2row4_col8\" class=\"data row4 col8\" >0.1079</td>\n",
       "                        <td id=\"T_d0eb8470_8a94_11ec_aa71_068a23cdc7e2row4_col9\" class=\"data row4 col9\" >0.1736</td>\n",
       "            </tr>\n",
       "            <tr>\n",
       "                        <th id=\"T_d0eb8470_8a94_11ec_aa71_068a23cdc7e2level0_row5\" class=\"row_heading level0 row5\" >number_of_reviews</th>\n",
       "                        <td id=\"T_d0eb8470_8a94_11ec_aa71_068a23cdc7e2row5_col0\" class=\"data row5 col0\" >-0.3302</td>\n",
       "                        <td id=\"T_d0eb8470_8a94_11ec_aa71_068a23cdc7e2row5_col1\" class=\"data row5 col1\" >0.006295</td>\n",
       "                        <td id=\"T_d0eb8470_8a94_11ec_aa71_068a23cdc7e2row5_col2\" class=\"data row5 col2\" >0.006381</td>\n",
       "                        <td id=\"T_d0eb8470_8a94_11ec_aa71_068a23cdc7e2row5_col3\" class=\"data row5 col3\" >-0.07443</td>\n",
       "                        <td id=\"T_d0eb8470_8a94_11ec_aa71_068a23cdc7e2row5_col4\" class=\"data row5 col4\" >-0.08877</td>\n",
       "                        <td id=\"T_d0eb8470_8a94_11ec_aa71_068a23cdc7e2row5_col5\" class=\"data row5 col5\" >1.0</td>\n",
       "                        <td id=\"T_d0eb8470_8a94_11ec_aa71_068a23cdc7e2row5_col6\" class=\"data row5 col6\" >0.5766</td>\n",
       "                        <td id=\"T_d0eb8470_8a94_11ec_aa71_068a23cdc7e2row5_col7\" class=\"data row5 col7\" >-0.162</td>\n",
       "                        <td id=\"T_d0eb8470_8a94_11ec_aa71_068a23cdc7e2row5_col8\" class=\"data row5 col8\" >-0.1123</td>\n",
       "                        <td id=\"T_d0eb8470_8a94_11ec_aa71_068a23cdc7e2row5_col9\" class=\"data row5 col9\" >-0.1916</td>\n",
       "            </tr>\n",
       "            <tr>\n",
       "                        <th id=\"T_d0eb8470_8a94_11ec_aa71_068a23cdc7e2level0_row6\" class=\"row_heading level0 row6\" >reviews_per_month</th>\n",
       "                        <td id=\"T_d0eb8470_8a94_11ec_aa71_068a23cdc7e2row6_col0\" class=\"data row6 col0\" >0.146</td>\n",
       "                        <td id=\"T_d0eb8470_8a94_11ec_aa71_068a23cdc7e2row6_col1\" class=\"data row6 col1\" >0.01536</td>\n",
       "                        <td id=\"T_d0eb8470_8a94_11ec_aa71_068a23cdc7e2row6_col2\" class=\"data row6 col2\" >0.05265</td>\n",
       "                        <td id=\"T_d0eb8470_8a94_11ec_aa71_068a23cdc7e2row6_col3\" class=\"data row6 col3\" >-0.1231</td>\n",
       "                        <td id=\"T_d0eb8470_8a94_11ec_aa71_068a23cdc7e2row6_col4\" class=\"data row6 col4\" >-0.1398</td>\n",
       "                        <td id=\"T_d0eb8470_8a94_11ec_aa71_068a23cdc7e2row6_col5\" class=\"data row6 col5\" >0.5766</td>\n",
       "                        <td id=\"T_d0eb8470_8a94_11ec_aa71_068a23cdc7e2row6_col6\" class=\"data row6 col6\" >1.0</td>\n",
       "                        <td id=\"T_d0eb8470_8a94_11ec_aa71_068a23cdc7e2row6_col7\" class=\"data row6 col7\" >0.07758</td>\n",
       "                        <td id=\"T_d0eb8470_8a94_11ec_aa71_068a23cdc7e2row6_col8\" class=\"data row6 col8\" >-0.147</td>\n",
       "                        <td id=\"T_d0eb8470_8a94_11ec_aa71_068a23cdc7e2row6_col9\" class=\"data row6 col9\" >-0.3122</td>\n",
       "            </tr>\n",
       "            <tr>\n",
       "                        <th id=\"T_d0eb8470_8a94_11ec_aa71_068a23cdc7e2level0_row7\" class=\"row_heading level0 row7\" >owner_id</th>\n",
       "                        <td id=\"T_d0eb8470_8a94_11ec_aa71_068a23cdc7e2row7_col0\" class=\"data row7 col0\" >0.5236</td>\n",
       "                        <td id=\"T_d0eb8470_8a94_11ec_aa71_068a23cdc7e2row7_col1\" class=\"data row7 col1\" >-0.009361</td>\n",
       "                        <td id=\"T_d0eb8470_8a94_11ec_aa71_068a23cdc7e2row7_col2\" class=\"data row7 col2\" >0.1429</td>\n",
       "                        <td id=\"T_d0eb8470_8a94_11ec_aa71_068a23cdc7e2row7_col3\" class=\"data row7 col3\" >-0.04959</td>\n",
       "                        <td id=\"T_d0eb8470_8a94_11ec_aa71_068a23cdc7e2row7_col4\" class=\"data row7 col4\" >-0.01801</td>\n",
       "                        <td id=\"T_d0eb8470_8a94_11ec_aa71_068a23cdc7e2row7_col5\" class=\"data row7 col5\" >-0.162</td>\n",
       "                        <td id=\"T_d0eb8470_8a94_11ec_aa71_068a23cdc7e2row7_col6\" class=\"data row7 col6\" >0.07758</td>\n",
       "                        <td id=\"T_d0eb8470_8a94_11ec_aa71_068a23cdc7e2row7_col7\" class=\"data row7 col7\" >1.0</td>\n",
       "                        <td id=\"T_d0eb8470_8a94_11ec_aa71_068a23cdc7e2row7_col8\" class=\"data row7 col8\" >0.07453</td>\n",
       "                        <td id=\"T_d0eb8470_8a94_11ec_aa71_068a23cdc7e2row7_col9\" class=\"data row7 col9\" >0.1212</td>\n",
       "            </tr>\n",
       "            <tr>\n",
       "                        <th id=\"T_d0eb8470_8a94_11ec_aa71_068a23cdc7e2level0_row8\" class=\"row_heading level0 row8\" >owned_hotels</th>\n",
       "                        <td id=\"T_d0eb8470_8a94_11ec_aa71_068a23cdc7e2row8_col0\" class=\"data row8 col0\" >0.02591</td>\n",
       "                        <td id=\"T_d0eb8470_8a94_11ec_aa71_068a23cdc7e2row8_col1\" class=\"data row8 col1\" >0.0641</td>\n",
       "                        <td id=\"T_d0eb8470_8a94_11ec_aa71_068a23cdc7e2row8_col2\" class=\"data row8 col2\" >-0.1425</td>\n",
       "                        <td id=\"T_d0eb8470_8a94_11ec_aa71_068a23cdc7e2row8_col3\" class=\"data row8 col3\" >0.03219</td>\n",
       "                        <td id=\"T_d0eb8470_8a94_11ec_aa71_068a23cdc7e2row8_col4\" class=\"data row8 col4\" >0.1079</td>\n",
       "                        <td id=\"T_d0eb8470_8a94_11ec_aa71_068a23cdc7e2row8_col5\" class=\"data row8 col5\" >-0.1123</td>\n",
       "                        <td id=\"T_d0eb8470_8a94_11ec_aa71_068a23cdc7e2row8_col6\" class=\"data row8 col6\" >-0.147</td>\n",
       "                        <td id=\"T_d0eb8470_8a94_11ec_aa71_068a23cdc7e2row8_col7\" class=\"data row8 col7\" >0.07453</td>\n",
       "                        <td id=\"T_d0eb8470_8a94_11ec_aa71_068a23cdc7e2row8_col8\" class=\"data row8 col8\" >1.0</td>\n",
       "                        <td id=\"T_d0eb8470_8a94_11ec_aa71_068a23cdc7e2row8_col9\" class=\"data row8 col9\" >0.1919</td>\n",
       "            </tr>\n",
       "            <tr>\n",
       "                        <th id=\"T_d0eb8470_8a94_11ec_aa71_068a23cdc7e2level0_row9\" class=\"row_heading level0 row9\" >yearly_availability</th>\n",
       "                        <td id=\"T_d0eb8470_8a94_11ec_aa71_068a23cdc7e2row9_col0\" class=\"data row9 col0\" >-0.1616</td>\n",
       "                        <td id=\"T_d0eb8470_8a94_11ec_aa71_068a23cdc7e2row9_col1\" class=\"data row9 col1\" >-0.02512</td>\n",
       "                        <td id=\"T_d0eb8470_8a94_11ec_aa71_068a23cdc7e2row9_col2\" class=\"data row9 col2\" >0.1199</td>\n",
       "                        <td id=\"T_d0eb8470_8a94_11ec_aa71_068a23cdc7e2row9_col3\" class=\"data row9 col3\" >0.1476</td>\n",
       "                        <td id=\"T_d0eb8470_8a94_11ec_aa71_068a23cdc7e2row9_col4\" class=\"data row9 col4\" >0.1736</td>\n",
       "                        <td id=\"T_d0eb8470_8a94_11ec_aa71_068a23cdc7e2row9_col5\" class=\"data row9 col5\" >-0.1916</td>\n",
       "                        <td id=\"T_d0eb8470_8a94_11ec_aa71_068a23cdc7e2row9_col6\" class=\"data row9 col6\" >-0.3122</td>\n",
       "                        <td id=\"T_d0eb8470_8a94_11ec_aa71_068a23cdc7e2row9_col7\" class=\"data row9 col7\" >0.1212</td>\n",
       "                        <td id=\"T_d0eb8470_8a94_11ec_aa71_068a23cdc7e2row9_col8\" class=\"data row9 col8\" >0.1919</td>\n",
       "                        <td id=\"T_d0eb8470_8a94_11ec_aa71_068a23cdc7e2row9_col9\" class=\"data row9 col9\" >1.0</td>\n",
       "            </tr>\n",
       "    </tbody></table>"
      ],
      "text/plain": [
       "<pandas.io.formats.style.Styler at 0x7f49d19808d0>"
      ]
     },
     "execution_count": 29,
     "metadata": {},
     "output_type": "execute_result"
    }
   ],
   "source": [
    "### Correlation Plot and Multicollinearity\n",
    "data.corr().style.format(\"{:.4}\").background_gradient(cmap=plt.get_cmap('Blues_r'), axis=1)"
   ]
  },
  {
   "cell_type": "markdown",
   "metadata": {},
   "source": [
    "## Visualization, Modeling, Machine Learning\n",
    "\n",
    "Build a model that categorizes hotels on the basis of their yearly availability.  Identify how different features influence the decision. Please explain the findings effectively to technical and non-technical audiences using comments and visualizations, if appropriate.\n",
    "- **Build an optimized model that effectively solves the business problem.**\n",
    "- **The model will be evaluated on the basis of Accuracy.**\n",
    "- **Read the test.csv file and prepare features for testing.**"
   ]
  },
  {
   "cell_type": "code",
   "execution_count": 30,
   "metadata": {},
   "outputs": [
    {
     "data": {
      "text/html": [
       "<div>\n",
       "<style scoped>\n",
       "    .dataframe tbody tr th:only-of-type {\n",
       "        vertical-align: middle;\n",
       "    }\n",
       "\n",
       "    .dataframe tbody tr th {\n",
       "        vertical-align: top;\n",
       "    }\n",
       "\n",
       "    .dataframe thead th {\n",
       "        text-align: right;\n",
       "    }\n",
       "</style>\n",
       "<table border=\"1\" class=\"dataframe\">\n",
       "  <thead>\n",
       "    <tr style=\"text-align: right;\">\n",
       "      <th></th>\n",
       "      <th>id</th>\n",
       "      <th>region</th>\n",
       "      <th>latitude</th>\n",
       "      <th>longitude</th>\n",
       "      <th>accommodation_type</th>\n",
       "      <th>cost</th>\n",
       "      <th>minimum_nights</th>\n",
       "      <th>number_of_reviews</th>\n",
       "      <th>reviews_per_month</th>\n",
       "      <th>owner_id</th>\n",
       "      <th>owned_hotels</th>\n",
       "    </tr>\n",
       "  </thead>\n",
       "  <tbody>\n",
       "    <tr>\n",
       "      <th>0</th>\n",
       "      <td>19215</td>\n",
       "      <td>Brooklyn</td>\n",
       "      <td>40.70912</td>\n",
       "      <td>-73.94513</td>\n",
       "      <td>Shared room</td>\n",
       "      <td>135</td>\n",
       "      <td>2</td>\n",
       "      <td>22</td>\n",
       "      <td>0.66</td>\n",
       "      <td>4360212</td>\n",
       "      <td>1</td>\n",
       "    </tr>\n",
       "    <tr>\n",
       "      <th>1</th>\n",
       "      <td>36301</td>\n",
       "      <td>Brooklyn</td>\n",
       "      <td>40.57646</td>\n",
       "      <td>-73.96641</td>\n",
       "      <td>Entire home/apt</td>\n",
       "      <td>69</td>\n",
       "      <td>2</td>\n",
       "      <td>8</td>\n",
       "      <td>0.90</td>\n",
       "      <td>181356989</td>\n",
       "      <td>2</td>\n",
       "    </tr>\n",
       "    <tr>\n",
       "      <th>2</th>\n",
       "      <td>40566</td>\n",
       "      <td>Manhattan</td>\n",
       "      <td>40.76616</td>\n",
       "      <td>-73.98228</td>\n",
       "      <td>Private room</td>\n",
       "      <td>225</td>\n",
       "      <td>30</td>\n",
       "      <td>0</td>\n",
       "      <td>NaN</td>\n",
       "      <td>13773574</td>\n",
       "      <td>12</td>\n",
       "    </tr>\n",
       "    <tr>\n",
       "      <th>3</th>\n",
       "      <td>33694</td>\n",
       "      <td>Manhattan</td>\n",
       "      <td>40.77668</td>\n",
       "      <td>-73.94587</td>\n",
       "      <td>Shared room</td>\n",
       "      <td>125</td>\n",
       "      <td>30</td>\n",
       "      <td>9</td>\n",
       "      <td>0.82</td>\n",
       "      <td>6788748</td>\n",
       "      <td>1</td>\n",
       "    </tr>\n",
       "    <tr>\n",
       "      <th>4</th>\n",
       "      <td>28873</td>\n",
       "      <td>Manhattan</td>\n",
       "      <td>40.80279</td>\n",
       "      <td>-73.94450</td>\n",
       "      <td>Entire home/apt</td>\n",
       "      <td>43</td>\n",
       "      <td>1</td>\n",
       "      <td>13</td>\n",
       "      <td>0.72</td>\n",
       "      <td>105061915</td>\n",
       "      <td>2</td>\n",
       "    </tr>\n",
       "  </tbody>\n",
       "</table>\n",
       "</div>"
      ],
      "text/plain": [
       "      id     region  latitude  longitude accommodation_type  cost  \\\n",
       "0  19215   Brooklyn  40.70912  -73.94513        Shared room   135   \n",
       "1  36301   Brooklyn  40.57646  -73.96641    Entire home/apt    69   \n",
       "2  40566  Manhattan  40.76616  -73.98228       Private room   225   \n",
       "3  33694  Manhattan  40.77668  -73.94587        Shared room   125   \n",
       "4  28873  Manhattan  40.80279  -73.94450    Entire home/apt    43   \n",
       "\n",
       "   minimum_nights  number_of_reviews  reviews_per_month   owner_id  \\\n",
       "0               2                 22               0.66    4360212   \n",
       "1               2                  8               0.90  181356989   \n",
       "2              30                  0                NaN   13773574   \n",
       "3              30                  9               0.82    6788748   \n",
       "4               1                 13               0.72  105061915   \n",
       "\n",
       "   owned_hotels  \n",
       "0             1  \n",
       "1             2  \n",
       "2            12  \n",
       "3             1  \n",
       "4             2  "
      ]
     },
     "execution_count": 30,
     "metadata": {},
     "output_type": "execute_result"
    }
   ],
   "source": [
    "#Loading Test data\n",
    "test_data=pd.read_csv('test.csv')\n",
    "test_data.head()"
   ]
  },
  {
   "cell_type": "code",
   "execution_count": 31,
   "metadata": {},
   "outputs": [],
   "source": [
    "# Declare feature vector and target variable ¶\n",
    "X = data.drop(['id','owner_id','yearly_availability'], axis = 1)\n",
    "y = data['yearly_availability']"
   ]
  },
  {
   "cell_type": "code",
   "execution_count": 32,
   "metadata": {},
   "outputs": [
    {
     "data": {
      "text/plain": [
       "['region', 'accommodation_type']"
      ]
     },
     "execution_count": 32,
     "metadata": {},
     "output_type": "execute_result"
    }
   ],
   "source": [
    "#let us look at the variables in the feature vector\n",
    "categorical = [col for col in X.columns if X[col].dtypes == 'O']\n",
    "categorical"
   ]
  },
  {
   "cell_type": "code",
   "execution_count": 33,
   "metadata": {},
   "outputs": [
    {
     "data": {
      "text/plain": [
       "['latitude',\n",
       " 'longitude',\n",
       " 'cost',\n",
       " 'minimum_nights',\n",
       " 'number_of_reviews',\n",
       " 'reviews_per_month',\n",
       " 'owned_hotels']"
      ]
     },
     "execution_count": 33,
     "metadata": {},
     "output_type": "execute_result"
    }
   ],
   "source": [
    "numerical = [col for col in X.columns if X[col].dtypes != 'O']\n",
    "numerical"
   ]
  },
  {
   "cell_type": "markdown",
   "metadata": {},
   "source": [
    "### Feature Engineering"
   ]
  },
  {
   "cell_type": "code",
   "execution_count": 34,
   "metadata": {},
   "outputs": [],
   "source": [
    "def process_product_group(df,cls,groups,prefixs):\n",
    "    \"\"\"\n",
    "    feature engineering:\n",
    "        load numeric values\n",
    "        get dummies on categorical\n",
    "    \"\"\"\n",
    "    processed_df = df[cls]\n",
    "    \n",
    "    for i, group in enumerate(groups):\n",
    "    #Get the Dummy variables\n",
    "        dummies = pd.get_dummies(df[group], prefix=prefixs[i],drop_first = True)\n",
    "        processed_df = processed_df.join(dummies)\n",
    "    return processed_df"
   ]
  },
  {
   "cell_type": "code",
   "execution_count": 35,
   "metadata": {},
   "outputs": [],
   "source": [
    "num_cls = ['latitude','longitude','cost','minimum_nights','number_of_reviews','reviews_per_month','owned_hotels']\n",
    "cat_groups = ['region','accommodation_type']\n",
    "prefixs = ['region','acm_type']"
   ]
  },
  {
   "cell_type": "code",
   "execution_count": 36,
   "metadata": {},
   "outputs": [],
   "source": [
    "X = process_product_group(X,num_cls,cat_groups,prefixs)"
   ]
  },
  {
   "cell_type": "code",
   "execution_count": 37,
   "metadata": {},
   "outputs": [],
   "source": [
    "num_cls_tets = ['id','latitude','longitude','cost','minimum_nights','number_of_reviews','reviews_per_month','owned_hotels']"
   ]
  },
  {
   "cell_type": "code",
   "execution_count": 38,
   "metadata": {},
   "outputs": [],
   "source": [
    "test_data = process_product_group(test_data,num_cls_tets,cat_groups,prefixs)"
   ]
  },
  {
   "cell_type": "code",
   "execution_count": 39,
   "metadata": {},
   "outputs": [
    {
     "data": {
      "text/html": [
       "<div>\n",
       "<style scoped>\n",
       "    .dataframe tbody tr th:only-of-type {\n",
       "        vertical-align: middle;\n",
       "    }\n",
       "\n",
       "    .dataframe tbody tr th {\n",
       "        vertical-align: top;\n",
       "    }\n",
       "\n",
       "    .dataframe thead th {\n",
       "        text-align: right;\n",
       "    }\n",
       "</style>\n",
       "<table border=\"1\" class=\"dataframe\">\n",
       "  <thead>\n",
       "    <tr style=\"text-align: right;\">\n",
       "      <th></th>\n",
       "      <th>latitude</th>\n",
       "      <th>longitude</th>\n",
       "      <th>cost</th>\n",
       "      <th>minimum_nights</th>\n",
       "      <th>number_of_reviews</th>\n",
       "      <th>reviews_per_month</th>\n",
       "      <th>owned_hotels</th>\n",
       "      <th>region_Brooklyn</th>\n",
       "      <th>region_Manhattan</th>\n",
       "      <th>region_Queens</th>\n",
       "      <th>region_Staten Island</th>\n",
       "      <th>acm_type_Private room</th>\n",
       "      <th>acm_type_Shared room</th>\n",
       "    </tr>\n",
       "  </thead>\n",
       "  <tbody>\n",
       "    <tr>\n",
       "      <th>0</th>\n",
       "      <td>40.71854</td>\n",
       "      <td>-74.00439</td>\n",
       "      <td>170</td>\n",
       "      <td>5</td>\n",
       "      <td>7</td>\n",
       "      <td>0.56</td>\n",
       "      <td>1</td>\n",
       "      <td>0</td>\n",
       "      <td>1</td>\n",
       "      <td>0</td>\n",
       "      <td>0</td>\n",
       "      <td>0</td>\n",
       "      <td>0</td>\n",
       "    </tr>\n",
       "    <tr>\n",
       "      <th>1</th>\n",
       "      <td>40.64446</td>\n",
       "      <td>-73.95030</td>\n",
       "      <td>65</td>\n",
       "      <td>3</td>\n",
       "      <td>238</td>\n",
       "      <td>2.30</td>\n",
       "      <td>1</td>\n",
       "      <td>1</td>\n",
       "      <td>0</td>\n",
       "      <td>0</td>\n",
       "      <td>0</td>\n",
       "      <td>0</td>\n",
       "      <td>0</td>\n",
       "    </tr>\n",
       "    <tr>\n",
       "      <th>2</th>\n",
       "      <td>40.78573</td>\n",
       "      <td>-73.81062</td>\n",
       "      <td>85</td>\n",
       "      <td>1</td>\n",
       "      <td>0</td>\n",
       "      <td>0.00</td>\n",
       "      <td>1</td>\n",
       "      <td>0</td>\n",
       "      <td>0</td>\n",
       "      <td>1</td>\n",
       "      <td>0</td>\n",
       "      <td>1</td>\n",
       "      <td>0</td>\n",
       "    </tr>\n",
       "    <tr>\n",
       "      <th>3</th>\n",
       "      <td>40.73863</td>\n",
       "      <td>-73.98002</td>\n",
       "      <td>210</td>\n",
       "      <td>30</td>\n",
       "      <td>0</td>\n",
       "      <td>0.00</td>\n",
       "      <td>65</td>\n",
       "      <td>0</td>\n",
       "      <td>1</td>\n",
       "      <td>0</td>\n",
       "      <td>0</td>\n",
       "      <td>1</td>\n",
       "      <td>0</td>\n",
       "    </tr>\n",
       "    <tr>\n",
       "      <th>4</th>\n",
       "      <td>40.82426</td>\n",
       "      <td>-73.94630</td>\n",
       "      <td>75</td>\n",
       "      <td>3</td>\n",
       "      <td>38</td>\n",
       "      <td>0.42</td>\n",
       "      <td>3</td>\n",
       "      <td>0</td>\n",
       "      <td>1</td>\n",
       "      <td>0</td>\n",
       "      <td>0</td>\n",
       "      <td>0</td>\n",
       "      <td>1</td>\n",
       "    </tr>\n",
       "  </tbody>\n",
       "</table>\n",
       "</div>"
      ],
      "text/plain": [
       "   latitude  longitude  cost  minimum_nights  number_of_reviews  \\\n",
       "0  40.71854  -74.00439   170               5                  7   \n",
       "1  40.64446  -73.95030    65               3                238   \n",
       "2  40.78573  -73.81062    85               1                  0   \n",
       "3  40.73863  -73.98002   210              30                  0   \n",
       "4  40.82426  -73.94630    75               3                 38   \n",
       "\n",
       "   reviews_per_month  owned_hotels  region_Brooklyn  region_Manhattan  \\\n",
       "0               0.56             1                0                 1   \n",
       "1               2.30             1                1                 0   \n",
       "2               0.00             1                0                 0   \n",
       "3               0.00            65                0                 1   \n",
       "4               0.42             3                0                 1   \n",
       "\n",
       "   region_Queens  region_Staten Island  acm_type_Private room  \\\n",
       "0              0                     0                      0   \n",
       "1              0                     0                      0   \n",
       "2              1                     0                      1   \n",
       "3              0                     0                      1   \n",
       "4              0                     0                      0   \n",
       "\n",
       "   acm_type_Shared room  \n",
       "0                     0  \n",
       "1                     0  \n",
       "2                     0  \n",
       "3                     0  \n",
       "4                     1  "
      ]
     },
     "execution_count": 39,
     "metadata": {},
     "output_type": "execute_result"
    }
   ],
   "source": [
    "X.head()"
   ]
  },
  {
   "cell_type": "markdown",
   "metadata": {},
   "source": [
    "We have performed feature cross to get better results when predicting target variable"
   ]
  },
  {
   "cell_type": "code",
   "execution_count": 40,
   "metadata": {},
   "outputs": [],
   "source": [
    "#Let's split the data into train and test\n",
    "X_train, X_test, y_train, y_test = train_test_split(X, y, test_size = 0.2, random_state = 0)"
   ]
  },
  {
   "cell_type": "markdown",
   "metadata": {},
   "source": [
    "### Base Model using Logistic Regression"
   ]
  },
  {
   "cell_type": "code",
   "execution_count": 41,
   "metadata": {},
   "outputs": [
    {
     "name": "stdout",
     "output_type": "stream",
     "text": [
      "0.8710801393728222\n"
     ]
    }
   ],
   "source": [
    "from sklearn.linear_model import LogisticRegression\n",
    "# all parameters not specified are set to their defaults\n",
    "logisticRegr = LogisticRegression()\n",
    "logisticRegr.fit(X_train, y_train)\n",
    "predictions = logisticRegr.predict(X_test)\n",
    "score = logisticRegr.score(X_test, y_test)\n",
    "print(score)"
   ]
  },
  {
   "cell_type": "markdown",
   "metadata": {},
   "source": [
    "We can see we have attained an accuracy of 87% using Logistic Regression"
   ]
  },
  {
   "cell_type": "code",
   "execution_count": 43,
   "metadata": {},
   "outputs": [
    {
     "data": {
      "image/png": "[encoded data removed]",
      "text/plain": [
       "<Figure size 648x648 with 2 Axes>"
      ]
     },
     "metadata": {
      "needs_background": "light"
     },
     "output_type": "display_data"
    }
   ],
   "source": [
    "#Let's look at the confusion matrix\n",
    "cm = confusion_matrix(y_test, predictions)\n",
    "plt.figure(figsize=(9,9))\n",
    "sns.heatmap(cm, annot=True, fmt=\".3f\", linewidths=.5, square = True, cmap = 'Blues_r');\n",
    "plt.ylabel('Actual label');\n",
    "plt.xlabel('Predicted label');\n",
    "all_sample_title = 'Accuracy Score: {0}'.format(score)\n",
    "plt.title(all_sample_title, size = 15);"
   ]
  },
  {
   "cell_type": "code",
   "execution_count": 44,
   "metadata": {},
   "outputs": [
    {
     "name": "stdout",
     "output_type": "stream",
     "text": [
      "              precision    recall  f1-score   support\n",
      "\n",
      "           0   0.891697  0.848797  0.869718       291\n",
      "           1   0.851852  0.893993  0.872414       283\n",
      "\n",
      "    accuracy                       0.871080       574\n",
      "   macro avg   0.871774  0.871395  0.871066       574\n",
      "weighted avg   0.872052  0.871080  0.871047       574\n",
      "\n"
     ]
    }
   ],
   "source": [
    "#Look at the classification report\n",
    "print(classification_report(y_test, predictions, digits=6))"
   ]
  },
  {
   "cell_type": "markdown",
   "metadata": {},
   "source": [
    "We can observe that the model is performing as expected. It is neither underfitting or overfitting"
   ]
  },
  {
   "cell_type": "markdown",
   "metadata": {},
   "source": [
    "### Random Forest Classifier model with 10 Decision Trees ¶"
   ]
  },
  {
   "cell_type": "code",
   "execution_count": 45,
   "metadata": {},
   "outputs": [
    {
     "name": "stdout",
     "output_type": "stream",
     "text": [
      "Model accuracy score with 10 decision-trees : 0.9111\n"
     ]
    }
   ],
   "source": [
    "from sklearn.ensemble import RandomForestClassifier\n",
    "# instantiate the classifier \n",
    "rfc = RandomForestClassifier(random_state=0, n_estimators = 10)\n",
    "# fit the model\n",
    "rfc.fit(X_train, y_train)\n",
    "# Predict the Test set results\n",
    "y_pred = rfc.predict(X_test)\n",
    "# Check accuracy score \n",
    "from sklearn.metrics import accuracy_score\n",
    "print('Model accuracy score with 10 decision-trees : {0:0.4f}'. format(accuracy_score(y_test, y_pred)))"
   ]
  },
  {
   "cell_type": "markdown",
   "metadata": {},
   "source": [
    "We can see that we have attained an accuracy of 91.11% using default parameters of Random Forest Classifier"
   ]
  },
  {
   "cell_type": "markdown",
   "metadata": {},
   "source": [
    "### Model Evaluation"
   ]
  },
  {
   "cell_type": "code",
   "execution_count": 46,
   "metadata": {},
   "outputs": [
    {
     "data": {
      "text/plain": [
       "<matplotlib.axes._subplots.AxesSubplot at 0x7f49def1e890>"
      ]
     },
     "execution_count": 46,
     "metadata": {},
     "output_type": "execute_result"
    },
    {
     "data": {
      "image/png": "[encoded data removed]",
      "text/plain": [
       "<Figure size 432x288 with 2 Axes>"
      ]
     },
     "metadata": {
      "needs_background": "light"
     },
     "output_type": "display_data"
    }
   ],
   "source": [
    "# visualize confusion matrix with seaborn heatmap\n",
    "from sklearn.metrics import confusion_matrix\n",
    "cm = confusion_matrix(y_test, y_pred)\n",
    "cm_matrix = pd.DataFrame(data=cm, columns=['Actual Positive:1', 'Actual Negative:0'], \n",
    "                                 index=['Predict Positive:1', 'Predict Negative:0'])\n",
    "sns.heatmap(cm_matrix, annot=True, fmt='d')"
   ]
  },
  {
   "cell_type": "code",
   "execution_count": 47,
   "metadata": {},
   "outputs": [
    {
     "name": "stdout",
     "output_type": "stream",
     "text": [
      "              precision    recall  f1-score   support\n",
      "\n",
      "           0   0.922535  0.900344  0.911304       291\n",
      "           1   0.900000  0.922261  0.910995       283\n",
      "\n",
      "    accuracy                       0.911150       574\n",
      "   macro avg   0.911268  0.911303  0.911150       574\n",
      "weighted avg   0.911425  0.911150  0.911152       574\n",
      "\n"
     ]
    }
   ],
   "source": [
    "print(classification_report(y_test, y_pred, digits=6))"
   ]
  },
  {
   "cell_type": "markdown",
   "metadata": {},
   "source": [
    "I will increase the number of decision-trees and see its effect on accuracy.\n"
   ]
  },
  {
   "cell_type": "markdown",
   "metadata": {},
   "source": [
    "### Random Forest Classifier model with 50 Decision Trees ¶"
   ]
  },
  {
   "cell_type": "code",
   "execution_count": 49,
   "metadata": {},
   "outputs": [
    {
     "name": "stdout",
     "output_type": "stream",
     "text": [
      "Model accuracy score with 50 decision-trees : 0.9164\n"
     ]
    }
   ],
   "source": [
    "rfc_50 = RandomForestClassifier(n_estimators=50, random_state=0)\n",
    "# fit the model to the training set\n",
    "rfc_50.fit(X_train, y_train)\n",
    "# Predict on the test set results\n",
    "y_pred_50 = rfc_50.predict(X_test)\n",
    "# Check accuracy score \n",
    "print('Model accuracy score with 50 decision-trees : {0:0.4f}'. format(accuracy_score(y_test, y_pred_50)))"
   ]
  },
  {
   "cell_type": "markdown",
   "metadata": {},
   "source": [
    "We can see that we have attained only a minor bump in accuracy hence, we will use RFC with 10 trees instead to prevent overfitting"
   ]
  },
  {
   "cell_type": "markdown",
   "metadata": {},
   "source": [
    "### Model Evaluation"
   ]
  },
  {
   "cell_type": "code",
   "execution_count": 50,
   "metadata": {},
   "outputs": [
    {
     "data": {
      "text/plain": [
       "<matplotlib.axes._subplots.AxesSubplot at 0x7f49ded7b290>"
      ]
     },
     "execution_count": 50,
     "metadata": {},
     "output_type": "execute_result"
    },
    {
     "data": {
      "image/png": "[encoded data removed]",
      "text/plain": [
       "<Figure size 432x288 with 2 Axes>"
      ]
     },
     "metadata": {
      "needs_background": "light"
     },
     "output_type": "display_data"
    }
   ],
   "source": [
    "# visualize confusion matrix with seaborn heatmap\n",
    "from sklearn.metrics import confusion_matrix\n",
    "cm = confusion_matrix(y_test, y_pred_50)\n",
    "cm_matrix = pd.DataFrame(data=cm, columns=['Actual Positive:1', 'Actual Negative:0'], \n",
    "                                 index=['Predict Positive:1', 'Predict Negative:0'])\n",
    "sns.heatmap(cm_matrix, annot=True, fmt='d')"
   ]
  },
  {
   "cell_type": "code",
   "execution_count": 51,
   "metadata": {},
   "outputs": [
    {
     "name": "stdout",
     "output_type": "stream",
     "text": [
      "              precision    recall  f1-score   support\n",
      "\n",
      "           0   0.935484  0.896907  0.915789       291\n",
      "           1   0.898305  0.936396  0.916955       283\n",
      "\n",
      "    accuracy                       0.916376       574\n",
      "   macro avg   0.916894  0.916651  0.916372       574\n",
      "weighted avg   0.917154  0.916376  0.916364       574\n",
      "\n"
     ]
    }
   ],
   "source": [
    "print(classification_report(y_test, y_pred_50, digits=6))"
   ]
  },
  {
   "cell_type": "markdown",
   "metadata": {},
   "source": [
    "### XGBoost Classifier"
   ]
  },
  {
   "cell_type": "code",
   "execution_count": 53,
   "metadata": {},
   "outputs": [],
   "source": [
    "import xgboost as xgb"
   ]
  },
  {
   "cell_type": "code",
   "execution_count": 74,
   "metadata": {},
   "outputs": [],
   "source": [
    "xgb_model = xgb.XGBClassifier(objective=\"binary:logistic\",label_encoder=False, n_estimators=10, random_state=42, eval_metric=[\"auc\", \"error\", \"error@0.6\"])"
   ]
  },
  {
   "cell_type": "code",
   "execution_count": 75,
   "metadata": {},
   "outputs": [
    {
     "name": "stdout",
     "output_type": "stream",
     "text": [
      "[17:46:10] WARNING: ../src/learner.cc:576: \n",
      "Parameters: { \"label_encoder\" } might not be used.\n",
      "\n",
      "  This could be a false alarm, with some parameters getting used by language bindings but\n",
      "  then being mistakenly passed down to XGBoost core, or some parameter actually being used\n",
      "  but getting flagged wrongly here. Please open an issue if you find any such cases.\n",
      "\n",
      "\n",
      "[0]\tvalidation_0-auc:0.94983\tvalidation_0-error:0.08537\tvalidation_0-error@0.6:0.08885\n",
      "[1]\tvalidation_0-auc:0.95375\tvalidation_0-error:0.08188\tvalidation_0-error@0.6:0.08188\n",
      "[2]\tvalidation_0-auc:0.95631\tvalidation_0-error:0.08014\tvalidation_0-error@0.6:0.08188\n",
      "[3]\tvalidation_0-auc:0.95726\tvalidation_0-error:0.08014\tvalidation_0-error@0.6:0.08188\n",
      "[4]\tvalidation_0-auc:0.96411\tvalidation_0-error:0.08188\tvalidation_0-error@0.6:0.07491\n",
      "[5]\tvalidation_0-auc:0.96398\tvalidation_0-error:0.07666\tvalidation_0-error@0.6:0.07666\n",
      "[6]\tvalidation_0-auc:0.96469\tvalidation_0-error:0.07666\tvalidation_0-error@0.6:0.08014\n",
      "[7]\tvalidation_0-auc:0.96358\tvalidation_0-error:0.07840\tvalidation_0-error@0.6:0.08014\n",
      "[8]\tvalidation_0-auc:0.96464\tvalidation_0-error:0.08014\tvalidation_0-error@0.6:0.07840\n",
      "[9]\tvalidation_0-auc:0.96556\tvalidation_0-error:0.07840\tvalidation_0-error@0.6:0.07840\n"
     ]
    },
    {
     "data": {
      "text/plain": [
       "XGBClassifier(base_score=0.5, booster='gbtree', colsample_bylevel=1,\n",
       "              colsample_bynode=1, colsample_bytree=1, enable_categorical=False,\n",
       "              eval_metric=['auc', 'error', 'error@0.6'], gamma=0, gpu_id=-1,\n",
       "              importance_type=None, interaction_constraints='',\n",
       "              label_encoder=False, learning_rate=0.300000012, max_delta_step=0,\n",
       "              max_depth=6, min_child_weight=1, missing=nan,\n",
       "              monotone_constraints='()', n_estimators=10, n_jobs=8,\n",
       "              num_parallel_tree=1, objective='binary:logistic',\n",
       "              predictor='auto', random_state=42, reg_alpha=0, reg_lambda=1,\n",
       "              scale_pos_weight=1, subsample=1, tree_method='exact',\n",
       "              use_label_encoder=True, ...)"
      ]
     },
     "execution_count": 75,
     "metadata": {},
     "output_type": "execute_result"
    }
   ],
   "source": [
    "xgb_model.fit(X_train, y_train, eval_set=[(X_test, y_test)])"
   ]
  },
  {
   "cell_type": "markdown",
   "metadata": {},
   "source": [
    "### Model Evaluation"
   ]
  },
  {
   "cell_type": "code",
   "execution_count": 76,
   "metadata": {},
   "outputs": [
    {
     "name": "stdout",
     "output_type": "stream",
     "text": [
      "Model accuracy score with 10 estimators : 0.9216\n"
     ]
    }
   ],
   "source": [
    "y_pred = xgb_model.predict(X_test)\n",
    "print('Model accuracy score with 10 estimators : {0:0.4f}'. format(accuracy_score(y_test, y_pred)))"
   ]
  },
  {
   "cell_type": "code",
   "execution_count": 77,
   "metadata": {},
   "outputs": [
    {
     "data": {
      "text/plain": [
       "<matplotlib.axes._subplots.AxesSubplot at 0x7f49a8a6e0d0>"
      ]
     },
     "execution_count": 77,
     "metadata": {},
     "output_type": "execute_result"
    },
    {
     "data": {
      "image/png": "[encoded data removed]",
      "text/plain": [
       "<Figure size 432x288 with 2 Axes>"
      ]
     },
     "metadata": {
      "needs_background": "light"
     },
     "output_type": "display_data"
    }
   ],
   "source": [
    "# visualize confusion matrix with seaborn heatmap\n",
    "from sklearn.metrics import confusion_matrix\n",
    "cm = confusion_matrix(y_test, y_pred)\n",
    "cm_matrix = pd.DataFrame(data=cm, columns=['Actual Positive:1', 'Actual Negative:0'], \n",
    "                                 index=['Predict Positive:1', 'Predict Negative:0'])\n",
    "sns.heatmap(cm_matrix, annot=True, fmt='d')"
   ]
  },
  {
   "cell_type": "code",
   "execution_count": 78,
   "metadata": {},
   "outputs": [
    {
     "name": "stdout",
     "output_type": "stream",
     "text": [
      "              precision    recall  f1-score   support\n",
      "\n",
      "           0   0.939286  0.903780  0.921191       291\n",
      "           1   0.904762  0.939929  0.922010       283\n",
      "\n",
      "    accuracy                       0.921603       574\n",
      "   macro avg   0.922024  0.921855  0.921601       574\n",
      "weighted avg   0.922264  0.921603  0.921595       574\n",
      "\n"
     ]
    }
   ],
   "source": [
    "print(classification_report(y_test, y_pred, digits=6))"
   ]
  },
  {
   "cell_type": "code",
   "execution_count": 79,
   "metadata": {},
   "outputs": [
    {
     "data": {
      "text/plain": [
       "<matplotlib.axes._subplots.AxesSubplot at 0x7f49a8a718d0>"
      ]
     },
     "execution_count": 79,
     "metadata": {},
     "output_type": "execute_result"
    },
    {
     "data": {
      "image/png": "[encoded data removed]",
      "text/plain": [
       "<Figure size 432x288 with 1 Axes>"
      ]
     },
     "metadata": {
      "needs_background": "light"
     },
     "output_type": "display_data"
    }
   ],
   "source": [
    "xgb.plot_importance(xgb_model)"
   ]
  },
  {
   "cell_type": "markdown",
   "metadata": {},
   "source": [
    "We can observe that XGBoost offers the highest accuracy but it is often prone to overfitting hence, we will use RFC for generalizing better"
   ]
  },
  {
   "cell_type": "markdown",
   "metadata": {
    "colab_type": "text",
    "id": "MK_rdXETIKS4"
   },
   "source": [
    "\n",
    "\n",
    "**Highlight the most important features of the model for management.**\n",
    "\n",
    "> #### Task:\n",
    "- **Visualize the top 20 features and their feature importance.**\n"
   ]
  },
  {
   "cell_type": "code",
   "execution_count": 61,
   "metadata": {
    "colab": {},
    "colab_type": "code",
    "id": "HHFM3XPMIKS6"
   },
   "outputs": [
    {
     "data": {
      "text/plain": [
       "acm_type_Private room    0.366665\n",
       "owned_hotels             0.152604\n",
       "reviews_per_month        0.091677\n",
       "number_of_reviews        0.069380\n",
       "acm_type_Shared room     0.064839\n",
       "cost                     0.063005\n",
       "minimum_nights           0.060784\n",
       "longitude                0.059391\n",
       "latitude                 0.056090\n",
       "region_Queens            0.005631\n",
       "region_Manhattan         0.005306\n",
       "region_Brooklyn          0.004475\n",
       "region_Staten Island     0.000153\n",
       "dtype: float64"
      ]
     },
     "execution_count": 61,
     "metadata": {},
     "output_type": "execute_result"
    }
   ],
   "source": [
    "clf = RandomForestClassifier(n_estimators=100, random_state=0)\n",
    "# fit the model to the training set\n",
    "clf.fit(X_train, y_train)\n",
    "# view the feature scores\n",
    "feature_scores = pd.Series(clf.feature_importances_, index=X_train.columns).sort_values(ascending=False)\n",
    "feature_scores"
   ]
  },
  {
   "cell_type": "code",
   "execution_count": 64,
   "metadata": {
    "colab": {},
    "colab_type": "code",
    "id": "jabG4TJwIKS_"
   },
   "outputs": [
    {
     "data": {
      "image/png": "[encoded data removed]",
      "text/plain": [
       "<Figure size 1080x576 with 1 Axes>"
      ]
     },
     "metadata": {
      "needs_background": "light"
     },
     "output_type": "display_data"
    }
   ],
   "source": [
    "f, ax = plt.subplots(figsize=(15, 8))\n",
    "ax = sns.barplot(x=feature_scores, y=feature_scores.index, data=data)\n",
    "ax.set_title(\"Visualize feature scores of the features\")\n",
    "ax.set_yticklabels(feature_scores.index)\n",
    "ax.set_xlabel(\"Feature importance score\")\n",
    "ax.set_ylabel(\"Features\")\n",
    "plt.show()"
   ]
  },
  {
   "cell_type": "markdown",
   "metadata": {},
   "source": [
    "Key Findings:\n",
    "    The above plot visualized the top features that help to predict the target variable.\n",
    "    As we had discussed during EDA, whether or not it is a private room is the most important feature\n",
    "    The least important feature is whether or not it is in Staten Island region"
   ]
  },
  {
   "cell_type": "markdown",
   "metadata": {
    "colab_type": "text",
    "id": "UFogmgYZIKTE"
   },
   "source": [
    "> #### Task:\n",
    "- **Submit the predictions on the test dataset using your optimized model** <br/>\n",
    "    For each record in the test set (`test.csv`), predict the value of the `yearly_availability` variable. Submit a CSV file with a header row and one row per test entry.\n",
    "\n",
    "The file (`submissions.csv`) should have exactly 2 columns:\n",
    "   - **id**\n",
    "   - **yearly_availability**"
   ]
  },
  {
   "cell_type": "code",
   "execution_count": 80,
   "metadata": {
    "colab": {},
    "colab_type": "code",
    "id": "OaxN7BjwIKTL"
   },
   "outputs": [],
   "source": [
    "test_data = test_data.fillna(0)\n",
    "features_to_use = X_train.columns\n",
    "test_data['yearly_availability'] = rfc.predict(test_data[features_to_use])"
   ]
  },
  {
   "cell_type": "code",
   "execution_count": 81,
   "metadata": {},
   "outputs": [
    {
     "data": {
      "text/html": [
       "<div>\n",
       "<style scoped>\n",
       "    .dataframe tbody tr th:only-of-type {\n",
       "        vertical-align: middle;\n",
       "    }\n",
       "\n",
       "    .dataframe tbody tr th {\n",
       "        vertical-align: top;\n",
       "    }\n",
       "\n",
       "    .dataframe thead th {\n",
       "        text-align: right;\n",
       "    }\n",
       "</style>\n",
       "<table border=\"1\" class=\"dataframe\">\n",
       "  <thead>\n",
       "    <tr style=\"text-align: right;\">\n",
       "      <th></th>\n",
       "      <th>id</th>\n",
       "      <th>latitude</th>\n",
       "      <th>longitude</th>\n",
       "      <th>cost</th>\n",
       "      <th>minimum_nights</th>\n",
       "      <th>number_of_reviews</th>\n",
       "      <th>reviews_per_month</th>\n",
       "      <th>owned_hotels</th>\n",
       "      <th>region_Brooklyn</th>\n",
       "      <th>region_Manhattan</th>\n",
       "      <th>region_Queens</th>\n",
       "      <th>region_Staten Island</th>\n",
       "      <th>acm_type_Private room</th>\n",
       "      <th>acm_type_Shared room</th>\n",
       "      <th>yearly_availability</th>\n",
       "    </tr>\n",
       "  </thead>\n",
       "  <tbody>\n",
       "    <tr>\n",
       "      <th>0</th>\n",
       "      <td>19215</td>\n",
       "      <td>40.70912</td>\n",
       "      <td>-73.94513</td>\n",
       "      <td>135</td>\n",
       "      <td>2</td>\n",
       "      <td>22</td>\n",
       "      <td>0.66</td>\n",
       "      <td>1</td>\n",
       "      <td>1</td>\n",
       "      <td>0</td>\n",
       "      <td>0</td>\n",
       "      <td>0</td>\n",
       "      <td>0</td>\n",
       "      <td>1</td>\n",
       "      <td>0</td>\n",
       "    </tr>\n",
       "    <tr>\n",
       "      <th>1</th>\n",
       "      <td>36301</td>\n",
       "      <td>40.57646</td>\n",
       "      <td>-73.96641</td>\n",
       "      <td>69</td>\n",
       "      <td>2</td>\n",
       "      <td>8</td>\n",
       "      <td>0.90</td>\n",
       "      <td>2</td>\n",
       "      <td>1</td>\n",
       "      <td>0</td>\n",
       "      <td>0</td>\n",
       "      <td>0</td>\n",
       "      <td>0</td>\n",
       "      <td>0</td>\n",
       "      <td>0</td>\n",
       "    </tr>\n",
       "    <tr>\n",
       "      <th>2</th>\n",
       "      <td>40566</td>\n",
       "      <td>40.76616</td>\n",
       "      <td>-73.98228</td>\n",
       "      <td>225</td>\n",
       "      <td>30</td>\n",
       "      <td>0</td>\n",
       "      <td>0.00</td>\n",
       "      <td>12</td>\n",
       "      <td>0</td>\n",
       "      <td>1</td>\n",
       "      <td>0</td>\n",
       "      <td>0</td>\n",
       "      <td>1</td>\n",
       "      <td>0</td>\n",
       "      <td>1</td>\n",
       "    </tr>\n",
       "    <tr>\n",
       "      <th>3</th>\n",
       "      <td>33694</td>\n",
       "      <td>40.77668</td>\n",
       "      <td>-73.94587</td>\n",
       "      <td>125</td>\n",
       "      <td>30</td>\n",
       "      <td>9</td>\n",
       "      <td>0.82</td>\n",
       "      <td>1</td>\n",
       "      <td>0</td>\n",
       "      <td>1</td>\n",
       "      <td>0</td>\n",
       "      <td>0</td>\n",
       "      <td>0</td>\n",
       "      <td>1</td>\n",
       "      <td>0</td>\n",
       "    </tr>\n",
       "    <tr>\n",
       "      <th>4</th>\n",
       "      <td>28873</td>\n",
       "      <td>40.80279</td>\n",
       "      <td>-73.94450</td>\n",
       "      <td>43</td>\n",
       "      <td>1</td>\n",
       "      <td>13</td>\n",
       "      <td>0.72</td>\n",
       "      <td>2</td>\n",
       "      <td>0</td>\n",
       "      <td>1</td>\n",
       "      <td>0</td>\n",
       "      <td>0</td>\n",
       "      <td>0</td>\n",
       "      <td>0</td>\n",
       "      <td>0</td>\n",
       "    </tr>\n",
       "  </tbody>\n",
       "</table>\n",
       "</div>"
      ],
      "text/plain": [
       "      id  latitude  longitude  cost  minimum_nights  number_of_reviews  \\\n",
       "0  19215  40.70912  -73.94513   135               2                 22   \n",
       "1  36301  40.57646  -73.96641    69               2                  8   \n",
       "2  40566  40.76616  -73.98228   225              30                  0   \n",
       "3  33694  40.77668  -73.94587   125              30                  9   \n",
       "4  28873  40.80279  -73.94450    43               1                 13   \n",
       "\n",
       "   reviews_per_month  owned_hotels  region_Brooklyn  region_Manhattan  \\\n",
       "0               0.66             1                1                 0   \n",
       "1               0.90             2                1                 0   \n",
       "2               0.00            12                0                 1   \n",
       "3               0.82             1                0                 1   \n",
       "4               0.72             2                0                 1   \n",
       "\n",
       "   region_Queens  region_Staten Island  acm_type_Private room  \\\n",
       "0              0                     0                      0   \n",
       "1              0                     0                      0   \n",
       "2              0                     0                      1   \n",
       "3              0                     0                      0   \n",
       "4              0                     0                      0   \n",
       "\n",
       "   acm_type_Shared room  yearly_availability  \n",
       "0                     1                    0  \n",
       "1                     0                    0  \n",
       "2                     0                    1  \n",
       "3                     1                    0  \n",
       "4                     0                    0  "
      ]
     },
     "execution_count": 81,
     "metadata": {},
     "output_type": "execute_result"
    }
   ],
   "source": [
    "test_data.head()"
   ]
  },
  {
   "cell_type": "code",
   "execution_count": 82,
   "metadata": {},
   "outputs": [],
   "source": [
    "submission_df = test_data[['id','yearly_availability']]"
   ]
  },
  {
   "cell_type": "code",
   "execution_count": 83,
   "metadata": {
    "colab": {},
    "colab_type": "code",
    "id": "nBRVPrYbIKTQ"
   },
   "outputs": [],
   "source": [
    "#Submission\n",
    "submission_df.to_csv('submissions.csv',index=False)"
   ]
  },
  {
   "cell_type": "markdown",
   "metadata": {
    "colab_type": "text",
    "id": "H_pB8zTcIKTW"
   },
   "source": [
    "---"
   ]
  }
 ],
 "metadata": {
  "colab": {
   "collapsed_sections": [],
   "name": "Questions.ipynb",
   "provenance": [],
   "version": "0.3.2"
  },
  "kernelspec": {
   "display_name": "Python 3",
   "language": "python",
   "name": "python3"
  },
  "language_info": {
   "codemirror_mode": {
    "name": "ipython",
    "version": 3
   },
   "file_extension": ".py",
   "mimetype": "text/x-python",
   "name": "python",
   "nbconvert_exporter": "python",
   "pygments_lexer": "ipython3",
   "version": "3.7.8"
  },
  "toc": {
   "base_numbering": 1,
   "nav_menu": {},
   "number_sections": true,
   "sideBar": true,
   "skip_h1_title": false,
   "title_cell": "Table of Contents",
   "title_sidebar": "Contents",
   "toc_cell": false,
   "toc_position": {},
   "toc_section_display": true,
   "toc_window_display": false
  }
 },
 "nbformat": 4,
 "nbformat_minor": 4
}
