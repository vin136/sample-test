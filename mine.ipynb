{
  "nbformat": 4,
  "nbformat_minor": 0,
  "metadata": {
    "colab": {
      "name": "mine.ipynb",
      "provenance": [],
      "collapsed_sections": [],
      "toc_visible": true,
      "authorship_tag": "ABX9TyNgxrehjaGCOy1LPcsLRtta",
      "include_colab_link": true
    },
    "kernelspec": {
      "name": "python3",
      "display_name": "Python 3"
    },
    "language_info": {
      "name": "python"
    }
  },
  "cells": [
    {
      "cell_type": "markdown",
      "metadata": {
        "id": "view-in-github",
        "colab_type": "text"
      },
      "source": [
        "<a href=\"https://colab.research.google.com/github/vin136/sample-test/blob/master/mine.ipynb\" target=\"_parent\"><img src=\"https://colab.research.google.com/assets/colab-badge.svg\" alt=\"Open In Colab\"/></a>"
      ]
    },
    {
      "cell_type": "code",
      "execution_count": 7,
      "metadata": {
        "colab": {
          "base_uri": "https://localhost:8080/"
        },
        "id": "G6AnG_CCd2rn",
        "outputId": "5d40e175-bd22-41b9-b1b2-2ef642deed4a"
      },
      "outputs": [
        {
          "output_type": "stream",
          "name": "stdout",
          "text": [
            "fatal: destination path 'sample-test' already exists and is not an empty directory.\n"
          ]
        }
      ],
      "source": [
        "!git clone https://github.com/vin136/sample-test.git"
      ]
    },
    {
      "cell_type": "code",
      "source": [
        "import sys\n",
        "!{sys.executable} -m pip install folium scikit-plot plotly xgboost graphviz"
      ],
      "metadata": {
        "colab": {
          "base_uri": "https://localhost:8080/"
        },
        "id": "LOhQz9r4l4SU",
        "outputId": "72a6cacb-7ca6-4ba0-848d-ca587f3113bc"
      },
      "execution_count": 10,
      "outputs": [
        {
          "output_type": "stream",
          "name": "stdout",
          "text": [
            "Requirement already satisfied: folium in /usr/local/lib/python3.7/dist-packages (0.8.3)\n",
            "Collecting scikit-plot\n",
            "  Downloading scikit_plot-0.3.7-py3-none-any.whl (33 kB)\n",
            "Requirement already satisfied: plotly in /usr/local/lib/python3.7/dist-packages (5.5.0)\n",
            "Requirement already satisfied: xgboost in /usr/local/lib/python3.7/dist-packages (0.90)\n",
            "Requirement already satisfied: graphviz in /usr/local/lib/python3.7/dist-packages (0.10.1)\n",
            "Requirement already satisfied: jinja2 in /usr/local/lib/python3.7/dist-packages (from folium) (2.11.3)\n",
            "Requirement already satisfied: branca>=0.3.0 in /usr/local/lib/python3.7/dist-packages (from folium) (0.4.2)\n",
            "Requirement already satisfied: numpy in /usr/local/lib/python3.7/dist-packages (from folium) (1.21.5)\n",
            "Requirement already satisfied: six in /usr/local/lib/python3.7/dist-packages (from folium) (1.15.0)\n",
            "Requirement already satisfied: requests in /usr/local/lib/python3.7/dist-packages (from folium) (2.23.0)\n",
            "Requirement already satisfied: matplotlib>=1.4.0 in /usr/local/lib/python3.7/dist-packages (from scikit-plot) (3.2.2)\n",
            "Requirement already satisfied: joblib>=0.10 in /usr/local/lib/python3.7/dist-packages (from scikit-plot) (1.1.0)\n",
            "Requirement already satisfied: scipy>=0.9 in /usr/local/lib/python3.7/dist-packages (from scikit-plot) (1.4.1)\n",
            "Requirement already satisfied: scikit-learn>=0.18 in /usr/local/lib/python3.7/dist-packages (from scikit-plot) (1.0.2)\n",
            "Requirement already satisfied: cycler>=0.10 in /usr/local/lib/python3.7/dist-packages (from matplotlib>=1.4.0->scikit-plot) (0.11.0)\n",
            "Requirement already satisfied: kiwisolver>=1.0.1 in /usr/local/lib/python3.7/dist-packages (from matplotlib>=1.4.0->scikit-plot) (1.3.2)\n",
            "Requirement already satisfied: python-dateutil>=2.1 in /usr/local/lib/python3.7/dist-packages (from matplotlib>=1.4.0->scikit-plot) (2.8.2)\n",
            "Requirement already satisfied: pyparsing!=2.0.4,!=2.1.2,!=2.1.6,>=2.0.1 in /usr/local/lib/python3.7/dist-packages (from matplotlib>=1.4.0->scikit-plot) (3.0.7)\n",
            "Requirement already satisfied: threadpoolctl>=2.0.0 in /usr/local/lib/python3.7/dist-packages (from scikit-learn>=0.18->scikit-plot) (3.1.0)\n",
            "Requirement already satisfied: tenacity>=6.2.0 in /usr/local/lib/python3.7/dist-packages (from plotly) (8.0.1)\n",
            "Requirement already satisfied: MarkupSafe>=0.23 in /usr/local/lib/python3.7/dist-packages (from jinja2->folium) (2.0.1)\n",
            "Requirement already satisfied: urllib3!=1.25.0,!=1.25.1,<1.26,>=1.21.1 in /usr/local/lib/python3.7/dist-packages (from requests->folium) (1.24.3)\n",
            "Requirement already satisfied: chardet<4,>=3.0.2 in /usr/local/lib/python3.7/dist-packages (from requests->folium) (3.0.4)\n",
            "Requirement already satisfied: certifi>=2017.4.17 in /usr/local/lib/python3.7/dist-packages (from requests->folium) (2021.10.8)\n",
            "Requirement already satisfied: idna<3,>=2.5 in /usr/local/lib/python3.7/dist-packages (from requests->folium) (2.10)\n",
            "Installing collected packages: scikit-plot\n",
            "Successfully installed scikit-plot-0.3.7\n"
          ]
        }
      ]
    },
    {
      "cell_type": "code",
      "source": [
        ""
      ],
      "metadata": {
        "id": "h0F-uxgAuBC3"
      },
      "execution_count": 42,
      "outputs": []
    },
    {
      "cell_type": "code",
      "source": [
        "#Libraries\n",
        "import pandas as pd\n",
        "pd.set_option(\"display.max_columns\", 101)\n",
        "import numpy as np\n",
        "import matplotlib.pyplot as plt\n",
        "import matplotlib.ticker as mtick\n",
        "import matplotlib.gridspec as grid_spec\n",
        "import seaborn as sns\n",
        "from sklearn import preprocessing\n",
        "from sklearn.preprocessing import StandardScaler\n",
        "from sklearn.model_selection import train_test_split\n",
        "import scikitplot as skplt\n",
        "from sklearn import tree\n",
        "from sklearn.pipeline import Pipeline\n",
        "from sklearn.preprocessing import StandardScaler,LabelEncoder\n",
        "from sklearn.model_selection import train_test_split,cross_val_score\n",
        "from sklearn.ensemble import RandomForestClassifier\n",
        "from sklearn.svm import SVC\n",
        "from sklearn.metrics import classification_report, confusion_matrix\n",
        "from sklearn.metrics import accuracy_score, recall_score, roc_auc_score, precision_score, f1_score"
      ],
      "metadata": {
        "id": "0SkhAJVGeOyj"
      },
      "execution_count": 11,
      "outputs": []
    },
    {
      "cell_type": "code",
      "source": [
        "loc = '/content/sample-test/train.csv'\n",
        "data =pd.read_csv(loc)"
      ],
      "metadata": {
        "id": "oPaLQzxVeUoT"
      },
      "execution_count": 72,
      "outputs": []
    },
    {
      "cell_type": "code",
      "source": [
        ""
      ],
      "metadata": {
        "id": "9EZ918iwAxcL"
      },
      "execution_count": null,
      "outputs": []
    },
    {
      "cell_type": "code",
      "source": [
        ""
      ],
      "metadata": {
        "id": "4r-7WgIQApzd"
      },
      "execution_count": null,
      "outputs": []
    },
    {
      "cell_type": "code",
      "source": [
        "\n",
        "def basic_analysis(df):\n",
        "  missing_vals_cnt = df.isna().sum().sum()\n",
        "  cols = df.columns\n",
        "  dtypes = df.dtypes\n",
        "  uniq_vals = df.nunique()\n",
        "  mis_cnt = df.isna().sum()\n",
        "  print(f\"Data shape: {df.shape[0]},{df.shape[-1]}\")\n",
        "  print(f\"Missing vals cnt: {missing_vals_cnt}\")\n",
        "  summary = {\"Column Name\":[],\"Data Type\":[], \"#Distinct\":[],  \"Missing Vals\":[]}\n",
        "  for i in range(len(df.columns)):\n",
        "    summary['Column Name'].append(cols[i])\n",
        "    summary['Data Type'].append(dtypes[i])\n",
        "    summary['#Distinct'].append(uniq_vals[i])\n",
        "    summary['Missing Vals'].append(mis_cnt[i])\n",
        "  print(pd.DataFrame(summary))\n",
        "    \n",
        "basic_analysis(data)"
      ],
      "metadata": {
        "colab": {
          "base_uri": "https://localhost:8080/"
        },
        "id": "F_1qgGGHmYh_",
        "outputId": "6bbfe789-ea33-460e-ca80-33f66e46705f"
      },
      "execution_count": 190,
      "outputs": [
        {
          "output_type": "stream",
          "name": "stdout",
          "text": [
            "Data shape: 2870,12\n",
            "Missing vals cnt: 676\n",
            "            Column Name Data Type  #Distinct  Missing Vals\n",
            "0                    id     int64       2870             0\n",
            "1                region    object          5             0\n",
            "2              latitude   float64       2647             0\n",
            "3             longitude   float64       2550             0\n",
            "4    accommodation_type    object          3             0\n",
            "5                  cost     int64        330             0\n",
            "6        minimum_nights     int64         53             0\n",
            "7     number_of_reviews     int64        160             0\n",
            "8     reviews_per_month   float64        419           676\n",
            "9              owner_id     int64       2371             0\n",
            "10         owned_hotels     int64         40             0\n",
            "11  yearly_availability     int64          2             0\n"
          ]
        }
      ]
    },
    {
      "cell_type": "markdown",
      "source": [
        "### Types of variables"
      ],
      "metadata": {
        "id": "StgHH76Hoa4u"
      }
    },
    {
      "cell_type": "code",
      "source": [
        "data.dtypes\n",
        "# There are categorical and numerical variables"
      ],
      "metadata": {
        "colab": {
          "base_uri": "https://localhost:8080/"
        },
        "id": "inlIBN4YodlQ",
        "outputId": "56b37bc9-2e3a-4e32-eb42-9f8925f4d82a"
      },
      "execution_count": 180,
      "outputs": [
        {
          "output_type": "execute_result",
          "data": {
            "text/plain": [
              "id                       int64\n",
              "region                  object\n",
              "latitude               float64\n",
              "longitude              float64\n",
              "accommodation_type      object\n",
              "cost                     int64\n",
              "minimum_nights           int64\n",
              "number_of_reviews        int64\n",
              "reviews_per_month      float64\n",
              "owner_id                 int64\n",
              "owned_hotels             int64\n",
              "yearly_availability      int64\n",
              "dtype: object"
            ]
          },
          "metadata": {},
          "execution_count": 180
        }
      ]
    },
    {
      "cell_type": "code",
      "source": [
        "# let's inspect the variable values\n",
        "\n",
        "for var in data.columns:\n",
        "    print(var, data[var].unique()[0:20], '\\n')"
      ],
      "metadata": {
        "colab": {
          "base_uri": "https://localhost:8080/"
        },
        "id": "OhPprKiTog9h",
        "outputId": "5c153279-a88a-4907-aa4e-409285de69a6"
      },
      "execution_count": 182,
      "outputs": [
        {
          "output_type": "stream",
          "name": "stdout",
          "text": [
            "id [13232   246 19091 34305   444 30553 30500 48755  3647  2673 47512 39794\n",
            " 22760 39743 36514 45327 37393 36840 20351 27292] \n",
            "\n",
            "region ['Manhattan' 'Brooklyn' 'Queens' 'Bronx' 'Staten Island'] \n",
            "\n",
            "latitude [40.71854 40.64446 40.78573 40.73863 40.82426 40.73976 40.67913 40.75288\n",
            " 40.71735 40.76781 40.63293 40.68873 40.72948 40.72886 40.87072 40.72757\n",
            " 40.7662  40.75985 40.73613 40.7237 ] \n",
            "\n",
            "longitude [-74.00439 -73.9503  -73.81062 -73.98002 -73.9463  -74.00953 -73.98015\n",
            " -73.97269 -73.99095 -73.92684 -73.97117 -73.96133 -74.00961 -73.99139\n",
            " -73.89974 -73.98336 -73.94676 -73.99799 -74.00711 -73.99454] \n",
            "\n",
            "accommodation_type ['Entire home/apt' 'Private room' 'Shared room'] \n",
            "\n",
            "cost [170  65  85 210  75 200  95 380  79  70  86 100 195 179 150 250 220  60\n",
            " 199 130] \n",
            "\n",
            "minimum_nights [  5   3   1  30  10  20   2  31  12  28   4 360 180   7  60  90  29   6\n",
            "  32 186] \n",
            "\n",
            "number_of_reviews [  7 238   0  38  11   8 259  75   1   2 113   6  16  22   4  65  20   9\n",
            "   5   3] \n",
            "\n",
            "reviews_per_month [0.56 2.3   nan 0.42 0.76 0.52 3.93 1.05 0.15 0.25 0.31 0.11 0.08 0.36\n",
            " 4.15 0.45 0.81 0.47 1.   0.63] \n",
            "\n",
            "owner_id [   929983    281764  19923341 200380610    745069  11243113   1746811\n",
            " 273812306  11136429   7676839 117987098  65775049  22541573 213781715\n",
            "   9808458 261589968  84077949  53621734  65811347  70844761] \n",
            "\n",
            "owned_hotels [  1  65   3   2  87  33   4 121   9   7   6  11  12 327  32  17  50   5\n",
            "  49  13] \n",
            "\n",
            "yearly_availability [0 1] \n",
            "\n"
          ]
        }
      ]
    },
    {
      "cell_type": "code",
      "source": [
        "# make list of variables  types\n",
        "\n",
        "# numerical: discrete vs continuous\n",
        "discrete = [var for var in data.columns if data[var].dtype!='O' and var!='yearly_availability' and data[var].nunique()<10]\n",
        "continuous = [var for var in data.columns if data[var].dtype!='O' and var!='yearly_availability' and var not in discrete]\n",
        "\n",
        "mixed = []\n",
        "# categorical\n",
        "categorical = [var for var in data.columns if data[var].dtype=='O' and var not in mixed]\n",
        "\n",
        "print('There are {} discrete variables'.format(len(discrete)))\n",
        "print('There are {} continuous variables'.format(len(continuous)))\n",
        "print('There are {} categorical variables'.format(len(categorical)))\n"
      ],
      "metadata": {
        "colab": {
          "base_uri": "https://localhost:8080/"
        },
        "id": "_k1a68GrpGdz",
        "outputId": "cf18546b-e8aa-4299-cf90-9c8a9d619f47"
      },
      "execution_count": 193,
      "outputs": [
        {
          "output_type": "stream",
          "name": "stdout",
          "text": [
            "There are 0 discrete variables\n",
            "There are 9 continuous variables\n",
            "There are 2 categorical variables\n"
          ]
        }
      ]
    },
    {
      "cell_type": "markdown",
      "source": [
        "# Variable charecterization"
      ],
      "metadata": {
        "id": "EC_nFoF4tWnc"
      }
    },
    {
      "cell_type": "code",
      "source": [
        "categorical"
      ],
      "metadata": {
        "colab": {
          "base_uri": "https://localhost:8080/"
        },
        "id": "T1lOb8LFtX_Y",
        "outputId": "060a667f-74e0-4f76-b8c4-82c63d60e707"
      },
      "execution_count": 195,
      "outputs": [
        {
          "output_type": "execute_result",
          "data": {
            "text/plain": [
              "['region', 'accommodation_type']"
            ]
          },
          "metadata": {},
          "execution_count": 195
        }
      ]
    },
    {
      "cell_type": "code",
      "source": [
        "continuous"
      ],
      "metadata": {
        "colab": {
          "base_uri": "https://localhost:8080/"
        },
        "id": "_DE193p1sY2x",
        "outputId": "e95f1e8b-b878-4a61-e72a-3c0dd258b058"
      },
      "execution_count": 198,
      "outputs": [
        {
          "output_type": "execute_result",
          "data": {
            "text/plain": [
              "['id',\n",
              " 'latitude',\n",
              " 'longitude',\n",
              " 'cost',\n",
              " 'minimum_nights',\n",
              " 'number_of_reviews',\n",
              " 'reviews_per_month',\n",
              " 'owner_id',\n",
              " 'owned_hotels']"
            ]
          },
          "metadata": {},
          "execution_count": 198
        }
      ]
    },
    {
      "cell_type": "markdown",
      "source": [
        "`OBSERVATION`: owner_id has almost the equal cardinality of the #rows, nor is it an ordinal value. Thus this column will not be included in the analysis."
      ],
      "metadata": {
        "id": "mfWU7uOquGY0"
      }
    },
    {
      "cell_type": "code",
      "source": [
        ""
      ],
      "metadata": {
        "id": "G6DurgEZorgQ"
      },
      "execution_count": 203,
      "outputs": []
    },
    {
      "cell_type": "code",
      "source": [
        ""
      ],
      "metadata": {
        "id": "KpGawbDlqri0"
      },
      "execution_count": null,
      "outputs": []
    },
    {
      "cell_type": "markdown",
      "source": [
        "#### Exploring distributions of input\n",
        "\n",
        "Note: The objective of eda here is to give insights about modeling,not just to show nice visualizations."
      ],
      "metadata": {
        "id": "2XRCERiXX1Pg"
      }
    },
    {
      "cell_type": "code",
      "source": [
        "%matplotlib inline\n",
        "import scipy.stats as stats\n",
        "\n",
        "\n",
        "#objective: identify the distribution of the variable and detect outliers\n",
        "def diagnostic_plots(df, variable):\n",
        "    # function takes a dataframe (df) and\n",
        "    # the variable of interest as arguments\n",
        "\n",
        "    # define figure size\n",
        "    plt.figure(figsize=(16, 4))\n",
        "\n",
        "    # histogram\n",
        "    plt.subplot(1, 3, 1)\n",
        "    sns.histplot(df[variable], bins=30)\n",
        "    plt.title('Histogram')\n",
        "\n",
        "    # Q-Q plot\n",
        "    plt.subplot(1, 3, 2)\n",
        "    stats.probplot(df[variable], dist=\"norm\", plot=plt)\n",
        "    plt.ylabel('Variable quantiles')\n",
        "\n",
        "    # boxplot\n",
        "    plt.subplot(1, 3, 3)\n",
        "    sns.boxplot(y=df[variable])\n",
        "    plt.title('Boxplot')\n",
        "\n",
        "    plt.show()"
      ],
      "metadata": {
        "id": "hPUpU0MeX3sF"
      },
      "execution_count": 176,
      "outputs": []
    },
    {
      "cell_type": "code",
      "source": [
        "# colums of interest = cost ,minimum_nights ,number_of_reviews ,reviews_per_month   \n",
        "diagnostic_plots(data,'minimum_nights')                            "
      ],
      "metadata": {
        "colab": {
          "base_uri": "https://localhost:8080/",
          "height": 278
        },
        "id": "O5iFdzKRasMa",
        "outputId": "029e6293-9510-400f-c8be-955d5791334b"
      },
      "execution_count": 177,
      "outputs": [
        {
          "output_type": "display_data",
          "data": {
            "image/png": "[encoded data removed]",
            "text/plain": [
              "<Figure size 1152x288 with 3 Axes>"
            ]
          },
          "metadata": {
            "needs_background": "light"
          }
        }
      ]
    },
    {
      "cell_type": "code",
      "source": [
        "diagnostic_plots(data,'number_of_reviews')                            "
      ],
      "metadata": {
        "colab": {
          "base_uri": "https://localhost:8080/",
          "height": 278
        },
        "id": "adEs6UMcbbbc",
        "outputId": "1e14eeb2-51a0-4f82-e843-96f52105bfba"
      },
      "execution_count": 178,
      "outputs": [
        {
          "output_type": "display_data",
          "data": {
            "image/png": "[encoded data removed]",
            "text/plain": [
              "<Figure size 1152x288 with 3 Axes>"
            ]
          },
          "metadata": {
            "needs_background": "light"
          }
        }
      ]
    },
    {
      "cell_type": "code",
      "source": [
        "diagnostic_plots(data,'cost')                            "
      ],
      "metadata": {
        "colab": {
          "base_uri": "https://localhost:8080/",
          "height": 278
        },
        "id": "MO-9UDqZcitj",
        "outputId": "13ab929f-b06c-461a-ec0f-83477135d37a"
      },
      "execution_count": 179,
      "outputs": [
        {
          "output_type": "display_data",
          "data": {
            "image/png": "[encoded data removed]",
            "text/plain": [
              "<Figure size 1152x288 with 3 Axes>"
            ]
          },
          "metadata": {
            "needs_background": "light"
          }
        }
      ]
    },
    {
      "cell_type": "code",
      "source": [
        ""
      ],
      "metadata": {
        "id": "-sd1WFjGcNwy"
      },
      "execution_count": null,
      "outputs": []
    },
    {
      "cell_type": "markdown",
      "source": [
        "`obs`: extreme outliers or heavy tailed distribution(not necessarily a bad thing). From modeling standpoint, any standardisation (min-max,mean etc) will squeeze the range unnecessarily if done without capping/other outlier handling methods. Thus my first choice is to try with  scale and distribution agnostic algorithms like - **Decision trees or boosted trees**"
      ],
      "metadata": {
        "id": "3Yq86382bzNW"
      }
    },
    {
      "cell_type": "code",
      "source": [
        "data['reviews_per_month'].min(),data['reviews_per_month'].max()"
      ],
      "metadata": {
        "colab": {
          "base_uri": "https://localhost:8080/"
        },
        "id": "AaLrd6ayb0m6",
        "outputId": "2dd1bbed-d857-4082-9683-0de32c61beba"
      },
      "execution_count": 208,
      "outputs": [
        {
          "output_type": "execute_result",
          "data": {
            "text/plain": [
              "(0.01, 10.37)"
            ]
          },
          "metadata": {},
          "execution_count": 208
        }
      ]
    },
    {
      "cell_type": "markdown",
      "source": [
        ""
      ],
      "metadata": {
        "id": "KA1VCt89eWAN"
      }
    },
    {
      "cell_type": "markdown",
      "source": [
        ""
      ],
      "metadata": {
        "id": "99aPj6ZiEEQp"
      }
    },
    {
      "cell_type": "markdown",
      "source": [
        "### Categorical variables"
      ],
      "metadata": {
        "id": "voIDxX60wixK"
      }
    },
    {
      "cell_type": "markdown",
      "source": [
        "Is there high cardinality?\n",
        "\n",
        "High cardinality poses the following challenges: \n",
        "\n",
        "- Variables with too many labels tend to dominate those with only a few labels, particularly in **decision tree-based** algorithms.\n",
        "\n",
        "- High cardinality may introduce noise.\n",
        "\n",
        "**Algorithms based on decision trees can be biased towards variables with high cardinality**.\n",
        "\n",
        "Thus I choose to drop `id`,`owner_id`.\n",
        "\n",
        "\n",
        "Categories to study: `accommodation_type`,`region `"
      ],
      "metadata": {
        "id": "zh-CnoBjwn7v"
      }
    },
    {
      "cell_type": "code",
      "source": [
        "data[['region','yearly_availability']].groupby('region').describe()"
      ],
      "metadata": {
        "colab": {
          "base_uri": "https://localhost:8080/",
          "height": 282
        },
        "id": "ZZfDKKl-wox7",
        "outputId": "daca9f0e-f7fe-4ee8-9200-381bfd564195"
      },
      "execution_count": 205,
      "outputs": [
        {
          "output_type": "execute_result",
          "data": {
            "text/html": [
              "\n",
              "  <div id=\"df-f1165722-5a1b-4241-a96c-6cf726d30008\">\n",
              "    <div class=\"colab-df-container\">\n",
              "      <div>\n",
              "<style scoped>\n",
              "    .dataframe tbody tr th:only-of-type {\n",
              "        vertical-align: middle;\n",
              "    }\n",
              "\n",
              "    .dataframe tbody tr th {\n",
              "        vertical-align: top;\n",
              "    }\n",
              "\n",
              "    .dataframe thead tr th {\n",
              "        text-align: left;\n",
              "    }\n",
              "\n",
              "    .dataframe thead tr:last-of-type th {\n",
              "        text-align: right;\n",
              "    }\n",
              "</style>\n",
              "<table border=\"1\" class=\"dataframe\">\n",
              "  <thead>\n",
              "    <tr>\n",
              "      <th></th>\n",
              "      <th colspan=\"8\" halign=\"left\">yearly_availability</th>\n",
              "    </tr>\n",
              "    <tr>\n",
              "      <th></th>\n",
              "      <th>count</th>\n",
              "      <th>mean</th>\n",
              "      <th>std</th>\n",
              "      <th>min</th>\n",
              "      <th>25%</th>\n",
              "      <th>50%</th>\n",
              "      <th>75%</th>\n",
              "      <th>max</th>\n",
              "    </tr>\n",
              "    <tr>\n",
              "      <th>region</th>\n",
              "      <th></th>\n",
              "      <th></th>\n",
              "      <th></th>\n",
              "      <th></th>\n",
              "      <th></th>\n",
              "      <th></th>\n",
              "      <th></th>\n",
              "      <th></th>\n",
              "    </tr>\n",
              "  </thead>\n",
              "  <tbody>\n",
              "    <tr>\n",
              "      <th>Bronx</th>\n",
              "      <td>78.0</td>\n",
              "      <td>0.730769</td>\n",
              "      <td>0.446431</td>\n",
              "      <td>0.0</td>\n",
              "      <td>0.0</td>\n",
              "      <td>1.0</td>\n",
              "      <td>1.0</td>\n",
              "      <td>1.0</td>\n",
              "    </tr>\n",
              "    <tr>\n",
              "      <th>Brooklyn</th>\n",
              "      <td>1075.0</td>\n",
              "      <td>0.447442</td>\n",
              "      <td>0.497461</td>\n",
              "      <td>0.0</td>\n",
              "      <td>0.0</td>\n",
              "      <td>0.0</td>\n",
              "      <td>1.0</td>\n",
              "      <td>1.0</td>\n",
              "    </tr>\n",
              "    <tr>\n",
              "      <th>Manhattan</th>\n",
              "      <td>1333.0</td>\n",
              "      <td>0.488372</td>\n",
              "      <td>0.500052</td>\n",
              "      <td>0.0</td>\n",
              "      <td>0.0</td>\n",
              "      <td>0.0</td>\n",
              "      <td>1.0</td>\n",
              "      <td>1.0</td>\n",
              "    </tr>\n",
              "    <tr>\n",
              "      <th>Queens</th>\n",
              "      <td>370.0</td>\n",
              "      <td>0.621622</td>\n",
              "      <td>0.485639</td>\n",
              "      <td>0.0</td>\n",
              "      <td>0.0</td>\n",
              "      <td>1.0</td>\n",
              "      <td>1.0</td>\n",
              "      <td>1.0</td>\n",
              "    </tr>\n",
              "    <tr>\n",
              "      <th>Staten Island</th>\n",
              "      <td>14.0</td>\n",
              "      <td>0.857143</td>\n",
              "      <td>0.363137</td>\n",
              "      <td>0.0</td>\n",
              "      <td>1.0</td>\n",
              "      <td>1.0</td>\n",
              "      <td>1.0</td>\n",
              "      <td>1.0</td>\n",
              "    </tr>\n",
              "  </tbody>\n",
              "</table>\n",
              "</div>\n",
              "      <button class=\"colab-df-convert\" onclick=\"convertToInteractive('df-f1165722-5a1b-4241-a96c-6cf726d30008')\"\n",
              "              title=\"Convert this dataframe to an interactive table.\"\n",
              "              style=\"display:none;\">\n",
              "        \n",
              "  <svg xmlns=\"http://www.w3.org/2000/svg\" height=\"24px\"viewBox=\"0 0 24 24\"\n",
              "       width=\"24px\">\n",
              "    <path d=\"M0 0h24v24H0V0z\" fill=\"none\"/>\n",
              "    <path d=\"M18.56 5.44l.94 2.06.94-2.06 2.06-.94-2.06-.94-.94-2.06-.94 2.06-2.06.94zm-11 1L8.5 8.5l.94-2.06 2.06-.94-2.06-.94L8.5 2.5l-.94 2.06-2.06.94zm10 10l.94 2.06.94-2.06 2.06-.94-2.06-.94-.94-2.06-.94 2.06-2.06.94z\"/><path d=\"M17.41 7.96l-1.37-1.37c-.4-.4-.92-.59-1.43-.59-.52 0-1.04.2-1.43.59L10.3 9.45l-7.72 7.72c-.78.78-.78 2.05 0 2.83L4 21.41c.39.39.9.59 1.41.59.51 0 1.02-.2 1.41-.59l7.78-7.78 2.81-2.81c.8-.78.8-2.07 0-2.86zM5.41 20L4 18.59l7.72-7.72 1.47 1.35L5.41 20z\"/>\n",
              "  </svg>\n",
              "      </button>\n",
              "      \n",
              "  <style>\n",
              "    .colab-df-container {\n",
              "      display:flex;\n",
              "      flex-wrap:wrap;\n",
              "      gap: 12px;\n",
              "    }\n",
              "\n",
              "    .colab-df-convert {\n",
              "      background-color: #E8F0FE;\n",
              "      border: none;\n",
              "      border-radius: 50%;\n",
              "      cursor: pointer;\n",
              "      display: none;\n",
              "      fill: #1967D2;\n",
              "      height: 32px;\n",
              "      padding: 0 0 0 0;\n",
              "      width: 32px;\n",
              "    }\n",
              "\n",
              "    .colab-df-convert:hover {\n",
              "      background-color: #E2EBFA;\n",
              "      box-shadow: 0px 1px 2px rgba(60, 64, 67, 0.3), 0px 1px 3px 1px rgba(60, 64, 67, 0.15);\n",
              "      fill: #174EA6;\n",
              "    }\n",
              "\n",
              "    [theme=dark] .colab-df-convert {\n",
              "      background-color: #3B4455;\n",
              "      fill: #D2E3FC;\n",
              "    }\n",
              "\n",
              "    [theme=dark] .colab-df-convert:hover {\n",
              "      background-color: #434B5C;\n",
              "      box-shadow: 0px 1px 3px 1px rgba(0, 0, 0, 0.15);\n",
              "      filter: drop-shadow(0px 1px 2px rgba(0, 0, 0, 0.3));\n",
              "      fill: #FFFFFF;\n",
              "    }\n",
              "  </style>\n",
              "\n",
              "      <script>\n",
              "        const buttonEl =\n",
              "          document.querySelector('#df-f1165722-5a1b-4241-a96c-6cf726d30008 button.colab-df-convert');\n",
              "        buttonEl.style.display =\n",
              "          google.colab.kernel.accessAllowed ? 'block' : 'none';\n",
              "\n",
              "        async function convertToInteractive(key) {\n",
              "          const element = document.querySelector('#df-f1165722-5a1b-4241-a96c-6cf726d30008');\n",
              "          const dataTable =\n",
              "            await google.colab.kernel.invokeFunction('convertToInteractive',\n",
              "                                                     [key], {});\n",
              "          if (!dataTable) return;\n",
              "\n",
              "          const docLinkHtml = 'Like what you see? Visit the ' +\n",
              "            '<a target=\"_blank\" href=https://colab.research.google.com/notebooks/data_table.ipynb>data table notebook</a>'\n",
              "            + ' to learn more about interactive tables.';\n",
              "          element.innerHTML = '';\n",
              "          dataTable['output_type'] = 'display_data';\n",
              "          await google.colab.output.renderOutput(dataTable, element);\n",
              "          const docLink = document.createElement('div');\n",
              "          docLink.innerHTML = docLinkHtml;\n",
              "          element.appendChild(docLink);\n",
              "        }\n",
              "      </script>\n",
              "    </div>\n",
              "  </div>\n",
              "  "
            ],
            "text/plain": [
              "              yearly_availability                                             \n",
              "                            count      mean       std  min  25%  50%  75%  max\n",
              "region                                                                        \n",
              "Bronx                        78.0  0.730769  0.446431  0.0  0.0  1.0  1.0  1.0\n",
              "Brooklyn                   1075.0  0.447442  0.497461  0.0  0.0  0.0  1.0  1.0\n",
              "Manhattan                  1333.0  0.488372  0.500052  0.0  0.0  0.0  1.0  1.0\n",
              "Queens                      370.0  0.621622  0.485639  0.0  0.0  1.0  1.0  1.0\n",
              "Staten Island                14.0  0.857143  0.363137  0.0  1.0  1.0  1.0  1.0"
            ]
          },
          "metadata": {},
          "execution_count": 205
        }
      ]
    },
    {
      "cell_type": "code",
      "source": [
        "data[['accommodation_type','yearly_availability']].groupby('accommodation_type').describe()"
      ],
      "metadata": {
        "colab": {
          "base_uri": "https://localhost:8080/",
          "height": 221
        },
        "id": "x3tNG7AYwlJy",
        "outputId": "c7265b24-032b-47f3-826e-f804c93858d5"
      },
      "execution_count": 206,
      "outputs": [
        {
          "output_type": "execute_result",
          "data": {
            "text/html": [
              "\n",
              "  <div id=\"df-a79a249f-ea0f-4906-828b-ef07077501e9\">\n",
              "    <div class=\"colab-df-container\">\n",
              "      <div>\n",
              "<style scoped>\n",
              "    .dataframe tbody tr th:only-of-type {\n",
              "        vertical-align: middle;\n",
              "    }\n",
              "\n",
              "    .dataframe tbody tr th {\n",
              "        vertical-align: top;\n",
              "    }\n",
              "\n",
              "    .dataframe thead tr th {\n",
              "        text-align: left;\n",
              "    }\n",
              "\n",
              "    .dataframe thead tr:last-of-type th {\n",
              "        text-align: right;\n",
              "    }\n",
              "</style>\n",
              "<table border=\"1\" class=\"dataframe\">\n",
              "  <thead>\n",
              "    <tr>\n",
              "      <th></th>\n",
              "      <th colspan=\"8\" halign=\"left\">yearly_availability</th>\n",
              "    </tr>\n",
              "    <tr>\n",
              "      <th></th>\n",
              "      <th>count</th>\n",
              "      <th>mean</th>\n",
              "      <th>std</th>\n",
              "      <th>min</th>\n",
              "      <th>25%</th>\n",
              "      <th>50%</th>\n",
              "      <th>75%</th>\n",
              "      <th>max</th>\n",
              "    </tr>\n",
              "    <tr>\n",
              "      <th>accommodation_type</th>\n",
              "      <th></th>\n",
              "      <th></th>\n",
              "      <th></th>\n",
              "      <th></th>\n",
              "      <th></th>\n",
              "      <th></th>\n",
              "      <th></th>\n",
              "      <th></th>\n",
              "    </tr>\n",
              "  </thead>\n",
              "  <tbody>\n",
              "    <tr>\n",
              "      <th>Entire home/apt</th>\n",
              "      <td>1002.0</td>\n",
              "      <td>0.057884</td>\n",
              "      <td>0.233641</td>\n",
              "      <td>0.0</td>\n",
              "      <td>0.0</td>\n",
              "      <td>0.0</td>\n",
              "      <td>0.0</td>\n",
              "      <td>1.0</td>\n",
              "    </tr>\n",
              "    <tr>\n",
              "      <th>Private room</th>\n",
              "      <td>1225.0</td>\n",
              "      <td>0.898776</td>\n",
              "      <td>0.301749</td>\n",
              "      <td>0.0</td>\n",
              "      <td>1.0</td>\n",
              "      <td>1.0</td>\n",
              "      <td>1.0</td>\n",
              "      <td>1.0</td>\n",
              "    </tr>\n",
              "    <tr>\n",
              "      <th>Shared room</th>\n",
              "      <td>643.0</td>\n",
              "      <td>0.423017</td>\n",
              "      <td>0.494423</td>\n",
              "      <td>0.0</td>\n",
              "      <td>0.0</td>\n",
              "      <td>0.0</td>\n",
              "      <td>1.0</td>\n",
              "      <td>1.0</td>\n",
              "    </tr>\n",
              "  </tbody>\n",
              "</table>\n",
              "</div>\n",
              "      <button class=\"colab-df-convert\" onclick=\"convertToInteractive('df-a79a249f-ea0f-4906-828b-ef07077501e9')\"\n",
              "              title=\"Convert this dataframe to an interactive table.\"\n",
              "              style=\"display:none;\">\n",
              "        \n",
              "  <svg xmlns=\"http://www.w3.org/2000/svg\" height=\"24px\"viewBox=\"0 0 24 24\"\n",
              "       width=\"24px\">\n",
              "    <path d=\"M0 0h24v24H0V0z\" fill=\"none\"/>\n",
              "    <path d=\"M18.56 5.44l.94 2.06.94-2.06 2.06-.94-2.06-.94-.94-2.06-.94 2.06-2.06.94zm-11 1L8.5 8.5l.94-2.06 2.06-.94-2.06-.94L8.5 2.5l-.94 2.06-2.06.94zm10 10l.94 2.06.94-2.06 2.06-.94-2.06-.94-.94-2.06-.94 2.06-2.06.94z\"/><path d=\"M17.41 7.96l-1.37-1.37c-.4-.4-.92-.59-1.43-.59-.52 0-1.04.2-1.43.59L10.3 9.45l-7.72 7.72c-.78.78-.78 2.05 0 2.83L4 21.41c.39.39.9.59 1.41.59.51 0 1.02-.2 1.41-.59l7.78-7.78 2.81-2.81c.8-.78.8-2.07 0-2.86zM5.41 20L4 18.59l7.72-7.72 1.47 1.35L5.41 20z\"/>\n",
              "  </svg>\n",
              "      </button>\n",
              "      \n",
              "  <style>\n",
              "    .colab-df-container {\n",
              "      display:flex;\n",
              "      flex-wrap:wrap;\n",
              "      gap: 12px;\n",
              "    }\n",
              "\n",
              "    .colab-df-convert {\n",
              "      background-color: #E8F0FE;\n",
              "      border: none;\n",
              "      border-radius: 50%;\n",
              "      cursor: pointer;\n",
              "      display: none;\n",
              "      fill: #1967D2;\n",
              "      height: 32px;\n",
              "      padding: 0 0 0 0;\n",
              "      width: 32px;\n",
              "    }\n",
              "\n",
              "    .colab-df-convert:hover {\n",
              "      background-color: #E2EBFA;\n",
              "      box-shadow: 0px 1px 2px rgba(60, 64, 67, 0.3), 0px 1px 3px 1px rgba(60, 64, 67, 0.15);\n",
              "      fill: #174EA6;\n",
              "    }\n",
              "\n",
              "    [theme=dark] .colab-df-convert {\n",
              "      background-color: #3B4455;\n",
              "      fill: #D2E3FC;\n",
              "    }\n",
              "\n",
              "    [theme=dark] .colab-df-convert:hover {\n",
              "      background-color: #434B5C;\n",
              "      box-shadow: 0px 1px 3px 1px rgba(0, 0, 0, 0.15);\n",
              "      filter: drop-shadow(0px 1px 2px rgba(0, 0, 0, 0.3));\n",
              "      fill: #FFFFFF;\n",
              "    }\n",
              "  </style>\n",
              "\n",
              "      <script>\n",
              "        const buttonEl =\n",
              "          document.querySelector('#df-a79a249f-ea0f-4906-828b-ef07077501e9 button.colab-df-convert');\n",
              "        buttonEl.style.display =\n",
              "          google.colab.kernel.accessAllowed ? 'block' : 'none';\n",
              "\n",
              "        async function convertToInteractive(key) {\n",
              "          const element = document.querySelector('#df-a79a249f-ea0f-4906-828b-ef07077501e9');\n",
              "          const dataTable =\n",
              "            await google.colab.kernel.invokeFunction('convertToInteractive',\n",
              "                                                     [key], {});\n",
              "          if (!dataTable) return;\n",
              "\n",
              "          const docLinkHtml = 'Like what you see? Visit the ' +\n",
              "            '<a target=\"_blank\" href=https://colab.research.google.com/notebooks/data_table.ipynb>data table notebook</a>'\n",
              "            + ' to learn more about interactive tables.';\n",
              "          element.innerHTML = '';\n",
              "          dataTable['output_type'] = 'display_data';\n",
              "          await google.colab.output.renderOutput(dataTable, element);\n",
              "          const docLink = document.createElement('div');\n",
              "          docLink.innerHTML = docLinkHtml;\n",
              "          element.appendChild(docLink);\n",
              "        }\n",
              "      </script>\n",
              "    </div>\n",
              "  </div>\n",
              "  "
            ],
            "text/plain": [
              "                   yearly_availability                                     \\\n",
              "                                 count      mean       std  min  25%  50%   \n",
              "accommodation_type                                                          \n",
              "Entire home/apt                 1002.0  0.057884  0.233641  0.0  0.0  0.0   \n",
              "Private room                    1225.0  0.898776  0.301749  0.0  1.0  1.0   \n",
              "Shared room                      643.0  0.423017  0.494423  0.0  0.0  0.0   \n",
              "\n",
              "                              \n",
              "                    75%  max  \n",
              "accommodation_type            \n",
              "Entire home/apt     0.0  1.0  \n",
              "Private room        1.0  1.0  \n",
              "Shared room         1.0  1.0  "
            ]
          },
          "metadata": {},
          "execution_count": 206
        }
      ]
    },
    {
      "cell_type": "code",
      "source": [
        ""
      ],
      "metadata": {
        "id": "VTnZLgZPwgL4"
      },
      "execution_count": null,
      "outputs": []
    },
    {
      "cell_type": "markdown",
      "source": [
        "## missing variables"
      ],
      "metadata": {
        "id": "QbGrzBC3A442"
      }
    },
    {
      "cell_type": "markdown",
      "source": [
        "Ideally missingness should be further investigated. (MCAR,MAR,MNAR)"
      ],
      "metadata": {
        "id": "YY9fEv_BDjr0"
      }
    },
    {
      "cell_type": "code",
      "source": [
        ""
      ],
      "metadata": {
        "id": "Eum9pSBxDjI9"
      },
      "execution_count": null,
      "outputs": []
    },
    {
      "cell_type": "code",
      "source": [
        "#smell testing if missingness is at random or does missingness have any strong predictive power \n",
        "is_missing = data[['reviews_per_month']].isna()['reviews_per_month']\n",
        "avg_missing = data[is_missing]['yearly_availability'].mean()\n",
        "avg_notmissing = data[~is_missing]['yearly_availability'].mean()\n",
        "print(f'avg availability for missing reviews:{avg_missing},non-missing:{avg_notmissing}')\n"
      ],
      "metadata": {
        "colab": {
          "base_uri": "https://localhost:8080/"
        },
        "id": "kFcjDJZ8A8d7",
        "outputId": "0078ff22-24d4-4e5e-b5eb-9645251350ec"
      },
      "execution_count": 93,
      "outputs": [
        {
          "output_type": "stream",
          "name": "stdout",
          "text": [
            "avg availability for missing reviews:0.7633136094674556,non-missing:0.4170464904284412\n"
          ]
        }
      ]
    },
    {
      "cell_type": "markdown",
      "source": [
        "Since the data-set size is low and also initial smell test suggests possible predictive power, I choose to encode the missingness in the training pipeline. I would find the best imputation technique.\n",
        "\n"
      ],
      "metadata": {
        "id": "vjrDUOFYDE4u"
      }
    },
    {
      "cell_type": "code",
      "source": [
        "percent_missing = is_missing.sum()*100/len(is_missing)\n",
        "percent_missing # this is a big number,thus it matters how we choose to impute as any method(mean,median etc)\n",
        "#will drastically alter the distribution"
      ],
      "metadata": {
        "colab": {
          "base_uri": "https://localhost:8080/"
        },
        "id": "88k0yGsJIqoJ",
        "outputId": "46bf4913-f903-4c2b-860a-6259db63cec0"
      },
      "execution_count": 106,
      "outputs": [
        {
          "output_type": "execute_result",
          "data": {
            "text/plain": [
              "23.554006968641115"
            ]
          },
          "metadata": {},
          "execution_count": 106
        }
      ]
    },
    {
      "cell_type": "code",
      "source": [
        "# import classes for imputation\n",
        "from sklearn.compose import ColumnTransformer\n",
        "from sklearn.pipeline import Pipeline\n",
        "from sklearn.impute import SimpleImputer\n",
        "\n",
        "# import extra classes for modelling\n",
        "from sklearn.preprocessing import StandardScaler, OneHotEncoder\n",
        "from sklearn.linear_model import Lasso\n",
        "from sklearn.model_selection import train_test_split, GridSearchCV\n",
        "\n",
        "np.random.seed(0)"
      ],
      "metadata": {
        "id": "10rRLQzoILOJ"
      },
      "execution_count": 138,
      "outputs": []
    },
    {
      "cell_type": "code",
      "source": [
        ""
      ],
      "metadata": {
        "id": "R0GD3WBADQcW"
      },
      "execution_count": 138,
      "outputs": []
    },
    {
      "cell_type": "code",
      "source": [
        "#owner_id,id are removed.\n",
        "\n",
        "X = data[['region', 'latitude', 'longitude', 'accommodation_type', 'cost',\n",
        "       'minimum_nights', 'number_of_reviews', 'reviews_per_month','owned_hotels']]\n",
        "Y = data['yearly_availability']\n",
        "\n",
        "\n",
        "# find categorical variables\n",
        "# those of type 'Object' in the dataset\n",
        "features_categorical = [c for c in X.columns if X[c].dtypes=='O']\n",
        "\n",
        "# find numerical variables\n",
        "# those different from object and also excluding the target SalePrice\n",
        "features_numerical = [c for c in X.columns if X[c].dtypes!='O' and c !='yearly_availability']\n",
        "\n",
        "\n",
        "\n",
        "\n",
        "#scaling never hurts\n",
        "numeric_transformer = Pipeline(steps=[\n",
        "    ('imputer', SimpleImputer(strategy='median')),\n",
        "    ('scaler', StandardScaler())])\n",
        "\n",
        "#just to safegaurd, imputation is added here too\n",
        "categorical_transformer = Pipeline(steps=[\n",
        "    ('imputer', SimpleImputer(strategy='most_frequent', fill_value='missing')),\n",
        "    ('onehot', OneHotEncoder(handle_unknown='ignore'))])\n",
        "\n",
        "preprocessor = ColumnTransformer(\n",
        "    transformers=[\n",
        "        ('numerical', numeric_transformer, features_numerical),\n",
        "        ('categorical', categorical_transformer, features_categorical)])\n",
        "\n",
        "#here constant = 0,find best imputation strategy\n",
        "param_grid = {\n",
        "    'preprocessor__numerical__imputer__strategy': ['mean', 'median','constant']\n",
        "}\n",
        "\n",
        "\n",
        "\n"
      ],
      "metadata": {
        "id": "yywgh1QEORua"
      },
      "execution_count": 209,
      "outputs": []
    },
    {
      "cell_type": "code",
      "source": [
        "X.shape,Y.shape"
      ],
      "metadata": {
        "colab": {
          "base_uri": "https://localhost:8080/"
        },
        "id": "L9wOJnZ8Pae6",
        "outputId": "3e948471-c74a-49a3-cba5-391b5a7ad6c9"
      },
      "execution_count": 210,
      "outputs": [
        {
          "output_type": "execute_result",
          "data": {
            "text/plain": [
              "((2870, 9), (2870,))"
            ]
          },
          "metadata": {},
          "execution_count": 210
        }
      ]
    },
    {
      "cell_type": "code",
      "source": [
        "from sklearn.ensemble import RandomForestClassifier\n",
        "# instantiate the classifier \n",
        "rfc = RandomForestClassifier(random_state=0, n_estimators = 10)\n",
        "clf = Pipeline(steps=[('preprocessor', preprocessor),\n",
        "                      ('regressor', rfc)])\n",
        "\n",
        "grid_search = GridSearchCV(clf, param_grid, cv=5,n_jobs=-1, scoring='accuracy')\n",
        "\n"
      ],
      "metadata": {
        "id": "979tQwBgM5Y4"
      },
      "execution_count": 211,
      "outputs": []
    },
    {
      "cell_type": "code",
      "source": [
        "grid_search.fit(X,Y.values)"
      ],
      "metadata": {
        "colab": {
          "base_uri": "https://localhost:8080/"
        },
        "id": "tikGpp5ZPioV",
        "outputId": "7b7b0201-1424-494b-b123-13c5607109e6"
      },
      "execution_count": 212,
      "outputs": [
        {
          "output_type": "execute_result",
          "data": {
            "text/plain": [
              "GridSearchCV(cv=5,\n",
              "             estimator=Pipeline(steps=[('preprocessor',\n",
              "                                        ColumnTransformer(transformers=[('numerical',\n",
              "                                                                         Pipeline(steps=[('imputer',\n",
              "                                                                                          SimpleImputer(strategy='median')),\n",
              "                                                                                         ('scaler',\n",
              "                                                                                          StandardScaler())]),\n",
              "                                                                         ['latitude',\n",
              "                                                                          'longitude',\n",
              "                                                                          'cost',\n",
              "                                                                          'minimum_nights',\n",
              "                                                                          'number_of_reviews',\n",
              "                                                                          'reviews_per_month',\n",
              "                                                                          'owned_hotels']),\n",
              "                                                                        ('categorical',\n",
              "                                                                         Pipeline(steps=[('imputer',\n",
              "                                                                                          SimpleImputer(fill_value='missing',\n",
              "                                                                                                        strategy='most_frequent')),\n",
              "                                                                                         ('onehot',\n",
              "                                                                                          OneHotEncoder(handle_unknown='ignore'))]),\n",
              "                                                                         ['region',\n",
              "                                                                          'accommodation_type'])])),\n",
              "                                       ('regressor',\n",
              "                                        RandomForestClassifier(n_estimators=10,\n",
              "                                                               random_state=0))]),\n",
              "             n_jobs=-1,\n",
              "             param_grid={'preprocessor__numerical__imputer__strategy': ['mean',\n",
              "                                                                        'median',\n",
              "                                                                        'constant']},\n",
              "             scoring='accuracy')"
            ]
          },
          "metadata": {},
          "execution_count": 212
        }
      ]
    },
    {
      "cell_type": "code",
      "source": [
        "grid_search.best_estimator_"
      ],
      "metadata": {
        "colab": {
          "base_uri": "https://localhost:8080/"
        },
        "id": "U1Y2nI8wQBpe",
        "outputId": "ba3a147b-9430-4fc5-f15e-2657f689e253"
      },
      "execution_count": 213,
      "outputs": [
        {
          "output_type": "execute_result",
          "data": {
            "text/plain": [
              "Pipeline(steps=[('preprocessor',\n",
              "                 ColumnTransformer(transformers=[('numerical',\n",
              "                                                  Pipeline(steps=[('imputer',\n",
              "                                                                   SimpleImputer(strategy='constant')),\n",
              "                                                                  ('scaler',\n",
              "                                                                   StandardScaler())]),\n",
              "                                                  ['latitude', 'longitude',\n",
              "                                                   'cost', 'minimum_nights',\n",
              "                                                   'number_of_reviews',\n",
              "                                                   'reviews_per_month',\n",
              "                                                   'owned_hotels']),\n",
              "                                                 ('categorical',\n",
              "                                                  Pipeline(steps=[('imputer',\n",
              "                                                                   SimpleImputer(fill_value='missing',\n",
              "                                                                                 strategy='most_frequent')),\n",
              "                                                                  ('onehot',\n",
              "                                                                   OneHotEncoder(handle_unknown='ignore'))]),\n",
              "                                                  ['region',\n",
              "                                                   'accommodation_type'])])),\n",
              "                ('regressor',\n",
              "                 RandomForestClassifier(n_estimators=10, random_state=0))])"
            ]
          },
          "metadata": {},
          "execution_count": 213
        }
      ]
    },
    {
      "cell_type": "code",
      "source": [
        "print((\"best random forest fit from grid search: %.3f\"\n",
        "       % grid_search.score(X, Y)))\n",
        "\n",
        "# Note that this is cross-val score,this gives a reasonable estimate for generalization performance"
      ],
      "metadata": {
        "colab": {
          "base_uri": "https://localhost:8080/"
        },
        "id": "XBQJCRBcR0pp",
        "outputId": "35d55730-b76d-4c0f-d34c-d8804770c82e"
      },
      "execution_count": 214,
      "outputs": [
        {
          "output_type": "stream",
          "name": "stdout",
          "text": [
            "best random forest fit from grid search: 0.995\n"
          ]
        }
      ]
    },
    {
      "cell_type": "markdown",
      "source": [
        "Here we see that simple imputation with `constant` gives best score. "
      ],
      "metadata": {
        "id": "YPae0KYrUfJa"
      }
    },
    {
      "cell_type": "code",
      "source": [
        "# for completeness I'll also do the same with logistic regression\n",
        "\n",
        "from sklearn.linear_model import LogisticRegression\n",
        "# all parameters not specified are set to their defaults\n",
        "logisticRegr = LogisticRegression()\n",
        "\n",
        "clf_lr = Pipeline(steps=[('preprocessor', preprocessor),\n",
        "                      ('regressor', logisticRegr)])\n",
        "\n",
        "grid_search_lr = GridSearchCV(clf_lr, param_grid, cv=5,n_jobs=-1, scoring='accuracy')\n",
        "grid_search_lr.fit(X,Y.values)"
      ],
      "metadata": {
        "colab": {
          "base_uri": "https://localhost:8080/"
        },
        "id": "5V_6SWcXSYVd",
        "outputId": "2640c56d-f170-4d48-dac8-01334461c728"
      },
      "execution_count": 215,
      "outputs": [
        {
          "output_type": "execute_result",
          "data": {
            "text/plain": [
              "GridSearchCV(cv=5,\n",
              "             estimator=Pipeline(steps=[('preprocessor',\n",
              "                                        ColumnTransformer(transformers=[('numerical',\n",
              "                                                                         Pipeline(steps=[('imputer',\n",
              "                                                                                          SimpleImputer(strategy='median')),\n",
              "                                                                                         ('scaler',\n",
              "                                                                                          StandardScaler())]),\n",
              "                                                                         ['latitude',\n",
              "                                                                          'longitude',\n",
              "                                                                          'cost',\n",
              "                                                                          'minimum_nights',\n",
              "                                                                          'number_of_reviews',\n",
              "                                                                          'reviews_per_month',\n",
              "                                                                          'owned_hotels']),\n",
              "                                                                        ('categorical',\n",
              "                                                                         Pipeline(steps=[('imputer',\n",
              "                                                                                          SimpleImputer(fill_value='missing',\n",
              "                                                                                                        strategy='most_frequent')),\n",
              "                                                                                         ('onehot',\n",
              "                                                                                          OneHotEncoder(handle_unknown='ignore'))]),\n",
              "                                                                         ['region',\n",
              "                                                                          'accommodation_type'])])),\n",
              "                                       ('regressor', LogisticRegression())]),\n",
              "             n_jobs=-1,\n",
              "             param_grid={'preprocessor__numerical__imputer__strategy': ['mean',\n",
              "                                                                        'median',\n",
              "                                                                        'constant']},\n",
              "             scoring='accuracy')"
            ]
          },
          "metadata": {},
          "execution_count": 215
        }
      ]
    },
    {
      "cell_type": "code",
      "source": [
        "grid_search_lr.best_estimator_"
      ],
      "metadata": {
        "colab": {
          "base_uri": "https://localhost:8080/"
        },
        "id": "mHsPKvkIT9Np",
        "outputId": "0affc687-e0d6-480d-e788-2a0b1b5d2cc3"
      },
      "execution_count": 216,
      "outputs": [
        {
          "output_type": "execute_result",
          "data": {
            "text/plain": [
              "Pipeline(steps=[('preprocessor',\n",
              "                 ColumnTransformer(transformers=[('numerical',\n",
              "                                                  Pipeline(steps=[('imputer',\n",
              "                                                                   SimpleImputer(strategy='median')),\n",
              "                                                                  ('scaler',\n",
              "                                                                   StandardScaler())]),\n",
              "                                                  ['latitude', 'longitude',\n",
              "                                                   'cost', 'minimum_nights',\n",
              "                                                   'number_of_reviews',\n",
              "                                                   'reviews_per_month',\n",
              "                                                   'owned_hotels']),\n",
              "                                                 ('categorical',\n",
              "                                                  Pipeline(steps=[('imputer',\n",
              "                                                                   SimpleImputer(fill_value='missing',\n",
              "                                                                                 strategy='most_frequent')),\n",
              "                                                                  ('onehot',\n",
              "                                                                   OneHotEncoder(handle_unknown='ignore'))]),\n",
              "                                                  ['region',\n",
              "                                                   'accommodation_type'])])),\n",
              "                ('regressor', LogisticRegression())])"
            ]
          },
          "metadata": {},
          "execution_count": 216
        }
      ]
    },
    {
      "cell_type": "code",
      "source": [
        "print((\"best random forest fit from grid search: %.3f\"\n",
        "       % grid_search_lr.score(X, Y)))\n"
      ],
      "metadata": {
        "colab": {
          "base_uri": "https://localhost:8080/"
        },
        "id": "hhiZ7luEUBdH",
        "outputId": "beed0eb1-67bb-4cc1-9a2f-887590a43536"
      },
      "execution_count": 217,
      "outputs": [
        {
          "output_type": "stream",
          "name": "stdout",
          "text": [
            "best random forest fit from grid search: 0.872\n"
          ]
        }
      ]
    },
    {
      "cell_type": "markdown",
      "source": [
        "Here median comes out to be the best imputer.(this also matches my intuition). Thus I'll fix the above imputation methods for respective classifiers."
      ],
      "metadata": {
        "id": "bLb_AWqtUVwq"
      }
    },
    {
      "cell_type": "code",
      "source": [
        "#encoder = OneHotEncoder(categories='auto',\n",
        "                      # drop='first', # to return k-1, use drop=false to return k dummies\n",
        "                      # sparse=False,\n",
        "                      # handle_unknown='error') # helps deal with rare labels\n",
        "\n"
      ],
      "metadata": {
        "id": "lW7iP5mHUa4j"
      },
      "execution_count": 218,
      "outputs": []
    },
    {
      "cell_type": "code",
      "source": [
        "# view percentage of frequency distribution of label\n",
        "data['yearly_availability'].value_counts()/len(data)\n",
        "# Thus,we have balanced classification"
      ],
      "metadata": {
        "colab": {
          "base_uri": "https://localhost:8080/"
        },
        "id": "1f-1LHWqz2rA",
        "outputId": "6ca9a4a3-8d9e-4bb8-8b57-a2e47ce3267c"
      },
      "execution_count": 221,
      "outputs": [
        {
          "output_type": "execute_result",
          "data": {
            "text/plain": [
              "0    0.501394\n",
              "1    0.498606\n",
              "Name: yearly_availability, dtype: float64"
            ]
          },
          "metadata": {},
          "execution_count": 221
        }
      ]
    },
    {
      "cell_type": "markdown",
      "source": [
        ""
      ],
      "metadata": {
        "id": "zz3JQYUSSII5"
      }
    },
    {
      "cell_type": "markdown",
      "source": [
        "## Modeling"
      ],
      "metadata": {
        "id": "MYSKeyi4ERGA"
      }
    },
    {
      "cell_type": "code",
      "source": [
        "# model-classes : Logistic regression, RF's , Gradient Boosting trees.\n",
        "\n",
        "input_cols = ['region', 'latitude', 'longitude', 'accommodation_type', 'cost',\n",
        "       'minimum_nights', 'number_of_reviews', 'reviews_per_month','owned_hotels']\n",
        "\n",
        "X = data[input_cols]\n",
        "Y = data['yearly_availability']\n",
        "\n",
        "features_categorical = [c for c in X.columns if X[c].dtypes=='O']\n",
        "\n",
        "# find numerical variables\n",
        "# those different from object and also excluding the target SalePrice\n",
        "features_numerical = [c for c in X.columns if X[c].dtypes!='O' and c !='yearly_availability']\n",
        "\n",
        "# create k-dummies\n",
        "encoder_red = OneHotEncoder(categories='auto',\n",
        "                       drop=None, \n",
        "                       sparse=False,\n",
        "                       handle_unknown='error') # helps deal with rare labels\n",
        "#create k-1 dummies\n",
        "encoder = OneHotEncoder(categories='auto',\n",
        "                       drop='first', # to return k-1, use drop=false to return k dummies\n",
        "                       sparse=False,\n",
        "                       handle_unknown='error') # helps deal with rare labels\n",
        "\n",
        "\n",
        "#scaling never hurts\n",
        "numeric_transformer_median = Pipeline(steps=[\n",
        "    ('imputer', SimpleImputer(strategy='median')),\n",
        "    ('scaler', StandardScaler())])\n",
        "\n",
        "#impute with a out-dist value of -1\n",
        "numeric_transformer_constant = Pipeline(steps=[\n",
        "    ('imputer', SimpleImputer(strategy='constant',fill_value=-1)),\n",
        "    ('scaler', StandardScaler())])\n",
        "\n",
        "\n",
        "\n",
        "#just to safegaurd, imputation is added here too->one-hot with redundancy\n",
        "categorical_transformer_trees = Pipeline(steps=[\n",
        "    ('imputer', SimpleImputer(strategy='most_frequent', fill_value='missing')),\n",
        "    ('onehot', encoder_red)])\n",
        "\n",
        "\n",
        "categorical_transformer = Pipeline(steps=[\n",
        "    ('imputer', SimpleImputer(strategy='most_frequent', fill_value='missing')),\n",
        "    ('onehot', encoder)])\n",
        "\n",
        "\n",
        "\n",
        "\n",
        "\n",
        "tree_preprocessor = ColumnTransformer(\n",
        "    transformers=[\n",
        "        ('numerical', numeric_transformer_constant, features_numerical),\n",
        "        ('categorical', categorical_transformer_trees, features_categorical)])\n",
        "\n",
        "regression_preprocessor = ColumnTransformer(\n",
        "    transformers=[\n",
        "        ('numerical', numeric_transformer_median, features_numerical),\n",
        "        ('categorical', categorical_transformer, features_categorical)])\n",
        "\n",
        "\n",
        "\n"
      ],
      "metadata": {
        "id": "6JZry_VO1qZZ"
      },
      "execution_count": 261,
      "outputs": []
    },
    {
      "cell_type": "code",
      "source": [
        ""
      ],
      "metadata": {
        "id": "aZUh6e3_4pBT"
      },
      "execution_count": 262,
      "outputs": []
    },
    {
      "cell_type": "code",
      "source": [
        ""
      ],
      "metadata": {
        "id": "2khiGH-B_otb"
      },
      "execution_count": null,
      "outputs": []
    },
    {
      "cell_type": "code",
      "source": [
        "out = tree_preprocessor.fit_transform(X)\n",
        "out.shape"
      ],
      "metadata": {
        "colab": {
          "base_uri": "https://localhost:8080/"
        },
        "id": "K6mEG9HZ8B5d",
        "outputId": "8e381988-a0db-45f2-b4c8-bcd1a3b46be8"
      },
      "execution_count": 250,
      "outputs": [
        {
          "output_type": "execute_result",
          "data": {
            "text/plain": [
              "(2870, 15)"
            ]
          },
          "metadata": {},
          "execution_count": 250
        }
      ]
    },
    {
      "cell_type": "code",
      "source": [
        "tree_preprocessor.transformers_[1][1]['onehot'].get_feature_names()\n"
      ],
      "metadata": {
        "colab": {
          "base_uri": "https://localhost:8080/"
        },
        "id": "AI8QTanC7iph",
        "outputId": "088d7f01-99c8-41b0-c747-801060f10945"
      },
      "execution_count": 242,
      "outputs": [
        {
          "output_type": "stream",
          "name": "stderr",
          "text": [
            "/usr/local/lib/python3.7/dist-packages/sklearn/utils/deprecation.py:87: FutureWarning: Function get_feature_names is deprecated; get_feature_names is deprecated in 1.0 and will be removed in 1.2. Please use get_feature_names_out instead.\n",
            "  warnings.warn(msg, category=FutureWarning)\n"
          ]
        },
        {
          "output_type": "execute_result",
          "data": {
            "text/plain": [
              "array(['x0_Bronx', 'x0_Brooklyn', 'x0_Manhattan', 'x0_Queens',\n",
              "       'x0_Staten Island', 'x1_Entire home/apt', 'x1_Private room',\n",
              "       'x1_Shared room'], dtype=object)"
            ]
          },
          "metadata": {},
          "execution_count": 242
        }
      ]
    },
    {
      "cell_type": "code",
      "source": [
        "tree_preprocessor.transformers_[0]"
      ],
      "metadata": {
        "colab": {
          "base_uri": "https://localhost:8080/"
        },
        "id": "u51khzTB-0oW",
        "outputId": "886a3eab-54d4-4706-df52-dee88babc279"
      },
      "execution_count": 248,
      "outputs": [
        {
          "output_type": "execute_result",
          "data": {
            "text/plain": [
              "('numerical',\n",
              " Pipeline(steps=[('imputer', SimpleImputer(fill_value=-1, strategy='constant')),\n",
              "                 ('scaler', StandardScaler())]),\n",
              " ['latitude',\n",
              "  'longitude',\n",
              "  'cost',\n",
              "  'minimum_nights',\n",
              "  'number_of_reviews',\n",
              "  'reviews_per_month',\n",
              "  'owned_hotels'])"
            ]
          },
          "metadata": {},
          "execution_count": 248
        }
      ]
    },
    {
      "cell_type": "code",
      "source": [
        "cols = ['latitude',\n",
        "  'longitude',\n",
        "  'cost',\n",
        "  'minimum_nights',\n",
        "  'number_of_reviews',\n",
        "  'reviews_per_month',\n",
        "  'owned_hotels','x0_Bronx', 'x0_Brooklyn', 'x0_Manhattan', 'x0_Queens',\n",
        "       'x0_Staten Island', 'x1_Entire home/apt', 'x1_Private room',\n",
        "       'x1_Shared room']"
      ],
      "metadata": {
        "id": "tP0XgQ6g9wSx"
      },
      "execution_count": 251,
      "outputs": []
    },
    {
      "cell_type": "code",
      "source": [
        "len(cols)"
      ],
      "metadata": {
        "colab": {
          "base_uri": "https://localhost:8080/"
        },
        "id": "F-KQiAO-_Vga",
        "outputId": "1e258a75-d499-47c6-81d4-97a46fb10223"
      },
      "execution_count": 252,
      "outputs": [
        {
          "output_type": "execute_result",
          "data": {
            "text/plain": [
              "15"
            ]
          },
          "metadata": {},
          "execution_count": 252
        }
      ]
    },
    {
      "cell_type": "code",
      "source": [
        "pd.DataFrame(out,columns=cols)"
      ],
      "metadata": {
        "colab": {
          "base_uri": "https://localhost:8080/",
          "height": 493
        },
        "id": "iBruqYVv_O2e",
        "outputId": "51ede7ee-3b43-4fd7-bf22-497eee934e8f"
      },
      "execution_count": 253,
      "outputs": [
        {
          "output_type": "execute_result",
          "data": {
            "text/html": [
              "\n",
              "  <div id=\"df-0ae04fcb-446c-482b-a6b8-89959a933e60\">\n",
              "    <div class=\"colab-df-container\">\n",
              "      <div>\n",
              "<style scoped>\n",
              "    .dataframe tbody tr th:only-of-type {\n",
              "        vertical-align: middle;\n",
              "    }\n",
              "\n",
              "    .dataframe tbody tr th {\n",
              "        vertical-align: top;\n",
              "    }\n",
              "\n",
              "    .dataframe thead th {\n",
              "        text-align: right;\n",
              "    }\n",
              "</style>\n",
              "<table border=\"1\" class=\"dataframe\">\n",
              "  <thead>\n",
              "    <tr style=\"text-align: right;\">\n",
              "      <th></th>\n",
              "      <th>latitude</th>\n",
              "      <th>longitude</th>\n",
              "      <th>cost</th>\n",
              "      <th>minimum_nights</th>\n",
              "      <th>number_of_reviews</th>\n",
              "      <th>reviews_per_month</th>\n",
              "      <th>owned_hotels</th>\n",
              "      <th>x0_Bronx</th>\n",
              "      <th>x0_Brooklyn</th>\n",
              "      <th>x0_Manhattan</th>\n",
              "      <th>x0_Queens</th>\n",
              "      <th>x0_Staten Island</th>\n",
              "      <th>x1_Entire home/apt</th>\n",
              "      <th>x1_Private room</th>\n",
              "      <th>x1_Shared room</th>\n",
              "    </tr>\n",
              "  </thead>\n",
              "  <tbody>\n",
              "    <tr>\n",
              "      <th>0</th>\n",
              "      <td>-0.230897</td>\n",
              "      <td>-1.090408</td>\n",
              "      <td>-0.063882</td>\n",
              "      <td>-0.172006</td>\n",
              "      <td>-0.286837</td>\n",
              "      <td>-0.059667</td>\n",
              "      <td>-0.273479</td>\n",
              "      <td>0.0</td>\n",
              "      <td>0.0</td>\n",
              "      <td>1.0</td>\n",
              "      <td>0.0</td>\n",
              "      <td>0.0</td>\n",
              "      <td>1.0</td>\n",
              "      <td>0.0</td>\n",
              "      <td>0.0</td>\n",
              "    </tr>\n",
              "    <tr>\n",
              "      <th>1</th>\n",
              "      <td>-1.579468</td>\n",
              "      <td>-0.002863</td>\n",
              "      <td>-0.322430</td>\n",
              "      <td>-0.224685</td>\n",
              "      <td>6.826094</td>\n",
              "      <td>1.102625</td>\n",
              "      <td>-0.273479</td>\n",
              "      <td>0.0</td>\n",
              "      <td>1.0</td>\n",
              "      <td>0.0</td>\n",
              "      <td>0.0</td>\n",
              "      <td>0.0</td>\n",
              "      <td>1.0</td>\n",
              "      <td>0.0</td>\n",
              "      <td>0.0</td>\n",
              "    </tr>\n",
              "    <tr>\n",
              "      <th>2</th>\n",
              "      <td>0.992246</td>\n",
              "      <td>2.805573</td>\n",
              "      <td>-0.273182</td>\n",
              "      <td>-0.277364</td>\n",
              "      <td>-0.502380</td>\n",
              "      <td>-1.101722</td>\n",
              "      <td>-0.273479</td>\n",
              "      <td>0.0</td>\n",
              "      <td>0.0</td>\n",
              "      <td>0.0</td>\n",
              "      <td>1.0</td>\n",
              "      <td>0.0</td>\n",
              "      <td>0.0</td>\n",
              "      <td>1.0</td>\n",
              "      <td>0.0</td>\n",
              "    </tr>\n",
              "    <tr>\n",
              "      <th>3</th>\n",
              "      <td>0.134826</td>\n",
              "      <td>-0.600420</td>\n",
              "      <td>0.034613</td>\n",
              "      <td>0.486483</td>\n",
              "      <td>-0.502380</td>\n",
              "      <td>-1.101722</td>\n",
              "      <td>2.088075</td>\n",
              "      <td>0.0</td>\n",
              "      <td>0.0</td>\n",
              "      <td>1.0</td>\n",
              "      <td>0.0</td>\n",
              "      <td>0.0</td>\n",
              "      <td>0.0</td>\n",
              "      <td>1.0</td>\n",
              "      <td>0.0</td>\n",
              "    </tr>\n",
              "    <tr>\n",
              "      <th>4</th>\n",
              "      <td>1.693655</td>\n",
              "      <td>0.077562</td>\n",
              "      <td>-0.297806</td>\n",
              "      <td>-0.224685</td>\n",
              "      <td>0.667712</td>\n",
              "      <td>-0.153185</td>\n",
              "      <td>-0.199680</td>\n",
              "      <td>0.0</td>\n",
              "      <td>0.0</td>\n",
              "      <td>1.0</td>\n",
              "      <td>0.0</td>\n",
              "      <td>0.0</td>\n",
              "      <td>0.0</td>\n",
              "      <td>0.0</td>\n",
              "      <td>1.0</td>\n",
              "    </tr>\n",
              "    <tr>\n",
              "      <th>...</th>\n",
              "      <td>...</td>\n",
              "      <td>...</td>\n",
              "      <td>...</td>\n",
              "      <td>...</td>\n",
              "      <td>...</td>\n",
              "      <td>...</td>\n",
              "      <td>...</td>\n",
              "      <td>...</td>\n",
              "      <td>...</td>\n",
              "      <td>...</td>\n",
              "      <td>...</td>\n",
              "      <td>...</td>\n",
              "      <td>...</td>\n",
              "      <td>...</td>\n",
              "      <td>...</td>\n",
              "    </tr>\n",
              "    <tr>\n",
              "      <th>2865</th>\n",
              "      <td>0.217291</td>\n",
              "      <td>-0.607658</td>\n",
              "      <td>0.502462</td>\n",
              "      <td>-0.251024</td>\n",
              "      <td>-0.502380</td>\n",
              "      <td>-1.101722</td>\n",
              "      <td>-0.273479</td>\n",
              "      <td>0.0</td>\n",
              "      <td>0.0</td>\n",
              "      <td>1.0</td>\n",
              "      <td>0.0</td>\n",
              "      <td>0.0</td>\n",
              "      <td>0.0</td>\n",
              "      <td>1.0</td>\n",
              "      <td>0.0</td>\n",
              "    </tr>\n",
              "    <tr>\n",
              "      <th>2866</th>\n",
              "      <td>0.072932</td>\n",
              "      <td>-0.894574</td>\n",
              "      <td>-0.039258</td>\n",
              "      <td>-0.224685</td>\n",
              "      <td>-0.440796</td>\n",
              "      <td>-0.386979</td>\n",
              "      <td>-0.273479</td>\n",
              "      <td>0.0</td>\n",
              "      <td>0.0</td>\n",
              "      <td>1.0</td>\n",
              "      <td>0.0</td>\n",
              "      <td>0.0</td>\n",
              "      <td>0.0</td>\n",
              "      <td>1.0</td>\n",
              "      <td>0.0</td>\n",
              "    </tr>\n",
              "    <tr>\n",
              "      <th>2867</th>\n",
              "      <td>0.636535</td>\n",
              "      <td>-0.798466</td>\n",
              "      <td>-0.041720</td>\n",
              "      <td>-0.224685</td>\n",
              "      <td>0.021082</td>\n",
              "      <td>0.013811</td>\n",
              "      <td>-0.273479</td>\n",
              "      <td>0.0</td>\n",
              "      <td>0.0</td>\n",
              "      <td>1.0</td>\n",
              "      <td>0.0</td>\n",
              "      <td>0.0</td>\n",
              "      <td>1.0</td>\n",
              "      <td>0.0</td>\n",
              "      <td>0.0</td>\n",
              "    </tr>\n",
              "    <tr>\n",
              "      <th>2868</th>\n",
              "      <td>0.275727</td>\n",
              "      <td>-0.440575</td>\n",
              "      <td>0.009989</td>\n",
              "      <td>0.486483</td>\n",
              "      <td>-0.502380</td>\n",
              "      <td>-1.101722</td>\n",
              "      <td>1.497687</td>\n",
              "      <td>0.0</td>\n",
              "      <td>0.0</td>\n",
              "      <td>1.0</td>\n",
              "      <td>0.0</td>\n",
              "      <td>0.0</td>\n",
              "      <td>0.0</td>\n",
              "      <td>1.0</td>\n",
              "      <td>0.0</td>\n",
              "    </tr>\n",
              "    <tr>\n",
              "      <th>2869</th>\n",
              "      <td>1.107843</td>\n",
              "      <td>-0.294805</td>\n",
              "      <td>1.979880</td>\n",
              "      <td>0.486483</td>\n",
              "      <td>0.236626</td>\n",
              "      <td>-0.213303</td>\n",
              "      <td>0.095514</td>\n",
              "      <td>0.0</td>\n",
              "      <td>0.0</td>\n",
              "      <td>1.0</td>\n",
              "      <td>0.0</td>\n",
              "      <td>0.0</td>\n",
              "      <td>0.0</td>\n",
              "      <td>0.0</td>\n",
              "      <td>1.0</td>\n",
              "    </tr>\n",
              "  </tbody>\n",
              "</table>\n",
              "<p>2870 rows × 15 columns</p>\n",
              "</div>\n",
              "      <button class=\"colab-df-convert\" onclick=\"convertToInteractive('df-0ae04fcb-446c-482b-a6b8-89959a933e60')\"\n",
              "              title=\"Convert this dataframe to an interactive table.\"\n",
              "              style=\"display:none;\">\n",
              "        \n",
              "  <svg xmlns=\"http://www.w3.org/2000/svg\" height=\"24px\"viewBox=\"0 0 24 24\"\n",
              "       width=\"24px\">\n",
              "    <path d=\"M0 0h24v24H0V0z\" fill=\"none\"/>\n",
              "    <path d=\"M18.56 5.44l.94 2.06.94-2.06 2.06-.94-2.06-.94-.94-2.06-.94 2.06-2.06.94zm-11 1L8.5 8.5l.94-2.06 2.06-.94-2.06-.94L8.5 2.5l-.94 2.06-2.06.94zm10 10l.94 2.06.94-2.06 2.06-.94-2.06-.94-.94-2.06-.94 2.06-2.06.94z\"/><path d=\"M17.41 7.96l-1.37-1.37c-.4-.4-.92-.59-1.43-.59-.52 0-1.04.2-1.43.59L10.3 9.45l-7.72 7.72c-.78.78-.78 2.05 0 2.83L4 21.41c.39.39.9.59 1.41.59.51 0 1.02-.2 1.41-.59l7.78-7.78 2.81-2.81c.8-.78.8-2.07 0-2.86zM5.41 20L4 18.59l7.72-7.72 1.47 1.35L5.41 20z\"/>\n",
              "  </svg>\n",
              "      </button>\n",
              "      \n",
              "  <style>\n",
              "    .colab-df-container {\n",
              "      display:flex;\n",
              "      flex-wrap:wrap;\n",
              "      gap: 12px;\n",
              "    }\n",
              "\n",
              "    .colab-df-convert {\n",
              "      background-color: #E8F0FE;\n",
              "      border: none;\n",
              "      border-radius: 50%;\n",
              "      cursor: pointer;\n",
              "      display: none;\n",
              "      fill: #1967D2;\n",
              "      height: 32px;\n",
              "      padding: 0 0 0 0;\n",
              "      width: 32px;\n",
              "    }\n",
              "\n",
              "    .colab-df-convert:hover {\n",
              "      background-color: #E2EBFA;\n",
              "      box-shadow: 0px 1px 2px rgba(60, 64, 67, 0.3), 0px 1px 3px 1px rgba(60, 64, 67, 0.15);\n",
              "      fill: #174EA6;\n",
              "    }\n",
              "\n",
              "    [theme=dark] .colab-df-convert {\n",
              "      background-color: #3B4455;\n",
              "      fill: #D2E3FC;\n",
              "    }\n",
              "\n",
              "    [theme=dark] .colab-df-convert:hover {\n",
              "      background-color: #434B5C;\n",
              "      box-shadow: 0px 1px 3px 1px rgba(0, 0, 0, 0.15);\n",
              "      filter: drop-shadow(0px 1px 2px rgba(0, 0, 0, 0.3));\n",
              "      fill: #FFFFFF;\n",
              "    }\n",
              "  </style>\n",
              "\n",
              "      <script>\n",
              "        const buttonEl =\n",
              "          document.querySelector('#df-0ae04fcb-446c-482b-a6b8-89959a933e60 button.colab-df-convert');\n",
              "        buttonEl.style.display =\n",
              "          google.colab.kernel.accessAllowed ? 'block' : 'none';\n",
              "\n",
              "        async function convertToInteractive(key) {\n",
              "          const element = document.querySelector('#df-0ae04fcb-446c-482b-a6b8-89959a933e60');\n",
              "          const dataTable =\n",
              "            await google.colab.kernel.invokeFunction('convertToInteractive',\n",
              "                                                     [key], {});\n",
              "          if (!dataTable) return;\n",
              "\n",
              "          const docLinkHtml = 'Like what you see? Visit the ' +\n",
              "            '<a target=\"_blank\" href=https://colab.research.google.com/notebooks/data_table.ipynb>data table notebook</a>'\n",
              "            + ' to learn more about interactive tables.';\n",
              "          element.innerHTML = '';\n",
              "          dataTable['output_type'] = 'display_data';\n",
              "          await google.colab.output.renderOutput(dataTable, element);\n",
              "          const docLink = document.createElement('div');\n",
              "          docLink.innerHTML = docLinkHtml;\n",
              "          element.appendChild(docLink);\n",
              "        }\n",
              "      </script>\n",
              "    </div>\n",
              "  </div>\n",
              "  "
            ],
            "text/plain": [
              "      latitude  longitude      cost  minimum_nights  number_of_reviews  \\\n",
              "0    -0.230897  -1.090408 -0.063882       -0.172006          -0.286837   \n",
              "1    -1.579468  -0.002863 -0.322430       -0.224685           6.826094   \n",
              "2     0.992246   2.805573 -0.273182       -0.277364          -0.502380   \n",
              "3     0.134826  -0.600420  0.034613        0.486483          -0.502380   \n",
              "4     1.693655   0.077562 -0.297806       -0.224685           0.667712   \n",
              "...        ...        ...       ...             ...                ...   \n",
              "2865  0.217291  -0.607658  0.502462       -0.251024          -0.502380   \n",
              "2866  0.072932  -0.894574 -0.039258       -0.224685          -0.440796   \n",
              "2867  0.636535  -0.798466 -0.041720       -0.224685           0.021082   \n",
              "2868  0.275727  -0.440575  0.009989        0.486483          -0.502380   \n",
              "2869  1.107843  -0.294805  1.979880        0.486483           0.236626   \n",
              "\n",
              "      reviews_per_month  owned_hotels  x0_Bronx  x0_Brooklyn  x0_Manhattan  \\\n",
              "0             -0.059667     -0.273479       0.0          0.0           1.0   \n",
              "1              1.102625     -0.273479       0.0          1.0           0.0   \n",
              "2             -1.101722     -0.273479       0.0          0.0           0.0   \n",
              "3             -1.101722      2.088075       0.0          0.0           1.0   \n",
              "4             -0.153185     -0.199680       0.0          0.0           1.0   \n",
              "...                 ...           ...       ...          ...           ...   \n",
              "2865          -1.101722     -0.273479       0.0          0.0           1.0   \n",
              "2866          -0.386979     -0.273479       0.0          0.0           1.0   \n",
              "2867           0.013811     -0.273479       0.0          0.0           1.0   \n",
              "2868          -1.101722      1.497687       0.0          0.0           1.0   \n",
              "2869          -0.213303      0.095514       0.0          0.0           1.0   \n",
              "\n",
              "      x0_Queens  x0_Staten Island  x1_Entire home/apt  x1_Private room  \\\n",
              "0           0.0               0.0                 1.0              0.0   \n",
              "1           0.0               0.0                 1.0              0.0   \n",
              "2           1.0               0.0                 0.0              1.0   \n",
              "3           0.0               0.0                 0.0              1.0   \n",
              "4           0.0               0.0                 0.0              0.0   \n",
              "...         ...               ...                 ...              ...   \n",
              "2865        0.0               0.0                 0.0              1.0   \n",
              "2866        0.0               0.0                 0.0              1.0   \n",
              "2867        0.0               0.0                 1.0              0.0   \n",
              "2868        0.0               0.0                 0.0              1.0   \n",
              "2869        0.0               0.0                 0.0              0.0   \n",
              "\n",
              "      x1_Shared room  \n",
              "0                0.0  \n",
              "1                0.0  \n",
              "2                0.0  \n",
              "3                0.0  \n",
              "4                1.0  \n",
              "...              ...  \n",
              "2865             0.0  \n",
              "2866             0.0  \n",
              "2867             0.0  \n",
              "2868             0.0  \n",
              "2869             1.0  \n",
              "\n",
              "[2870 rows x 15 columns]"
            ]
          },
          "metadata": {},
          "execution_count": 253
        }
      ]
    },
    {
      "cell_type": "code",
      "source": [
        "# rfmodel\n",
        "#`PIPELINING`: Good practice to avoid data leakage and reproducability.\n",
        "\n",
        "from sklearn.model_selection import RandomizedSearchCV\n",
        "# Number of trees in random forest\n",
        "n_estimators = [int(x) for x in np.linspace(start = 50, stop = 2000, num = 20)]\n",
        "# Number of features to consider at every split\n",
        "max_features = ['auto', 'sqrt']\n",
        "# Maximum number of levels in tree\n",
        "max_depth = [int(x) for x in np.linspace(10, 110, num = 11)]\n",
        "max_depth.append(None)\n",
        "# Minimum number of samples required to split a node\n",
        "min_samples_split = [2, 5, 10]\n",
        "# Minimum number of samples required at each leaf node\n",
        "min_samples_leaf = [1, 2, 4]\n",
        "# Method of selecting samples for training each tree\n",
        "bootstrap = [True, False]\n",
        "# Create the random grid\n",
        "\n",
        "#'preprocessor__numerical__imputer__strategy'\n",
        "random_grid = {'model__n_estimators': n_estimators,\n",
        "               'model__max_features': max_features,\n",
        "               'model__max_depth': max_depth,\n",
        "               'model__min_samples_split': min_samples_split,\n",
        "               'model__min_samples_leaf': min_samples_leaf,\n",
        "               'model__bootstrap': bootstrap}\n",
        "\n",
        "\n",
        "\n",
        "rfc = RandomForestClassifier(random_state=0, n_estimators = 50)\n",
        "rf_model = Pipeline(steps=[('preprocessor', tree_preprocessor),\n",
        "                      ('model', rfc)])\n",
        "\n",
        "# do rand search first to find decent params space\n",
        "rand_search = RandomizedSearchCV(rf_model, random_grid,n_iter=50,verbose=2, cv=3,n_jobs=-1, scoring='accuracy')\n",
        "\n",
        "\n"
      ],
      "metadata": {
        "id": "29GlPaE6_a3q"
      },
      "execution_count": 267,
      "outputs": []
    },
    {
      "cell_type": "code",
      "source": [
        "rand_search.fit(X,Y.values)"
      ],
      "metadata": {
        "colab": {
          "base_uri": "https://localhost:8080/"
        },
        "id": "wVMWGvP4BVCJ",
        "outputId": "a3e0f223-05c0-4c3d-a30b-5124ba9a7da5"
      },
      "execution_count": 268,
      "outputs": [
        {
          "output_type": "stream",
          "name": "stdout",
          "text": [
            "Fitting 3 folds for each of 50 candidates, totalling 150 fits\n"
          ]
        },
        {
          "output_type": "execute_result",
          "data": {
            "text/plain": [
              "RandomizedSearchCV(cv=3,\n",
              "                   estimator=Pipeline(steps=[('preprocessor',\n",
              "                                              ColumnTransformer(transformers=[('numerical',\n",
              "                                                                               Pipeline(steps=[('imputer',\n",
              "                                                                                                SimpleImputer(fill_value=-1,\n",
              "                                                                                                              strategy='constant')),\n",
              "                                                                                               ('scaler',\n",
              "                                                                                                StandardScaler())]),\n",
              "                                                                               ['latitude',\n",
              "                                                                                'longitude',\n",
              "                                                                                'cost',\n",
              "                                                                                'minimum_nights',\n",
              "                                                                                'number_of_reviews',\n",
              "                                                                                'reviews_per_month',\n",
              "                                                                                'owned_hotels']),\n",
              "                                                                              ('categorical',\n",
              "                                                                               Pipeline(ste...\n",
              "                   param_distributions={'model__bootstrap': [True, False],\n",
              "                                        'model__max_depth': [10, 20, 30, 40, 50,\n",
              "                                                             60, 70, 80, 90,\n",
              "                                                             100, 110, None],\n",
              "                                        'model__max_features': ['auto', 'sqrt'],\n",
              "                                        'model__min_samples_leaf': [1, 2, 4],\n",
              "                                        'model__min_samples_split': [2, 5, 10],\n",
              "                                        'model__n_estimators': [50, 152, 255,\n",
              "                                                                357, 460, 563,\n",
              "                                                                665, 768, 871,\n",
              "                                                                973, 1076, 1178,\n",
              "                                                                1281, 1384,\n",
              "                                                                1486, 1589,\n",
              "                                                                1692, 1794,\n",
              "                                                                1897, 2000]},\n",
              "                   scoring='accuracy', verbose=2)"
            ]
          },
          "metadata": {},
          "execution_count": 268
        }
      ]
    },
    {
      "cell_type": "markdown",
      "source": [
        ""
      ],
      "metadata": {
        "id": "ssyLJGfWEjLP"
      }
    },
    {
      "cell_type": "code",
      "source": [
        "rand_search.best_estimator_"
      ],
      "metadata": {
        "colab": {
          "base_uri": "https://localhost:8080/"
        },
        "id": "lGd9hRGVGSCX",
        "outputId": "f1d3f1c6-30e9-412d-cd7c-9d4939c03c3e"
      },
      "execution_count": 270,
      "outputs": [
        {
          "output_type": "execute_result",
          "data": {
            "text/plain": [
              "Pipeline(steps=[('preprocessor',\n",
              "                 ColumnTransformer(transformers=[('numerical',\n",
              "                                                  Pipeline(steps=[('imputer',\n",
              "                                                                   SimpleImputer(fill_value=-1,\n",
              "                                                                                 strategy='constant')),\n",
              "                                                                  ('scaler',\n",
              "                                                                   StandardScaler())]),\n",
              "                                                  ['latitude', 'longitude',\n",
              "                                                   'cost', 'minimum_nights',\n",
              "                                                   'number_of_reviews',\n",
              "                                                   'reviews_per_month',\n",
              "                                                   'owned_hotels']),\n",
              "                                                 ('categorical',\n",
              "                                                  Pipeline(steps=[('imputer',\n",
              "                                                                   SimpleImputer(fill_value='missing',\n",
              "                                                                                 strategy='most_frequent')),\n",
              "                                                                  ('onehot',\n",
              "                                                                   OneHotEncoder(sparse=False))]),\n",
              "                                                  ['region',\n",
              "                                                   'accommodation_type'])])),\n",
              "                ('model',\n",
              "                 RandomForestClassifier(bootstrap=False, min_samples_leaf=2,\n",
              "                                        min_samples_split=10, n_estimators=1281,\n",
              "                                        random_state=0))])"
            ]
          },
          "metadata": {},
          "execution_count": 270
        }
      ]
    },
    {
      "cell_type": "code",
      "source": [
        "\n",
        "print((\"best random forest fit from grid search: %.3f\"\n",
        "       % rand_search.score(X, Y.values)))\n"
      ],
      "metadata": {
        "colab": {
          "base_uri": "https://localhost:8080/"
        },
        "id": "iSI4WeJnGg14",
        "outputId": "0a4e4e11-5dbd-4191-f0cb-6da63dce78a7"
      },
      "execution_count": 272,
      "outputs": [
        {
          "output_type": "stream",
          "name": "stdout",
          "text": [
            "best random forest fit from grid search: 0.975\n"
          ]
        }
      ]
    },
    {
      "cell_type": "code",
      "source": [
        "rfc = RandomForestClassifier(random_state=0, n_estimators = 1281,min_samples_split=10,min_samples_leaf=2,bootstrap=False)\n",
        "rf_model = Pipeline(steps=[('preprocessor', tree_preprocessor),\n",
        "                      ('model', rfc)])\n",
        "\n",
        "rf_model.fit(X,Y.values)"
      ],
      "metadata": {
        "colab": {
          "base_uri": "https://localhost:8080/"
        },
        "id": "KB-sKGFfGv-5",
        "outputId": "81d683ad-4956-4fec-92ca-53c415eb54bd"
      },
      "execution_count": 278,
      "outputs": [
        {
          "output_type": "execute_result",
          "data": {
            "text/plain": [
              "Pipeline(steps=[('preprocessor',\n",
              "                 ColumnTransformer(transformers=[('numerical',\n",
              "                                                  Pipeline(steps=[('imputer',\n",
              "                                                                   SimpleImputer(fill_value=-1,\n",
              "                                                                                 strategy='constant')),\n",
              "                                                                  ('scaler',\n",
              "                                                                   StandardScaler())]),\n",
              "                                                  ['latitude', 'longitude',\n",
              "                                                   'cost', 'minimum_nights',\n",
              "                                                   'number_of_reviews',\n",
              "                                                   'reviews_per_month',\n",
              "                                                   'owned_hotels']),\n",
              "                                                 ('categorical',\n",
              "                                                  Pipeline(steps=[('imputer',\n",
              "                                                                   SimpleImputer(fill_value='missing',\n",
              "                                                                                 strategy='most_frequent')),\n",
              "                                                                  ('onehot',\n",
              "                                                                   OneHotEncoder(sparse=False))]),\n",
              "                                                  ['region',\n",
              "                                                   'accommodation_type'])])),\n",
              "                ('model',\n",
              "                 RandomForestClassifier(bootstrap=False, min_samples_leaf=2,\n",
              "                                        min_samples_split=10, n_estimators=1281,\n",
              "                                        random_state=0))])"
            ]
          },
          "metadata": {},
          "execution_count": 278
        }
      ]
    },
    {
      "cell_type": "code",
      "source": [
        ""
      ],
      "metadata": {
        "id": "w4apOf2zHu80"
      },
      "execution_count": null,
      "outputs": []
    },
    {
      "cell_type": "code",
      "source": [
        "importance = pd.Series(rf_model.named_steps['model'].feature_importances_)\n",
        "importance.index = cols\n",
        "importance.sort_values(inplace=True, ascending=False)\n",
        "importance.plot.bar(figsize=(12,6))"
      ],
      "metadata": {
        "colab": {
          "base_uri": "https://localhost:8080/",
          "height": 471
        },
        "id": "m370PbSlG95A",
        "outputId": "5efd4a28-f0b9-4104-d6f1-9413925fd5d5"
      },
      "execution_count": 279,
      "outputs": [
        {
          "output_type": "execute_result",
          "data": {
            "text/plain": [
              "<matplotlib.axes._subplots.AxesSubplot at 0x7fb2e4d77710>"
            ]
          },
          "metadata": {},
          "execution_count": 279
        },
        {
          "output_type": "display_data",
          "data": {
            "image/png": "[encoded data removed]",
            "text/plain": [
              "<Figure size 864x432 with 1 Axes>"
            ]
          },
          "metadata": {
            "needs_background": "light"
          }
        }
      ]
    },
    {
      "cell_type": "code",
      "source": [
        "import scipy\n",
        "from scipy.cluster import hierarchy as hc\n",
        "def cluster_columns(df, figsize=(10,6), font_size=12):\n",
        "    corr = np.round(scipy.stats.spearmanr(df).correlation, 4)\n",
        "    corr_condensed = hc.distance.squareform(1-corr)\n",
        "    z = hc.linkage(corr_condensed, method='average')\n",
        "    fig = plt.figure(figsize=figsize)\n",
        "    hc.dendrogram(z, labels=df.columns, orientation='left', leaf_font_size=font_size)\n",
        "    plt.show()\n",
        "    \n"
      ],
      "metadata": {
        "id": "r3zF7UsDH_17"
      },
      "execution_count": 285,
      "outputs": []
    },
    {
      "cell_type": "code",
      "source": [
        "out = pd.DataFrame(out,columns=cols)"
      ],
      "metadata": {
        "id": "IRk9ALE1JO12"
      },
      "execution_count": 286,
      "outputs": []
    },
    {
      "cell_type": "code",
      "source": [
        "cluster_columns(out)"
      ],
      "metadata": {
        "colab": {
          "base_uri": "https://localhost:8080/",
          "height": 390
        },
        "id": "H0myFs1gJWZs",
        "outputId": "7b1a90c5-d8b0-4193-8a43-b4bf92e2ac43"
      },
      "execution_count": 287,
      "outputs": [
        {
          "output_type": "display_data",
          "data": {
            "image/png": "[encoded data removed]",
            "text/plain": [
              "<Figure size 720x432 with 1 Axes>"
            ]
          },
          "metadata": {
            "needs_background": "light"
          }
        }
      ]
    },
    {
      "cell_type": "code",
      "source": [
        "importance"
      ],
      "metadata": {
        "colab": {
          "base_uri": "https://localhost:8080/"
        },
        "id": "aoeSACuGJawH",
        "outputId": "9528f177-bf0f-44ed-fbe5-6d881dcf93c9"
      },
      "execution_count": 288,
      "outputs": [
        {
          "output_type": "execute_result",
          "data": {
            "text/plain": [
              "x1_Private room       0.291030\n",
              "x1_Entire home/apt    0.208944\n",
              "owned_hotels          0.144436\n",
              "reviews_per_month     0.074834\n",
              "x1_Shared room        0.070565\n",
              "number_of_reviews     0.057641\n",
              "minimum_nights        0.044800\n",
              "longitude             0.034499\n",
              "cost                  0.033525\n",
              "latitude              0.028303\n",
              "x0_Queens             0.003598\n",
              "x0_Bronx              0.002978\n",
              "x0_Manhattan          0.002731\n",
              "x0_Brooklyn           0.002059\n",
              "x0_Staten Island      0.000057\n",
              "dtype: float64"
            ]
          },
          "metadata": {},
          "execution_count": 288
        }
      ]
    },
    {
      "cell_type": "markdown",
      "source": [
        ""
      ],
      "metadata": {
        "id": "T04TcwU4FmV3"
      }
    },
    {
      "cell_type": "code",
      "source": [
        ""
      ],
      "metadata": {
        "id": "hms9-sKf8czI"
      },
      "execution_count": null,
      "outputs": []
    },
    {
      "cell_type": "markdown",
      "source": [
        ""
      ],
      "metadata": {
        "id": "NIAinPzIeXxz"
      }
    },
    {
      "cell_type": "code",
      "source": [
        ""
      ],
      "metadata": {
        "id": "j7dc4FJUhM2t"
      },
      "execution_count": null,
      "outputs": []
    }
  ]
}